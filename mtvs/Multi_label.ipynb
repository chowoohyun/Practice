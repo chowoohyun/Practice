{
 "cells": [
  {
   "cell_type": "markdown",
   "id": "90bfd97c",
   "metadata": {},
   "source": [
    "### [1] 멀티레이블의 정의\n",
    "\n",
    "-"
   ]
  },
  {
   "cell_type": "code",
   "execution_count": 22,
   "id": "606a45b9",
   "metadata": {},
   "outputs": [],
   "source": [
    "import random\n",
    "import numpy as np\n",
    "import MyModule\n",
    "\n",
    "# x,y 자료만 만들었고, train, test 구별하지 않았음.\n",
    "# 웃는 표정과 웃지 않는 표정만 있는게 아니라 멀티레이블이기 때문에, 데이터셋 나누는게 쉽지 않다.\n",
    "# y데이터가 편향 없이 잘 나누어졌다고 생각이 들면, 작업을 진행해도 된다.\n",
    "# DataFrame 구조로 보고 잘 나눠봐야 한다.\n",
    "\n",
    "# 하지만 제일 중요한건 데이터의 양으로 밀어 붙히면 된다.\n",
    "# train test 로 나눠서 작업은 진행하지만 답은 아니다.\n"
   ]
  },
  {
   "cell_type": "code",
   "execution_count": 46,
   "id": "1a540c8e",
   "metadata": {},
   "outputs": [
    {
     "data": {
      "text/plain": [
       "array([[0, 1],\n",
       "       [0, 1],\n",
       "       [1, 0],\n",
       "       ...,\n",
       "       [0, 1],\n",
       "       [1, 1],\n",
       "       [0, 1]])"
      ]
     },
     "execution_count": 46,
     "metadata": {},
     "output_type": "execute_result"
    }
   ],
   "source": [
    "from sklearn.model_selection import train_test_split\n",
    "\n",
    "# npz 파일 로드\n",
    "\n",
    "tmp = np.load('small_celeba.npz')\n",
    "\n",
    "#list(tmp) # list로 확인\n",
    "\n",
    "X, y = tmp['Xdata'], tmp['yData']\n",
    "\n",
    "y"
   ]
  },
  {
   "cell_type": "code",
   "execution_count": 47,
   "id": "c1bad7e2",
   "metadata": {},
   "outputs": [],
   "source": [
    "X_train, X_test, y_train, y_test = train_test_split(X,y, test_size=0.2, stratify=y) # 8대 2로 분류\n",
    "\n",
    "# 난 왜 되는거지??????????????? 되는것도 빡치넹?\n",
    "\n"
   ]
  },
  {
   "cell_type": "code",
   "execution_count": 48,
   "id": "bf15fda1",
   "metadata": {},
   "outputs": [
    {
     "data": {
      "text/plain": [
       "(4000, 100, 80, 3)"
      ]
     },
     "execution_count": 48,
     "metadata": {},
     "output_type": "execute_result"
    }
   ],
   "source": [
    "np.shape(X_train) # MyModule 에서 불러온 함수."
   ]
  },
  {
   "cell_type": "code",
   "execution_count": 26,
   "id": "1ac04d1a",
   "metadata": {},
   "outputs": [
    {
     "ename": "NameError",
     "evalue": "name 'shape' is not defined",
     "output_type": "error",
     "traceback": [
      "\u001b[1;31m---------------------------------------------------------------------------\u001b[0m",
      "\u001b[1;31mNameError\u001b[0m                                 Traceback (most recent call last)",
      "Input \u001b[1;32mIn [26]\u001b[0m, in \u001b[0;36m<cell line: 1>\u001b[1;34m()\u001b[0m\n\u001b[1;32m----> 1\u001b[0m \u001b[43mshape\u001b[49m(y_train)\n",
      "\u001b[1;31mNameError\u001b[0m: name 'shape' is not defined"
     ]
    }
   ],
   "source": [
    "shape(y_train) # MyModule 에서 불러온 함수."
   ]
  },
  {
   "cell_type": "code",
   "execution_count": 49,
   "id": "d24ae9d8",
   "metadata": {},
   "outputs": [
    {
     "data": {
      "text/plain": [
       "(Male  smile\n",
       " 0     1        1278\n",
       "       0        1056\n",
       " 1     0        1019\n",
       "       1         647\n",
       " dtype: int64,\n",
       " Male  smile\n",
       " 0     1        319\n",
       "       0        264\n",
       " 1     0        255\n",
       "       1        162\n",
       " dtype: int64)"
      ]
     },
     "execution_count": 49,
     "metadata": {},
     "output_type": "execute_result"
    }
   ],
   "source": [
    "### X_train, y_train, X_test, y_test 자료 사이즈 확인 할것\n",
    "# y_train 중에서도 male의 남녀 갯수 분포도(갯수), y_test 남여분포도(갯수)\n",
    "# 같은 방법으로 smile 웃음여부분포도(갯수), y_train의 웃음여부분포도(갯수)확인 할것\n",
    "\n",
    "import pandas as pd\n",
    "\n",
    "df_train = pd.DataFrame(y_train, columns=['Male','smile'])\n",
    "df_test = pd.DataFrame(y_test, columns=['Male','smile'])\n",
    "\n",
    "df_train.value_counts(), df_test.value_counts()"
   ]
  },
  {
   "cell_type": "code",
   "execution_count": null,
   "id": "61f0464d",
   "metadata": {},
   "outputs": [],
   "source": [
    "# #shape를 보는 함수\n",
    "# def shape(*var):\n",
    "#     for x in var:\n",
    "#         print(np.shape(x))\n",
    "\n",
    "# shape(X_train, y_train, X_test, y_test) \n",
    "\n",
    "# #type을 보는 함수\n",
    "# def type(*var):\n",
    "#     for x in var:\n",
    "#         print(x.dtype)\n",
    "\n",
    "# type(X_train, y_train, X_test, y_test) \n",
    "\n",
    "# #데이터의 range를 확인하는 함수\n",
    "# def range(*var):\n",
    "#     for x in var:\n",
    "#         print(x.min(),'~',x.max())\n",
    "# range(X_train, y_train, X_test, y_test)"
   ]
  },
  {
   "cell_type": "code",
   "execution_count": null,
   "id": "d2c6baff",
   "metadata": {},
   "outputs": [],
   "source": []
  },
  {
   "cell_type": "code",
   "execution_count": 50,
   "id": "86372b78",
   "metadata": {},
   "outputs": [],
   "source": [
    "# 자료의 편향성을 조사하는 함수\n",
    "\n",
    "male_train, smile_train = y_train[:,0],y_train[:,1]\n",
    "male_test, smile_test = y_test[:,0],y_test[:,1]"
   ]
  },
  {
   "cell_type": "markdown",
   "id": "db9c5430",
   "metadata": {},
   "source": [
    "### 멀티레이블을 위한 y값 제작\n",
    "\n",
    "#### y값이 2개, 2개를 00, 01, 10, 11 로 나눠서 학습 해야 하나?\n",
    "#### "
   ]
  },
  {
   "cell_type": "markdown",
   "id": "0c218902",
   "metadata": {},
   "source": [
    "### [미션1] (y값 원핫인코딩)\n",
    "\n",
    "y_train의 0번 열을 원핫인코딩하여서 train_male_labels 변수에 할당\n",
    "y_test의 0번 열을 원핫인코딩하여서 test_male_labels 변수에 할당\n",
    "\n",
    "y_train의 1번 열을 원핫인코딩하여서 train_smile_labels 변수에 할당\n",
    "y_test의 1번 열을 원핫인코딩하여서 test_smile_labels 변수에 할당\n",
    "\n",
    "출력 예) 0값은 [1.,0.] 1값은 [0.,1.]로 출력됨\n",
    "\n"
   ]
  },
  {
   "cell_type": "code",
   "execution_count": 51,
   "id": "1add491c",
   "metadata": {},
   "outputs": [
    {
     "ename": "NameError",
     "evalue": "name 'df' is not defined",
     "output_type": "error",
     "traceback": [
      "\u001b[1;31m---------------------------------------------------------------------------\u001b[0m",
      "\u001b[1;31mNameError\u001b[0m                                 Traceback (most recent call last)",
      "Input \u001b[1;32mIn [51]\u001b[0m, in \u001b[0;36m<cell line: 1>\u001b[1;34m()\u001b[0m\n\u001b[1;32m----> 1\u001b[0m \u001b[43mdf\u001b[49m[\u001b[38;5;124m'\u001b[39m\u001b[38;5;124mMale\u001b[39m\u001b[38;5;124m'\u001b[39m]\n",
      "\u001b[1;31mNameError\u001b[0m: name 'df' is not defined"
     ]
    }
   ],
   "source": [
    "df['Male']"
   ]
  },
  {
   "cell_type": "code",
   "execution_count": 52,
   "id": "5a3b9ef8",
   "metadata": {},
   "outputs": [],
   "source": [
    "from sklearn.preprocessing import OneHotEncoder\n",
    "import tensorflow as tf\n",
    "\n",
    "### [미션1] (y값 원핫인코딩)\n",
    "train_male_labels = tf.keras.utils.to_categorical(y_train[:,0])\n",
    "test_male_labels = tf.keras.utils.to_categorical(y_test[:,1])\n",
    "\n",
    "train_smile_labels = tf.keras.utils.to_categorical(y_train[:,1])\n",
    "test_smile_labels = tf.keras.utils.to_categorical(y_test[:,1])\n"
   ]
  },
  {
   "cell_type": "code",
   "execution_count": 53,
   "id": "7b2d525a",
   "metadata": {},
   "outputs": [
    {
     "data": {
      "text/plain": [
       "(array([[1., 0.],\n",
       "        [1., 0.],\n",
       "        [0., 1.],\n",
       "        [0., 1.],\n",
       "        [1., 0.]], dtype=float32),\n",
       " array([[0., 1.],\n",
       "        [1., 0.],\n",
       "        [0., 1.],\n",
       "        [1., 0.],\n",
       "        [1., 0.]], dtype=float32))"
      ]
     },
     "execution_count": 53,
     "metadata": {},
     "output_type": "execute_result"
    },
    {
     "data": {
      "image/png": "[encoded data removed]",
      "text/plain": [
       "<Figure size 432x288 with 1 Axes>"
      ]
     },
     "metadata": {
      "needs_background": "light"
     },
     "output_type": "display_data"
    }
   ],
   "source": [
    "### [미션2] y값과 이미지 확인\n",
    "import matplotlib.pyplot as plt\n",
    "\n",
    "plt.imshow(np.hstack(X_train[:5]))\n",
    "train_male_labels[:5], train_smile_labels[:5]"
   ]
  },
  {
   "cell_type": "code",
   "execution_count": null,
   "id": "ffd0badb",
   "metadata": {},
   "outputs": [],
   "source": [
    "### [미션2] y값과 이미지 확인\n",
    "# import matplotlib.pyplot as plt\n",
    "\n",
    "# plt.imshow(np.hstack(X_train[:5]))\n",
    "# train_male_labels[:5], train_smile_labels[:5]\n"
   ]
  },
  {
   "cell_type": "code",
   "execution_count": 54,
   "id": "7acba930",
   "metadata": {},
   "outputs": [
    {
     "ename": "NameError",
     "evalue": "name 'shape' is not defined",
     "output_type": "error",
     "traceback": [
      "\u001b[1;31m---------------------------------------------------------------------------\u001b[0m",
      "\u001b[1;31mNameError\u001b[0m                                 Traceback (most recent call last)",
      "Input \u001b[1;32mIn [54]\u001b[0m, in \u001b[0;36m<cell line: 1>\u001b[1;34m()\u001b[0m\n\u001b[1;32m----> 1\u001b[0m \u001b[43mshape\u001b[49m(train_male_labels, test_male_labels, train_smile_labels, test_smile_labels)\n",
      "\u001b[1;31mNameError\u001b[0m: name 'shape' is not defined"
     ]
    }
   ],
   "source": [
    "shape(train_male_labels, test_male_labels, train_smile_labels, test_smile_labels)"
   ]
  },
  {
   "cell_type": "code",
   "execution_count": 55,
   "id": "e79bf8e4",
   "metadata": {},
   "outputs": [
    {
     "data": {
      "text/plain": [
       "(array([[1., 0., 0., 1.],\n",
       "        [1., 0., 1., 0.],\n",
       "        [0., 1., 0., 1.],\n",
       "        [0., 1., 1., 0.],\n",
       "        [1., 0., 1., 0.]], dtype=float32),\n",
       " array([[0., 1., 0., 1.],\n",
       "        [0., 1., 0., 1.],\n",
       "        [0., 1., 0., 1.],\n",
       "        [1., 0., 1., 0.],\n",
       "        [0., 1., 0., 1.]], dtype=float32))"
      ]
     },
     "execution_count": 55,
     "metadata": {},
     "output_type": "execute_result"
    }
   ],
   "source": [
    "train_labels2 = np.concatenate([train_male_labels, train_smile_labels], axis=1)\n",
    "test_labels2 = np.concatenate([test_male_labels, test_smile_labels], axis=1)\n",
    "#train_labels2=np.concatenate([train_male_labels,train_smile_labels], axis=1)\n",
    "\n",
    "train_labels2[:5], test_labels2[:5]"
   ]
  },
  {
   "cell_type": "code",
   "execution_count": 56,
   "id": "8fab76e9",
   "metadata": {},
   "outputs": [
    {
     "data": {
      "text/plain": [
       "array([[1., 0., 0., 1.],\n",
       "       [1., 0., 1., 0.],\n",
       "       [0., 1., 0., 1.],\n",
       "       ...,\n",
       "       [1., 0., 0., 1.],\n",
       "       [1., 0., 0., 1.],\n",
       "       [0., 1., 1., 0.]], dtype=float32)"
      ]
     },
     "execution_count": 56,
     "metadata": {},
     "output_type": "execute_result"
    }
   ],
   "source": [
    "train_labels2  # X_train , X_test "
   ]
  },
  {
   "cell_type": "code",
   "execution_count": null,
   "id": "01332b78",
   "metadata": {},
   "outputs": [],
   "source": [
    "# train_male_labels , test_male_labels  : 성별 원핫 인코딩\n",
    "# train_smile_labels, test_male_labels : 웃음여부만 원핫 인코딩\n",
    "--------------------------------------------------------------------------------\n",
    "# train_labels2, test_labels2 : 성별, 웃음 여부의 원핫인코딩된 4개의 비트로 구성\n",
    "--------------------------------------------------------------------------------\n",
    "# 모델 구성 Conv2D\n",
    "# x = (Conv2D)\n",
    "# x = (ma (x))\n",
    "--------------------------------------------------------------------------------\n",
    "\n",
    "# 함수형 모델로 작업\n",
    "# 맨 위에 tf.keras. 같은 작업을 함수로 미리 해준다.\n",
    "# from keras.models import Model\n",
    "# from keras.layers import Conv2D, MaxPool2D, Input, Dense, Flatten\n",
    "\n",
    "    # def simple_model():\n",
    "        # inputs = input(( 218, 178, 3)) #178(너비), 218(높이), 3(채널)\n",
    "        # shape 단위로 넣어야 한다.\n",
    "        # x = Conv2D(32, 3, activation = 'relu')(inputs)\n",
    "        # x = MaxPool2D(2)(x)\n",
    "        # x = Conv2D(32, 3, activation = 'relu')(x)\n",
    "        # x = MaxPool2D(2)(x)\n",
    "        # 위 계층은 여러번 반복 가능\n",
    "\n",
    "        # 중간에 펼쳐줘야 하기 때문에 Flatten\n",
    "        # 중간에 x = Flatten()(x) \n",
    "\n",
    "        # 마지막 아웃풋은\n",
    "        # outputs = Dens(2, activation = 'softmax')  #sigmoid 는 한가지 값을 정할때 # Dens = 2인 이유는 성별, 웃음 2개로 봤기 때문에\n",
    "        # \n",
    "\n"
   ]
  },
  {
   "cell_type": "code",
   "execution_count": 57,
   "id": "b8efc674",
   "metadata": {},
   "outputs": [],
   "source": [
    "from keras.models import Model\n",
    "from keras.layers import Conv2D, MaxPool2D, Input, Dense, Flatten\n",
    "\n",
    "def simple_model():\n",
    "    inputs = Input((100,80, 3))\n",
    "    x = Conv2D(32, 3, activation='relu')(inputs)\n",
    "    x = MaxPool2D(2)(x)\n",
    "    x = Conv2D(64, 3, activation='relu')(x)\n",
    "    x = MaxPool2D(2)(x)\n",
    "    x = Conv2D(64, 3, activation='relu')(x)\n",
    "    x = MaxPool2D(2)(x)\n",
    "    x = Flatten()(x)\n",
    "    x = Dense(64, activation='relu')(x)\n",
    "    outputs = Dense(2, activation='softmax')(x)\n",
    "    model = Model(inputs, outputs)\n",
    "    return model\n"
   ]
  },
  {
   "cell_type": "code",
   "execution_count": 58,
   "id": "7e6bf0a8",
   "metadata": {},
   "outputs": [
    {
     "ename": "TypeError",
     "evalue": "only integer scalar arrays can be converted to a scalar index",
     "output_type": "error",
     "traceback": [
      "\u001b[1;31m---------------------------------------------------------------------------\u001b[0m",
      "\u001b[1;31mTypeError\u001b[0m                                 Traceback (most recent call last)",
      "Input \u001b[1;32mIn [58]\u001b[0m, in \u001b[0;36m<cell line: 1>\u001b[1;34m()\u001b[0m\n\u001b[1;32m----> 1\u001b[0m \u001b[38;5;28;43mrange\u001b[39;49m\u001b[43m(\u001b[49m\u001b[43mX_train\u001b[49m\u001b[43m,\u001b[49m\u001b[43m \u001b[49m\u001b[43mX_test\u001b[49m\u001b[43m)\u001b[49m\n",
      "\u001b[1;31mTypeError\u001b[0m: only integer scalar arrays can be converted to a scalar index"
     ]
    }
   ],
   "source": [
    "range(X_train, X_test)"
   ]
  },
  {
   "cell_type": "code",
   "execution_count": 59,
   "id": "f60ce833",
   "metadata": {},
   "outputs": [],
   "source": [
    "X_train = X_train/255. # 꼭 255 로 나누진 않고 데이터를 중간값으로 나눌수도 있다, 명암이 높아짐, 꼭 칼라를 유지 해야되는거 아니면,\n",
    "X_test = X_test/255."
   ]
  },
  {
   "cell_type": "code",
   "execution_count": 60,
   "id": "4d5f5d02",
   "metadata": {},
   "outputs": [
    {
     "name": "stdout",
     "output_type": "stream",
     "text": [
      "Epoch 1/10\n",
      "125/125 [==============================] - 8s 64ms/step - loss: 0.5580 - accuracy: 0.7125 - val_loss: 1.1488 - val_accuracy: 0.4670\n",
      "Epoch 2/10\n",
      "125/125 [==============================] - 8s 63ms/step - loss: 0.3642 - accuracy: 0.8380 - val_loss: 2.0738 - val_accuracy: 0.4460\n",
      "Epoch 3/10\n",
      "125/125 [==============================] - 8s 64ms/step - loss: 0.2246 - accuracy: 0.9128 - val_loss: 2.4627 - val_accuracy: 0.4080\n",
      "Epoch 4/10\n",
      "125/125 [==============================] - 8s 63ms/step - loss: 0.1740 - accuracy: 0.9350 - val_loss: 2.9576 - val_accuracy: 0.4190\n",
      "Epoch 5/10\n",
      "125/125 [==============================] - 8s 67ms/step - loss: 0.1287 - accuracy: 0.9532 - val_loss: 3.0660 - val_accuracy: 0.4200\n",
      "Epoch 6/10\n",
      "125/125 [==============================] - 10s 78ms/step - loss: 0.1080 - accuracy: 0.9628 - val_loss: 3.2766 - val_accuracy: 0.4340\n",
      "Epoch 7/10\n",
      "125/125 [==============================] - 10s 77ms/step - loss: 0.0902 - accuracy: 0.9640 - val_loss: 4.0562 - val_accuracy: 0.4220\n",
      "Epoch 8/10\n",
      "125/125 [==============================] - 9s 76ms/step - loss: 0.0721 - accuracy: 0.9743 - val_loss: 3.7882 - val_accuracy: 0.4260\n",
      "Epoch 9/10\n",
      "125/125 [==============================] - 10s 76ms/step - loss: 0.0591 - accuracy: 0.9745 - val_loss: 3.9941 - val_accuracy: 0.4370\n",
      "Epoch 10/10\n",
      "125/125 [==============================] - 9s 76ms/step - loss: 0.0378 - accuracy: 0.9887 - val_loss: 6.2333 - val_accuracy: 0.4300\n"
     ]
    }
   ],
   "source": [
    "#  simple_model() 모델을 2번 할당 받고 서머리를 출력,\n",
    "# 왜 2번이냐, 젠더 모델, 스마일 모델 2번, valid\n",
    "\n",
    "\n",
    "gender_model = simple_model()\n",
    "gender_model.compile(loss='categorical_crossentropy', \n",
    "                    optimizer = 'adam',\n",
    "                    metrics = ['accuracy'])\n",
    "\n",
    "gender_hist = gender_model.fit(X_train, train_male_labels, \n",
    "                               validation_data =(X_test,test_male_labels), \n",
    "                               epochs=10,\n",
    "                              verbose = 1)"
   ]
  },
  {
   "cell_type": "code",
   "execution_count": 61,
   "id": "b4432161",
   "metadata": {},
   "outputs": [
    {
     "name": "stdout",
     "output_type": "stream",
     "text": [
      "32/32 [==============================] - 0s 15ms/step - loss: 6.2333 - accuracy: 0.4300\n"
     ]
    },
    {
     "data": {
      "text/plain": [
       "[6.233316421508789, 0.4300000071525574]"
      ]
     },
     "execution_count": 61,
     "metadata": {},
     "output_type": "execute_result"
    }
   ],
   "source": [
    "gender_model.evaluate(X_test, test_male_labels)"
   ]
  },
  {
   "cell_type": "code",
   "execution_count": null,
   "id": "8843405e",
   "metadata": {},
   "outputs": [],
   "source": [
    "#gender_hist = gender_model.fit(X_train/255., train_male_labels, validation_data =(X_test/255.,test_male_labels), epochs=10)"
   ]
  },
  {
   "cell_type": "code",
   "execution_count": 62,
   "id": "03ee5e99",
   "metadata": {},
   "outputs": [
    {
     "name": "stdout",
     "output_type": "stream",
     "text": [
      "Epoch 1/10\n",
      "125/125 [==============================] - 8s 62ms/step - loss: 0.6798 - accuracy: 0.5565 - val_loss: 0.6180 - val_accuracy: 0.6360\n",
      "Epoch 2/10\n",
      "125/125 [==============================] - 8s 61ms/step - loss: 0.4910 - accuracy: 0.7642 - val_loss: 0.3492 - val_accuracy: 0.8580\n",
      "Epoch 3/10\n",
      "125/125 [==============================] - 8s 62ms/step - loss: 0.3032 - accuracy: 0.8698 - val_loss: 0.3051 - val_accuracy: 0.8650\n",
      "Epoch 4/10\n",
      "125/125 [==============================] - 9s 69ms/step - loss: 0.2502 - accuracy: 0.8972 - val_loss: 0.3028 - val_accuracy: 0.8640\n",
      "Epoch 5/10\n",
      "125/125 [==============================] - 9s 73ms/step - loss: 0.2308 - accuracy: 0.9015 - val_loss: 0.2852 - val_accuracy: 0.8720\n",
      "Epoch 6/10\n",
      "125/125 [==============================] - 9s 73ms/step - loss: 0.2118 - accuracy: 0.9103 - val_loss: 0.3138 - val_accuracy: 0.8650\n",
      "Epoch 7/10\n",
      "125/125 [==============================] - 9s 73ms/step - loss: 0.1878 - accuracy: 0.9208 - val_loss: 0.2706 - val_accuracy: 0.8930\n",
      "Epoch 8/10\n",
      "125/125 [==============================] - 9s 75ms/step - loss: 0.1587 - accuracy: 0.9360 - val_loss: 0.2856 - val_accuracy: 0.8910\n",
      "Epoch 9/10\n",
      "125/125 [==============================] - 9s 74ms/step - loss: 0.1505 - accuracy: 0.9413 - val_loss: 0.3336 - val_accuracy: 0.8740\n",
      "Epoch 10/10\n",
      "125/125 [==============================] - 9s 75ms/step - loss: 0.1276 - accuracy: 0.9492 - val_loss: 0.3345 - val_accuracy: 0.8860\n"
     ]
    }
   ],
   "source": [
    "\n",
    "smile_model = simple_model()\n",
    "smile_model.compile(loss='categorical_crossentropy', \n",
    "                    optimizer = 'adam',\n",
    "                    metrics = ['accuracy'])\n",
    "\n",
    "\n",
    "smile_hist = smile_model.fit(X_train, train_smile_labels, \n",
    "                             validation_data =(X_test,test_smile_labels), \n",
    "                             epochs=10,\n",
    "                            verbose = 1)"
   ]
  },
  {
   "cell_type": "code",
   "execution_count": 64,
   "id": "046fa185",
   "metadata": {},
   "outputs": [
    {
     "name": "stdout",
     "output_type": "stream",
     "text": [
      "32/32 [==============================] - 0s 15ms/step - loss: 0.3345 - accuracy: 0.8860\n"
     ]
    },
    {
     "data": {
      "text/plain": [
       "[0.33453550934791565, 0.8859999775886536]"
      ]
     },
     "execution_count": 64,
     "metadata": {},
     "output_type": "execute_result"
    }
   ],
   "source": [
    "smile_model.evaluate(X_test, test_smile_labels)"
   ]
  },
  {
   "cell_type": "markdown",
   "id": "1550f2f9",
   "metadata": {},
   "source": [
    "새로운 이미지를 불러오고.\n",
    "\n",
    "resize하고 ((179, 218)) = > (218, 178) 로 쉐입을 맞추고\n",
    "./255로 나누고 난뒤\n",
    "\n",
    "reshape(1, 218,178, 3) 해서\n",
    "gender_model에서 작업\n",
    "\n",
    "차트로도 그려서 어떤 부분이 잘되는지 안되는지 확인해볼것"
   ]
  },
  {
   "cell_type": "code",
   "execution_count": 65,
   "id": "51672118",
   "metadata": {
    "scrolled": true
   },
   "outputs": [
    {
     "ename": "AttributeError",
     "evalue": "'History' object has no attribute 'smile_hist'",
     "output_type": "error",
     "traceback": [
      "\u001b[1;31m---------------------------------------------------------------------------\u001b[0m",
      "\u001b[1;31mAttributeError\u001b[0m                            Traceback (most recent call last)",
      "Input \u001b[1;32mIn [65]\u001b[0m, in \u001b[0;36m<cell line: 1>\u001b[1;34m()\u001b[0m\n\u001b[1;32m----> 1\u001b[0m acc \u001b[38;5;241m=\u001b[39m \u001b[43msmile_hist\u001b[49m\u001b[38;5;241;43m.\u001b[39;49m\u001b[43msmile_hist\u001b[49m[\u001b[38;5;124m'\u001b[39m\u001b[38;5;124maccuracy\u001b[39m\u001b[38;5;124m'\u001b[39m]\n\u001b[0;32m      2\u001b[0m val_acc \u001b[38;5;241m=\u001b[39m smile_hist\u001b[38;5;241m.\u001b[39msmile_hist[\u001b[38;5;124m'\u001b[39m\u001b[38;5;124mval_accuracy\u001b[39m\u001b[38;5;124m'\u001b[39m]\n\u001b[0;32m      4\u001b[0m loss\u001b[38;5;241m=\u001b[39msmile_hist\u001b[38;5;241m.\u001b[39msmile_hist[\u001b[38;5;124m'\u001b[39m\u001b[38;5;124mloss\u001b[39m\u001b[38;5;124m'\u001b[39m]\n",
      "\u001b[1;31mAttributeError\u001b[0m: 'History' object has no attribute 'smile_hist'"
     ]
    }
   ],
   "source": [
    "acc = smile_hist.smile_hist['accuracy']\n",
    "val_acc = smile_hist.smile_hist['val_accuracy']\n",
    "\n",
    "loss=smile_hist.smile_hist['loss']\n",
    "val_loss=smile_hist.smile_hist['val_loss']\n",
    "\n",
    "epochs_range = 10\n",
    "\n",
    "plt.figure(figsize=(8, 8))\n",
    "plt.subplot(1, 2, 1)\n",
    "plt.plot(epochs_range, acc, label='Training Accuracy')\n",
    "plt.plot(epochs_range, val_acc, label='Validation Accuracy')\n",
    "plt.legend(loc='lower right')\n",
    "plt.title('Training and Validation Accuracy')\n",
    "\n",
    "plt.subplot(1, 2, 2)\n",
    "plt.plot(epochs_range, loss, label='Training Loss')\n",
    "plt.plot(epochs_range, val_loss, label='Validation Loss')\n",
    "plt.legend(loc='upper right')\n",
    "plt.title('Training and Validation Loss')\n",
    "plt.show()"
   ]
  },
  {
   "cell_type": "markdown",
   "id": "faf0aab1",
   "metadata": {},
   "source": [
    "## 멀티 아웃풋 모델링\n",
    "\n",
    "y 값을 성별과 웃음이 들어간 4bit 짜리의 원핫인코딩 자료로 작업하려함\n"
   ]
  },
  {
   "cell_type": "code",
   "execution_count": null,
   "id": "eb80d9d2",
   "metadata": {},
   "outputs": [],
   "source": []
  },
  {
   "cell_type": "code",
   "execution_count": 67,
   "id": "e9ce88bc",
   "metadata": {},
   "outputs": [
    {
     "name": "stdout",
     "output_type": "stream",
     "text": [
      "Epoch 1/2\n",
      "125/125 [==============================] - 8s 63ms/step - loss: 2.6235 - accuracy: 0.5717 - val_loss: 3.0907 - val_accuracy: 0.3830\n",
      "Epoch 2/2\n",
      "125/125 [==============================] - 8s 63ms/step - loss: 2.2664 - accuracy: 0.6750 - val_loss: 3.7188 - val_accuracy: 0.3030\n"
     ]
    }
   ],
   "source": [
    "#y 값을 성별과 웃음이 들어간 4bit 짜리의 원핫인코딩 자료로 작업하려함#\n",
    "\n",
    "from keras.models import Model\n",
    "from keras.layers import Conv2D, MaxPool2D, Input, Dense, Flatten, Concatenate\n",
    "\n",
    "\n",
    "def model():\n",
    "    inputs = Input((100,80, 3))\n",
    "    x = Conv2D(32, 3, activation='relu')(inputs)\n",
    "    x = MaxPool2D(2)(x)\n",
    "    x = Conv2D(64, 3, activation='relu')(x)\n",
    "    x = MaxPool2D(2)(x)\n",
    "    x = Conv2D(64, 3, activation='relu')(x)\n",
    "    x = MaxPool2D(2)(x)\n",
    "    x = Flatten()(x)\n",
    "    x = Dense(64, activation='relu')(x)\n",
    "    \n",
    "    \n",
    "    outputs_gender = Dense(2, activation='softmax')(x)\n",
    "    outputs_smile = Dense(2, activation='softmax')(x)\n",
    "    outputs = Concatenate(axis =1)([outputs_gender, outputs_smile])\n",
    "    model = Model(inputs, outputs)\n",
    "    return model\n",
    "\n",
    "model = model()\n",
    "\n",
    "model.compile(loss='categorical_crossentropy', \n",
    "                    optimizer = 'adam',\n",
    "                    metrics = ['accuracy'])\n",
    "\n",
    "# 방법 1\n",
    "history = model.fit(X_train, train_labels2,\n",
    "                   validation_data = (X_test, test_labels2), epochs =2, verbose =1 )\n",
    "\n"
   ]
  },
  {
   "cell_type": "code",
   "execution_count": 70,
   "id": "a79369db",
   "metadata": {},
   "outputs": [
    {
     "name": "stdout",
     "output_type": "stream",
     "text": [
      "32/32 [==============================] - 1s 15ms/step - loss: 3.7188 - accuracy: 0.3030\n"
     ]
    },
    {
     "data": {
      "text/plain": [
       "[3.718794107437134, 0.30300000309944153]"
      ]
     },
     "execution_count": 70,
     "metadata": {},
     "output_type": "execute_result"
    }
   ],
   "source": [
    "model.evaluate(X_test, test_labels2)"
   ]
  },
  {
   "cell_type": "code",
   "execution_count": 81,
   "id": "36178c20",
   "metadata": {},
   "outputs": [
    {
     "name": "stdout",
     "output_type": "stream",
     "text": [
      "Model: \"model_17\"\n",
      "__________________________________________________________________________________________________\n",
      " Layer (type)                   Output Shape         Param #     Connected to                     \n",
      "==================================================================================================\n",
      " input_20 (InputLayer)          [(None, 100, 80, 3)  0           []                               \n",
      "                                ]                                                                 \n",
      "                                                                                                  \n",
      " conv2d_57 (Conv2D)             (None, 98, 78, 32)   896         ['input_20[0][0]']               \n",
      "                                                                                                  \n",
      " max_pooling2d_57 (MaxPooling2D  (None, 49, 39, 32)  0           ['conv2d_57[0][0]']              \n",
      " )                                                                                                \n",
      "                                                                                                  \n",
      " conv2d_58 (Conv2D)             (None, 47, 37, 64)   18496       ['max_pooling2d_57[0][0]']       \n",
      "                                                                                                  \n",
      " max_pooling2d_58 (MaxPooling2D  (None, 23, 18, 64)  0           ['conv2d_58[0][0]']              \n",
      " )                                                                                                \n",
      "                                                                                                  \n",
      " conv2d_59 (Conv2D)             (None, 21, 16, 64)   36928       ['max_pooling2d_58[0][0]']       \n",
      "                                                                                                  \n",
      " max_pooling2d_59 (MaxPooling2D  (None, 10, 8, 64)   0           ['conv2d_59[0][0]']              \n",
      " )                                                                                                \n",
      "                                                                                                  \n",
      " flatten_19 (Flatten)           (None, 5120)         0           ['max_pooling2d_59[0][0]']       \n",
      "                                                                                                  \n",
      " dense_52 (Dense)               (None, 64)           327744      ['flatten_19[0][0]']             \n",
      "                                                                                                  \n",
      " dense_53 (Dense)               (None, 2)            130         ['dense_52[0][0]']               \n",
      "                                                                                                  \n",
      " dense_54 (Dense)               (None, 2)            130         ['dense_52[0][0]']               \n",
      "                                                                                                  \n",
      " concatenate_14 (Concatenate)   (None, 4)            0           ['dense_53[0][0]',               \n",
      "                                                                  'dense_54[0][0]']               \n",
      "                                                                                                  \n",
      "==================================================================================================\n",
      "Total params: 384,324\n",
      "Trainable params: 384,324\n",
      "Non-trainable params: 0\n",
      "__________________________________________________________________________________________________\n",
      "Epoch 1/2\n"
     ]
    },
    {
     "ename": "ValueError",
     "evalue": "in user code:\n\n    File \"C:\\Users\\HP\\miniconda3\\lib\\site-packages\\keras\\engine\\training.py\", line 1051, in train_function  *\n        return step_function(self, iterator)\n    File \"C:\\Users\\HP\\miniconda3\\lib\\site-packages\\keras\\engine\\training.py\", line 1040, in step_function  **\n        outputs = model.distribute_strategy.run(run_step, args=(data,))\n    File \"C:\\Users\\HP\\miniconda3\\lib\\site-packages\\keras\\engine\\training.py\", line 1030, in run_step  **\n        outputs = model.train_step(data)\n    File \"C:\\Users\\HP\\miniconda3\\lib\\site-packages\\keras\\engine\\training.py\", line 889, in train_step\n        y_pred = self(x, training=True)\n    File \"C:\\Users\\HP\\miniconda3\\lib\\site-packages\\keras\\utils\\traceback_utils.py\", line 67, in error_handler\n        raise e.with_traceback(filtered_tb) from None\n    File \"C:\\Users\\HP\\miniconda3\\lib\\site-packages\\keras\\engine\\input_spec.py\", line 200, in assert_input_compatibility\n        raise ValueError(f'Layer \"{layer_name}\" expects {len(input_spec)} input(s),'\n\n    ValueError: Layer \"model_17\" expects 1 input(s), but it received 3 input tensors. Inputs received: [<tf.Tensor 'IteratorGetNext:0' shape=(32, 100, 80, 3) dtype=float32>, <tf.Tensor 'IteratorGetNext:1' shape=(32, 2) dtype=float32>, <tf.Tensor 'IteratorGetNext:2' shape=(32, 2) dtype=float32>]\n",
     "output_type": "error",
     "traceback": [
      "\u001b[1;31m---------------------------------------------------------------------------\u001b[0m",
      "\u001b[1;31mValueError\u001b[0m                                Traceback (most recent call last)",
      "Input \u001b[1;32mIn [81]\u001b[0m, in \u001b[0;36m<cell line: 31>\u001b[1;34m()\u001b[0m\n\u001b[0;32m     27\u001b[0m model\u001b[38;5;241m.\u001b[39msummary()\n\u001b[0;32m     30\u001b[0m \u001b[38;5;66;03m# 방법 2 성별과 웃음의 각 자료를 리스트로 만들어서 리스트 구조로 넣을 수 있음\u001b[39;00m\n\u001b[1;32m---> 31\u001b[0m history \u001b[38;5;241m=\u001b[39m \u001b[43mmodel\u001b[49m\u001b[38;5;241;43m.\u001b[39;49m\u001b[43mfit\u001b[49m\u001b[43m(\u001b[49m\u001b[43m(\u001b[49m\u001b[43mX_train\u001b[49m\u001b[43m,\u001b[49m\u001b[43m[\u001b[49m\u001b[43mtrain_male_labels\u001b[49m\u001b[43m,\u001b[49m\u001b[43m \u001b[49m\u001b[43mtrain_smile_labels\u001b[49m\u001b[43m]\u001b[49m\u001b[43m)\u001b[49m\u001b[43m,\u001b[49m\n\u001b[0;32m     32\u001b[0m \u001b[43m                    \u001b[49m\u001b[43mvalidation_data\u001b[49m\u001b[43m \u001b[49m\u001b[38;5;241;43m=\u001b[39;49m\u001b[43m \u001b[49m\u001b[43m(\u001b[49m\u001b[43mX_test\u001b[49m\u001b[43m,\u001b[49m\u001b[43m[\u001b[49m\u001b[43mtrain_male_labels\u001b[49m\u001b[43m,\u001b[49m\u001b[43m \u001b[49m\u001b[43mtrain_smile_labels\u001b[49m\u001b[43m]\u001b[49m\u001b[43m)\u001b[49m\u001b[43m,\u001b[49m\u001b[43m \u001b[49m\n\u001b[0;32m     33\u001b[0m \u001b[43m                    \u001b[49m\u001b[43mepochs\u001b[49m\u001b[43m \u001b[49m\u001b[38;5;241;43m=\u001b[39;49m\u001b[38;5;241;43m2\u001b[39;49m\u001b[43m,\u001b[49m\u001b[43m \u001b[49m\n\u001b[0;32m     34\u001b[0m \u001b[43m                    \u001b[49m\u001b[43mverbose\u001b[49m\u001b[43m \u001b[49m\u001b[38;5;241;43m=\u001b[39;49m\u001b[38;5;241;43m1\u001b[39;49m\u001b[43m)\u001b[49m\n",
      "File \u001b[1;32m~\\miniconda3\\lib\\site-packages\\keras\\utils\\traceback_utils.py:67\u001b[0m, in \u001b[0;36mfilter_traceback.<locals>.error_handler\u001b[1;34m(*args, **kwargs)\u001b[0m\n\u001b[0;32m     65\u001b[0m \u001b[38;5;28;01mexcept\u001b[39;00m \u001b[38;5;167;01mException\u001b[39;00m \u001b[38;5;28;01mas\u001b[39;00m e:  \u001b[38;5;66;03m# pylint: disable=broad-except\u001b[39;00m\n\u001b[0;32m     66\u001b[0m   filtered_tb \u001b[38;5;241m=\u001b[39m _process_traceback_frames(e\u001b[38;5;241m.\u001b[39m__traceback__)\n\u001b[1;32m---> 67\u001b[0m   \u001b[38;5;28;01mraise\u001b[39;00m e\u001b[38;5;241m.\u001b[39mwith_traceback(filtered_tb) \u001b[38;5;28;01mfrom\u001b[39;00m \u001b[38;5;28mNone\u001b[39m\n\u001b[0;32m     68\u001b[0m \u001b[38;5;28;01mfinally\u001b[39;00m:\n\u001b[0;32m     69\u001b[0m   \u001b[38;5;28;01mdel\u001b[39;00m filtered_tb\n",
      "File \u001b[1;32m~\\AppData\\Local\\Temp\\__autograph_generated_fileijrsj_dx.py:15\u001b[0m, in \u001b[0;36mouter_factory.<locals>.inner_factory.<locals>.tf__train_function\u001b[1;34m(iterator)\u001b[0m\n\u001b[0;32m     13\u001b[0m \u001b[38;5;28;01mtry\u001b[39;00m:\n\u001b[0;32m     14\u001b[0m     do_return \u001b[38;5;241m=\u001b[39m \u001b[38;5;28;01mTrue\u001b[39;00m\n\u001b[1;32m---> 15\u001b[0m     retval_ \u001b[38;5;241m=\u001b[39m ag__\u001b[38;5;241m.\u001b[39mconverted_call(ag__\u001b[38;5;241m.\u001b[39mld(step_function), (ag__\u001b[38;5;241m.\u001b[39mld(\u001b[38;5;28mself\u001b[39m), ag__\u001b[38;5;241m.\u001b[39mld(iterator)), \u001b[38;5;28;01mNone\u001b[39;00m, fscope)\n\u001b[0;32m     16\u001b[0m \u001b[38;5;28;01mexcept\u001b[39;00m:\n\u001b[0;32m     17\u001b[0m     do_return \u001b[38;5;241m=\u001b[39m \u001b[38;5;28;01mFalse\u001b[39;00m\n",
      "\u001b[1;31mValueError\u001b[0m: in user code:\n\n    File \"C:\\Users\\HP\\miniconda3\\lib\\site-packages\\keras\\engine\\training.py\", line 1051, in train_function  *\n        return step_function(self, iterator)\n    File \"C:\\Users\\HP\\miniconda3\\lib\\site-packages\\keras\\engine\\training.py\", line 1040, in step_function  **\n        outputs = model.distribute_strategy.run(run_step, args=(data,))\n    File \"C:\\Users\\HP\\miniconda3\\lib\\site-packages\\keras\\engine\\training.py\", line 1030, in run_step  **\n        outputs = model.train_step(data)\n    File \"C:\\Users\\HP\\miniconda3\\lib\\site-packages\\keras\\engine\\training.py\", line 889, in train_step\n        y_pred = self(x, training=True)\n    File \"C:\\Users\\HP\\miniconda3\\lib\\site-packages\\keras\\utils\\traceback_utils.py\", line 67, in error_handler\n        raise e.with_traceback(filtered_tb) from None\n    File \"C:\\Users\\HP\\miniconda3\\lib\\site-packages\\keras\\engine\\input_spec.py\", line 200, in assert_input_compatibility\n        raise ValueError(f'Layer \"{layer_name}\" expects {len(input_spec)} input(s),'\n\n    ValueError: Layer \"model_17\" expects 1 input(s), but it received 3 input tensors. Inputs received: [<tf.Tensor 'IteratorGetNext:0' shape=(32, 100, 80, 3) dtype=float32>, <tf.Tensor 'IteratorGetNext:1' shape=(32, 2) dtype=float32>, <tf.Tensor 'IteratorGetNext:2' shape=(32, 2) dtype=float32>]\n"
     ]
    }
   ],
   "source": [
    "def model():\n",
    "    \n",
    "    inputs = Input((100, 80, 3))\n",
    "    x = Conv2D(32, 3, activation='relu')(inputs)\n",
    "    x = MaxPool2D(2)(x)\n",
    "    x = Conv2D(64, 3, activation='relu')(x)\n",
    "    x = MaxPool2D(2)(x)\n",
    "    x = Conv2D(64, 3, activation='relu')(x)\n",
    "    x = MaxPool2D(2)(x)\n",
    "    x = Flatten()(x)\n",
    "    x = Dense(64, activation='relu')(x)\n",
    "    \n",
    "    \n",
    "    outputs_gender = Dense(2, activation='softmax')(x)\n",
    "    outputs_smile = Dense(2, activation='softmax')(x)\n",
    "    outputs = Concatenate(axis =1)([outputs_gender, outputs_smile])\n",
    "    model = Model(inputs, outputs)\n",
    "    return model\n",
    "\n",
    "\n",
    "\n",
    "model = model()\n",
    "\n",
    "model.compile(loss='categorical_crossentropy', \n",
    "                    optimizer = 'adam',\n",
    "                    metrics = ['accuracy'])\n",
    "model.summary()\n",
    "\n",
    "\n",
    "# 방법 2 성별과 웃음의 각 자료를 리스트로 만들어서 리스트 구조로 넣을 수 있음\n",
    "history = model.fit(X_train,[train_male_labels, train_smile_labels],\n",
    "                    validation_data = (X_test,[train_male_labels, train_smile_labels]), \n",
    "                    epochs =2, \n",
    "                    verbose =1)\n",
    "\n"
   ]
  },
  {
   "cell_type": "code",
   "execution_count": null,
   "id": "625ddcb8",
   "metadata": {},
   "outputs": [],
   "source": []
  },
  {
   "cell_type": "code",
   "execution_count": null,
   "id": "77f4eebc",
   "metadata": {},
   "outputs": [],
   "source": []
  },
  {
   "cell_type": "code",
   "execution_count": null,
   "id": "df0b7c15",
   "metadata": {},
   "outputs": [],
   "source": []
  },
  {
   "cell_type": "code",
   "execution_count": null,
   "id": "5dd54be9",
   "metadata": {},
   "outputs": [],
   "source": []
  },
  {
   "cell_type": "code",
   "execution_count": null,
   "id": "86e76a7c",
   "metadata": {},
   "outputs": [],
   "source": []
  },
  {
   "cell_type": "code",
   "execution_count": null,
   "id": "6000c907",
   "metadata": {},
   "outputs": [],
   "source": []
  },
  {
   "cell_type": "code",
   "execution_count": null,
   "id": "0854bbdf",
   "metadata": {},
   "outputs": [],
   "source": []
  },
  {
   "cell_type": "code",
   "execution_count": null,
   "id": "ab62a82c",
   "metadata": {},
   "outputs": [],
   "source": [
    "#smile_model.fit(X_train, train_smile_labels, validation_data =(X_test,test_smile_labels), epochs=10)"
   ]
  }
 ],
 "metadata": {
  "kernelspec": {
   "display_name": "Python 3 (ipykernel)",
   "language": "python",
   "name": "python3"
  },
  "language_info": {
   "codemirror_mode": {
    "name": "ipython",
    "version": 3
   },
   "file_extension": ".py",
   "mimetype": "text/x-python",
   "name": "python",
   "nbconvert_exporter": "python",
   "pygments_lexer": "ipython3",
   "version": "3.9.12"
  }
 },
 "nbformat": 4,
 "nbformat_minor": 5
}
