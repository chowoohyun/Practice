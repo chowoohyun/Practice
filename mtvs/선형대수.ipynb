{
 "cells": [
  {
   "cell_type": "markdown",
   "id": "5e7807d6",
   "metadata": {},
   "source": [
    "## 22-07-06\n",
    "\n",
    "- https://www.youtube.com/watch?v=jOcTX7WaFxk\n",
    "- 카카오 임진왜란\n",
    "- 클로바가 최고다"
   ]
  },
  {
   "cell_type": "markdown",
   "id": "bd41e50e",
   "metadata": {},
   "source": [
    "## 선형대수학\n",
    "\n",
    "- 잘해야 하는건 아니지만 많이 나오니 잘 알아야함\n",
    "- 벡터에 대해서 명확하게 알아둬야함\n",
    "- det = 행렬식(determinant)\n",
    "- 함수를 만들어서 x 값으로 y 값을 예측하는것\n",
    "- b(바이어스)에 따라서 확대를 시키거나 축소를 시켜야 한다.(방향을 띈다)\n"
   ]
  },
  {
   "cell_type": "markdown",
   "id": "de6c9b9b",
   "metadata": {},
   "source": [
    "### 벡터\n",
    "\n",
    "- https://www.youtube.com/watch?v=x-Ewz1ukXEA\n",
    "- 벡터를 배우는 이유 ? 스칼라(크기만 ex/ 온도),  벡터(속도 + 힘 )\n",
    "- 벡터의 덧셈, 평행사변형의 대각선\n",
    "- L2와 같다 ( ~~ 릿지 )\n"
   ]
  },
  {
   "cell_type": "markdown",
   "id": "979a4aeb",
   "metadata": {},
   "source": [
    "#### 다중 공선성(회귀분석) ~~ 종속성(행렬)\n",
    "\n",
    "- 행렬식이 '0'이 아니면 역행렬이 존재==> 선형독립\n",
    "- 행렬식이 '0'이면 역행렬이 존재하지 않음 ==> 선형종속\n",
    "- 이렇게 때문에 역행렬을 봐주는게 좋음"
   ]
  },
  {
   "cell_type": "markdown",
   "id": "a302c721",
   "metadata": {},
   "source": [
    "### 역행렬\n",
    "\n",
    "- 공선성과 결이 같으므로 구해주는게 좋음\n",
    "- 역행렬을 구할 수 없으면  w, b 구하는게 힘듬\n",
    "- 꼭 알 필욘 없음"
   ]
  },
  {
   "cell_type": "code",
   "execution_count": 6,
   "id": "87e84840",
   "metadata": {},
   "outputs": [
    {
     "data": {
      "text/plain": [
       "array([-3.        ,  3.33333333])"
      ]
     },
     "execution_count": 6,
     "metadata": {},
     "output_type": "execute_result"
    }
   ],
   "source": [
    "from sklearn.linear_model import LinearRegression\n",
    "x=np.array([[2,3],[5,6]])\n",
    "y=np.array([4,5])\n",
    "\n",
    "model=LinearRegression(fit_intercept=False)\n",
    "model.fit(x,y)\n",
    "model.coef_"
   ]
  },
  {
   "cell_type": "code",
   "execution_count": 7,
   "id": "64e073ce",
   "metadata": {},
   "outputs": [
    {
     "name": "stdout",
     "output_type": "stream",
     "text": [
      "역행렬\n",
      " [[-2.          1.        ]\n",
      " [ 1.66666667 -0.66666667]]\n"
     ]
    }
   ],
   "source": [
    "##  역행렬을 이용하여서 w값을 계산할수 있음.\n",
    "x=np.array([[2,3],[5,6]])\n",
    "y=np.array([4,5])\n",
    "\n",
    "# 넘파이 역행렬 계산후 곱셈하고 더하기,   # np.linalg.solve(x,y) 로 한번에 가능함\n",
    "tmp=np.linalg.inv(x)  \n",
    "print('역행렬\\n',tmp)"
   ]
  },
  {
   "cell_type": "code",
   "execution_count": 14,
   "id": "ca22441c",
   "metadata": {},
   "outputs": [
    {
     "data": {
      "text/plain": [
       "(Matrix([\n",
       " [1, 0, 0],\n",
       " [0, 1, 0]]),\n",
       " (0, 1))"
      ]
     },
     "execution_count": 14,
     "metadata": {},
     "output_type": "execute_result"
    }
   ],
   "source": [
    "### 역행렬은 단위행렬이 존재하는 행렬\n",
    "## https://thebook.io/080246/part03/ch11/unit23/02/\n",
    "import sympy as sp\n",
    "\n",
    "B=np.array([[2,3],[5,6]])\n",
    "c=np.array([0,0]).reshape(-1,1); c\n",
    "Bc=np.hstack([B, c]);Bc\n",
    "sp.Matrix(Bc).rref()    # https://ko.wikipedia.org/wiki/%EC%82%AC%EB%8B%A4%EB%A6%AC%EA%BC%B4%ED%96%89%E"
   ]
  },
  {
   "cell_type": "code",
   "execution_count": 9,
   "id": "80660f5a",
   "metadata": {},
   "outputs": [
    {
     "name": "stdout",
     "output_type": "stream",
     "text": [
      "Requirement already satisfied: scipy in c:\\users\\hp\\miniconda3\\lib\\site-packages (1.8.1)\n",
      "Requirement already satisfied: numpy<1.25.0,>=1.17.3 in c:\\users\\hp\\miniconda3\\lib\\site-packages (from scipy) (1.23.0)\n"
     ]
    }
   ],
   "source": [
    "!pip install scipy"
   ]
  },
  {
   "cell_type": "code",
   "execution_count": 13,
   "id": "b1a2bc89",
   "metadata": {},
   "outputs": [
    {
     "name": "stdout",
     "output_type": "stream",
     "text": [
      "Collecting sympy\n",
      "  Downloading sympy-1.10.1-py3-none-any.whl (6.4 MB)\n",
      "Collecting mpmath>=0.19\n",
      "  Downloading mpmath-1.2.1-py3-none-any.whl (532 kB)\n",
      "Installing collected packages: mpmath, sympy\n",
      "Successfully installed mpmath-1.2.1 sympy-1.10.1\n"
     ]
    }
   ],
   "source": [
    "!pip install sympy"
   ]
  },
  {
   "cell_type": "markdown",
   "id": "9825fe77",
   "metadata": {},
   "source": [
    "### 단위행렬\n",
    "\n",
    "- 일반행렬 x 역행렬 = 단위행렬\n",
    "- numpy 패키지에서 생성하는 함수가 있음"
   ]
  },
  {
   "cell_type": "code",
   "execution_count": 15,
   "id": "72fbef0e",
   "metadata": {},
   "outputs": [
    {
     "name": "stdout",
     "output_type": "stream",
     "text": [
      "[[1 0 0]\n",
      " [0 1 0]\n",
      " [0 0 1]]\n"
     ]
    }
   ],
   "source": [
    "# 단위행렬 생성\n",
    "# https://firework-ham.tistory.com/34\n",
    "print(np.identity(n=3, dtype=np.int8))"
   ]
  },
  {
   "cell_type": "markdown",
   "id": "3475850d",
   "metadata": {},
   "source": [
    "### 전치행렬\n",
    "\n",
    "- array 구조는 .T 명령어로 전치행렬 이용가능\n",
    "- 다양한 방법으로 전치 행렬 이용 가능\n",
    "  - a.T attribute\n",
    "  - np.transpose(a) method\n",
    "  - np.swapaxes(a, 0, 1) method\n",
    "  \n",
    "- 전치 행렬을 zip 파일로도 가능.\n",
    "  - (http://pyengine.blogspot.com/2016/11/python-zip-transpose.html)\n",
    "  - 전치행렬 = list(zip(*원래 행렬))"
   ]
  },
  {
   "cell_type": "code",
   "execution_count": 16,
   "id": "036bf73f",
   "metadata": {},
   "outputs": [
    {
     "data": {
      "text/plain": [
       "array([[20,  2],\n",
       "       [30,  1],\n",
       "       [ 5,  0]])"
      ]
     },
     "execution_count": 16,
     "metadata": {},
     "output_type": "execute_result"
    }
   ],
   "source": [
    "### 미션, 전치행렬을 사용하지 않고 numpy의 행열 인덱싱 기능을 이용해서 행과 열을 변경하시오.\n",
    "## 아래사이트는 추후에 참조하세요.. (넘파이 없이 for로 구현)\n",
    "## https://hnanmal.tistory.com/entry/%ED%8C%8C%EC%9D%B4%EC%8D%AC-%EC%A0%84%EC%B9%98%ED%96%89%EB%A0%AC-%EC%86%90%EC%88%98-%EB%A7%8C%EB%93%9C%EB%8A%94-%EB%B2%95-%EC%A0%84%EC%B9%98%ED%96%89%EB%A0%AC%ED%95%98%EB%82%98-%EB%A7%8C%EB%93%A4%EC%9E%90%EA%B3%A0-numpy-%EC%84%A4%EC%B9%98%ED%95%98%EC%8B%9C%EB%82%98%EC%9A%94\n",
    "\n",
    "crim=[20,30,5]\n",
    "rm=[2,1,0]\n",
    "x=np.array([crim, rm])\n",
    "\n",
    "xT=np.zeros((x.shape[1],x.shape[0]), dtype=int)\n",
    "for col in range(x.shape[0]):\n",
    "    xT[:,col]=x[col,:]\n",
    "xT"
   ]
  },
  {
   "cell_type": "code",
   "execution_count": 19,
   "id": "cb999766",
   "metadata": {},
   "outputs": [
    {
     "data": {
      "text/plain": [
       "array([[2, 5],\n",
       "       [1, 3]])"
      ]
     },
     "execution_count": 19,
     "metadata": {},
     "output_type": "execute_result"
    }
   ],
   "source": [
    "d_array = np.array([[2, 5], [1, 3]])      # numpy.array를 사용하여 2x2 행렬 생성\n",
    "\n",
    "d_array"
   ]
  },
  {
   "cell_type": "code",
   "execution_count": 24,
   "id": "0c11b8cc",
   "metadata": {},
   "outputs": [
    {
     "name": "stdout",
     "output_type": "stream",
     "text": [
      "[[20 30  5]\n",
      " [ 2  1  0]]\n",
      "[[20  2]\n",
      " [30  1]\n",
      " [ 5  0]]\n"
     ]
    }
   ],
   "source": [
    "import numpy as np\n",
    "\n",
    "crim = [20, 30, 5]\n",
    "rm = [2, 1, 0]\n",
    "\n",
    "x = np.array([crim, rm])\n",
    "\n",
    "print(x)\n",
    "print(x.T)"
   ]
  },
  {
   "cell_type": "code",
   "execution_count": 28,
   "id": "848bcf3f",
   "metadata": {},
   "outputs": [
    {
     "name": "stdout",
     "output_type": "stream",
     "text": [
      "[(20, 2), (30, 1), (5, 0)]\n"
     ]
    }
   ],
   "source": [
    "tmp = list(zip(*x))\n",
    "print(tmp)"
   ]
  },
  {
   "cell_type": "markdown",
   "id": "9f78241d",
   "metadata": {},
   "source": [
    "### 행렬의 내적곱\n",
    "\n",
    "- wx+b 계산식에 내적곱이 사용됨\n",
    "- np.bot = 행렬의 곱셈, 곱해지는 부분의 숫자가 같아야만 하기 때문에\n",
    "- 앞서 배운 전치를 통해서 맞춰줘야 한다.\n",
    "- dense(unit = 4) 같은 경우\n",
    "- 못써도 알아야 한다.\n",
    "- np.dot는 생각보다 쓸일이 많기 때문에 알아야 한다."
   ]
  },
  {
   "cell_type": "code",
   "execution_count": 20,
   "id": "2d8c8e95",
   "metadata": {},
   "outputs": [
    {
     "name": "stdout",
     "output_type": "stream",
     "text": [
      "(2, 3) (3, 2)\n"
     ]
    },
    {
     "data": {
      "text/plain": [
       "array([[38, 68],\n",
       "       [29, 52]])"
      ]
     },
     "execution_count": 20,
     "metadata": {},
     "output_type": "execute_result"
    }
   ],
   "source": [
    "import numpy as np\n",
    "\n",
    "a=[[3,4,5],\n",
    "   [2,3,4]]\n",
    "a=np.array(a)\n",
    "   # 2행3열\n",
    "\n",
    "b=[[1,2],[5,8],[3,6]]\n",
    "b=np.array(b)\n",
    "print(a.shape, b.shape)\n",
    "np.dot(a,b)   # 행렬의 내적곱"
   ]
  },
  {
   "cell_type": "markdown",
   "id": "ef36ae0a",
   "metadata": {},
   "source": [
    "### 직교행렬(Orthogonal matrix)\n",
    "\n",
    "- 직교 행렬 표시는 ㅗ이다.\n",
    "- 선형대수학에서, 직교 행렬(直交行列, orthogonal matrix)은 행벡터와 열벡터가 유클리드 공간의 정규 직교 기저를 이루는 실수 행렬\n",
    "- 수식적으로는 내적(np.dot)이 0을 뜻함"
   ]
  },
  {
   "cell_type": "markdown",
   "id": "0564988b",
   "metadata": {},
   "source": [
    "### 선형독립과 선형종속\n",
    "\n",
    "- 머신러닝에서 데이터셋 특성(x변수 갯수)이 많아지면 오버피팅(overfitting)이 발생함\n",
    "- 이러한 현상을 차원의 저주라고 하는데, 이를 해결하는 방법 중 하나로 PCA(Principal Component Analysis)가 있음\n",
    "- Norm은 벡터의 길이 ( 표기법 : ||  || )\n",
    "- 역행렬 이용하여 선형독립, 선형종속을 확인할 수 있다.\n",
    "  - 행렬식 = ad - bc\n",
    "  - 행렬식이 '0'이 아니면 역행렬이 존재==> 선형독립\n",
    "  - 행렬식이 '0'이면 역행렬이 존재하지 않음 ==> 선형종속"
   ]
  },
  {
   "cell_type": "code",
   "execution_count": 29,
   "id": "2d78e3dd",
   "metadata": {},
   "outputs": [
    {
     "name": "stdout",
     "output_type": "stream",
     "text": [
      "[[4 2]\n",
      " [8 4]]\n",
      "0.0\n",
      "rank  1\n",
      "----------------------------------------------------------------------------------------------------\n"
     ]
    },
    {
     "data": {
      "text/plain": [
       "(Matrix([\n",
       " [1, 1/2, 0],\n",
       " [0,   0, 0]]),\n",
       " (0,))"
      ]
     },
     "execution_count": 29,
     "metadata": {},
     "output_type": "execute_result"
    }
   ],
   "source": [
    "## 역행렬이 존재하지 않는 선형종속\n",
    "v1=[4,2]\n",
    "v2=[8,4]\n",
    "V=np.array([v1,v2])\n",
    "\n",
    "import numpy.linalg\n",
    "print(V)\n",
    "print(numpy.linalg.det(V)) #  print(4*4-2*8)      # 선형종속,   # 0으로 역행렬이 존재하지 않음.\n",
    "print('rank % d' % np.linalg.matrix_rank(V)) # 랭크계산, 1이면 선형종속 # https://thebook.io/080246/part03/ch10/unit19/03-18/\n",
    "\n",
    "\n",
    "print('-'*100)\n",
    "## 역행렬이 존재하지 않음으로 단위행렬이 존재하지 않음.\n",
    "B=np.array([v1,v2])\n",
    "c=np.array([0,0]).reshape(-1,1); c\n",
    "Bc=np.hstack([B, c]);Bc\n",
    "sp.Matrix(Bc).rref()\n",
    "\n",
    "# rank1 이라는것은 같은 차원에 있다. 텐서와 토치에서 간간히 나옴"
   ]
  },
  {
   "cell_type": "code",
   "execution_count": 30,
   "id": "c8e1d904",
   "metadata": {},
   "outputs": [
    {
     "name": "stdout",
     "output_type": "stream",
     "text": [
      "[[ 3  0]\n",
      " [ 0 -2]]\n",
      "-6.0\n",
      "rank  2\n",
      "----------------------------------------------------------------------------------------------------\n"
     ]
    },
    {
     "data": {
      "text/plain": [
       "(Matrix([\n",
       " [1, 0, 0],\n",
       " [0, 1, 0]]),\n",
       " (0, 1))"
      ]
     },
     "execution_count": 30,
     "metadata": {},
     "output_type": "execute_result"
    }
   ],
   "source": [
    "## 역행렬이 존재하는 선형독립\n",
    "v1=[3,0]\n",
    "v2=[0,-2]\n",
    "V=np.array([v1,v2])\n",
    "print(V)\n",
    "print(numpy.linalg.det(V))  # print(3*-2-0*0)   # 0이 아님으로 역행렬 존재\n",
    "print('rank % d' % np.linalg.matrix_rank(V)) # 랭크계산, 2이상이면 선형독립 # https://thebook.io/080246/part03/ch10/unit19/03-18/\n",
    "\n",
    "print('-'*100)\n",
    "## 역행렬이 존재함으로 단위행렬이 생성됨\n",
    "B=np.array([v1,v2])\n",
    "c=np.array([0,0]).reshape(-1,1); c\n",
    "Bc=np.hstack([B, c]);Bc\n",
    "sp.Matrix(Bc).rref() "
   ]
  },
  {
   "cell_type": "markdown",
   "id": "7861f696",
   "metadata": {},
   "source": [
    "## PCA(Principal Component Analysis, 주성분 분석) 때문에 하는것, 데이터의 벡터값까지 고려해서 새로운 차원을 만드는것\n",
    "\n",
    "- 추천 시스템 , 행과 열을 분해해서 만드는것 = 차원을 축소\n",
    "\n",
    "- 가장 기본 작업은 스케일링\n",
    "\n",
    "- 특성 추출(feature extraction) 방법을 이용\n",
    "\n",
    "- 데이터에서 주축을 찾고 모든 데이터를 해당 축에 투영시켜서(원본 특성들의 선형 결합으로) 새로운 특성을 만듭니다.\n",
    "\n",
    "- 편차과 분산의 계산이 0이 나와버리면 계산이 불가함\n",
    "\n",
    "- 선형성 판단은 공식이나 그림으로 그려볼것\n",
    "\n",
    "- 여러개의 데이터셋이 나오면 3차원 평면도 나올수 있음\n",
    "\n",
    "- SVM (서포트 벡터 머신 support vector machine)\n",
    "  - 데이터 갯수가 작을때는 활용도가 좋다, 아직도 공장이나 분류가 잘 되어있는 데이터에는 사용하기 편함\n",
    "  - 가장 잘 분류할 수 있는 하나의(Unique) 선형식을 찾으려고 한다.\n",
    "  - 데이터셋들에게 겹치지 않는 곳에 벡터를 긋는다.\n",
    "  - 갯수는 지정해줘야 한다."
   ]
  },
  {
   "cell_type": "markdown",
   "id": "0abb3a0d",
   "metadata": {},
   "source": [
    "### 단위벡터\n",
    "\n",
    "- 고유벡터(unit vector)는 크기가 1이고 방향을 갖는 벡터\n",
    "- 단위 벡터 만드는것도 하나의 정규화이다. (= 노멀라이즈 스케일러 )\n",
    "- PCA 하면 스케일링 해서 넣어야 하는데 다시 자동으로 스케일링 하게 되니까 계산이 안맞는다. 그래서 방향성을 체크해서 맞는지 확인해야 한다.\n",
    "- 데이터간의 위치의 유사도를 보면 되기 때문에, 단위 벡터만 보면 된다.\n",
    "- 단위벡터 - 방향성만 본다\n",
    "- 데이터에 정규성을 추가하는 기법"
   ]
  },
  {
   "cell_type": "code",
   "execution_count": 31,
   "id": "68519a91",
   "metadata": {},
   "outputs": [
    {
     "name": "stdout",
     "output_type": "stream",
     "text": [
      "6.0\n",
      "3.7416573867739413\n"
     ]
    }
   ],
   "source": [
    "v=[1,-2,3]\n",
    "print(np.linalg.norm(v,1))  # 1+2+3\n",
    "print(np.linalg.norm(v,2))   # (1+4+9)**0.5"
   ]
  },
  {
   "cell_type": "code",
   "execution_count": 32,
   "id": "23af33a6",
   "metadata": {},
   "outputs": [
    {
     "name": "stdout",
     "output_type": "stream",
     "text": [
      "[0.14750369 0.53644775 0.41531701 0.15305056 0.88586002 0.79986676\n",
      " 0.24126479 0.88925968 0.49629461 0.13046446]\n",
      "****************************************************************************************************\n",
      "\n",
      "▶단위벡터를 출력합니다.\n",
      "\n",
      "[0.08456716 0.30755747 0.23811051 0.0877473  0.50788332 0.45858147\n",
      " 0.13832249 0.50983242 0.28453678 0.07479819]\n",
      "----------------------------------------------------------------------------------------------------\n",
      "[0.08456716 0.30755747 0.23811051 0.0877473  0.50788332 0.45858147\n",
      " 0.13832249 0.50983242 0.28453678 0.07479819]\n",
      "----------------------------------------------------------------------------------------------------\n",
      "[0.08456716 0.30755747 0.23811051 0.0877473  0.50788332 0.45858147\n",
      " 0.13832249 0.50983242 0.28453678 0.07479819]\n",
      "----------------------------------------------------------------------------------------------------\n"
     ]
    },
    {
     "data": {
      "text/plain": [
       "array([0.08456716, 0.30755747, 0.23811051, 0.0877473 , 0.50788332,\n",
       "       0.45858147, 0.13832249, 0.50983242, 0.28453678, 0.07479819])"
      ]
     },
     "execution_count": 32,
     "metadata": {},
     "output_type": "execute_result"
    }
   ],
   "source": [
    "import numpy as np\n",
    "\n",
    "v = np.random.rand(10)\n",
    "print(v)\n",
    "print('*'*100)\n",
    "\n",
    "print('\\n▶단위벡터를 출력합니다.\\n')\n",
    "normalized_v = v / np.sqrt(np.sum(v**2))\n",
    "print(normalized_v)\n",
    "\n",
    "print('-'*100)\n",
    "\n",
    "normalized_v = v/np.linalg.norm(v)\n",
    "print(normalized_v)\n",
    "\n",
    "print('-'*100)\n",
    "\n",
    "from sklearn.preprocessing import normalize\n",
    "normalized_v = normalize(v[:,np.newaxis], axis=0).ravel()\n",
    "print(normalized_v)\n",
    "\n",
    "print('-'*100)\n",
    "\n",
    "from scipy import linalg\n",
    "v / linalg.norm(v)\n",
    "\n",
    "\n",
    "# 참고: https://jimmy-ai.tistory.com/81"
   ]
  },
  {
   "cell_type": "markdown",
   "id": "54ce550d",
   "metadata": {},
   "source": [
    "### 직교벡터\n",
    "\n",
    "- 두 벡터 사이의 각도가 90도\n",
    "- ||a||2 + ||b||2 = ||a + b||2\n",
    "- 직교 행렬 인지 확인하는 방법은? 공식 사용, 내적곱 = 0 이면 직교 행렬\n",
    "\n",
    "\n",
    "- 벡터 커리 구하는법 : 유클리드 거리, 맨해튼 거리, 코사인 거리 => 추천 시스템 및 문서의 유사도를 구하는 데 사용"
   ]
  },
  {
   "cell_type": "code",
   "execution_count": 33,
   "id": "f6b7181c",
   "metadata": {},
   "outputs": [
    {
     "name": "stdout",
     "output_type": "stream",
     "text": [
      "True True True False\n",
      "0 0 0 1\n"
     ]
    }
   ],
   "source": [
    "### 아래 두 자료는 직교 행렬임\n",
    "# https://thebook.io/080246/part03/ch10/unit20/03-03/\n",
    "def orthogonal(v1,v2):\n",
    "    return (np.sum(v1**2+v2**2))**0.5 == (np.sum((v1+v2)**2))**0.5\n",
    "\n",
    "a=np.array([0,-1,0])\n",
    "b=np.array([1,0,0])\n",
    "c=np.array([0,0,1])\n",
    "d=np.array([0,1,1])\n",
    "\n",
    "print(orthogonal(a,b),orthogonal(a,c),orthogonal(b,c),orthogonal(c,d))\n",
    "print(np.dot(a,b),np.dot(a,c),np.dot(b,c),np.dot(c,d))\n",
    "\n",
    "\n",
    "## \n",
    "# np.sum(x.T*x+y.T*y)==np.sum((x+y).T*(x+y))\n",
    "# np.dot(x.T,x)+np.dot(y.T,y) == np.dot((x+y).T, (x+y))"
   ]
  },
  {
   "cell_type": "code",
   "execution_count": 34,
   "id": "ddc79be3",
   "metadata": {},
   "outputs": [
    {
     "data": {
      "text/plain": [
       "(0.0, 0.0, 0.0, 0.7071067811865475)"
      ]
     },
     "execution_count": 34,
     "metadata": {},
     "output_type": "execute_result"
    }
   ],
   "source": [
    "# 코사인각도값을 이용하여서 직교행렬 여부 확인하기\n",
    "# 코사인각도값이 0 이나오면 직교행렬임 (두 벡터가 이루는 각이 작을수록 유사도가 높고, 각이 클수록 유사도가 낮습니다.)\n",
    "from numpy.linalg import norm\n",
    "def cos_sim(A, B):\n",
    "    return np.dot(A, B)/(norm(A)*norm(B))     # norm 옵션없으면 기본값 norm2임 (제곱값의합**0.5)\n",
    "cos_sim(a,b),cos_sim(a,c),cos_sim(b,c),cos_sim(c,d)"
   ]
  },
  {
   "cell_type": "code",
   "execution_count": 36,
   "id": "2e480dee",
   "metadata": {},
   "outputs": [
    {
     "data": {
      "text/plain": [
       "3.7416573867739413"
      ]
     },
     "execution_count": 36,
     "metadata": {},
     "output_type": "execute_result"
    }
   ],
   "source": [
    "v=[1,-2,3]\n",
    "norm(v,2)"
   ]
  },
  {
   "cell_type": "code",
   "execution_count": 35,
   "id": "8397af53",
   "metadata": {},
   "outputs": [
    {
     "data": {
      "text/plain": [
       "True"
      ]
     },
     "execution_count": 35,
     "metadata": {},
     "output_type": "execute_result"
    }
   ],
   "source": [
    "x=np.array([2,1,3])\n",
    "y=np.array([3,3,-3])\n",
    "orthogonal(x,y)"
   ]
  },
  {
   "cell_type": "markdown",
   "id": "4ec4326c",
   "metadata": {},
   "source": [
    "### thebook 3-20 까지 정리\n",
    "\n",
    "\n",
    "- wordcloud 는 빈도수 세는거에서만 추천\n",
    "- LDA = 토픽으로 유사도가 높은 단어들을 모음\n",
    "- text 쪽은 완전 별개로 강의를 해주실것이다.\n"
   ]
  },
  {
   "cell_type": "code",
   "execution_count": 37,
   "id": "4c749dfb",
   "metadata": {},
   "outputs": [
    {
     "name": "stdout",
     "output_type": "stream",
     "text": [
      "0.5773502691896258\n",
      "0.8838834764831843\n",
      "0.8164965809277259\n"
     ]
    }
   ],
   "source": [
    "# NumPy 라이브러리를 호출하고 코사인 공식을 적용하려고\n",
    "# 내적(dot)과 벡터의 크기(norm)를 호출합니다\n",
    "# 또 공식을 적용할 수 있는 함수(def cos_sim())를 생성합니다\n",
    "from numpy import dot\n",
    "from numpy.linalg import norm\n",
    "import numpy as np\n",
    "\n",
    "def cos_sim(A, B):\n",
    "    return dot(A, B)/(norm(A)*norm(B))\n",
    "\n",
    "# 표 10-10의 행렬을 배열로 저장합니다\n",
    "doc1 = np.array([1, 1, 1, 1, 0])\n",
    "doc2 = np.array([1, 0, 1, 0, 1])\n",
    "doc3 = np.array([2, 1, 1, 1, 1])\n",
    "\n",
    "# 코사인 함수에 배열 값을 적용한 후 유사도 정도를 출력합니다\n",
    "print(cos_sim(doc1, doc2)) # 문서 1과 문서 2의 코사인 유사도\n",
    "print(cos_sim(doc1, doc3)) # 문서 1과 문서 3의 코사인 유사도\n",
    "print(cos_sim(doc2, doc3)) # 문서 2와 문서 3의 코사인 유사도"
   ]
  },
  {
   "cell_type": "markdown",
   "id": "525914d1",
   "metadata": {},
   "source": [
    "### 차원축소법\n",
    "\n",
    "- PCA(Principal component를 활용): 차원을 줄이면서 정보의 손실을 최소화함\n",
    "- 직교 행렬의 행렬값 분해\n",
    "- svd 특이값분해(Singular Value Decomposition, SVD) 가 속도가 빠름. -> PCA를 진행하기도 함.\n",
    "- 고유값 구하기, 고유값의합은 분산의 합과 같음\n",
    "\n",
    "\n",
    "- 위와 같은것들은 주성분분석이라고함\n",
    "- PCA 쪽이 시각화가 많이 떨어짐\n",
    "- 데이터셋 잡을때 잘 맞음\n",
    "- 분석 도구 다른것으로 돌려볼려면 돌려볼것\n",
    "\n"
   ]
  },
  {
   "cell_type": "markdown",
   "id": "6b3ee5fa",
   "metadata": {},
   "source": [
    "#### 고유벡터\n",
    "\n",
    "\n",
    "- 자료의 방향성이 같은 벡터\n",
    "- 라면 자료 ( https://studychfhd.tistory.com/228 )\n",
    "- 스케일러를 꼭 해줘야 한다.\n",
    "- 트렌스폼, 라면의 데이터 셋만 가져간다.\n",
    "- PCA에 fit 해주면 된다.\n",
    "- array값 해석이 쉽지 않다.\n",
    "- pca 가 여러게 나와도 설명력에 대해서 고민하고 그려야 한다.\n",
    "- 빅데이터에서는 추천하지 않음\n",
    "- 테스트 마이닝도 PCA로 함\n",
    "- 설명력이 떨어져도 PCA를 많이 안하는걸 권장,\n",
    "- 고전적 데이터 는 PCA가 가능하다. "
   ]
  },
  {
   "cell_type": "markdown",
   "id": "11892446",
   "metadata": {},
   "source": [
    "## 현재 까지 비지도 학습\n",
    "\n",
    "- 우선 데이터를 벡터 형식으로 뿌린다.\n",
    "- 응집점을 만든다.\n",
    "- kmeans = 3 , 중심점을 3개 뿌린다. y 값이 없는 분류 분석 기법\n",
    "  - 백터들을 모은 후 백터들의 평균값으로 이동함, <= 반복\n",
    "  - 분류하는 중심접 데이터가 계속 바뀐다. 비슷한 벡터들 끼지 모아내는것\n",
    "  - k는 숫자다.\n",
    "  - 이러한 분석을 군집 분석 ( 쇼핑몰 비슷한 구매 패턴끼리 모아주세요 )\n",
    "  \n",
    "- kNN은 대표적인 지도학습(거의 안씀), k 의 갯수만큼 모으기\n",
    "\n",
    "- 현재는 xgboost, 랜덤포레스트, L1, L2 쓰고 정확도가 80정도만 나와도 된다."
   ]
  },
  {
   "cell_type": "markdown",
   "id": "8be9eb7f",
   "metadata": {},
   "source": [
    "## dacon\n",
    "\n",
    "- 쇼핑몰 지점별 매출액 예측 경진대회가 분석이 어려운 이유는\n",
    "  - 계절성이 띄고 있는 자료는 분석이 어렵다, 시계열 분석이 따로 있지만 데이터가 작을때 얘기다.\n",
    "  - 달을 나눠서 다시 만들어주는 시계열 데이터, 선형성(뻗어나감)을 제거해서 해줘야 한다.\n",
    "  - 쇼핑몰의 분류나 평일/주말 분류나 지역에 따른 분류에 따라 다르기 때문에 분석하기 힘들다.\n",
    "  - 국내 자료는 계절성을 띄다보니 "
   ]
  },
  {
   "cell_type": "markdown",
   "id": "cac51ee7",
   "metadata": {},
   "source": [
    "## 데이터프레임 Groupby에 대한 강의\n",
    "\n",
    "- "
   ]
  },
  {
   "cell_type": "code",
   "execution_count": null,
   "id": "6b03d069",
   "metadata": {},
   "outputs": [],
   "source": []
  },
  {
   "cell_type": "code",
   "execution_count": null,
   "id": "e3264b42",
   "metadata": {},
   "outputs": [],
   "source": []
  }
 ],
 "metadata": {
  "kernelspec": {
   "display_name": "Python 3 (ipykernel)",
   "language": "python",
   "name": "python3"
  },
  "language_info": {
   "codemirror_mode": {
    "name": "ipython",
    "version": 3
   },
   "file_extension": ".py",
   "mimetype": "text/x-python",
   "name": "python",
   "nbconvert_exporter": "python",
   "pygments_lexer": "ipython3",
   "version": "3.9.12"
  }
 },
 "nbformat": 4,
 "nbformat_minor": 5
}
