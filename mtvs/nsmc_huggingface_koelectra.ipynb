{
  "nbformat": 4,
  "nbformat_minor": 0,
  "metadata": {
    "colab": {
      "provenance": [],
      "collapsed_sections": []
    },
    "kernelspec": {
      "name": "python3",
      "display_name": "Python 3"
    },
    "accelerator": "GPU",
    "widgets": {
      "application/vnd.jupyter.widget-state+json": {
        "84a425ec50994bf7acf63e260c6aa5a4": {
          "model_module": "@jupyter-widgets/controls",
          "model_name": "HBoxModel",
          "model_module_version": "1.5.0",
          "state": {
            "_dom_classes": [],
            "_model_module": "@jupyter-widgets/controls",
            "_model_module_version": "1.5.0",
            "_model_name": "HBoxModel",
            "_view_count": null,
            "_view_module": "@jupyter-widgets/controls",
            "_view_module_version": "1.5.0",
            "_view_name": "HBoxView",
            "box_style": "",
            "children": [
              "IPY_MODEL_bc5563429962477ab3573a6dc17a8477",
              "IPY_MODEL_6b979ca2039a430e807a8a974f2f99d3",
              "IPY_MODEL_fdc9b1de756249d191e9c45c22238670"
            ],
            "layout": "IPY_MODEL_79abd0500e62425296021c18e14d7259"
          }
        },
        "bc5563429962477ab3573a6dc17a8477": {
          "model_module": "@jupyter-widgets/controls",
          "model_name": "HTMLModel",
          "model_module_version": "1.5.0",
          "state": {
            "_dom_classes": [],
            "_model_module": "@jupyter-widgets/controls",
            "_model_module_version": "1.5.0",
            "_model_name": "HTMLModel",
            "_view_count": null,
            "_view_module": "@jupyter-widgets/controls",
            "_view_module_version": "1.5.0",
            "_view_name": "HTMLView",
            "description": "",
            "description_tooltip": null,
            "layout": "IPY_MODEL_5267a9bbbf5c412e8ef4983de5c7b96e",
            "placeholder": "​",
            "style": "IPY_MODEL_cf9c560129cc480db0e41cf7536cb83e",
            "value": "100%"
          }
        },
        "6b979ca2039a430e807a8a974f2f99d3": {
          "model_module": "@jupyter-widgets/controls",
          "model_name": "FloatProgressModel",
          "model_module_version": "1.5.0",
          "state": {
            "_dom_classes": [],
            "_model_module": "@jupyter-widgets/controls",
            "_model_module_version": "1.5.0",
            "_model_name": "FloatProgressModel",
            "_view_count": null,
            "_view_module": "@jupyter-widgets/controls",
            "_view_module_version": "1.5.0",
            "_view_name": "ProgressView",
            "bar_style": "success",
            "description": "",
            "description_tooltip": null,
            "layout": "IPY_MODEL_c18ed2c63a284c45aa3fa243a1aff254",
            "max": 9137,
            "min": 0,
            "orientation": "horizontal",
            "style": "IPY_MODEL_b9e3841828044554a8c75ce40f1abcfb",
            "value": 9137
          }
        },
        "fdc9b1de756249d191e9c45c22238670": {
          "model_module": "@jupyter-widgets/controls",
          "model_name": "HTMLModel",
          "model_module_version": "1.5.0",
          "state": {
            "_dom_classes": [],
            "_model_module": "@jupyter-widgets/controls",
            "_model_module_version": "1.5.0",
            "_model_name": "HTMLModel",
            "_view_count": null,
            "_view_module": "@jupyter-widgets/controls",
            "_view_module_version": "1.5.0",
            "_view_name": "HTMLView",
            "description": "",
            "description_tooltip": null,
            "layout": "IPY_MODEL_695c6b22dca24bbf83d9e591657874ec",
            "placeholder": "​",
            "style": "IPY_MODEL_731205a5e4174bb39298f5b37a2c87ce",
            "value": " 9137/9137 [1:48:30&lt;00:00,  1.68it/s]"
          }
        },
        "79abd0500e62425296021c18e14d7259": {
          "model_module": "@jupyter-widgets/base",
          "model_name": "LayoutModel",
          "model_module_version": "1.2.0",
          "state": {
            "_model_module": "@jupyter-widgets/base",
            "_model_module_version": "1.2.0",
            "_model_name": "LayoutModel",
            "_view_count": null,
            "_view_module": "@jupyter-widgets/base",
            "_view_module_version": "1.2.0",
            "_view_name": "LayoutView",
            "align_content": null,
            "align_items": null,
            "align_self": null,
            "border": null,
            "bottom": null,
            "display": null,
            "flex": null,
            "flex_flow": null,
            "grid_area": null,
            "grid_auto_columns": null,
            "grid_auto_flow": null,
            "grid_auto_rows": null,
            "grid_column": null,
            "grid_gap": null,
            "grid_row": null,
            "grid_template_areas": null,
            "grid_template_columns": null,
            "grid_template_rows": null,
            "height": null,
            "justify_content": null,
            "justify_items": null,
            "left": null,
            "margin": null,
            "max_height": null,
            "max_width": null,
            "min_height": null,
            "min_width": null,
            "object_fit": null,
            "object_position": null,
            "order": null,
            "overflow": null,
            "overflow_x": null,
            "overflow_y": null,
            "padding": null,
            "right": null,
            "top": null,
            "visibility": null,
            "width": null
          }
        },
        "5267a9bbbf5c412e8ef4983de5c7b96e": {
          "model_module": "@jupyter-widgets/base",
          "model_name": "LayoutModel",
          "model_module_version": "1.2.0",
          "state": {
            "_model_module": "@jupyter-widgets/base",
            "_model_module_version": "1.2.0",
            "_model_name": "LayoutModel",
            "_view_count": null,
            "_view_module": "@jupyter-widgets/base",
            "_view_module_version": "1.2.0",
            "_view_name": "LayoutView",
            "align_content": null,
            "align_items": null,
            "align_self": null,
            "border": null,
            "bottom": null,
            "display": null,
            "flex": null,
            "flex_flow": null,
            "grid_area": null,
            "grid_auto_columns": null,
            "grid_auto_flow": null,
            "grid_auto_rows": null,
            "grid_column": null,
            "grid_gap": null,
            "grid_row": null,
            "grid_template_areas": null,
            "grid_template_columns": null,
            "grid_template_rows": null,
            "height": null,
            "justify_content": null,
            "justify_items": null,
            "left": null,
            "margin": null,
            "max_height": null,
            "max_width": null,
            "min_height": null,
            "min_width": null,
            "object_fit": null,
            "object_position": null,
            "order": null,
            "overflow": null,
            "overflow_x": null,
            "overflow_y": null,
            "padding": null,
            "right": null,
            "top": null,
            "visibility": null,
            "width": null
          }
        },
        "cf9c560129cc480db0e41cf7536cb83e": {
          "model_module": "@jupyter-widgets/controls",
          "model_name": "DescriptionStyleModel",
          "model_module_version": "1.5.0",
          "state": {
            "_model_module": "@jupyter-widgets/controls",
            "_model_module_version": "1.5.0",
            "_model_name": "DescriptionStyleModel",
            "_view_count": null,
            "_view_module": "@jupyter-widgets/base",
            "_view_module_version": "1.2.0",
            "_view_name": "StyleView",
            "description_width": ""
          }
        },
        "c18ed2c63a284c45aa3fa243a1aff254": {
          "model_module": "@jupyter-widgets/base",
          "model_name": "LayoutModel",
          "model_module_version": "1.2.0",
          "state": {
            "_model_module": "@jupyter-widgets/base",
            "_model_module_version": "1.2.0",
            "_model_name": "LayoutModel",
            "_view_count": null,
            "_view_module": "@jupyter-widgets/base",
            "_view_module_version": "1.2.0",
            "_view_name": "LayoutView",
            "align_content": null,
            "align_items": null,
            "align_self": null,
            "border": null,
            "bottom": null,
            "display": null,
            "flex": null,
            "flex_flow": null,
            "grid_area": null,
            "grid_auto_columns": null,
            "grid_auto_flow": null,
            "grid_auto_rows": null,
            "grid_column": null,
            "grid_gap": null,
            "grid_row": null,
            "grid_template_areas": null,
            "grid_template_columns": null,
            "grid_template_rows": null,
            "height": null,
            "justify_content": null,
            "justify_items": null,
            "left": null,
            "margin": null,
            "max_height": null,
            "max_width": null,
            "min_height": null,
            "min_width": null,
            "object_fit": null,
            "object_position": null,
            "order": null,
            "overflow": null,
            "overflow_x": null,
            "overflow_y": null,
            "padding": null,
            "right": null,
            "top": null,
            "visibility": null,
            "width": null
          }
        },
        "b9e3841828044554a8c75ce40f1abcfb": {
          "model_module": "@jupyter-widgets/controls",
          "model_name": "ProgressStyleModel",
          "model_module_version": "1.5.0",
          "state": {
            "_model_module": "@jupyter-widgets/controls",
            "_model_module_version": "1.5.0",
            "_model_name": "ProgressStyleModel",
            "_view_count": null,
            "_view_module": "@jupyter-widgets/base",
            "_view_module_version": "1.2.0",
            "_view_name": "StyleView",
            "bar_color": null,
            "description_width": ""
          }
        },
        "695c6b22dca24bbf83d9e591657874ec": {
          "model_module": "@jupyter-widgets/base",
          "model_name": "LayoutModel",
          "model_module_version": "1.2.0",
          "state": {
            "_model_module": "@jupyter-widgets/base",
            "_model_module_version": "1.2.0",
            "_model_name": "LayoutModel",
            "_view_count": null,
            "_view_module": "@jupyter-widgets/base",
            "_view_module_version": "1.2.0",
            "_view_name": "LayoutView",
            "align_content": null,
            "align_items": null,
            "align_self": null,
            "border": null,
            "bottom": null,
            "display": null,
            "flex": null,
            "flex_flow": null,
            "grid_area": null,
            "grid_auto_columns": null,
            "grid_auto_flow": null,
            "grid_auto_rows": null,
            "grid_column": null,
            "grid_gap": null,
            "grid_row": null,
            "grid_template_areas": null,
            "grid_template_columns": null,
            "grid_template_rows": null,
            "height": null,
            "justify_content": null,
            "justify_items": null,
            "left": null,
            "margin": null,
            "max_height": null,
            "max_width": null,
            "min_height": null,
            "min_width": null,
            "object_fit": null,
            "object_position": null,
            "order": null,
            "overflow": null,
            "overflow_x": null,
            "overflow_y": null,
            "padding": null,
            "right": null,
            "top": null,
            "visibility": null,
            "width": null
          }
        },
        "731205a5e4174bb39298f5b37a2c87ce": {
          "model_module": "@jupyter-widgets/controls",
          "model_name": "DescriptionStyleModel",
          "model_module_version": "1.5.0",
          "state": {
            "_model_module": "@jupyter-widgets/controls",
            "_model_module_version": "1.5.0",
            "_model_name": "DescriptionStyleModel",
            "_view_count": null,
            "_view_module": "@jupyter-widgets/base",
            "_view_module_version": "1.2.0",
            "_view_name": "StyleView",
            "description_width": ""
          }
        },
        "255c903364b342729efe39e2ec7ba0bb": {
          "model_module": "@jupyter-widgets/controls",
          "model_name": "HBoxModel",
          "model_module_version": "1.5.0",
          "state": {
            "_dom_classes": [],
            "_model_module": "@jupyter-widgets/controls",
            "_model_module_version": "1.5.0",
            "_model_name": "HBoxModel",
            "_view_count": null,
            "_view_module": "@jupyter-widgets/controls",
            "_view_module_version": "1.5.0",
            "_view_name": "HBoxView",
            "box_style": "",
            "children": [
              "IPY_MODEL_ce86abe96205455fb27e91396223c484",
              "IPY_MODEL_8673169b3a8342d7beb6cb904473d91a",
              "IPY_MODEL_12b3020622cc4b47b631fba0f1625c66"
            ],
            "layout": "IPY_MODEL_3dc946d6421d42db9364ec98f87db6ad"
          }
        },
        "ce86abe96205455fb27e91396223c484": {
          "model_module": "@jupyter-widgets/controls",
          "model_name": "HTMLModel",
          "model_module_version": "1.5.0",
          "state": {
            "_dom_classes": [],
            "_model_module": "@jupyter-widgets/controls",
            "_model_module_version": "1.5.0",
            "_model_name": "HTMLModel",
            "_view_count": null,
            "_view_module": "@jupyter-widgets/controls",
            "_view_module_version": "1.5.0",
            "_view_name": "HTMLView",
            "description": "",
            "description_tooltip": null,
            "layout": "IPY_MODEL_f9ac42f4092940589df2954a716c679b",
            "placeholder": "​",
            "style": "IPY_MODEL_121753339f69407abce5958d09a9d8a7",
            "value": "100%"
          }
        },
        "8673169b3a8342d7beb6cb904473d91a": {
          "model_module": "@jupyter-widgets/controls",
          "model_name": "FloatProgressModel",
          "model_module_version": "1.5.0",
          "state": {
            "_dom_classes": [],
            "_model_module": "@jupyter-widgets/controls",
            "_model_module_version": "1.5.0",
            "_model_name": "FloatProgressModel",
            "_view_count": null,
            "_view_module": "@jupyter-widgets/controls",
            "_view_module_version": "1.5.0",
            "_view_name": "ProgressView",
            "bar_style": "success",
            "description": "",
            "description_tooltip": null,
            "layout": "IPY_MODEL_a577be5d6dd5463682364e70f7567449",
            "max": 9137,
            "min": 0,
            "orientation": "horizontal",
            "style": "IPY_MODEL_957f01db9e5a438d93f6af24390f4f40",
            "value": 9137
          }
        },
        "12b3020622cc4b47b631fba0f1625c66": {
          "model_module": "@jupyter-widgets/controls",
          "model_name": "HTMLModel",
          "model_module_version": "1.5.0",
          "state": {
            "_dom_classes": [],
            "_model_module": "@jupyter-widgets/controls",
            "_model_module_version": "1.5.0",
            "_model_name": "HTMLModel",
            "_view_count": null,
            "_view_module": "@jupyter-widgets/controls",
            "_view_module_version": "1.5.0",
            "_view_name": "HTMLView",
            "description": "",
            "description_tooltip": null,
            "layout": "IPY_MODEL_fdb99ce1b31d40f7aff05ddbc4165b3e",
            "placeholder": "​",
            "style": "IPY_MODEL_a8ce37b695a84478909beea6f7962ec3",
            "value": " 9137/9137 [1:47:52&lt;00:00,  1.69it/s]"
          }
        },
        "3dc946d6421d42db9364ec98f87db6ad": {
          "model_module": "@jupyter-widgets/base",
          "model_name": "LayoutModel",
          "model_module_version": "1.2.0",
          "state": {
            "_model_module": "@jupyter-widgets/base",
            "_model_module_version": "1.2.0",
            "_model_name": "LayoutModel",
            "_view_count": null,
            "_view_module": "@jupyter-widgets/base",
            "_view_module_version": "1.2.0",
            "_view_name": "LayoutView",
            "align_content": null,
            "align_items": null,
            "align_self": null,
            "border": null,
            "bottom": null,
            "display": null,
            "flex": null,
            "flex_flow": null,
            "grid_area": null,
            "grid_auto_columns": null,
            "grid_auto_flow": null,
            "grid_auto_rows": null,
            "grid_column": null,
            "grid_gap": null,
            "grid_row": null,
            "grid_template_areas": null,
            "grid_template_columns": null,
            "grid_template_rows": null,
            "height": null,
            "justify_content": null,
            "justify_items": null,
            "left": null,
            "margin": null,
            "max_height": null,
            "max_width": null,
            "min_height": null,
            "min_width": null,
            "object_fit": null,
            "object_position": null,
            "order": null,
            "overflow": null,
            "overflow_x": null,
            "overflow_y": null,
            "padding": null,
            "right": null,
            "top": null,
            "visibility": null,
            "width": null
          }
        },
        "f9ac42f4092940589df2954a716c679b": {
          "model_module": "@jupyter-widgets/base",
          "model_name": "LayoutModel",
          "model_module_version": "1.2.0",
          "state": {
            "_model_module": "@jupyter-widgets/base",
            "_model_module_version": "1.2.0",
            "_model_name": "LayoutModel",
            "_view_count": null,
            "_view_module": "@jupyter-widgets/base",
            "_view_module_version": "1.2.0",
            "_view_name": "LayoutView",
            "align_content": null,
            "align_items": null,
            "align_self": null,
            "border": null,
            "bottom": null,
            "display": null,
            "flex": null,
            "flex_flow": null,
            "grid_area": null,
            "grid_auto_columns": null,
            "grid_auto_flow": null,
            "grid_auto_rows": null,
            "grid_column": null,
            "grid_gap": null,
            "grid_row": null,
            "grid_template_areas": null,
            "grid_template_columns": null,
            "grid_template_rows": null,
            "height": null,
            "justify_content": null,
            "justify_items": null,
            "left": null,
            "margin": null,
            "max_height": null,
            "max_width": null,
            "min_height": null,
            "min_width": null,
            "object_fit": null,
            "object_position": null,
            "order": null,
            "overflow": null,
            "overflow_x": null,
            "overflow_y": null,
            "padding": null,
            "right": null,
            "top": null,
            "visibility": null,
            "width": null
          }
        },
        "121753339f69407abce5958d09a9d8a7": {
          "model_module": "@jupyter-widgets/controls",
          "model_name": "DescriptionStyleModel",
          "model_module_version": "1.5.0",
          "state": {
            "_model_module": "@jupyter-widgets/controls",
            "_model_module_version": "1.5.0",
            "_model_name": "DescriptionStyleModel",
            "_view_count": null,
            "_view_module": "@jupyter-widgets/base",
            "_view_module_version": "1.2.0",
            "_view_name": "StyleView",
            "description_width": ""
          }
        },
        "a577be5d6dd5463682364e70f7567449": {
          "model_module": "@jupyter-widgets/base",
          "model_name": "LayoutModel",
          "model_module_version": "1.2.0",
          "state": {
            "_model_module": "@jupyter-widgets/base",
            "_model_module_version": "1.2.0",
            "_model_name": "LayoutModel",
            "_view_count": null,
            "_view_module": "@jupyter-widgets/base",
            "_view_module_version": "1.2.0",
            "_view_name": "LayoutView",
            "align_content": null,
            "align_items": null,
            "align_self": null,
            "border": null,
            "bottom": null,
            "display": null,
            "flex": null,
            "flex_flow": null,
            "grid_area": null,
            "grid_auto_columns": null,
            "grid_auto_flow": null,
            "grid_auto_rows": null,
            "grid_column": null,
            "grid_gap": null,
            "grid_row": null,
            "grid_template_areas": null,
            "grid_template_columns": null,
            "grid_template_rows": null,
            "height": null,
            "justify_content": null,
            "justify_items": null,
            "left": null,
            "margin": null,
            "max_height": null,
            "max_width": null,
            "min_height": null,
            "min_width": null,
            "object_fit": null,
            "object_position": null,
            "order": null,
            "overflow": null,
            "overflow_x": null,
            "overflow_y": null,
            "padding": null,
            "right": null,
            "top": null,
            "visibility": null,
            "width": null
          }
        },
        "957f01db9e5a438d93f6af24390f4f40": {
          "model_module": "@jupyter-widgets/controls",
          "model_name": "ProgressStyleModel",
          "model_module_version": "1.5.0",
          "state": {
            "_model_module": "@jupyter-widgets/controls",
            "_model_module_version": "1.5.0",
            "_model_name": "ProgressStyleModel",
            "_view_count": null,
            "_view_module": "@jupyter-widgets/base",
            "_view_module_version": "1.2.0",
            "_view_name": "StyleView",
            "bar_color": null,
            "description_width": ""
          }
        },
        "fdb99ce1b31d40f7aff05ddbc4165b3e": {
          "model_module": "@jupyter-widgets/base",
          "model_name": "LayoutModel",
          "model_module_version": "1.2.0",
          "state": {
            "_model_module": "@jupyter-widgets/base",
            "_model_module_version": "1.2.0",
            "_model_name": "LayoutModel",
            "_view_count": null,
            "_view_module": "@jupyter-widgets/base",
            "_view_module_version": "1.2.0",
            "_view_name": "LayoutView",
            "align_content": null,
            "align_items": null,
            "align_self": null,
            "border": null,
            "bottom": null,
            "display": null,
            "flex": null,
            "flex_flow": null,
            "grid_area": null,
            "grid_auto_columns": null,
            "grid_auto_flow": null,
            "grid_auto_rows": null,
            "grid_column": null,
            "grid_gap": null,
            "grid_row": null,
            "grid_template_areas": null,
            "grid_template_columns": null,
            "grid_template_rows": null,
            "height": null,
            "justify_content": null,
            "justify_items": null,
            "left": null,
            "margin": null,
            "max_height": null,
            "max_width": null,
            "min_height": null,
            "min_width": null,
            "object_fit": null,
            "object_position": null,
            "order": null,
            "overflow": null,
            "overflow_x": null,
            "overflow_y": null,
            "padding": null,
            "right": null,
            "top": null,
            "visibility": null,
            "width": null
          }
        },
        "a8ce37b695a84478909beea6f7962ec3": {
          "model_module": "@jupyter-widgets/controls",
          "model_name": "DescriptionStyleModel",
          "model_module_version": "1.5.0",
          "state": {
            "_model_module": "@jupyter-widgets/controls",
            "_model_module_version": "1.5.0",
            "_model_name": "DescriptionStyleModel",
            "_view_count": null,
            "_view_module": "@jupyter-widgets/base",
            "_view_module_version": "1.2.0",
            "_view_name": "StyleView",
            "description_width": ""
          }
        },
        "b83ec3e4dd2a49d4b933514534d09acd": {
          "model_module": "@jupyter-widgets/controls",
          "model_name": "HBoxModel",
          "model_module_version": "1.5.0",
          "state": {
            "_dom_classes": [],
            "_model_module": "@jupyter-widgets/controls",
            "_model_module_version": "1.5.0",
            "_model_name": "HBoxModel",
            "_view_count": null,
            "_view_module": "@jupyter-widgets/controls",
            "_view_module_version": "1.5.0",
            "_view_name": "HBoxView",
            "box_style": "",
            "children": [
              "IPY_MODEL_959e316a317e40ee9007cd6a526ccb90",
              "IPY_MODEL_7a7e1fd36fcb4d39b6a6ac3b8a4f1654",
              "IPY_MODEL_743ab14df76842a4981dcaef70222ca0"
            ],
            "layout": "IPY_MODEL_b38f327ad26c412a8731fd32a9e4394c"
          }
        },
        "959e316a317e40ee9007cd6a526ccb90": {
          "model_module": "@jupyter-widgets/controls",
          "model_name": "HTMLModel",
          "model_module_version": "1.5.0",
          "state": {
            "_dom_classes": [],
            "_model_module": "@jupyter-widgets/controls",
            "_model_module_version": "1.5.0",
            "_model_name": "HTMLModel",
            "_view_count": null,
            "_view_module": "@jupyter-widgets/controls",
            "_view_module_version": "1.5.0",
            "_view_name": "HTMLView",
            "description": "",
            "description_tooltip": null,
            "layout": "IPY_MODEL_1f4983217d9b411386ada52150a5f0ee",
            "placeholder": "​",
            "style": "IPY_MODEL_7b1948e34d7e47379bb8ac41668f7156",
            "value": "  6%"
          }
        },
        "7a7e1fd36fcb4d39b6a6ac3b8a4f1654": {
          "model_module": "@jupyter-widgets/controls",
          "model_name": "FloatProgressModel",
          "model_module_version": "1.5.0",
          "state": {
            "_dom_classes": [],
            "_model_module": "@jupyter-widgets/controls",
            "_model_module_version": "1.5.0",
            "_model_name": "FloatProgressModel",
            "_view_count": null,
            "_view_module": "@jupyter-widgets/controls",
            "_view_module_version": "1.5.0",
            "_view_name": "ProgressView",
            "bar_style": "",
            "description": "",
            "description_tooltip": null,
            "layout": "IPY_MODEL_8c3c1d56643647efba4aa9abaace958a",
            "max": 9137,
            "min": 0,
            "orientation": "horizontal",
            "style": "IPY_MODEL_8040d819bf46447f8f761a9d522a5649",
            "value": 537
          }
        },
        "743ab14df76842a4981dcaef70222ca0": {
          "model_module": "@jupyter-widgets/controls",
          "model_name": "HTMLModel",
          "model_module_version": "1.5.0",
          "state": {
            "_dom_classes": [],
            "_model_module": "@jupyter-widgets/controls",
            "_model_module_version": "1.5.0",
            "_model_name": "HTMLModel",
            "_view_count": null,
            "_view_module": "@jupyter-widgets/controls",
            "_view_module_version": "1.5.0",
            "_view_name": "HTMLView",
            "description": "",
            "description_tooltip": null,
            "layout": "IPY_MODEL_83c6f87a2dd8402f97300a4a6eac5d92",
            "placeholder": "​",
            "style": "IPY_MODEL_9ed44d9a8ea54173b3f533f01e623fde",
            "value": " 537/9137 [06:19&lt;1:41:19,  1.41it/s]"
          }
        },
        "b38f327ad26c412a8731fd32a9e4394c": {
          "model_module": "@jupyter-widgets/base",
          "model_name": "LayoutModel",
          "model_module_version": "1.2.0",
          "state": {
            "_model_module": "@jupyter-widgets/base",
            "_model_module_version": "1.2.0",
            "_model_name": "LayoutModel",
            "_view_count": null,
            "_view_module": "@jupyter-widgets/base",
            "_view_module_version": "1.2.0",
            "_view_name": "LayoutView",
            "align_content": null,
            "align_items": null,
            "align_self": null,
            "border": null,
            "bottom": null,
            "display": null,
            "flex": null,
            "flex_flow": null,
            "grid_area": null,
            "grid_auto_columns": null,
            "grid_auto_flow": null,
            "grid_auto_rows": null,
            "grid_column": null,
            "grid_gap": null,
            "grid_row": null,
            "grid_template_areas": null,
            "grid_template_columns": null,
            "grid_template_rows": null,
            "height": null,
            "justify_content": null,
            "justify_items": null,
            "left": null,
            "margin": null,
            "max_height": null,
            "max_width": null,
            "min_height": null,
            "min_width": null,
            "object_fit": null,
            "object_position": null,
            "order": null,
            "overflow": null,
            "overflow_x": null,
            "overflow_y": null,
            "padding": null,
            "right": null,
            "top": null,
            "visibility": null,
            "width": null
          }
        },
        "1f4983217d9b411386ada52150a5f0ee": {
          "model_module": "@jupyter-widgets/base",
          "model_name": "LayoutModel",
          "model_module_version": "1.2.0",
          "state": {
            "_model_module": "@jupyter-widgets/base",
            "_model_module_version": "1.2.0",
            "_model_name": "LayoutModel",
            "_view_count": null,
            "_view_module": "@jupyter-widgets/base",
            "_view_module_version": "1.2.0",
            "_view_name": "LayoutView",
            "align_content": null,
            "align_items": null,
            "align_self": null,
            "border": null,
            "bottom": null,
            "display": null,
            "flex": null,
            "flex_flow": null,
            "grid_area": null,
            "grid_auto_columns": null,
            "grid_auto_flow": null,
            "grid_auto_rows": null,
            "grid_column": null,
            "grid_gap": null,
            "grid_row": null,
            "grid_template_areas": null,
            "grid_template_columns": null,
            "grid_template_rows": null,
            "height": null,
            "justify_content": null,
            "justify_items": null,
            "left": null,
            "margin": null,
            "max_height": null,
            "max_width": null,
            "min_height": null,
            "min_width": null,
            "object_fit": null,
            "object_position": null,
            "order": null,
            "overflow": null,
            "overflow_x": null,
            "overflow_y": null,
            "padding": null,
            "right": null,
            "top": null,
            "visibility": null,
            "width": null
          }
        },
        "7b1948e34d7e47379bb8ac41668f7156": {
          "model_module": "@jupyter-widgets/controls",
          "model_name": "DescriptionStyleModel",
          "model_module_version": "1.5.0",
          "state": {
            "_model_module": "@jupyter-widgets/controls",
            "_model_module_version": "1.5.0",
            "_model_name": "DescriptionStyleModel",
            "_view_count": null,
            "_view_module": "@jupyter-widgets/base",
            "_view_module_version": "1.2.0",
            "_view_name": "StyleView",
            "description_width": ""
          }
        },
        "8c3c1d56643647efba4aa9abaace958a": {
          "model_module": "@jupyter-widgets/base",
          "model_name": "LayoutModel",
          "model_module_version": "1.2.0",
          "state": {
            "_model_module": "@jupyter-widgets/base",
            "_model_module_version": "1.2.0",
            "_model_name": "LayoutModel",
            "_view_count": null,
            "_view_module": "@jupyter-widgets/base",
            "_view_module_version": "1.2.0",
            "_view_name": "LayoutView",
            "align_content": null,
            "align_items": null,
            "align_self": null,
            "border": null,
            "bottom": null,
            "display": null,
            "flex": null,
            "flex_flow": null,
            "grid_area": null,
            "grid_auto_columns": null,
            "grid_auto_flow": null,
            "grid_auto_rows": null,
            "grid_column": null,
            "grid_gap": null,
            "grid_row": null,
            "grid_template_areas": null,
            "grid_template_columns": null,
            "grid_template_rows": null,
            "height": null,
            "justify_content": null,
            "justify_items": null,
            "left": null,
            "margin": null,
            "max_height": null,
            "max_width": null,
            "min_height": null,
            "min_width": null,
            "object_fit": null,
            "object_position": null,
            "order": null,
            "overflow": null,
            "overflow_x": null,
            "overflow_y": null,
            "padding": null,
            "right": null,
            "top": null,
            "visibility": null,
            "width": null
          }
        },
        "8040d819bf46447f8f761a9d522a5649": {
          "model_module": "@jupyter-widgets/controls",
          "model_name": "ProgressStyleModel",
          "model_module_version": "1.5.0",
          "state": {
            "_model_module": "@jupyter-widgets/controls",
            "_model_module_version": "1.5.0",
            "_model_name": "ProgressStyleModel",
            "_view_count": null,
            "_view_module": "@jupyter-widgets/base",
            "_view_module_version": "1.2.0",
            "_view_name": "StyleView",
            "bar_color": null,
            "description_width": ""
          }
        },
        "83c6f87a2dd8402f97300a4a6eac5d92": {
          "model_module": "@jupyter-widgets/base",
          "model_name": "LayoutModel",
          "model_module_version": "1.2.0",
          "state": {
            "_model_module": "@jupyter-widgets/base",
            "_model_module_version": "1.2.0",
            "_model_name": "LayoutModel",
            "_view_count": null,
            "_view_module": "@jupyter-widgets/base",
            "_view_module_version": "1.2.0",
            "_view_name": "LayoutView",
            "align_content": null,
            "align_items": null,
            "align_self": null,
            "border": null,
            "bottom": null,
            "display": null,
            "flex": null,
            "flex_flow": null,
            "grid_area": null,
            "grid_auto_columns": null,
            "grid_auto_flow": null,
            "grid_auto_rows": null,
            "grid_column": null,
            "grid_gap": null,
            "grid_row": null,
            "grid_template_areas": null,
            "grid_template_columns": null,
            "grid_template_rows": null,
            "height": null,
            "justify_content": null,
            "justify_items": null,
            "left": null,
            "margin": null,
            "max_height": null,
            "max_width": null,
            "min_height": null,
            "min_width": null,
            "object_fit": null,
            "object_position": null,
            "order": null,
            "overflow": null,
            "overflow_x": null,
            "overflow_y": null,
            "padding": null,
            "right": null,
            "top": null,
            "visibility": null,
            "width": null
          }
        },
        "9ed44d9a8ea54173b3f533f01e623fde": {
          "model_module": "@jupyter-widgets/controls",
          "model_name": "DescriptionStyleModel",
          "model_module_version": "1.5.0",
          "state": {
            "_model_module": "@jupyter-widgets/controls",
            "_model_module_version": "1.5.0",
            "_model_name": "DescriptionStyleModel",
            "_view_count": null,
            "_view_module": "@jupyter-widgets/base",
            "_view_module_version": "1.2.0",
            "_view_name": "StyleView",
            "description_width": ""
          }
        }
      }
    }
  },
  "cells": [
    {
      "cell_type": "markdown",
      "metadata": {
        "id": "cdjLL9gvyVCR"
      },
      "source": [
        "\n",
        "# Pytorch + HuggingFace \n",
        "## KoElectra Model\n",
        "박장원님의 KoElectra-small 사용<br>\n",
        "https://monologg.kr/2020/05/02/koelectra-part1/<br>\n",
        "https://github.com/monologg/KoELECTRA\n",
        "\n",
        "## Dataset\n",
        "네이버 영화 리뷰 데이터셋<br>\n",
        "https://github.com/e9t/nsmc\n",
        "\n",
        "## References\n",
        "- https://huggingface.co/transformers/training.html\n",
        "- https://tutorials.pytorch.kr/beginner/data_loading_tutorial.html\n",
        "- https://tutorials.pytorch.kr/beginner/blitz/cifar10_tutorial.html\n",
        "- https://wikidocs.net/44249\n",
        "\n",
        "## 주의사항\n",
        "꼭 GPU로 해주세요 - 1epoch 당 약 20분 소요"
      ]
    },
    {
      "cell_type": "code",
      "metadata": {
        "id": "hc7P9wzHv0LE",
        "colab": {
          "base_uri": "https://localhost:8080/"
        },
        "outputId": "0aa6e9c4-634b-4ce6-f91a-e018e6b30fb3"
      },
      "source": [
        "# HuggingFace transformers 설치 및 NSMC 데이터셋 다운로드\n",
        "!pip install transformers\n",
        "!wget https://raw.githubusercontent.com/e9t/nsmc/master/ratings_test.txt\n",
        "!wget https://raw.githubusercontent.com/e9t/nsmc/master/ratings_train.txt"
      ],
      "execution_count": null,
      "outputs": [
        {
          "output_type": "stream",
          "name": "stdout",
          "text": [
            "Requirement already satisfied: transformers in /usr/local/lib/python3.7/dist-packages (4.19.1)\n",
            "Requirement already satisfied: requests in /usr/local/lib/python3.7/dist-packages (from transformers) (2.23.0)\n",
            "Requirement already satisfied: pyyaml>=5.1 in /usr/local/lib/python3.7/dist-packages (from transformers) (6.0)\n",
            "Requirement already satisfied: tqdm>=4.27 in /usr/local/lib/python3.7/dist-packages (from transformers) (4.64.0)\n",
            "Requirement already satisfied: filelock in /usr/local/lib/python3.7/dist-packages (from transformers) (3.6.0)\n",
            "Requirement already satisfied: numpy>=1.17 in /usr/local/lib/python3.7/dist-packages (from transformers) (1.21.6)\n",
            "Requirement already satisfied: regex!=2019.12.17 in /usr/local/lib/python3.7/dist-packages (from transformers) (2019.12.20)\n",
            "Requirement already satisfied: packaging>=20.0 in /usr/local/lib/python3.7/dist-packages (from transformers) (21.3)\n",
            "Requirement already satisfied: huggingface-hub<1.0,>=0.1.0 in /usr/local/lib/python3.7/dist-packages (from transformers) (0.6.0)\n",
            "Requirement already satisfied: importlib-metadata in /usr/local/lib/python3.7/dist-packages (from transformers) (4.11.3)\n",
            "Requirement already satisfied: tokenizers!=0.11.3,<0.13,>=0.11.1 in /usr/local/lib/python3.7/dist-packages (from transformers) (0.12.1)\n",
            "Requirement already satisfied: typing-extensions>=3.7.4.3 in /usr/local/lib/python3.7/dist-packages (from huggingface-hub<1.0,>=0.1.0->transformers) (4.2.0)\n",
            "Requirement already satisfied: pyparsing!=3.0.5,>=2.0.2 in /usr/local/lib/python3.7/dist-packages (from packaging>=20.0->transformers) (3.0.8)\n",
            "Requirement already satisfied: zipp>=0.5 in /usr/local/lib/python3.7/dist-packages (from importlib-metadata->transformers) (3.8.0)\n",
            "Requirement already satisfied: chardet<4,>=3.0.2 in /usr/local/lib/python3.7/dist-packages (from requests->transformers) (3.0.4)\n",
            "Requirement already satisfied: urllib3!=1.25.0,!=1.25.1,<1.26,>=1.21.1 in /usr/local/lib/python3.7/dist-packages (from requests->transformers) (1.24.3)\n",
            "Requirement already satisfied: certifi>=2017.4.17 in /usr/local/lib/python3.7/dist-packages (from requests->transformers) (2021.10.8)\n",
            "Requirement already satisfied: idna<3,>=2.5 in /usr/local/lib/python3.7/dist-packages (from requests->transformers) (2.10)\n",
            "--2022-05-16 12:31:43--  https://raw.githubusercontent.com/e9t/nsmc/master/ratings_test.txt\n",
            "Resolving raw.githubusercontent.com (raw.githubusercontent.com)... 185.199.108.133, 185.199.109.133, 185.199.110.133, ...\n",
            "Connecting to raw.githubusercontent.com (raw.githubusercontent.com)|185.199.108.133|:443... connected.\n",
            "HTTP request sent, awaiting response... 200 OK\n",
            "Length: 4893335 (4.7M) [text/plain]\n",
            "Saving to: ‘ratings_test.txt.1’\n",
            "\n",
            "ratings_test.txt.1  100%[===================>]   4.67M  --.-KB/s    in 0.08s   \n",
            "\n",
            "2022-05-16 12:31:43 (57.6 MB/s) - ‘ratings_test.txt.1’ saved [4893335/4893335]\n",
            "\n",
            "--2022-05-16 12:31:43--  https://raw.githubusercontent.com/e9t/nsmc/master/ratings_train.txt\n",
            "Resolving raw.githubusercontent.com (raw.githubusercontent.com)... 185.199.108.133, 185.199.111.133, 185.199.110.133, ...\n",
            "Connecting to raw.githubusercontent.com (raw.githubusercontent.com)|185.199.108.133|:443... connected.\n",
            "HTTP request sent, awaiting response... 200 OK\n",
            "Length: 14628807 (14M) [text/plain]\n",
            "Saving to: ‘ratings_train.txt.1’\n",
            "\n",
            "ratings_train.txt.1 100%[===================>]  13.95M  80.5MB/s    in 0.2s    \n",
            "\n",
            "2022-05-16 12:31:44 (80.5 MB/s) - ‘ratings_train.txt.1’ saved [14628807/14628807]\n",
            "\n"
          ]
        }
      ]
    },
    {
      "cell_type": "code",
      "metadata": {
        "id": "_q33PkINy4Q2",
        "colab": {
          "base_uri": "https://localhost:8080/"
        },
        "outputId": "237e471f-a284-4de7-a085-3ae312f62a40"
      },
      "source": [
        "!head ratings_train.txt\n",
        "!head ratings_test.txt"
      ],
      "execution_count": null,
      "outputs": [
        {
          "output_type": "stream",
          "name": "stdout",
          "text": [
            "id\tdocument\tlabel\n",
            "9976970\t아 더빙.. 진짜 짜증나네요 목소리\t0\n",
            "3819312\t흠...포스터보고 초딩영화줄....오버연기조차 가볍지 않구나\t1\n",
            "10265843\t너무재밓었다그래서보는것을추천한다\t0\n",
            "9045019\t교도소 이야기구먼 ..솔직히 재미는 없다..평점 조정\t0\n",
            "6483659\t사이몬페그의 익살스런 연기가 돋보였던 영화!스파이더맨에서 늙어보이기만 했던 커스틴 던스트가 너무나도 이뻐보였다\t1\n",
            "5403919\t막 걸음마 뗀 3세부터 초등학교 1학년생인 8살용영화.ㅋㅋㅋ...별반개도 아까움.\t0\n",
            "7797314\t원작의 긴장감을 제대로 살려내지못했다.\t0\n",
            "9443947\t별 반개도 아깝다 욕나온다 이응경 길용우 연기생활이몇년인지..정말 발로해도 그것보단 낫겟다 납치.감금만반복반복..이드라마는 가족도없다 연기못하는사람만모엿네\t0\n",
            "7156791\t액션이 없는데도 재미 있는 몇안되는 영화\t1\n",
            "id\tdocument\tlabel\n",
            "6270596\t굳 ㅋ\t1\n",
            "9274899\tGDNTOPCLASSINTHECLUB\t0\n",
            "8544678\t뭐야 이 평점들은.... 나쁘진 않지만 10점 짜리는 더더욱 아니잖아\t0\n",
            "6825595\t지루하지는 않은데 완전 막장임... 돈주고 보기에는....\t0\n",
            "6723715\t3D만 아니었어도 별 다섯 개 줬을텐데.. 왜 3D로 나와서 제 심기를 불편하게 하죠??\t0\n",
            "7898805\t음악이 주가 된, 최고의 음악영화\t1\n",
            "6315043\t진정한 쓰레기\t0\n",
            "6097171\t마치 미국애니에서 튀어나온듯한 창의력없는 로봇디자인부터가,고개를 젖게한다\t0\n",
            "8932678\t갈수록 개판되가는 중국영화 유치하고 내용없음 폼잡다 끝남 말도안되는 무기에 유치한cg남무 아 그립다 동사서독같은 영화가 이건 3류아류작이다\t0\n"
          ]
        }
      ]
    },
    {
      "cell_type": "code",
      "metadata": {
        "id": "-iFVHYMAwQUt"
      },
      "source": [
        "import pandas as pd\n",
        "import torch\n",
        "from torch.nn import functional as F\n",
        "from torch.utils.data import DataLoader, Dataset\n",
        "from transformers import AutoTokenizer, ElectraForSequenceClassification, AdamW\n",
        "from tqdm.notebook import tqdm"
      ],
      "execution_count": null,
      "outputs": []
    },
    {
      "cell_type": "code",
      "metadata": {
        "id": "-i7pg7DaGsxp"
      },
      "source": [
        "# GPU 사용\n",
        "device = torch.device(\"cuda\")"
      ],
      "execution_count": null,
      "outputs": []
    },
    {
      "cell_type": "markdown",
      "metadata": {
        "id": "Rq91g3bGwfeV"
      },
      "source": [
        "# Dataset 만들어서 불러오기 "
      ]
    },
    {
      "cell_type": "code",
      "metadata": {
        "id": "WZKIQNjZwdn1"
      },
      "source": [
        "class NSMCDataset(Dataset):\n",
        "  \n",
        "  def __init__(self, csv_file):\n",
        "    # 일부 값중에 NaN이 있음...\n",
        "    self.dataset = pd.read_csv(csv_file, sep='\\t').dropna(axis=0) \n",
        "    # 중복제거\n",
        "    self.dataset.drop_duplicates(subset=['document'], inplace=True)\n",
        "    self.tokenizer = AutoTokenizer.from_pretrained(\"monologg/koelectra-small-v2-discriminator\")\n",
        "\n",
        "    print(self.dataset.describe())\n",
        "  \n",
        "  def __len__(self):\n",
        "    return len(self.dataset)\n",
        "  \n",
        "  def __getitem__(self, idx):\n",
        "    row = self.dataset.iloc[idx, 1:3].values\n",
        "    text = row[0]\n",
        "    y = row[1]\n",
        "\n",
        "    inputs = self.tokenizer(\n",
        "        text, \n",
        "        return_tensors='pt',\n",
        "        truncation=True,\n",
        "        max_length=256,\n",
        "        pad_to_max_length=True,\n",
        "        add_special_tokens=True\n",
        "        )\n",
        "    \n",
        "    input_ids = inputs['input_ids'][0]\n",
        "    attention_mask = inputs['attention_mask'][0]\n",
        "\n",
        "    return input_ids, attention_mask, y"
      ],
      "execution_count": null,
      "outputs": []
    },
    {
      "cell_type": "code",
      "metadata": {
        "id": "ESSNkTcXwfUe",
        "colab": {
          "base_uri": "https://localhost:8080/"
        },
        "outputId": "ed8058b1-9eef-4848-a4f9-f76553b46cac"
      },
      "source": [
        "train_dataset = NSMCDataset(\"ratings_train.txt\")\n",
        "test_dataset = NSMCDataset(\"ratings_test.txt\")"
      ],
      "execution_count": null,
      "outputs": [
        {
          "output_type": "stream",
          "name": "stdout",
          "text": [
            "                 id          label\n",
            "count  1.461820e+05  146182.000000\n",
            "mean   6.779186e+06       0.498283\n",
            "std    2.919223e+06       0.499999\n",
            "min    3.300000e+01       0.000000\n",
            "25%    4.814832e+06       0.000000\n",
            "50%    7.581160e+06       0.000000\n",
            "75%    9.274760e+06       1.000000\n",
            "max    1.027815e+07       1.000000\n",
            "                 id         label\n",
            "count  4.915700e+04  49157.000000\n",
            "mean   6.752945e+06      0.502695\n",
            "std    2.937158e+06      0.499998\n",
            "min    6.010000e+02      0.000000\n",
            "25%    4.777143e+06      0.000000\n",
            "50%    7.565415e+06      1.000000\n",
            "75%    9.260204e+06      1.000000\n",
            "max    1.027809e+07      1.000000\n"
          ]
        }
      ]
    },
    {
      "cell_type": "markdown",
      "metadata": {
        "id": "vJiAJPUDz40W"
      },
      "source": [
        "# Create Model"
      ]
    },
    {
      "cell_type": "code",
      "metadata": {
        "id": "f7-jRPQXz2r5",
        "colab": {
          "base_uri": "https://localhost:8080/"
        },
        "outputId": "f2c4658b-7ca8-42d3-a35e-cca08832196e"
      },
      "source": [
        "model = ElectraForSequenceClassification.from_pretrained(\"monologg/koelectra-base-v3-discriminator\").to(device)\n",
        "\n",
        "# 한번 실행해보기\n",
        "# text, attention_mask, y = train_dataset[0]\n",
        "# model(text.unsqueeze(0).to(device), attention_mask=attention_mask.unsqueeze(0).to(device))"
      ],
      "execution_count": null,
      "outputs": [
        {
          "output_type": "stream",
          "name": "stderr",
          "text": [
            "Some weights of the model checkpoint at monologg/koelectra-base-v3-discriminator were not used when initializing ElectraForSequenceClassification: ['discriminator_predictions.dense.bias', 'discriminator_predictions.dense_prediction.bias', 'discriminator_predictions.dense_prediction.weight', 'discriminator_predictions.dense.weight']\n",
            "- This IS expected if you are initializing ElectraForSequenceClassification from the checkpoint of a model trained on another task or with another architecture (e.g. initializing a BertForSequenceClassification model from a BertForPreTraining model).\n",
            "- This IS NOT expected if you are initializing ElectraForSequenceClassification from the checkpoint of a model that you expect to be exactly identical (initializing a BertForSequenceClassification model from a BertForSequenceClassification model).\n",
            "Some weights of ElectraForSequenceClassification were not initialized from the model checkpoint at monologg/koelectra-base-v3-discriminator and are newly initialized: ['classifier.out_proj.weight', 'classifier.dense.weight', 'classifier.dense.bias', 'classifier.out_proj.bias']\n",
            "You should probably TRAIN this model on a down-stream task to be able to use it for predictions and inference.\n"
          ]
        }
      ]
    },
    {
      "cell_type": "code",
      "metadata": {
        "id": "edb0aIFaXr4D",
        "colab": {
          "base_uri": "https://localhost:8080/",
          "height": 327
        },
        "outputId": "f5cc1011-ddc5-4e48-bb07-eb38c1732335"
      },
      "source": [
        "model.load_state_dict(torch.load(\"model.pt\"))"
      ],
      "execution_count": null,
      "outputs": [
        {
          "output_type": "error",
          "ename": "FileNotFoundError",
          "evalue": "ignored",
          "traceback": [
            "\u001b[0;31m---------------------------------------------------------------------------\u001b[0m",
            "\u001b[0;31mFileNotFoundError\u001b[0m                         Traceback (most recent call last)",
            "\u001b[0;32m<ipython-input-8-92bba1eb9395>\u001b[0m in \u001b[0;36m<module>\u001b[0;34m()\u001b[0m\n\u001b[0;32m----> 1\u001b[0;31m \u001b[0mmodel\u001b[0m\u001b[0;34m.\u001b[0m\u001b[0mload_state_dict\u001b[0m\u001b[0;34m(\u001b[0m\u001b[0mtorch\u001b[0m\u001b[0;34m.\u001b[0m\u001b[0mload\u001b[0m\u001b[0;34m(\u001b[0m\u001b[0;34m\"model.pt\"\u001b[0m\u001b[0;34m)\u001b[0m\u001b[0;34m)\u001b[0m\u001b[0;34m\u001b[0m\u001b[0;34m\u001b[0m\u001b[0m\n\u001b[0m",
            "\u001b[0;32m/usr/local/lib/python3.7/dist-packages/torch/serialization.py\u001b[0m in \u001b[0;36mload\u001b[0;34m(f, map_location, pickle_module, **pickle_load_args)\u001b[0m\n\u001b[1;32m    697\u001b[0m         \u001b[0mpickle_load_args\u001b[0m\u001b[0;34m[\u001b[0m\u001b[0;34m'encoding'\u001b[0m\u001b[0;34m]\u001b[0m \u001b[0;34m=\u001b[0m \u001b[0;34m'utf-8'\u001b[0m\u001b[0;34m\u001b[0m\u001b[0;34m\u001b[0m\u001b[0m\n\u001b[1;32m    698\u001b[0m \u001b[0;34m\u001b[0m\u001b[0m\n\u001b[0;32m--> 699\u001b[0;31m     \u001b[0;32mwith\u001b[0m \u001b[0m_open_file_like\u001b[0m\u001b[0;34m(\u001b[0m\u001b[0mf\u001b[0m\u001b[0;34m,\u001b[0m \u001b[0;34m'rb'\u001b[0m\u001b[0;34m)\u001b[0m \u001b[0;32mas\u001b[0m \u001b[0mopened_file\u001b[0m\u001b[0;34m:\u001b[0m\u001b[0;34m\u001b[0m\u001b[0;34m\u001b[0m\u001b[0m\n\u001b[0m\u001b[1;32m    700\u001b[0m         \u001b[0;32mif\u001b[0m \u001b[0m_is_zipfile\u001b[0m\u001b[0;34m(\u001b[0m\u001b[0mopened_file\u001b[0m\u001b[0;34m)\u001b[0m\u001b[0;34m:\u001b[0m\u001b[0;34m\u001b[0m\u001b[0;34m\u001b[0m\u001b[0m\n\u001b[1;32m    701\u001b[0m             \u001b[0;31m# The zipfile reader is going to advance the current file position.\u001b[0m\u001b[0;34m\u001b[0m\u001b[0;34m\u001b[0m\u001b[0;34m\u001b[0m\u001b[0m\n",
            "\u001b[0;32m/usr/local/lib/python3.7/dist-packages/torch/serialization.py\u001b[0m in \u001b[0;36m_open_file_like\u001b[0;34m(name_or_buffer, mode)\u001b[0m\n\u001b[1;32m    229\u001b[0m \u001b[0;32mdef\u001b[0m \u001b[0m_open_file_like\u001b[0m\u001b[0;34m(\u001b[0m\u001b[0mname_or_buffer\u001b[0m\u001b[0;34m,\u001b[0m \u001b[0mmode\u001b[0m\u001b[0;34m)\u001b[0m\u001b[0;34m:\u001b[0m\u001b[0;34m\u001b[0m\u001b[0;34m\u001b[0m\u001b[0m\n\u001b[1;32m    230\u001b[0m     \u001b[0;32mif\u001b[0m \u001b[0m_is_path\u001b[0m\u001b[0;34m(\u001b[0m\u001b[0mname_or_buffer\u001b[0m\u001b[0;34m)\u001b[0m\u001b[0;34m:\u001b[0m\u001b[0;34m\u001b[0m\u001b[0;34m\u001b[0m\u001b[0m\n\u001b[0;32m--> 231\u001b[0;31m         \u001b[0;32mreturn\u001b[0m \u001b[0m_open_file\u001b[0m\u001b[0;34m(\u001b[0m\u001b[0mname_or_buffer\u001b[0m\u001b[0;34m,\u001b[0m \u001b[0mmode\u001b[0m\u001b[0;34m)\u001b[0m\u001b[0;34m\u001b[0m\u001b[0;34m\u001b[0m\u001b[0m\n\u001b[0m\u001b[1;32m    232\u001b[0m     \u001b[0;32melse\u001b[0m\u001b[0;34m:\u001b[0m\u001b[0;34m\u001b[0m\u001b[0;34m\u001b[0m\u001b[0m\n\u001b[1;32m    233\u001b[0m         \u001b[0;32mif\u001b[0m \u001b[0;34m'w'\u001b[0m \u001b[0;32min\u001b[0m \u001b[0mmode\u001b[0m\u001b[0;34m:\u001b[0m\u001b[0;34m\u001b[0m\u001b[0;34m\u001b[0m\u001b[0m\n",
            "\u001b[0;32m/usr/local/lib/python3.7/dist-packages/torch/serialization.py\u001b[0m in \u001b[0;36m__init__\u001b[0;34m(self, name, mode)\u001b[0m\n\u001b[1;32m    210\u001b[0m \u001b[0;32mclass\u001b[0m \u001b[0m_open_file\u001b[0m\u001b[0;34m(\u001b[0m\u001b[0m_opener\u001b[0m\u001b[0;34m)\u001b[0m\u001b[0;34m:\u001b[0m\u001b[0;34m\u001b[0m\u001b[0;34m\u001b[0m\u001b[0m\n\u001b[1;32m    211\u001b[0m     \u001b[0;32mdef\u001b[0m \u001b[0m__init__\u001b[0m\u001b[0;34m(\u001b[0m\u001b[0mself\u001b[0m\u001b[0;34m,\u001b[0m \u001b[0mname\u001b[0m\u001b[0;34m,\u001b[0m \u001b[0mmode\u001b[0m\u001b[0;34m)\u001b[0m\u001b[0;34m:\u001b[0m\u001b[0;34m\u001b[0m\u001b[0;34m\u001b[0m\u001b[0m\n\u001b[0;32m--> 212\u001b[0;31m         \u001b[0msuper\u001b[0m\u001b[0;34m(\u001b[0m\u001b[0m_open_file\u001b[0m\u001b[0;34m,\u001b[0m \u001b[0mself\u001b[0m\u001b[0;34m)\u001b[0m\u001b[0;34m.\u001b[0m\u001b[0m__init__\u001b[0m\u001b[0;34m(\u001b[0m\u001b[0mopen\u001b[0m\u001b[0;34m(\u001b[0m\u001b[0mname\u001b[0m\u001b[0;34m,\u001b[0m \u001b[0mmode\u001b[0m\u001b[0;34m)\u001b[0m\u001b[0;34m)\u001b[0m\u001b[0;34m\u001b[0m\u001b[0;34m\u001b[0m\u001b[0m\n\u001b[0m\u001b[1;32m    213\u001b[0m \u001b[0;34m\u001b[0m\u001b[0m\n\u001b[1;32m    214\u001b[0m     \u001b[0;32mdef\u001b[0m \u001b[0m__exit__\u001b[0m\u001b[0;34m(\u001b[0m\u001b[0mself\u001b[0m\u001b[0;34m,\u001b[0m \u001b[0;34m*\u001b[0m\u001b[0margs\u001b[0m\u001b[0;34m)\u001b[0m\u001b[0;34m:\u001b[0m\u001b[0;34m\u001b[0m\u001b[0;34m\u001b[0m\u001b[0m\n",
            "\u001b[0;31mFileNotFoundError\u001b[0m: [Errno 2] No such file or directory: 'model.pt'"
          ]
        }
      ]
    },
    {
      "cell_type": "code",
      "metadata": {
        "id": "Dp6x4GHtz46u"
      },
      "source": [
        "# 모델 레이어 보기\n",
        "model"
      ],
      "execution_count": null,
      "outputs": []
    },
    {
      "cell_type": "markdown",
      "metadata": {
        "id": "wmou0LFl0R_X"
      },
      "source": [
        "# Learn"
      ]
    },
    {
      "cell_type": "code",
      "metadata": {
        "id": "6NpXwESN0Q4h"
      },
      "source": [
        "epochs = 5\n",
        "batch_size = 16"
      ],
      "execution_count": null,
      "outputs": []
    },
    {
      "cell_type": "code",
      "metadata": {
        "id": "XPzxoo4H274J",
        "colab": {
          "base_uri": "https://localhost:8080/"
        },
        "outputId": "83472ecc-2710-4382-be38-ca12dfb946a1"
      },
      "source": [
        "optimizer = AdamW(model.parameters(), lr=5e-6)\n",
        "train_loader = DataLoader(train_dataset, batch_size=batch_size, shuffle=True)\n",
        "test_loader = DataLoader(test_dataset, batch_size=16, shuffle=True)"
      ],
      "execution_count": null,
      "outputs": [
        {
          "output_type": "stream",
          "name": "stderr",
          "text": [
            "/usr/local/lib/python3.7/dist-packages/transformers/optimization.py:309: FutureWarning: This implementation of AdamW is deprecated and will be removed in a future version. Use the PyTorch implementation torch.optim.AdamW instead, or set `no_deprecation_warning=True` to disable this warning\n",
            "  FutureWarning,\n"
          ]
        }
      ]
    },
    {
      "cell_type": "code",
      "metadata": {
        "id": "M-BRNeE226HH",
        "colab": {
          "base_uri": "https://localhost:8080/",
          "height": 1000,
          "referenced_widgets": [
            "84a425ec50994bf7acf63e260c6aa5a4",
            "bc5563429962477ab3573a6dc17a8477",
            "6b979ca2039a430e807a8a974f2f99d3",
            "fdc9b1de756249d191e9c45c22238670",
            "79abd0500e62425296021c18e14d7259",
            "5267a9bbbf5c412e8ef4983de5c7b96e",
            "cf9c560129cc480db0e41cf7536cb83e",
            "c18ed2c63a284c45aa3fa243a1aff254",
            "b9e3841828044554a8c75ce40f1abcfb",
            "695c6b22dca24bbf83d9e591657874ec",
            "731205a5e4174bb39298f5b37a2c87ce",
            "255c903364b342729efe39e2ec7ba0bb",
            "ce86abe96205455fb27e91396223c484",
            "8673169b3a8342d7beb6cb904473d91a",
            "12b3020622cc4b47b631fba0f1625c66",
            "3dc946d6421d42db9364ec98f87db6ad",
            "f9ac42f4092940589df2954a716c679b",
            "121753339f69407abce5958d09a9d8a7",
            "a577be5d6dd5463682364e70f7567449",
            "957f01db9e5a438d93f6af24390f4f40",
            "fdb99ce1b31d40f7aff05ddbc4165b3e",
            "a8ce37b695a84478909beea6f7962ec3",
            "b83ec3e4dd2a49d4b933514534d09acd",
            "959e316a317e40ee9007cd6a526ccb90",
            "7a7e1fd36fcb4d39b6a6ac3b8a4f1654",
            "743ab14df76842a4981dcaef70222ca0",
            "b38f327ad26c412a8731fd32a9e4394c",
            "1f4983217d9b411386ada52150a5f0ee",
            "7b1948e34d7e47379bb8ac41668f7156",
            "8c3c1d56643647efba4aa9abaace958a",
            "8040d819bf46447f8f761a9d522a5649",
            "83c6f87a2dd8402f97300a4a6eac5d92",
            "9ed44d9a8ea54173b3f533f01e623fde"
          ]
        },
        "outputId": "7cb116f7-b1b9-4ea0-a64e-1b1aafca0ada"
      },
      "source": [
        "losses = []\n",
        "accuracies = []\n",
        "\n",
        "for i in range(epochs):\n",
        "  total_loss = 0.0\n",
        "  correct = 0\n",
        "  total = 0\n",
        "  batches = 0\n",
        "\n",
        "  model.train()\n",
        "\n",
        "  for input_ids_batch, attention_masks_batch, y_batch in tqdm(train_loader):\n",
        "    optimizer.zero_grad()\n",
        "    y_batch = y_batch.to(device)\n",
        "    y_pred = model(input_ids_batch.to(device), attention_mask=attention_masks_batch.to(device))[0]\n",
        "    loss = F.cross_entropy(y_pred, y_batch)\n",
        "    loss.backward()\n",
        "    optimizer.step()\n",
        "\n",
        "    total_loss += loss.item()\n",
        "\n",
        "    _, predicted = torch.max(y_pred, 1)\n",
        "    correct += (predicted == y_batch).sum()\n",
        "    total += len(y_batch)\n",
        "\n",
        "    batches += 1\n",
        "    if batches % 100 == 0:\n",
        "      print(\"Batch Loss:\", total_loss, \"Accuracy:\", correct.float() / total)\n",
        "  \n",
        "  losses.append(total_loss)\n",
        "  accuracies.append(correct.float() / total)\n",
        "  print(\"Train Loss:\", total_loss, \"Accuracy:\", correct.float() / total)"
      ],
      "execution_count": null,
      "outputs": [
        {
          "output_type": "display_data",
          "data": {
            "text/plain": [
              "  0%|          | 0/9137 [00:00<?, ?it/s]"
            ],
            "application/vnd.jupyter.widget-view+json": {
              "version_major": 2,
              "version_minor": 0,
              "model_id": "84a425ec50994bf7acf63e260c6aa5a4"
            }
          },
          "metadata": {}
        },
        {
          "output_type": "stream",
          "name": "stderr",
          "text": [
            "/usr/local/lib/python3.7/dist-packages/transformers/tokenization_utils_base.py:2291: FutureWarning: The `pad_to_max_length` argument is deprecated and will be removed in a future version, use `padding=True` or `padding='longest'` to pad to the longest sequence in the batch, or use `padding='max_length'` to pad to a max length. In this case, you can give a specific length with `max_length` (e.g. `max_length=45`) or leave max_length to None to pad to the maximal input size of the model (e.g. 512 for Bert).\n",
            "  FutureWarning,\n"
          ]
        },
        {
          "output_type": "stream",
          "name": "stdout",
          "text": [
            "Batch Loss: 69.20447504520416 Accuracy: tensor(0.5150, device='cuda:0')\n",
            "Batch Loss: 138.25060606002808 Accuracy: tensor(0.5259, device='cuda:0')\n",
            "Batch Loss: 206.72395318746567 Accuracy: tensor(0.5379, device='cuda:0')\n",
            "Batch Loss: 274.3099235892296 Accuracy: tensor(0.5480, device='cuda:0')\n",
            "Batch Loss: 339.8695189356804 Accuracy: tensor(0.5604, device='cuda:0')\n",
            "Batch Loss: 404.2079871892929 Accuracy: tensor(0.5718, device='cuda:0')\n",
            "Batch Loss: 467.7221958935261 Accuracy: tensor(0.5835, device='cuda:0')\n",
            "Batch Loss: 528.9588233828545 Accuracy: tensor(0.5946, device='cuda:0')\n",
            "Batch Loss: 589.842657327652 Accuracy: tensor(0.6026, device='cuda:0')\n",
            "Batch Loss: 650.7022848725319 Accuracy: tensor(0.6092, device='cuda:0')\n",
            "Batch Loss: 710.8449636101723 Accuracy: tensor(0.6141, device='cuda:0')\n",
            "Batch Loss: 770.1475127637386 Accuracy: tensor(0.6199, device='cuda:0')\n",
            "Batch Loss: 825.6692996025085 Accuracy: tensor(0.6275, device='cuda:0')\n",
            "Batch Loss: 882.9218274354935 Accuracy: tensor(0.6328, device='cuda:0')\n",
            "Batch Loss: 938.3349861502647 Accuracy: tensor(0.6383, device='cuda:0')\n",
            "Batch Loss: 992.619301378727 Accuracy: tensor(0.6441, device='cuda:0')\n",
            "Batch Loss: 1048.2910436093807 Accuracy: tensor(0.6483, device='cuda:0')\n",
            "Batch Loss: 1103.5212928056717 Accuracy: tensor(0.6518, device='cuda:0')\n",
            "Batch Loss: 1157.175133049488 Accuracy: tensor(0.6558, device='cuda:0')\n",
            "Batch Loss: 1212.1185001432896 Accuracy: tensor(0.6591, device='cuda:0')\n",
            "Batch Loss: 1263.7617036402225 Accuracy: tensor(0.6629, device='cuda:0')\n",
            "Batch Loss: 1317.790919482708 Accuracy: tensor(0.6652, device='cuda:0')\n",
            "Batch Loss: 1371.5812745392323 Accuracy: tensor(0.6677, device='cuda:0')\n",
            "Batch Loss: 1422.398276001215 Accuracy: tensor(0.6706, device='cuda:0')\n",
            "Batch Loss: 1474.9841310977936 Accuracy: tensor(0.6725, device='cuda:0')\n",
            "Batch Loss: 1528.7893995344639 Accuracy: tensor(0.6746, device='cuda:0')\n",
            "Batch Loss: 1581.9469080865383 Accuracy: tensor(0.6766, device='cuda:0')\n",
            "Batch Loss: 1631.4131272137165 Accuracy: tensor(0.6792, device='cuda:0')\n",
            "Batch Loss: 1682.3746816515923 Accuracy: tensor(0.6814, device='cuda:0')\n",
            "Batch Loss: 1732.975157827139 Accuracy: tensor(0.6839, device='cuda:0')\n",
            "Batch Loss: 1783.384948194027 Accuracy: tensor(0.6861, device='cuda:0')\n",
            "Batch Loss: 1832.8982522934675 Accuracy: tensor(0.6880, device='cuda:0')\n",
            "Batch Loss: 1883.3969301134348 Accuracy: tensor(0.6896, device='cuda:0')\n",
            "Batch Loss: 1931.7003791332245 Accuracy: tensor(0.6920, device='cuda:0')\n",
            "Batch Loss: 1981.1196659058332 Accuracy: tensor(0.6939, device='cuda:0')\n",
            "Batch Loss: 2027.420267611742 Accuracy: tensor(0.6964, device='cuda:0')\n",
            "Batch Loss: 2075.5484442561865 Accuracy: tensor(0.6981, device='cuda:0')\n",
            "Batch Loss: 2123.0379729419947 Accuracy: tensor(0.7000, device='cuda:0')\n",
            "Batch Loss: 2172.149675577879 Accuracy: tensor(0.7014, device='cuda:0')\n",
            "Batch Loss: 2219.4170410633087 Accuracy: tensor(0.7033, device='cuda:0')\n",
            "Batch Loss: 2266.7985296994448 Accuracy: tensor(0.7051, device='cuda:0')\n",
            "Batch Loss: 2313.5989125669003 Accuracy: tensor(0.7067, device='cuda:0')\n",
            "Batch Loss: 2361.9178622066975 Accuracy: tensor(0.7081, device='cuda:0')\n",
            "Batch Loss: 2410.930963858962 Accuracy: tensor(0.7093, device='cuda:0')\n",
            "Batch Loss: 2454.999906539917 Accuracy: tensor(0.7112, device='cuda:0')\n",
            "Batch Loss: 2501.1125799417496 Accuracy: tensor(0.7128, device='cuda:0')\n",
            "Batch Loss: 2548.415624886751 Accuracy: tensor(0.7140, device='cuda:0')\n",
            "Batch Loss: 2594.584495693445 Accuracy: tensor(0.7153, device='cuda:0')\n",
            "Batch Loss: 2640.409350171685 Accuracy: tensor(0.7165, device='cuda:0')\n",
            "Batch Loss: 2686.0508043169975 Accuracy: tensor(0.7175, device='cuda:0')\n",
            "Batch Loss: 2732.1753197163343 Accuracy: tensor(0.7188, device='cuda:0')\n",
            "Batch Loss: 2780.968313202262 Accuracy: tensor(0.7198, device='cuda:0')\n",
            "Batch Loss: 2826.9537544846535 Accuracy: tensor(0.7210, device='cuda:0')\n",
            "Batch Loss: 2872.0922845453024 Accuracy: tensor(0.7221, device='cuda:0')\n",
            "Batch Loss: 2915.577902048826 Accuracy: tensor(0.7236, device='cuda:0')\n",
            "Batch Loss: 2960.8137977719307 Accuracy: tensor(0.7246, device='cuda:0')\n",
            "Batch Loss: 3004.45148268342 Accuracy: tensor(0.7258, device='cuda:0')\n",
            "Batch Loss: 3051.559923991561 Accuracy: tensor(0.7267, device='cuda:0')\n",
            "Batch Loss: 3095.2239422798157 Accuracy: tensor(0.7276, device='cuda:0')\n",
            "Batch Loss: 3142.27504850924 Accuracy: tensor(0.7285, device='cuda:0')\n",
            "Batch Loss: 3187.535902813077 Accuracy: tensor(0.7294, device='cuda:0')\n",
            "Batch Loss: 3232.4396469146013 Accuracy: tensor(0.7302, device='cuda:0')\n",
            "Batch Loss: 3276.0660128593445 Accuracy: tensor(0.7311, device='cuda:0')\n",
            "Batch Loss: 3320.451595827937 Accuracy: tensor(0.7321, device='cuda:0')\n",
            "Batch Loss: 3365.1138201206923 Accuracy: tensor(0.7327, device='cuda:0')\n",
            "Batch Loss: 3408.427024766803 Accuracy: tensor(0.7335, device='cuda:0')\n",
            "Batch Loss: 3452.544868901372 Accuracy: tensor(0.7344, device='cuda:0')\n",
            "Batch Loss: 3494.580057770014 Accuracy: tensor(0.7352, device='cuda:0')\n",
            "Batch Loss: 3538.4256217181683 Accuracy: tensor(0.7361, device='cuda:0')\n",
            "Batch Loss: 3582.7179116159678 Accuracy: tensor(0.7367, device='cuda:0')\n",
            "Batch Loss: 3624.818555548787 Accuracy: tensor(0.7378, device='cuda:0')\n",
            "Batch Loss: 3667.929131627083 Accuracy: tensor(0.7386, device='cuda:0')\n",
            "Batch Loss: 3712.1806698441505 Accuracy: tensor(0.7394, device='cuda:0')\n",
            "Batch Loss: 3755.241483181715 Accuracy: tensor(0.7402, device='cuda:0')\n",
            "Batch Loss: 3799.848401412368 Accuracy: tensor(0.7407, device='cuda:0')\n",
            "Batch Loss: 3843.4850375801325 Accuracy: tensor(0.7415, device='cuda:0')\n",
            "Batch Loss: 3884.186922594905 Accuracy: tensor(0.7424, device='cuda:0')\n",
            "Batch Loss: 3925.0826711952686 Accuracy: tensor(0.7433, device='cuda:0')\n",
            "Batch Loss: 3968.0742571800947 Accuracy: tensor(0.7440, device='cuda:0')\n",
            "Batch Loss: 4011.8022526800632 Accuracy: tensor(0.7446, device='cuda:0')\n",
            "Batch Loss: 4054.6605561226606 Accuracy: tensor(0.7452, device='cuda:0')\n",
            "Batch Loss: 4096.846199840307 Accuracy: tensor(0.7458, device='cuda:0')\n",
            "Batch Loss: 4142.110143393278 Accuracy: tensor(0.7462, device='cuda:0')\n",
            "Batch Loss: 4184.719373136759 Accuracy: tensor(0.7470, device='cuda:0')\n",
            "Batch Loss: 4226.902000665665 Accuracy: tensor(0.7477, device='cuda:0')\n",
            "Batch Loss: 4268.168906882405 Accuracy: tensor(0.7483, device='cuda:0')\n",
            "Batch Loss: 4308.842681586742 Accuracy: tensor(0.7492, device='cuda:0')\n",
            "Batch Loss: 4351.4963439852 Accuracy: tensor(0.7497, device='cuda:0')\n",
            "Batch Loss: 4391.436582013965 Accuracy: tensor(0.7503, device='cuda:0')\n",
            "Batch Loss: 4433.205829784274 Accuracy: tensor(0.7510, device='cuda:0')\n",
            "Batch Loss: 4473.28116504848 Accuracy: tensor(0.7518, device='cuda:0')\n",
            "Train Loss: 4486.768018454313 Accuracy: tensor(0.7521, device='cuda:0')\n"
          ]
        },
        {
          "output_type": "display_data",
          "data": {
            "text/plain": [
              "  0%|          | 0/9137 [00:00<?, ?it/s]"
            ],
            "application/vnd.jupyter.widget-view+json": {
              "version_major": 2,
              "version_minor": 0,
              "model_id": "255c903364b342729efe39e2ec7ba0bb"
            }
          },
          "metadata": {}
        },
        {
          "output_type": "stream",
          "name": "stdout",
          "text": [
            "Batch Loss: 39.73946642130613 Accuracy: tensor(0.8119, device='cuda:0')\n",
            "Batch Loss: 78.82442361861467 Accuracy: tensor(0.8225, device='cuda:0')\n",
            "Batch Loss: 118.9460252597928 Accuracy: tensor(0.8177, device='cuda:0')\n",
            "Batch Loss: 159.16261402517557 Accuracy: tensor(0.8202, device='cuda:0')\n",
            "Batch Loss: 196.395938269794 Accuracy: tensor(0.8224, device='cuda:0')\n",
            "Batch Loss: 237.83962524682283 Accuracy: tensor(0.8196, device='cuda:0')\n",
            "Batch Loss: 277.20836628228426 Accuracy: tensor(0.8200, device='cuda:0')\n",
            "Batch Loss: 313.7875456660986 Accuracy: tensor(0.8227, device='cuda:0')\n",
            "Batch Loss: 352.5112458765507 Accuracy: tensor(0.8226, device='cuda:0')\n",
            "Batch Loss: 389.48197843134403 Accuracy: tensor(0.8234, device='cuda:0')\n",
            "Batch Loss: 427.7793712615967 Accuracy: tensor(0.8239, device='cuda:0')\n",
            "Batch Loss: 464.11392222344875 Accuracy: tensor(0.8244, device='cuda:0')\n",
            "Batch Loss: 504.3683425039053 Accuracy: tensor(0.8232, device='cuda:0')\n",
            "Batch Loss: 542.9689768254757 Accuracy: tensor(0.8234, device='cuda:0')\n",
            "Batch Loss: 581.235022932291 Accuracy: tensor(0.8240, device='cuda:0')\n",
            "Batch Loss: 622.410194799304 Accuracy: tensor(0.8235, device='cuda:0')\n",
            "Batch Loss: 661.2094424441457 Accuracy: tensor(0.8239, device='cuda:0')\n",
            "Batch Loss: 701.4228964522481 Accuracy: tensor(0.8230, device='cuda:0')\n",
            "Batch Loss: 740.3417732194066 Accuracy: tensor(0.8228, device='cuda:0')\n",
            "Batch Loss: 779.1367077156901 Accuracy: tensor(0.8229, device='cuda:0')\n",
            "Batch Loss: 818.5621509552002 Accuracy: tensor(0.8229, device='cuda:0')\n",
            "Batch Loss: 859.2898843586445 Accuracy: tensor(0.8222, device='cuda:0')\n",
            "Batch Loss: 896.7524596452713 Accuracy: tensor(0.8220, device='cuda:0')\n",
            "Batch Loss: 933.7774877846241 Accuracy: tensor(0.8226, device='cuda:0')\n",
            "Batch Loss: 972.5318422317505 Accuracy: tensor(0.8227, device='cuda:0')\n",
            "Batch Loss: 1010.7111897468567 Accuracy: tensor(0.8231, device='cuda:0')\n",
            "Batch Loss: 1050.5371000915766 Accuracy: tensor(0.8229, device='cuda:0')\n",
            "Batch Loss: 1087.4657841846347 Accuracy: tensor(0.8233, device='cuda:0')\n",
            "Batch Loss: 1125.7854081764817 Accuracy: tensor(0.8235, device='cuda:0')\n",
            "Batch Loss: 1161.061370357871 Accuracy: tensor(0.8242, device='cuda:0')\n",
            "Batch Loss: 1199.3515654802322 Accuracy: tensor(0.8242, device='cuda:0')\n",
            "Batch Loss: 1237.9395091831684 Accuracy: tensor(0.8239, device='cuda:0')\n",
            "Batch Loss: 1275.2026271522045 Accuracy: tensor(0.8243, device='cuda:0')\n",
            "Batch Loss: 1314.9683548361063 Accuracy: tensor(0.8243, device='cuda:0')\n",
            "Batch Loss: 1350.5134961679578 Accuracy: tensor(0.8247, device='cuda:0')\n",
            "Batch Loss: 1389.8639726042747 Accuracy: tensor(0.8248, device='cuda:0')\n",
            "Batch Loss: 1426.7051116079092 Accuracy: tensor(0.8251, device='cuda:0')\n",
            "Batch Loss: 1464.2517999112606 Accuracy: tensor(0.8251, device='cuda:0')\n",
            "Batch Loss: 1503.4261381849647 Accuracy: tensor(0.8249, device='cuda:0')\n",
            "Batch Loss: 1541.6072147786617 Accuracy: tensor(0.8249, device='cuda:0')\n",
            "Batch Loss: 1575.3087022677064 Accuracy: tensor(0.8256, device='cuda:0')\n",
            "Batch Loss: 1611.5087632462382 Accuracy: tensor(0.8257, device='cuda:0')\n",
            "Batch Loss: 1649.2396489307284 Accuracy: tensor(0.8259, device='cuda:0')\n",
            "Batch Loss: 1686.1156182065606 Accuracy: tensor(0.8259, device='cuda:0')\n",
            "Batch Loss: 1724.2449971809983 Accuracy: tensor(0.8257, device='cuda:0')\n",
            "Batch Loss: 1760.8611240573227 Accuracy: tensor(0.8260, device='cuda:0')\n",
            "Batch Loss: 1798.4970573820174 Accuracy: tensor(0.8260, device='cuda:0')\n",
            "Batch Loss: 1834.9396213926375 Accuracy: tensor(0.8261, device='cuda:0')\n",
            "Batch Loss: 1873.1197089739144 Accuracy: tensor(0.8259, device='cuda:0')\n",
            "Batch Loss: 1911.3398591168225 Accuracy: tensor(0.8258, device='cuda:0')\n",
            "Batch Loss: 1947.9896467737854 Accuracy: tensor(0.8258, device='cuda:0')\n",
            "Batch Loss: 1987.2505747191608 Accuracy: tensor(0.8256, device='cuda:0')\n",
            "Batch Loss: 2025.2020892314613 Accuracy: tensor(0.8255, device='cuda:0')\n",
            "Batch Loss: 2060.5891189686954 Accuracy: tensor(0.8256, device='cuda:0')\n",
            "Batch Loss: 2098.554921645671 Accuracy: tensor(0.8256, device='cuda:0')\n",
            "Batch Loss: 2136.513525146991 Accuracy: tensor(0.8256, device='cuda:0')\n",
            "Batch Loss: 2171.593889411539 Accuracy: tensor(0.8260, device='cuda:0')\n",
            "Batch Loss: 2208.2237072475255 Accuracy: tensor(0.8261, device='cuda:0')\n",
            "Batch Loss: 2246.6944284774363 Accuracy: tensor(0.8261, device='cuda:0')\n",
            "Batch Loss: 2284.121132981032 Accuracy: tensor(0.8262, device='cuda:0')\n",
            "Batch Loss: 2319.9734875150025 Accuracy: tensor(0.8265, device='cuda:0')\n",
            "Batch Loss: 2358.183234307915 Accuracy: tensor(0.8266, device='cuda:0')\n",
            "Batch Loss: 2395.436474647373 Accuracy: tensor(0.8267, device='cuda:0')\n",
            "Batch Loss: 2431.8413120247424 Accuracy: tensor(0.8269, device='cuda:0')\n",
            "Batch Loss: 2469.5515491254628 Accuracy: tensor(0.8270, device='cuda:0')\n",
            "Batch Loss: 2506.6533857919276 Accuracy: tensor(0.8271, device='cuda:0')\n",
            "Batch Loss: 2544.299060050398 Accuracy: tensor(0.8272, device='cuda:0')\n",
            "Batch Loss: 2579.7227100245655 Accuracy: tensor(0.8274, device='cuda:0')\n",
            "Batch Loss: 2617.345008868724 Accuracy: tensor(0.8275, device='cuda:0')\n",
            "Batch Loss: 2654.8678456433117 Accuracy: tensor(0.8275, device='cuda:0')\n",
            "Batch Loss: 2690.2698138318956 Accuracy: tensor(0.8276, device='cuda:0')\n",
            "Batch Loss: 2724.5793128870428 Accuracy: tensor(0.8279, device='cuda:0')\n",
            "Batch Loss: 2761.5478122346103 Accuracy: tensor(0.8279, device='cuda:0')\n",
            "Batch Loss: 2799.3227120153606 Accuracy: tensor(0.8280, device='cuda:0')\n",
            "Batch Loss: 2836.0793940387666 Accuracy: tensor(0.8281, device='cuda:0')\n",
            "Batch Loss: 2873.8059082888067 Accuracy: tensor(0.8282, device='cuda:0')\n",
            "Batch Loss: 2910.306144233793 Accuracy: tensor(0.8283, device='cuda:0')\n",
            "Batch Loss: 2944.925332952291 Accuracy: tensor(0.8284, device='cuda:0')\n",
            "Batch Loss: 2984.1542466171086 Accuracy: tensor(0.8282, device='cuda:0')\n",
            "Batch Loss: 3020.0710612125695 Accuracy: tensor(0.8283, device='cuda:0')\n",
            "Batch Loss: 3056.9343306459486 Accuracy: tensor(0.8284, device='cuda:0')\n",
            "Batch Loss: 3094.0971993394196 Accuracy: tensor(0.8284, device='cuda:0')\n",
            "Batch Loss: 3131.1126024387777 Accuracy: tensor(0.8284, device='cuda:0')\n",
            "Batch Loss: 3168.7561040334404 Accuracy: tensor(0.8283, device='cuda:0')\n",
            "Batch Loss: 3207.7051875703037 Accuracy: tensor(0.8281, device='cuda:0')\n",
            "Batch Loss: 3240.506671372801 Accuracy: tensor(0.8285, device='cuda:0')\n",
            "Batch Loss: 3276.9898351468146 Accuracy: tensor(0.8286, device='cuda:0')\n",
            "Batch Loss: 3314.4432119615376 Accuracy: tensor(0.8286, device='cuda:0')\n",
            "Batch Loss: 3352.1969254650176 Accuracy: tensor(0.8287, device='cuda:0')\n",
            "Batch Loss: 3387.0257778279483 Accuracy: tensor(0.8290, device='cuda:0')\n",
            "Batch Loss: 3425.7450047321618 Accuracy: tensor(0.8290, device='cuda:0')\n",
            "Train Loss: 3440.324379120022 Accuracy: tensor(0.8290, device='cuda:0')\n"
          ]
        },
        {
          "output_type": "display_data",
          "data": {
            "text/plain": [
              "  0%|          | 0/9137 [00:00<?, ?it/s]"
            ],
            "application/vnd.jupyter.widget-view+json": {
              "version_major": 2,
              "version_minor": 0,
              "model_id": "b83ec3e4dd2a49d4b933514534d09acd"
            }
          },
          "metadata": {}
        },
        {
          "output_type": "stream",
          "name": "stdout",
          "text": [
            "Batch Loss: 33.779012352228165 Accuracy: tensor(0.8456, device='cuda:0')\n",
            "Batch Loss: 66.68339065462351 Accuracy: tensor(0.8534, device='cuda:0')\n",
            "Batch Loss: 101.29717444628477 Accuracy: tensor(0.8485, device='cuda:0')\n",
            "Batch Loss: 130.04890651628375 Accuracy: tensor(0.8553, device='cuda:0')\n",
            "Batch Loss: 163.56981525942683 Accuracy: tensor(0.8551, device='cuda:0')\n"
          ]
        }
      ]
    },
    {
      "cell_type": "code",
      "metadata": {
        "id": "IQK4R6n4JgVU"
      },
      "source": [
        "losses, accuracies"
      ],
      "execution_count": null,
      "outputs": []
    },
    {
      "cell_type": "markdown",
      "metadata": {
        "id": "qvEB8g7IFbsD"
      },
      "source": [
        "테스트 데이터셋 정확도 확인하기"
      ]
    },
    {
      "cell_type": "code",
      "metadata": {
        "id": "5QiALUqm4juf"
      },
      "source": [
        "model.eval()\n",
        "\n",
        "test_correct = 0\n",
        "test_total = 0\n",
        "\n",
        "for input_ids_batch, attention_masks_batch, y_batch in tqdm(test_loader):\n",
        "  y_batch = y_batch.to(device)\n",
        "  y_pred = model(input_ids_batch.to(device), attention_mask=attention_masks_batch.to(device))[0]\n",
        "  _, predicted = torch.max(y_pred, 1)\n",
        "  test_correct += (predicted == y_batch).sum()\n",
        "  test_total += len(y_batch)\n",
        "\n",
        "print(\"Accuracy:\", test_correct.float() / test_total)"
      ],
      "execution_count": null,
      "outputs": []
    },
    {
      "cell_type": "code",
      "metadata": {
        "id": "rrcPWEa5U8JZ"
      },
      "source": [
        "# 모델 저장하기\n",
        "torch.save(model.state_dict(), \"model.pt\")"
      ],
      "execution_count": null,
      "outputs": []
    }
  ]
}