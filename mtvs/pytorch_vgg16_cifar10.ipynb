{
  "nbformat": 4,
  "nbformat_minor": 0,
  "metadata": {
    "colab": {
      "private_outputs": true,
      "provenance": [],
      "collapsed_sections": []
    },
    "kernelspec": {
      "name": "python3",
      "display_name": "Python 3"
    },
    "language_info": {
      "name": "python"
    },
    "accelerator": "GPU",
    "gpuClass": "standard"
  },
  "cells": [
    {
      "cell_type": "code",
      "execution_count": null,
      "metadata": {
        "id": "25x_b7HSXIS_"
      },
      "outputs": [],
      "source": [
        "import torch\n",
        "import torch.nn as nn\n",
        "from torchvision.models.vgg import vgg16 #torchvision.model 안에는 많은 모델이 저장 되어있다."
      ]
    },
    {
      "cell_type": "code",
      "source": [
        "device = 'cuda' if torch.cuda.is_available() else 'cpu'\n",
        "\n",
        "model = vgg16(pretrained= True)\n"
      ],
      "metadata": {
        "id": "tNswhBLzYD8F"
      },
      "execution_count": null,
      "outputs": []
    },
    {
      "cell_type": "code",
      "source": [
        "print(device)"
      ],
      "metadata": {
        "id": "498ioLQW5Ipz"
      },
      "execution_count": null,
      "outputs": []
    },
    {
      "cell_type": "code",
      "source": [
        "model"
      ],
      "metadata": {
        "id": "qehrAVhDYUsE"
      },
      "execution_count": null,
      "outputs": []
    },
    {
      "cell_type": "code",
      "source": [
        "# 출력층 지정 dropout = 과적합 방지, 마지막 모델 계층은 10으로 지정, cifar 10이기 때문에\n",
        "fc = nn.Sequential(\n",
        "    nn.Linear(25088, 4096),\n",
        "    nn.ReLU(),\n",
        "    nn.Dropout(),\n",
        "    nn.Linear(4096, 2048),\n",
        "    nn.ReLU(),\n",
        "    nn.Dropout(),\n",
        "    nn.Linear(2048, 1024),\n",
        "    nn.ReLU(),\n",
        "    nn.Dropout(),\n",
        "    nn.Linear(1024, 256),\n",
        "    nn.ReLU(),\n",
        "    nn.Dropout(),\n",
        "    nn.Linear(256, 10)\n",
        ")\n",
        "\n",
        "# 데이터 normalize 하는 이유 : 색깔 값이 데이터 판별에 영향을 미치기 때문에 색값을 지워주려고 노멀라이즈 한다.\n",
        "# 데이터 평균 수치값은 어떻게 뽑나? 그거 한번 해보자\n",
        "# 표준 편차 구하는방법\n",
        "\n",
        "model.classifier = fc\n",
        "model.to(device)\n",
        "model"
      ],
      "metadata": {
        "id": "y7DYfLSHYe59"
      },
      "execution_count": null,
      "outputs": []
    },
    {
      "cell_type": "code",
      "source": [
        "#tqdm  진행률 프로세스 바"
      ],
      "metadata": {
        "id": "ayx1Z2GXa-wL"
      },
      "execution_count": null,
      "outputs": []
    },
    {
      "cell_type": "code",
      "source": [
        "import tqdm\n",
        "\n",
        "from torchvision.datasets.cifar import CIFAR10\n",
        "from torchvision.transforms import Compose, ToTensor, Resize # 편리성 덕분에 transform 많이 사용\n",
        "from torchvision.transforms import RandomHorizontalFlip, RandomCrop, Normalize\n",
        "from torch.utils.data.dataloader import DataLoader\n",
        "\n",
        "from torch.optim.adam import Adam"
      ],
      "metadata": {
        "id": "Q2yChzNcYe_O"
      },
      "execution_count": null,
      "outputs": []
    },
    {
      "cell_type": "code",
      "source": [
        "test_data = CIFAR10(root='./', train = True, download=True, transform=ToTensor())\n"
      ],
      "metadata": {
        "id": "-q5_p7xZYfDV"
      },
      "execution_count": null,
      "outputs": []
    },
    {
      "cell_type": "code",
      "source": [
        "len(test_data)"
      ],
      "metadata": {
        "id": "Ji1EPe88Yf49"
      },
      "execution_count": null,
      "outputs": []
    },
    {
      "cell_type": "code",
      "source": [
        "imgs = [item[0] for item in test_data]\n",
        "len(imgs)"
      ],
      "metadata": {
        "id": "gda6YKZAYf9E"
      },
      "execution_count": null,
      "outputs": []
    },
    {
      "cell_type": "code",
      "source": [
        "imgs = torch.stack(imgs, dim = 0).numpy() # 평균값을 구하기 위해 numpy 형태로 변경, torch.stack 명령은 tensor들을 합치는 명령어"
      ],
      "metadata": {
        "id": "f9uCheMMYgCV"
      },
      "execution_count": null,
      "outputs": []
    },
    {
      "cell_type": "code",
      "source": [
        "imgs.shape"
      ],
      "metadata": {
        "id": "YdfLW1fgYg15"
      },
      "execution_count": null,
      "outputs": []
    },
    {
      "cell_type": "code",
      "source": [
        "mean_r = imgs[:, 0,:,:].mean()\n",
        "mean_g = imgs[:, 1,:,:].mean()\n",
        "mean_b = imgs[:, 2,:,:].mean()\n",
        "\n",
        "print(mean_r, mean_g, mean_b)"
      ],
      "metadata": {
        "id": "r56yga7CYhAu"
      },
      "execution_count": null,
      "outputs": []
    },
    {
      "cell_type": "code",
      "source": [
        "std_r = imgs[:, 0,:,:].std()\n",
        "std_g = imgs[:, 1,:,:].std()\n",
        "std_b = imgs[:, 2,:,:].std()\n",
        "\n",
        "print(std_r, std_g, std_b)"
      ],
      "metadata": {
        "id": "7MfK9-cQYhIW"
      },
      "execution_count": null,
      "outputs": []
    },
    {
      "cell_type": "code",
      "source": [
        "# 이미지 입력시 순차적으로 해야할 일들을 지정\n",
        "transforms = Compose([\n",
        "                      Resize(224),\n",
        "                      RandomCrop((224,224), padding=4),\n",
        "                      RandomHorizontalFlip(),\n",
        "                      ToTensor(),\n",
        "                      Normalize(mean=(0.4914,0.4822, 0.4465), std=(0.247, 0.243, 0.261))\n",
        "                      ])"
      ],
      "metadata": {
        "id": "lTG2sFWgYhPE"
      },
      "execution_count": null,
      "outputs": []
    },
    {
      "cell_type": "code",
      "source": [
        "train_data = CIFAR10(\n",
        "    root='./',\n",
        "    train = True,\n",
        "    download=True,\n",
        "    transform = transforms\n",
        ")\n",
        "\n",
        "test_data = CIFAR10(\n",
        "    root='./',\n",
        "    train = False,\n",
        "    download=True,\n",
        "    transform = transforms\n",
        ")\n",
        "\n",
        "\n",
        "# DataLoader 편리한 패키지\n",
        "train_loader = DataLoader(train_data, batch_size = 32, shuffle=True)\n",
        "test_loader = DataLoader(test_data, batch_size = 32, shuffle=True)"
      ],
      "metadata": {
        "id": "-FtPnZkpYhWH"
      },
      "execution_count": null,
      "outputs": []
    },
    {
      "cell_type": "code",
      "source": [
        "lr = 0.004\n",
        "optim = Adam(model.parameters(), lr = lr)\n",
        "\n",
        "\n",
        "for epoch in range(30):\n",
        "    iterator = tqdm.tqdm(train_loader)\n",
        "\n",
        "    for data,label in iterator:\n",
        "        optim.zero_grad()\n",
        "\n",
        "        # to(device)에 올라가 있기 때문에 label 값고 같이 올려줘야 한다.\n",
        "        preds = model(data.to(device))\n",
        "        loss = nn.CrossEntropyLoss()(preds, label.to(device))\n",
        "        optim.step()\n",
        "\n",
        "        iterator.set_description(f'epoch:{epoch+1} loss:{loss.item()}')\n",
        "\n",
        "#모델의 weight값만 저장\n",
        "torch.save(model.state_dict(), 'cifar10_pre.pth')"
      ],
      "metadata": {
        "id": "5ONDhW2zYhbY"
      },
      "execution_count": null,
      "outputs": []
    },
    {
      "cell_type": "code",
      "source": [
        "#map_location 장치 설정\n",
        "dict_model = torch.load('cifar10_pre.pth', map_location = device)\n",
        "model.load_state_dict(dict_model)\n",
        "\n",
        "num_corr = 0\n",
        "\n",
        "with torch.no_grad():\n",
        "    # nograde - 더이상 오토그레이드를 하지 않겠다\n",
        "    for data, label in test_loader:\n",
        "        output = model(data.to(device))\n",
        "        preds = output.data.max(1)[1]\n",
        "        corr = preds.eq(label.to(device).data).sum().item()\n",
        "        num_corr += corr\n",
        "\n",
        "    print(num_corr/len(test_loader))\n"
      ],
      "metadata": {
        "id": "RJdokDMEYh1K"
      },
      "execution_count": null,
      "outputs": []
    },
    {
      "cell_type": "code",
      "source": [],
      "metadata": {
        "id": "-VLh_HaXYh4G"
      },
      "execution_count": null,
      "outputs": []
    },
    {
      "cell_type": "code",
      "source": [],
      "metadata": {
        "id": "ukKK8Oh1Yh7V"
      },
      "execution_count": null,
      "outputs": []
    },
    {
      "cell_type": "code",
      "source": [],
      "metadata": {
        "id": "xcG0r1FfYh-1"
      },
      "execution_count": null,
      "outputs": []
    },
    {
      "cell_type": "code",
      "source": [],
      "metadata": {
        "id": "Yvb7xNbVYiCD"
      },
      "execution_count": null,
      "outputs": []
    },
    {
      "cell_type": "code",
      "source": [],
      "metadata": {
        "id": "If2U21JvYiFk"
      },
      "execution_count": null,
      "outputs": []
    },
    {
      "cell_type": "code",
      "source": [],
      "metadata": {
        "id": "ulaAo4lbYiIz"
      },
      "execution_count": null,
      "outputs": []
    },
    {
      "cell_type": "code",
      "source": [],
      "metadata": {
        "id": "PtHMpVJHYiMn"
      },
      "execution_count": null,
      "outputs": []
    }
  ]
}