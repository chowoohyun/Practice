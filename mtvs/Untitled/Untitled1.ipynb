{
 "cells": [
  {
   "cell_type": "code",
   "execution_count": 1,
   "id": "09c1bc1e",
   "metadata": {},
   "outputs": [],
   "source": [
    "import numpy as np\n",
    "from tensorflow.keras.datasets import fashion_mnist\n",
    "from tensorflow.keras.layers import Input, Dense, Flatten, Reshape, Conv2D, Conv2DTranspose,LeakyReLU\n",
    "from tensorflow.keras.models import Model,Sequential\n",
    "from tensorflow.keras import backend as K\n",
    "from tensorflow.keras.optimizers import Adam"
   ]
  },
  {
   "cell_type": "code",
   "execution_count": 2,
   "id": "9bed32ed",
   "metadata": {},
   "outputs": [],
   "source": [
    "\n",
    "#MNIST 데이터 읽고 신경망 입력 준비\n",
    "(x_train, y_train), (x_test, y_test) = fashion_mnist.load_data()\n",
    "x_train = x_train.astype('float32')/255.\n",
    "y_train = y_train.astype('float32')/255.\n",
    "#x_train = np.reshape(x_train, (len(x_train),28,28,1))\n",
    "#x_test = np.reshape(x_test, (len(x_test),28,28,1))\n",
    "\n",
    "\n",
    "x_train = np.reshape(x_train, (len(x_train),784))\n",
    "x_test = np.reshape(x_test, (len(x_test),784))\n",
    "\n",
    "\n"
   ]
  },
  {
   "cell_type": "code",
   "execution_count": 3,
   "id": "6f40f689",
   "metadata": {},
   "outputs": [
    {
     "name": "stdout",
     "output_type": "stream",
     "text": [
      "Model: \"model\"\n",
      "_________________________________________________________________\n",
      "Layer (type)                 Output Shape              Param #   \n",
      "=================================================================\n",
      "input_1 (InputLayer)         [(None, 784)]             0         \n",
      "_________________________________________________________________\n",
      "dense (Dense)                (None, 128)               100480    \n",
      "_________________________________________________________________\n",
      "dense_1 (Dense)              (None, 64)                8256      \n",
      "_________________________________________________________________\n",
      "dense_2 (Dense)              (None, 12)                780       \n",
      "_________________________________________________________________\n",
      "dense_3 (Dense)              (None, 3)                 39        \n",
      "=================================================================\n",
      "Total params: 109,555\n",
      "Trainable params: 109,555\n",
      "Non-trainable params: 0\n",
      "_________________________________________________________________\n",
      "Model: \"model_1\"\n",
      "_________________________________________________________________\n",
      "Layer (type)                 Output Shape              Param #   \n",
      "=================================================================\n",
      "input_2 (InputLayer)         [(None, 3)]               0         \n",
      "_________________________________________________________________\n",
      "dense_4 (Dense)              (None, 12)                48        \n",
      "_________________________________________________________________\n",
      "dense_5 (Dense)              (None, 64)                832       \n",
      "_________________________________________________________________\n",
      "dense_6 (Dense)              (None, 128)               8320      \n",
      "_________________________________________________________________\n",
      "dense_7 (Dense)              (None, 784)               101136    \n",
      "=================================================================\n",
      "Total params: 110,336\n",
      "Trainable params: 110,336\n",
      "Non-trainable params: 0\n",
      "_________________________________________________________________\n"
     ]
    }
   ],
   "source": [
    "##########################################\n",
    "### 완성본\n",
    "#오토인코더의 인코더 부분 설계\n",
    "zdim = 3 #잠복 공간의 차원\n",
    "\n",
    "encoder_input = Input(shape=(784))\n",
    "x= Dense(128,activation='relu')(encoder_input)\n",
    "x= Dense(64,activation='relu')(x)\n",
    "x= Dense(12,activation='relu')(x)\n",
    "encoder_output= Dense(zdim)(x)\n",
    "model_encoder = Model(encoder_input, encoder_output)\n",
    "model_encoder.summary()\n",
    "\n",
    "\n",
    "#오토인코더의 디코더 부분 설계\n",
    "decoder_input = Input(shape=(zdim,))\n",
    "x=Dense(12)(decoder_input)\n",
    "x=Dense(64, activation='relu')(x)\n",
    "x=Dense(128, activation='relu')(x)\n",
    "x=Dense(784, activation='relu')(x)\n",
    "#x=Dense(784)(x)\n",
    "\n",
    "decoder_output=x\n",
    "model_decoder = Model(decoder_input, decoder_output)\n",
    "model_decoder.summary()\n",
    "\n",
    "#인코더와 디코더를 결합하여 오토인코더 모델 구축\n",
    "model_input = encoder_input\n",
    "model_output = model_decoder(encoder_output)\n",
    "model= Model(model_input, model_output)"
   ]
  },
  {
   "cell_type": "code",
   "execution_count": 4,
   "id": "397d808a",
   "metadata": {},
   "outputs": [
    {
     "name": "stdout",
     "output_type": "stream",
     "text": [
      "Model: \"model_3\"\n",
      "_________________________________________________________________\n",
      "Layer (type)                 Output Shape              Param #   \n",
      "=================================================================\n",
      "input_3 (InputLayer)         [(None, 784)]             0         \n",
      "_________________________________________________________________\n",
      "dense_8 (Dense)              (None, 128)               100480    \n",
      "_________________________________________________________________\n",
      "leaky_re_lu (LeakyReLU)      (None, 128)               0         \n",
      "_________________________________________________________________\n",
      "dense_9 (Dense)              (None, 64)                8256      \n",
      "_________________________________________________________________\n",
      "leaky_re_lu_1 (LeakyReLU)    (None, 64)                0         \n",
      "_________________________________________________________________\n",
      "dense_10 (Dense)             (None, 12)                780       \n",
      "_________________________________________________________________\n",
      "leaky_re_lu_2 (LeakyReLU)    (None, 12)                0         \n",
      "_________________________________________________________________\n",
      "dense_11 (Dense)             (None, 3)                 39        \n",
      "=================================================================\n",
      "Total params: 109,555\n",
      "Trainable params: 109,555\n",
      "Non-trainable params: 0\n",
      "_________________________________________________________________\n",
      "Model: \"model_4\"\n",
      "_________________________________________________________________\n",
      "Layer (type)                 Output Shape              Param #   \n",
      "=================================================================\n",
      "input_4 (InputLayer)         [(None, 3)]               0         \n",
      "_________________________________________________________________\n",
      "dense_12 (Dense)             (None, 12)                48        \n",
      "_________________________________________________________________\n",
      "dense_13 (Dense)             (None, 64)                832       \n",
      "_________________________________________________________________\n",
      "dense_14 (Dense)             (None, 128)               8320      \n",
      "_________________________________________________________________\n",
      "dense_15 (Dense)             (None, 784)               101136    \n",
      "=================================================================\n",
      "Total params: 110,336\n",
      "Trainable params: 110,336\n",
      "Non-trainable params: 0\n",
      "_________________________________________________________________\n"
     ]
    }
   ],
   "source": [
    "################################################333\n",
    "#오토인코더의 인코더 부분 설계\n",
    "zdim = 3 #잠복 공간의 차원\n",
    "                            \n",
    "\n",
    "encoder_input = Input(shape=(784))\n",
    "x= Dense(128)(encoder_input)\n",
    "x=LeakyReLU(0.2)(x)\n",
    "x= Dense(64)(x)\n",
    "x=LeakyReLU(0.2)(x)\n",
    "x= Dense(12)(x)\n",
    "x=LeakyReLU(0.2)(x)\n",
    "encoder_output= Dense(zdim)(x)\n",
    "model_encoder = Model(encoder_input, encoder_output)\n",
    "model_encoder.summary()\n",
    "\n",
    "\n",
    "#오토인코더의 디코더 부분 설계\n",
    "#오토인코더의 디코더 부분 설계\n",
    "decoder_input = Input(shape=(zdim,))\n",
    "x=Dense(12)(decoder_input)\n",
    "x=Dense(64, activation='relu')(x)\n",
    "x=Dense(128, activation='relu')(x)\n",
    "x=Dense(784)(x)\n",
    "#x=Dense(784)(x)\n",
    "\n",
    "          \n",
    "decoder_output=x\n",
    "model_decoder = Model(decoder_input, decoder_output)\n",
    "model_decoder.summary()\n",
    "\n",
    "#인코더와 디코더를 결합하여 오토인코더 모델 구축\n",
    "model_input = encoder_input\n",
    "model_output = model_decoder(encoder_output)\n",
    "model= Model(model_input, model_output)"
   ]
  },
  {
   "cell_type": "code",
   "execution_count": 5,
   "id": "bdbf441c",
   "metadata": {},
   "outputs": [
    {
     "name": "stderr",
     "output_type": "stream",
     "text": [
      "C:\\Users\\HP\\miniconda3\\envs\\gpu\\lib\\site-packages\\keras\\optimizer_v2\\optimizer_v2.py:356: UserWarning: The `lr` argument is deprecated, use `learning_rate` instead.\n",
      "  \"The `lr` argument is deprecated, use `learning_rate` instead.\")\n"
     ]
    },
    {
     "name": "stdout",
     "output_type": "stream",
     "text": [
      "Epoch 1/3\n",
      "938/938 [==============================] - 3s 2ms/step - loss: 0.0419 - val_loss: 2512.7397\n",
      "Epoch 2/3\n",
      "938/938 [==============================] - 2s 2ms/step - loss: 0.0294 - val_loss: 2346.0190\n",
      "Epoch 3/3\n",
      "938/938 [==============================] - 2s 2ms/step - loss: 0.0271 - val_loss: 3424.5583\n"
     ]
    }
   ],
   "source": [
    "#오토인코더 학습\n",
    "adam =Adam(lr=0.005, beta_1=0.09)\n",
    "\n",
    "model.compile(optimizer=adam, loss ='mse')\n",
    "model.fit(x_train, x_train, epochs=3, batch_size = 64, \n",
    "          shuffle=True, validation_data=(x_test, x_test))\n",
    "\n",
    "#복원 실험 1: x_test를 복원하는 예측 실험\n",
    "decoded_img = model.predict(x_test)"
   ]
  },
  {
   "cell_type": "code",
   "execution_count": 7,
   "id": "2893128a",
   "metadata": {},
   "outputs": [
    {
     "data": {
      "text/plain": [
       "<matplotlib.image.AxesImage at 0x24ae89e1748>"
      ]
     },
     "execution_count": 7,
     "metadata": {},
     "output_type": "execute_result"
    },
    {
     "data": {
      "image/png": "[encoded data removed]",
      "text/plain": [
       "<Figure size 432x288 with 1 Axes>"
      ]
     },
     "metadata": {
      "needs_background": "light"
     },
     "output_type": "display_data"
    }
   ],
   "source": [
    "# 생성한 이미지임.\n",
    "import matplotlib.pyplot as plt\n",
    "plt.imshow(decoded_img[0].reshape(28,28),cmap='gray')"
   ]
  },
  {
   "cell_type": "code",
   "execution_count": 8,
   "id": "e8115430",
   "metadata": {},
   "outputs": [
    {
     "name": "stdout",
     "output_type": "stream",
     "text": [
      "Model: \"model_6\"\n",
      "_________________________________________________________________\n",
      "Layer (type)                 Output Shape              Param #   \n",
      "=================================================================\n",
      "input_3 (InputLayer)         [(None, 784)]             0         \n",
      "=================================================================\n",
      "Total params: 0\n",
      "Trainable params: 0\n",
      "Non-trainable params: 0\n",
      "_________________________________________________________________\n"
     ]
    },
    {
     "data": {
      "image/png": "[encoded data removed]",
      "text/plain": [
       "<Figure size 1080x216 with 1 Axes>"
      ]
     },
     "metadata": {
      "needs_background": "light"
     },
     "output_type": "display_data"
    },
    {
     "data": {
      "image/png": "[encoded data removed]",
      "text/plain": [
       "<Figure size 1440x288 with 20 Axes>"
      ]
     },
     "metadata": {},
     "output_type": "display_data"
    }
   ],
   "source": [
    "import matplotlib.pyplot as plt\n",
    "import tensorflow as tf\n",
    "get_layer_name = [layer.name for layer in model.layers]\n",
    "get_output = [layer.output for layer in model.layers]\n",
    "\n",
    "\n",
    "##### 모델의 첫번째 레이어만 사용\n",
    "plt.figure(figsize=(15,3))\n",
    "visual_model = tf.keras.models.Model(inputs = model.input, outputs = get_output[0])\n",
    "visual_model.summary()      \n",
    "\n",
    "xdata=np.reshape(x_train[1],(784))\n",
    "test_img = np.expand_dims(xdata, axis = 0)\n",
    "feature_maps = visual_model.predict(test_img)\n",
    "plt.imshow(x_train[1].reshape(28,28),cmap='gray')\n",
    "\n",
    "\n",
    "import matplotlib.pyplot as plt\n",
    "\n",
    "n=10\n",
    "plt.figure(figsize=(20,4))\n",
    "for i in range(n):\n",
    "    plt.subplot(2,n,i+1)\n",
    "    plt.imshow(x_test[i].reshape(28,28),cmap='gray')\n",
    "    plt.xticks([]); plt.yticks([]);\n",
    "    plt.subplot(2, n, i+n+1)\n",
    "    plt.imshow(decoded_img[i].reshape(28,28),cmap='gray')\n",
    "    plt.xticks([]); plt.yticks([]); \n",
    "plt.show()"
   ]
  },
  {
   "cell_type": "code",
   "execution_count": null,
   "id": "077ad659",
   "metadata": {},
   "outputs": [],
   "source": []
  },
  {
   "cell_type": "code",
   "execution_count": null,
   "id": "5cdfb3ca",
   "metadata": {},
   "outputs": [],
   "source": []
  },
  {
   "cell_type": "code",
   "execution_count": null,
   "id": "86460eaa",
   "metadata": {},
   "outputs": [],
   "source": []
  }
 ],
 "metadata": {
  "kernelspec": {
   "display_name": "gpu",
   "language": "python",
   "name": "gpu"
  },
  "language_info": {
   "codemirror_mode": {
    "name": "ipython",
    "version": 3
   },
   "file_extension": ".py",
   "mimetype": "text/x-python",
   "name": "python",
   "nbconvert_exporter": "python",
   "pygments_lexer": "ipython3",
   "version": "3.7.13"
  }
 },
 "nbformat": 4,
 "nbformat_minor": 5
}
