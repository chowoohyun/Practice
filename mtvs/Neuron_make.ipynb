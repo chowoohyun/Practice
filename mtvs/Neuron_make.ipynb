{
 "cells": [
  {
   "cell_type": "markdown",
   "id": "68181ec8",
   "metadata": {},
   "source": [
    "## 뉴런을 만들어봅니다"
   ]
  },
  {
   "cell_type": "code",
   "execution_count": 4,
   "id": "d7368916",
   "metadata": {},
   "outputs": [],
   "source": [
    "import matplotlib.pyplot as plt"
   ]
  },
  {
   "cell_type": "code",
   "execution_count": 8,
   "id": "39b5ed2f",
   "metadata": {},
   "outputs": [],
   "source": [
    "from sklearn.datasets import load_diabetes\n",
    "diabetes = load_diabetes()"
   ]
  },
  {
   "cell_type": "code",
   "execution_count": 9,
   "id": "3b83fc8f",
   "metadata": {},
   "outputs": [],
   "source": [
    "x = diabetes.data[:, 2]\n",
    "y = diabetes.target"
   ]
  },
  {
   "cell_type": "code",
   "execution_count": 10,
   "id": "a56c216d",
   "metadata": {},
   "outputs": [],
   "source": [
    "class Neuron:\n",
    "    \n",
    "    def __init__(self):\n",
    "        self.w = 1.0     # 가중치를 초기화합니다\n",
    "        self.b = 1.0     # 절편을 초기화합니다\n",
    "                         # 함수 호출시 기본값으로 지정됨\n",
    "    \n",
    "    def forpass(self, x):\n",
    "        y_hat = x * self.w + self.b       # 직선 방정식을 계산합니다\n",
    "        return y_hat\n",
    "    \n",
    "    def backprop(self, x, err):\n",
    "        w_grad = x * err    # 가중치에 대한 그래디언트를 계산합니다\n",
    "        b_grad = 1 * err    # 절편에 대한 그래디언트를 계산합니다\n",
    "        return w_grad, b_grad\n",
    "\n",
    "    def fit(self, x, y, epochs=100):\n",
    "        for i in range(epochs):           # 에포크만큼 반복합니다\n",
    "            for x_i, y_i in zip(x, y):    # 모든 샘플에 대해 반복합니다\n",
    "                y_hat = self.forpass(x_i) # 정방향 계산\n",
    "                err = -(y_i - y_hat)      # 오차 계산\n",
    "                w_grad, b_grad = self.backprop(x_i, err)  # 역방향 계산\n",
    "                self.w -= w_grad          # 가중치 업데이트\n",
    "                self.b -= b_grad          # 절편 업데이트\n",
    "\n",
    "#batch_size 는 한번에 불러오는 데이터의 갯수,\n",
    "#batch_size의 단위에 다라 w,b 의 갱신이 이루어진다.\n",
    "#epochs 하나당 w, b 한번씩 갱신"
   ]
  },
  {
   "cell_type": "markdown",
   "id": "44bcc34b",
   "metadata": {},
   "source": [
    "- batch_size 는 한번에 불러오는 데이터의 갯수,\n",
    "  - batch_size의 범위에 다라 w,b 의 갱신이 이루어진다.( ex) batch_size =1, 총 데이터 갯수 = 6 이면 w,b 갱신 횟수는 6회, batch_size = 3이면, 갱신횟수 2회\n",
    "  \n",
    "  \n",
    "- epochs 하나당 w, b 한번씩 갱신\n",
    "\n",
    "- epochs 기본 값은 1, batch_size의 기본값은 32\n",
    "\n",
    "\n",
    "- 옵티메이저 = 어느정도 움직일것인가? 위 뉴런 클래스는 옵티마이저 까지 직접 만든것, 미분을 수행하는 방법이 약간 다르게 나온다.\n",
    "  - 각각의 옵티마이저 안에는 러닝레이트를 얼마로 할것인가를 선택 가능하다.\n",
    "  - 배치 사이즈는 작게 에포크는 크게 하면 많이 실행하지만,\n",
    "  - 많이 실행하려면, 러닝레이트를 작게 해야 한다.\n",
    "  - 너무 많이 실행되는 경우에는 가지치기를 해줘야 한다."
   ]
  },
  {
   "cell_type": "code",
   "execution_count": 11,
   "id": "f0af0e02",
   "metadata": {},
   "outputs": [],
   "source": [
    "neuron = Neuron()\n",
    "neuron.fit(x, y)"
   ]
  },
  {
   "cell_type": "code",
   "execution_count": 13,
   "id": "00c374d0",
   "metadata": {},
   "outputs": [
    {
     "data": {
      "image/png": "[encoded data removed]",
      "text/plain": [
       "<Figure size 432x288 with 1 Axes>"
      ]
     },
     "metadata": {
      "needs_background": "light"
     },
     "output_type": "display_data"
    }
   ],
   "source": [
    "plt.scatter(x, y)\n",
    "pt1 = (-0.1, -0.1 * neuron.w + neuron.b)\n",
    "pt2 = (0.15, 0.15 * neuron.w + neuron.b)\n",
    "plt.plot([pt1[0], pt2[0]], [pt1[1], pt2[1]])\n",
    "plt.xlabel('x')\n",
    "plt.ylabel('y')\n",
    "plt.show()"
   ]
  },
  {
   "cell_type": "code",
   "execution_count": null,
   "id": "ec63579e",
   "metadata": {},
   "outputs": [],
   "source": []
  }
 ],
 "metadata": {
  "kernelspec": {
   "display_name": "Python 3 (ipykernel)",
   "language": "python",
   "name": "python3"
  },
  "language_info": {
   "codemirror_mode": {
    "name": "ipython",
    "version": 3
   },
   "file_extension": ".py",
   "mimetype": "text/x-python",
   "name": "python",
   "nbconvert_exporter": "python",
   "pygments_lexer": "ipython3",
   "version": "3.9.12"
  }
 },
 "nbformat": 4,
 "nbformat_minor": 5
}
