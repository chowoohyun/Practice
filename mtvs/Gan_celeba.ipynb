{
  "nbformat": 4,
  "nbformat_minor": 0,
  "metadata": {
    "colab": {
      "private_outputs": true,
      "provenance": []
    },
    "kernelspec": {
      "name": "python3",
      "display_name": "Python 3"
    },
    "language_info": {
      "name": "python"
    },
    "accelerator": "GPU"
  },
  "cells": [
    {
      "cell_type": "code",
      "execution_count": null,
      "metadata": {
        "id": "CKZ2D1JablSz"
      },
      "outputs": [],
      "source": [
        "!unzip '/content/drive/MyDrive/apk/img_align_celeba.zip' -d '/content/drive/MyDrive/GAN/'"
      ]
    },
    {
      "cell_type": "code",
      "source": [
        "import glob\n",
        "import matplotlib.pyplot as plt\n",
        "import os\n",
        "from PIL import Image\n",
        "\n",
        "imgs = glob.glob('/content/drive/MyDrive/GAN/img_align_celeba/*.jpg')\n",
        "\n",
        "print(len(imgs))\n",
        "\n",
        "for i in range(6):\n",
        "    plt.subplot(2,3,i+1)\n",
        "    img = Image.open(imgs[i])\n",
        "    plt.imshow(img)"
      ],
      "metadata": {
        "id": "Mp1EftHgd5-F"
      },
      "execution_count": null,
      "outputs": []
    },
    {
      "cell_type": "code",
      "source": [
        "len(imgs)"
      ],
      "metadata": {
        "id": "dwlbbTm6jyKX"
      },
      "execution_count": null,
      "outputs": []
    },
    {
      "cell_type": "code",
      "source": [
        "#입력 이미지 전처리\n",
        "import torch\n",
        "from torchvision import transforms\n",
        "from torchvision.datasets import ImageFolder\n",
        "from torch.utils.data.dataloader import DataLoader"
      ],
      "metadata": {
        "id": "a89jeOIuk1tu"
      },
      "execution_count": null,
      "outputs": []
    },
    {
      "cell_type": "code",
      "source": [
        "transforms = transforms.Compose([\n",
        "        transforms.Resize(64),\n",
        "        transforms.CenterCrop(64),\n",
        "        transforms.ToTensor(),\n",
        "        transforms.Normalize((0.5,0.5,0.5),(0.5,0.5,0.5))\n",
        "    ])\n",
        "\n",
        "dataset = ImageFolder(\n",
        "    root='/content/drive/MyDrive/GAN',\n",
        "    transform = transforms\n",
        ")\n",
        "\n",
        "loader = DataLoader(dataset,batch_size=128, shuffle=True)"
      ],
      "metadata": {
        "id": "S3HD_DB1mNuq"
      },
      "execution_count": null,
      "outputs": []
    },
    {
      "cell_type": "code",
      "source": [
        "import numpy as np\n",
        "\n",
        "iterdata = iter(loader)\n",
        "img,label = iterdata.next()\n",
        "\n",
        "img = img[3].numpy()\n",
        "plt.imshow(np.transpose(img,(1,2,0)))"
      ],
      "metadata": {
        "id": "flTNIfLwnBbK"
      },
      "execution_count": null,
      "outputs": []
    },
    {
      "cell_type": "code",
      "source": [
        "#생성자  generator\n",
        "\n",
        "import torch.nn as nn"
      ],
      "metadata": {
        "id": "Cw0ZQxT0oCQG"
      },
      "execution_count": null,
      "outputs": []
    },
    {
      "cell_type": "code",
      "source": [
        "class Generator(nn.Module):\n",
        "    def __init__(self):\n",
        "        super(Generator,self).__init__()\n",
        "\n",
        "        self.gen = nn.Sequential(\n",
        "            nn.ConvTranspose2d(100,512,kernel_size=4, bias=False),\n",
        "            nn.BatchNorm2d(512),\n",
        "            nn.ReLU(),\n",
        "\n",
        "            nn.ConvTranspose2d(512,256,kernel_size=4, stride=2, padding=1, bias=False),\n",
        "            nn.BatchNorm2d(256),\n",
        "            nn.ReLU(),\n",
        "\n",
        "            nn.ConvTranspose2d(256,128,kernel_size=4, stride=2, padding=1, bias=False),\n",
        "            nn.BatchNorm2d(128),\n",
        "            nn.ReLU(),\n",
        "\n",
        "            nn.ConvTranspose2d(128,64,kernel_size=4, stride=2, padding=1, bias=False),\n",
        "            nn.BatchNorm2d(64),\n",
        "            nn.ReLU(),\n",
        "\n",
        "            nn.ConvTranspose2d(64,3,kernel_size=4,stride=2,padding=1,bias=False),\n",
        "            nn.Tanh()\n",
        "        )\n",
        "\n",
        "    def forward(self, x):\n",
        "        return self.gen(x)"
      ],
      "metadata": {
        "id": "kyhORCRrorXu"
      },
      "execution_count": null,
      "outputs": []
    },
    {
      "cell_type": "code",
      "source": [],
      "metadata": {
        "id": "FAAYbyYhqzvv"
      },
      "execution_count": null,
      "outputs": []
    },
    {
      "cell_type": "code",
      "source": [
        "class Discriminator(nn.Module):\n",
        "\n",
        "    def __init__(self):\n",
        "        super(Discriminator,self).__init__()\n",
        "\n",
        "        self.disc = nn.Sequential(\n",
        "            nn.Conv2d(3,64,kernel_size=4,stride=2,padding=1,bias=False),\n",
        "            nn.BatchNorm2d(64),\n",
        "            nn.LeakyReLU(0.2),\n",
        "\n",
        "            nn.Conv2d(64,128,kernel_size=4,stride=2,padding=1,bias=False),\n",
        "            nn.BatchNorm2d(128),\n",
        "            nn.LeakyReLU(0.2),\n",
        "\n",
        "            nn.Conv2d(128,256,kernel_size=4,stride=2,padding=1,bias=False),\n",
        "            nn.BatchNorm2d(256),\n",
        "            nn.LeakyReLU(0.2),\n",
        "\n",
        "            nn.Conv2d(256,512,kernel_size=4,stride=2,padding=1,bias=False),\n",
        "            nn.BatchNorm2d(512),\n",
        "            nn.LeakyReLU(0.2),\n",
        "\n",
        "            nn.Conv2d(512,1,kernel_size=4),\n",
        "            nn.Sigmoid()\n",
        "        )"
      ],
      "metadata": {
        "id": "Td9D5JncqTRj"
      },
      "execution_count": null,
      "outputs": []
    },
    {
      "cell_type": "code",
      "source": [
        "def weights_init(m):\n",
        "    classname = type(m).__class__.__name__\n",
        "\n",
        "    if classname.find('Conv') != -1:\n",
        "        nn.init.normal_(m.weights.data,0.0,0.02)\n",
        "    elif classname.find('BatchNorm') != -1:\n",
        "        nn.init.normal_(m.weight.data,1.0,0.02)\n",
        "        nn.init.constant_(m.bias.data,0)"
      ],
      "metadata": {
        "id": "uAKnyQv_roCb"
      },
      "execution_count": null,
      "outputs": []
    },
    {
      "cell_type": "code",
      "source": [
        "import tqdm\n",
        "from torch.optim.adam import Adam\n",
        "\n",
        "device = 'cuda' if torch.cuda.is_available() else 'cpu'\n",
        "\n",
        "G = Generator().to(device)\n",
        "G.apply(weights_init)\n",
        "\n",
        "D = Discriminator().to(device)\n",
        "D.apply(weights_init)\n",
        "\n",
        "G_optim = Adam(G.parameters(), lr=0.0001, betas=(0.5,0.999))\n",
        "D_optim = Adam(D.parameters(), lr=0.0001, betas=(0.5,0.999))\n"
      ],
      "metadata": {
        "id": "UG1RnAUpshed"
      },
      "execution_count": null,
      "outputs": []
    },
    {
      "cell_type": "code",
      "source": [
        "for epochs in range(20):\n",
        "    iterator = tqdm.tqdm(enumerate(loader,0), total=len(loader))\n",
        "\n",
        "    for i,data in iterator:\n",
        "        D_optim.zero_grad()\n",
        "\n",
        "        label = torch.ones_like(data[1], dtype=torch.float32 ).to(device)\n",
        "        label_fake = torch.zero_like(data[1], dtype=torch.float32).to(device)\n",
        "\n",
        "        #진짜 이미지를 1로 판별\n",
        "        real = D(data[0].to(device))\n",
        "        #128,1,1,1\n",
        "        Dloss_real = nn.BCELoss()(torch.sqeeze(real),label)\n",
        "        Dloss_real.backward()\n",
        "\n",
        "        noise = torch.randn(label.shape[0], 100, 1,1, device=device)\n",
        "\n",
        "        fake = G(noise)\n",
        "\n",
        "        output = D(fake.detach())\n",
        "\n",
        "        Dloss_fake = nn.BCELoss()(torch.squeeze(output),label_fake)\n",
        "        Dloss_fake.backward()\n",
        "\n",
        "        Dloss = Dloss_real + Dloss_fake\n",
        "        D_optim.step()\n",
        "\n",
        "        G_optim.zero_grad()\n",
        "        output = D(fake)\n",
        "        Gloss = nn.BCELoss()(torch.squeeze(output),label)\n",
        "        Gloss.backward()\n",
        "\n",
        "        G_optim.step()\n",
        "\n",
        "        iterator.set_description(f\"epoch:{epochs} iteration:{i} D_loss:{Dloss} G_loss:{Gloss}\")\n",
        "\n",
        "    torch.save(G.state_dict(), \"Generator.pth\")\n",
        "    torch.save(D.state_dict(), \"Discriminator.pth\")"
      ],
      "metadata": {
        "id": "1U6gaJyRtWvN"
      },
      "execution_count": null,
      "outputs": []
    },
    {
      "cell_type": "code",
      "source": [],
      "metadata": {
        "id": "yPHmjqzGw4TN"
      },
      "execution_count": null,
      "outputs": []
    }
  ]
}