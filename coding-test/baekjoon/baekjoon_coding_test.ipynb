{
 "cells": [
  {
   "cell_type": "markdown",
   "metadata": {},
   "source": [
    "https://www.acmicpc.net/problem/2447\n",
    "\n",
    "백준 별찍기-10"
   ]
  },
  {
   "cell_type": "code",
   "execution_count": null,
   "metadata": {
    "vscode": {
     "languageId": "python"
    }
   },
   "outputs": [],
   "source": [
    "def print_star(n):\n",
    "    if n == 1:\n",
    "        return ['*']\n",
    "    star = print_star(n//3)\n",
    "    star_list = []\n",
    "    for i in star:\n",
    "        star_list.append(i*3)\n",
    "    for i in star:\n",
    "        star_list.append(i+' '*(n//3)+i)\n",
    "    for i in star:\n",
    "        star_list.append(i*3)\n",
    "        \n",
    "    return star_list\n",
    "\n",
    "N = int(input())\n",
    "print('\\n'.join(print_star(N)))"
   ]
  },
  {
   "cell_type": "markdown",
   "metadata": {},
   "source": [
    "https://www.acmicpc.net/problem/2884\n",
    "\n",
    "백준 알람시계\n",
    "브3"
   ]
  },
  {
   "cell_type": "code",
   "execution_count": 4,
   "metadata": {
    "vscode": {
     "languageId": "python"
    }
   },
   "outputs": [
    {
     "name": "stdout",
     "output_type": "stream",
     "text": [
      "9 25\n"
     ]
    }
   ],
   "source": [
    "H, W = map(int, input().split())\n",
    "\n",
    "def alarm(h, m):\n",
    "    if m < 45:\n",
    "        h -= 1\n",
    "        m += 15\n",
    "    else:\n",
    "        m -= 45\n",
    "    if h < 0:\n",
    "        h += 24\n",
    "    return print(h, m)\n",
    "\n",
    "alarm(H, W)"
   ]
  },
  {
   "cell_type": "markdown",
   "metadata": {},
   "source": [
    "https://www.acmicpc.net/problem/1789\n",
    "\n",
    "백준 수들의 합\n",
    "실5"
   ]
  },
  {
   "cell_type": "code",
   "execution_count": 10,
   "metadata": {
    "vscode": {
     "languageId": "python"
    }
   },
   "outputs": [
    {
     "name": "stdout",
     "output_type": "stream",
     "text": [
      "19\n"
     ]
    }
   ],
   "source": [
    "# 인풋값을 받고 가장 작은 수 부터 더하면 될듯??\n",
    "n = int(input())\n",
    "\n",
    "num = 0\n",
    "result = 0\n",
    "for i in range(1, n+1):\n",
    "    result += i\n",
    "    num += 1\n",
    "    if result > n :\n",
    "        num -= 1\n",
    "        break\n",
    "print(num)\n",
    "\n",
    "    "
   ]
  },
  {
   "cell_type": "markdown",
   "metadata": {},
   "source": [
    "https://www.acmicpc.net/problem/2525\n",
    "\n",
    "\n",
    "백준 오븐시계"
   ]
  },
  {
   "cell_type": "code",
   "execution_count": 16,
   "metadata": {
    "vscode": {
     "languageId": "python"
    }
   },
   "outputs": [
    {
     "name": "stdout",
     "output_type": "stream",
     "text": [
      "19 0\n"
     ]
    }
   ],
   "source": [
    "H, M = map(int, input().split())\n",
    "minute = int(input())\n",
    "\n",
    "tmp = H * 60 + M + minute\n",
    "H = tmp // 60\n",
    "M = tmp % 60\n",
    "if H > 23:\n",
    "    H = H % 24\n",
    "print(H, M)"
   ]
  },
  {
   "cell_type": "markdown",
   "metadata": {},
   "source": [
    "https://www.acmicpc.net/problem/\n",
    "\n",
    "\n",
    "백준 곱셈\n",
    "\n",
    "\n",
    "브3"
   ]
  },
  {
   "cell_type": "code",
   "execution_count": 17,
   "metadata": {
    "vscode": {
     "languageId": "python"
    }
   },
   "outputs": [
    {
     "name": "stdout",
     "output_type": "stream",
     "text": [
      "2360\n",
      "3776\n",
      "1416\n",
      "181720\n"
     ]
    }
   ],
   "source": [
    "a = int(input())\n",
    "b = int(input())\n",
    "\n",
    "print(a*(b%10))\n",
    "print(a*((b%100)//10))\n",
    "print(a*(b//100))\n",
    "print(a*b)"
   ]
  },
  {
   "cell_type": "markdown",
   "metadata": {},
   "source": [
    "https://www.acmicpc.net/problem/2480\n",
    "\n",
    "\n",
    "백준 주사위 세개\n",
    "\n",
    "\n",
    "브 4"
   ]
  },
  {
   "cell_type": "code",
   "execution_count": 20,
   "metadata": {
    "vscode": {
     "languageId": "python"
    }
   },
   "outputs": [
    {
     "name": "stdout",
     "output_type": "stream",
     "text": [
      "12000\n"
     ]
    }
   ],
   "source": [
    "a, b, c= map(int, input().split())\n",
    "\n",
    "if a == b == c:\n",
    "    print(10000 + a*1000)\n",
    "elif a == b or a == c :\n",
    "    print(1000 + a*100)\n",
    "elif b == c:\n",
    "    print(1000 + b*100)\n",
    "else:\n",
    "    print(max(a, b, c)*100)\n"
   ]
  },
  {
   "cell_type": "markdown",
   "metadata": {},
   "source": [
    "https://www.acmicpc.net/problem/4673\n",
    "\n",
    "백준 셀프 넘버\n",
    "\n",
    "실5"
   ]
  },
  {
   "cell_type": "code",
   "execution_count": null,
   "metadata": {
    "vscode": {
     "languageId": "python"
    }
   },
   "outputs": [],
   "source": [
    "# 10000 이전까지 니까...\n",
    "# set을 잘 활용해보자!\n",
    "num = set(range(1, 10001))\n",
    "gen_num = set()\n",
    "\n",
    "for i in range(1, 10001):\n",
    "    for j in str(i):\n",
    "        i += int(j)\n",
    "    gen_num.add(i)\n",
    "\n",
    "self_num = sorted(num-gen_num)\n",
    "for i in self_num:\n",
    "    print(i)"
   ]
  },
  {
   "cell_type": "markdown",
   "metadata": {},
   "source": [
    "https://www.acmicpc.net/problem/2798\n",
    "\n",
    "백준 블랙잭\n",
    "\n",
    "브론즈2"
   ]
  },
  {
   "cell_type": "code",
   "execution_count": 3,
   "metadata": {
    "vscode": {
     "languageId": "python"
    }
   },
   "outputs": [
    {
     "name": "stdout",
     "output_type": "stream",
     "text": [
      "21\n"
     ]
    }
   ],
   "source": [
    "N, M = map(int, input().split())\n",
    "num_list = list(map(int, input().split()))\n",
    "\n",
    "result = 0\n",
    "\n",
    "for i in range(N):\n",
    "    for j in range(i+1, N):\n",
    "        for k in range(j+1, N):\n",
    "            if num_list[i] + num_list[j] + num_list[k] > M:\n",
    "                continue\n",
    "            else:\n",
    "                result = max(result, num_list[i] + num_list[j] + num_list[k])\n",
    "print(result)"
   ]
  },
  {
   "cell_type": "code",
   "execution_count": null,
   "metadata": {
    "vscode": {
     "languageId": "python"
    }
   },
   "outputs": [],
   "source": [
    "from itertools import combinations\n",
    "\n",
    "N, M = map(int, input().split())\n",
    "num_list = list(map(int, input().split()))\n",
    "\n",
    "sum_num = 0\n",
    "\n",
    "for i in combinations(num_list, 3):\n",
    "    tmp_sum = sum(i)\n",
    "    if sum_num < tmp_sum <= M:\n",
    "        sum_num = tmp_sum\n",
    "print(sum_num)\n"
   ]
  },
  {
   "cell_type": "markdown",
   "metadata": {},
   "source": [
    "https://www.acmicpc.net/problem/4948\n",
    "\n",
    "백준 베르트랑 공준\n",
    "\n",
    "실버2"
   ]
  },
  {
   "cell_type": "code",
   "execution_count": 7,
   "metadata": {
    "vscode": {
     "languageId": "python"
    }
   },
   "outputs": [
    {
     "name": "stdout",
     "output_type": "stream",
     "text": [
      "1\n",
      "10\n",
      "13\n",
      "100\n",
      "1000\n",
      "10000\n",
      "100000\n"
     ]
    }
   ],
   "source": [
    "#어렵다...ㅠㅠ\n",
    "# 에라토스테네스의 체를 이용하자!\n",
    "\n",
    "            "
   ]
  },
  {
   "cell_type": "markdown",
   "metadata": {},
   "source": [
    "https://school.programmers.co.kr/learn/courses/30/lessons/140107?language=python3\n",
    "\n",
    "프로그래머스 2단계 - 점 찍기\n",
    "\n",
    "math 공식 써서 풀기"
   ]
  },
  {
   "cell_type": "code",
   "execution_count": 18,
   "metadata": {
    "vscode": {
     "languageId": "python"
    }
   },
   "outputs": [],
   "source": [
    "# 시간 초과\n",
    "import math\n",
    "def solution(k, d):\n",
    "    answer = 0\n",
    "    for i in range(0, d+1, k):\n",
    "        for j in range(0, d+1, k):\n",
    "            tmp = math.sqrt((i ** 2) + (j ** 2))\n",
    "            print(tmp)\n",
    "            if tmp <= d:\n",
    "                print(i, j)\n",
    "                answer += 1\n",
    "            else:\n",
    "                print(i,j)\n",
    "                continue\n",
    "    \n",
    "    return answer"
   ]
  },
  {
   "cell_type": "code",
   "execution_count": 28,
   "metadata": {
    "vscode": {
     "languageId": "python"
    }
   },
   "outputs": [],
   "source": [
    "# math.sqrt를 사용하면 시간 초과가 뜬다.\n",
    "# 그래서 **0.5를 사용하자!\n",
    "def solution_2(k, d):\n",
    "    answer = 0\n",
    "    for i in range(0, d+1, k):\n",
    "        y = int((d*d - i*i)**0.5)\n",
    "        print('I:', i)\n",
    "        print('y:',y)\n",
    "        print('y//k:',y//k)\n",
    "        answer += (y//k + 1)\n",
    "        print('answer:',answer)\n",
    "    return answer"
   ]
  },
  {
   "cell_type": "code",
   "execution_count": 29,
   "metadata": {
    "vscode": {
     "languageId": "python"
    }
   },
   "outputs": [
    {
     "name": "stdout",
     "output_type": "stream",
     "text": [
      "I: 0\n",
      "y: 4\n",
      "y//k: 2\n",
      "answer: 3\n",
      "I: 2\n",
      "y: 3\n",
      "y//k: 1\n",
      "answer: 5\n",
      "I: 4\n",
      "y: 0\n",
      "y//k: 0\n",
      "answer: 6\n"
     ]
    },
    {
     "data": {
      "text/plain": [
       "6"
      ]
     },
     "execution_count": 29,
     "metadata": {},
     "output_type": "execute_result"
    }
   ],
   "source": [
    "solution_2(2,4)"
   ]
  },
  {
   "cell_type": "markdown",
   "metadata": {},
   "source": [
    "https://school.programmers.co.kr/learn/courses/30/lessons/134239\n",
    "\n",
    "프로그래머스 레벨 2 - 우박수열 정적분"
   ]
  },
  {
   "cell_type": "code",
   "execution_count": null,
   "metadata": {
    "vscode": {
     "languageId": "python"
    }
   },
   "outputs": [],
   "source": [
    "def solution(k, ranges):\n",
    "    answer = []\n",
    "    return answer"
   ]
  },
  {
   "cell_type": "markdown",
   "metadata": {},
   "source": [
    "https://www.acmicpc.net/submit/4344\n",
    "\n",
    "백준 브2\n",
    "\n",
    "평균은 넘겠지"
   ]
  },
  {
   "cell_type": "code",
   "execution_count": null,
   "metadata": {
    "vscode": {
     "languageId": "python"
    }
   },
   "outputs": [],
   "source": [
    "num = int(input())\n",
    "for _ in range(num):\n",
    "    scores = list(map(int, input().split()))\n",
    "    avg = sum(scores[1:])/scores[0]\n",
    "\n",
    "    cnt = 0\n",
    "    for i in scores[1:]:\n",
    "        if i > avg:\n",
    "            cnt += 1\n",
    "    per = (cnt/scores[0])*100\n",
    "    print('%.3f'%per+'%')"
   ]
  },
  {
   "cell_type": "markdown",
   "metadata": {},
   "source": [
    "https://www.acmicpc.net/problem/1546\n",
    "\n",
    "백준 평균\n",
    "\n",
    "브론즈1"
   ]
  },
  {
   "cell_type": "code",
   "execution_count": 13,
   "metadata": {
    "vscode": {
     "languageId": "python"
    }
   },
   "outputs": [
    {
     "name": "stdout",
     "output_type": "stream",
     "text": [
      "3\n",
      "40 80 60\n",
      "75.0\n"
     ]
    }
   ],
   "source": [
    "num = int(input())\n",
    "score = list(map(int, input().split()))\n",
    "\n",
    "result = 0\n",
    "max_score = max(score)\n",
    "for i in score:\n",
    "    tmp = i/max_score*100\n",
    "    result += tmp\n",
    "\n",
    "print(result/num)\n",
    "\n",
    "        "
   ]
  },
  {
   "cell_type": "code",
   "execution_count": null,
   "metadata": {
    "vscode": {
     "languageId": "python"
    }
   },
   "outputs": [],
   "source": [
    "# 다른 풀이 속도 빠른거\n",
    "input()\n",
    "l=list(map(int,input().split()))\n",
    "print(sum(l)/len(l)/max(l)*100)"
   ]
  },
  {
   "cell_type": "markdown",
   "metadata": {},
   "source": [
    "https://www.acmicpc.net/problem/2775\n",
    "\n",
    "백준 브1\n",
    "\n",
    "부녀회장"
   ]
  },
  {
   "cell_type": "code",
   "execution_count": 14,
   "metadata": {
    "vscode": {
     "languageId": "python"
    }
   },
   "outputs": [
    {
     "name": "stdout",
     "output_type": "stream",
     "text": [
      "2\n",
      "1\n",
      "3\n",
      "6\n",
      "2\n",
      "3\n",
      "10\n"
     ]
    }
   ],
   "source": [
    "T = int(input())\n",
    "\n",
    "for _ in range(T):\n",
    "    floor = int(input())\n",
    "    room = int(input())\n",
    "    f0 = [x for x in range(1, room+1)]\n",
    "    for i in range(floor):\n",
    "        for j in range(1, room):\n",
    "            f0[j] += f0[j-1]\n",
    "    print(f0[-1])\n",
    "            \n",
    "            "
   ]
  },
  {
   "cell_type": "markdown",
   "metadata": {},
   "source": [
    "https://www.acmicpc.net/problem/2941\n",
    "\n",
    "백준 실버5\n",
    "\n",
    "크로아티아 알파벳"
   ]
  },
  {
   "cell_type": "code",
   "execution_count": 4,
   "metadata": {
    "vscode": {
     "languageId": "python"
    }
   },
   "outputs": [
    {
     "name": "stdout",
     "output_type": "stream",
     "text": [
      "c=c-dz=abc\n",
      "6\n"
     ]
    }
   ],
   "source": [
    "al = ['c=','c-','dz=','d-','lj','nj','s=','z=']\n",
    "\n",
    "input_str = input()\n",
    "\n",
    "for i in al:\n",
    "    input_str = input_str.replace(i, '*')\n",
    "print(len(input_str))"
   ]
  },
  {
   "cell_type": "markdown",
   "metadata": {},
   "source": [
    "https://www.acmicpc.net/problem/1747\n",
    "\n",
    "백준 실버1\n",
    "\n",
    "소수&팰린드롬"
   ]
  },
  {
   "cell_type": "code",
   "execution_count": 5,
   "metadata": {
    "vscode": {
     "languageId": "python"
    }
   },
   "outputs": [
    {
     "name": "stdout",
     "output_type": "stream",
     "text": [
      "10\n"
     ]
    }
   ],
   "source": [
    "import math\n",
    "\n",
    "def isPrime(x): # 소수인지 판별해주는 함수\n",
    "    for i in range(2, int(math.sqrt(x)+1)):\n",
    "        if x % i == 0:\n",
    "            return False\n",
    "    return True\n",
    "\n",
    "N = int(input())\n",
    "result = 0\n",
    "\n",
    "for i in range(N, 1000001):\n",
    "    if i == 1:\n",
    "        continue\n",
    "    if str(i) == str(i)[::-1]:\n",
    "        if isPrime(i) == True:\n",
    "            result = i\n",
    "            break\n",
    "if result == 0:\n",
    "    result = 1003001\n",
    "print(result)\n"
   ]
  },
  {
   "attachments": {},
   "cell_type": "markdown",
   "metadata": {},
   "source": [
    "https://www.acmicpc.net/problem/1316\n",
    "\n",
    "백준 실5\n",
    "\n",
    "그룹 단어 체커"
   ]
  },
  {
   "cell_type": "code",
   "execution_count": null,
   "metadata": {
    "vscode": {
     "languageId": "python"
    }
   },
   "outputs": [],
   "source": [
    "N = int(input())\n",
    "cnt = N\n",
    "\n",
    "for i in range(N):\n",
    "    word = input()\n",
    "    for j in range(len(word)-1):\n",
    "        if word[j] == word[j+1]:\n",
    "            pass\n",
    "        elif word[j] in word[j+1:]:\n",
    "            cnt -= 1\n",
    "            break\n",
    "print(cnt)"
   ]
  },
  {
   "cell_type": "markdown",
   "metadata": {
    "collapsed": false
   },
   "source": [
    "https://www.acmicpc.net/problem/1110\n",
    "\n",
    "백준 브1\n",
    "\n",
    "더하기 사이클"
   ]
  },
  {
   "cell_type": "code",
   "execution_count": 6,
   "metadata": {
    "vscode": {
     "languageId": "python"
    }
   },
   "outputs": [
    {
     "name": "stdout",
     "output_type": "stream",
     "text": [
      "60\n"
     ]
    }
   ],
   "source": [
    "n = int(input())\n",
    "num = n\n",
    "cnt = 0\n",
    "\n",
    "while True:\n",
    "    first_num = num // 10\n",
    "    second_num = num % 10\n",
    "    next_num = (first_num + second_num) % 10\n",
    "    num = (second_num*10) + next_num\n",
    "\n",
    "    cnt += 1\n",
    "    if (num == n):\n",
    "        break\n",
    "print(cnt)"
   ]
  },
  {
   "cell_type": "markdown",
   "metadata": {
    "collapsed": false
   },
   "source": [
    "https://www.acmicpc.net/problem/9020\n",
    "\n",
    "백준 실2\n",
    "\n",
    "골드바흐 추측"
   ]
  },
  {
   "cell_type": "code",
   "execution_count": 24,
   "metadata": {
    "vscode": {
     "languageId": "python"
    }
   },
   "outputs": [
    {
     "name": "stdout",
     "output_type": "stream",
     "text": [
      "3 5\n",
      "5 5\n",
      "5 11\n"
     ]
    }
   ],
   "source": [
    "N = int(input())\n",
    "\n",
    "def prime_num(n):\n",
    "    for i in range(2, n):\n",
    "        if n % i != 0:\n",
    "            pass\n",
    "        else:\n",
    "            return False\n",
    "\n",
    "    return True\n",
    "\n",
    "for _ in range(N):\n",
    "    num = int(input())\n",
    "    for i in range(num//2, 0, -1):\n",
    "        if prime_num(i) and prime_num(num-i):\n",
    "            print(i, num-i)\n",
    "            break"
   ]
  },
  {
   "cell_type": "code",
   "execution_count": 20,
   "metadata": {
    "vscode": {
     "languageId": "python"
    }
   },
   "outputs": [],
   "source": [
    "def prime_num(n):\n",
    "    for i in range(2, n):\n",
    "        if n % i != 0:\n",
    "            pass\n",
    "        else:\n",
    "            return 0\n",
    "\n",
    "    return True"
   ]
  },
  {
   "cell_type": "code",
   "execution_count": 23,
   "metadata": {
<<<<<<< Updated upstream:coding-test/baekjoon/baekjoon_coding_test.ipynb
    "collapsed": false,
    "vscode": {
     "languageId": "python"
    }
=======
    "collapsed": false
>>>>>>> Stashed changes:baekjoon_coding_test.ipynb
   },
   "outputs": [
    {
     "data": {
      "text/plain": [
       "0"
      ]
     },
     "execution_count": 23,
     "metadata": {},
     "output_type": "execute_result"
    }
   ],
   "source": [
    "prime_num(4)"
   ]
  },
  {
   "cell_type": "code",
   "execution_count": 17,
   "metadata": {
    "vscode": {
     "languageId": "python"
    }
   },
   "outputs": [],
   "source": [
    "def is_prime_num(n):\n",
    "    arr = [True] * (n + 1) # 특정 수가 지워졌는지 아닌지 확인하기 위한 배열\n",
    "    arr[0] = False\n",
    "    arr[1] = False\n",
    "\n",
    "    for i in range(2, n + 1):\n",
    "        if arr[i] == True: # 특정 수가 지워지지 않았다면 (소수여서)\n",
    "            j = 2\n",
    "\n",
    "            while (i * j) <= n:\n",
    "                arr[i*j] = False # i의 배수의 값을 False로 지워준다.\n",
    "                j += 1\n",
    "\n",
    "    return arr"
   ]
  },
  {
   "cell_type": "code",
   "execution_count": 18,
   "metadata": {
    "vscode": {
     "languageId": "python"
    }
   },
   "outputs": [
    {
     "data": {
      "text/plain": [
       "[False, False, True]"
      ]
     },
     "execution_count": 18,
     "metadata": {},
     "output_type": "execute_result"
    }
   ],
   "source": [
    "is_prime_num(2)"
   ]
  },
  {
   "attachments": {},
   "cell_type": "markdown",
   "metadata": {},
   "source": [
    "테스트"
   ]
  },
  {
   "cell_type": "code",
   "execution_count": 1,
   "metadata": {
    "vscode": {
     "languageId": "python"
    }
   },
   "outputs": [
    {
     "name": "stdout",
     "output_type": "stream",
     "text": [
      "6\n",
      "7\n",
      "8\n"
     ]
    }
   ],
   "source": [
    "x = 0\n",
    "\n",
    "while x < 10:\n",
    "    x += 1\n",
    "    if x <= 5:\n",
    "        continue\n",
    "    if x > 8:\n",
    "        break\n",
    "    print(x)"
   ]
  },
  {
   "cell_type": "code",
   "execution_count": 3,
   "metadata": {
    "vscode": {
     "languageId": "python"
    }
   },
   "outputs": [
    {
     "name": "stdout",
     "output_type": "stream",
     "text": [
      "[1, 2, 3, 4, [6, 7, 8, 9]]\n"
     ]
    }
   ],
   "source": [
    "num1 = [1,2,3,4]\n",
    "num2 = [6,7,8,9]\n",
    "\n",
    "num1.append(num2)\n",
    "len(num1)\n",
    "print(num1)"
   ]
  },
  {
   "cell_type": "markdown",
   "metadata": {},
   "source": [
    "https://www.acmicpc.net/problem/11051\n",
    "\n",
    "백준 실2\n",
    "\n",
    "이항 계수 2"
   ]
  },
  {
   "cell_type": "code",
   "execution_count": 1,
   "metadata": {
    "vscode": {
     "languageId": "python"
    }
   },
   "outputs": [],
   "source": [
    "import sys\n",
    "input = sys.stdin.readline\n",
    "\n",
    "N, K = map(int, input().split())\n",
    "\n",
    "result = 1\n",
    "for i in range(K):\n",
    "    result *= N\n",
    "    N -=1\n",
    "tmp = 1\n",
    "for i in range(2, K+1):\n",
    "    tmp *= i\n",
    "    \n",
    "print((result//tmp)%10007)"
   ]
  },
  {
   "cell_type": "markdown",
   "metadata": {},
   "source": [
    "https://www.acmicpc.net/problem/1002\n",
    "\n",
    "백준 실3\n",
    "\n",
    "터렛"
   ]
  },
  {
   "cell_type": "code",
   "execution_count": null,
   "metadata": {
    "vscode": {
     "languageId": "python"
    }
   },
   "outputs": [],
   "source": [
    "import sys\n",
    "input = sys.stdin.readline\n",
    "\n",
    "N = int(input())\n",
    "for i in range(N):\n",
    "    x1, y1, r1, x2, y2, r2 = map(int, input().split())\n",
    "    d = ((x1-x2)**2 + (y1-y2)**2)**0.5\n",
    "    if d == 0:\n",
    "        if r1 == r2:\n",
    "            print(-1)\n",
    "        else:\n",
    "            print(0)\n",
    "\n",
    "    else:\n",
    "        if d == r1 + r2 or d == abs(r1-r2):\n",
    "            print(1)\n",
    "        elif d > r1 + r2 or d < abs(r1-r2):\n",
    "            print(0)\n",
    "        else:\n",
    "            print(2)\n",
    "\n"
   ]
  },
  {
   "cell_type": "markdown",
   "metadata": {},
   "source": [
    "https://www.acmicpc.net/problem/11047\n",
    "\n",
    "백준 실버4\n",
    "\n",
    "동전 0"
   ]
  },
  {
   "cell_type": "code",
   "execution_count": null,
   "metadata": {
    "vscode": {
     "languageId": "python"
    }
   },
   "outputs": [],
   "source": [
    "import sys\n",
    "input = sys.stdin.readline\n",
    "\n",
    "N, K  = map(int, input().split())\n",
    "money_lisy = []\n",
    "for i in range(N):\n",
    "    money_lisy.append(int(input()))\n",
    "\n",
    "money_lisy.sort(reverse=True)\n",
    "cnt = 0\n",
    "for i in money_lisy:\n",
    "    if K >= i:\n",
    "        cnt += K//i\n",
    "        K = K%i\n",
    "print(cnt)\n"
   ]
  },
  {
   "attachments": {},
   "cell_type": "markdown",
   "metadata": {},
   "source": [
    "https://www.acmicpc.net/problem/1931\n",
    "\n",
    "백준 실버1\n",
    "\n",
    "회의실 배정ㅣ"
   ]
  },
  {
   "cell_type": "code",
   "execution_count": null,
   "metadata": {
    "vscode": {
     "languageId": "python"
    }
   },
   "outputs": [],
   "source": [
    "N = int(input())\n",
    "time = sorted([tuple(map(int, input().split())) for _ in range(N)], key=lambda x: (x[1], x[0]))\n",
    "answer = end = 0\n",
    "\n",
    "for s, e in time:\n",
    "    if s >= end:\n",
    "        answer += 1\n",
    "        end = e\n",
    "print(answer)"
   ]
  },
  {
   "attachments": {},
   "cell_type": "markdown",
   "metadata": {},
   "source": [
    "https://www.acmicpc.net/problem/1541\n",
    "\n",
    "백준 실버2\n",
    "\n",
    "잃어버린 괄호"
   ]
  },
  {
   "cell_type": "code",
   "execution_count": 4,
   "metadata": {
    "vscode": {
     "languageId": "python"
    }
   },
   "outputs": [
    {
     "name": "stdout",
     "output_type": "stream",
     "text": [
      "[9, 9]\n",
      "0\n"
     ]
    }
   ],
   "source": [
    "a = input().split('-')\n",
    "num_list = []\n",
    "\n",
    "for i in a:\n",
    "    cnt = 0\n",
    "    b = i.split('+')\n",
    "    for j in b:\n",
    "        cnt += int(j)\n",
    "    num_list.append(cnt)\n",
    "print(num_list)\n",
    "n = num_list[0]\n",
    "\n",
    "for i in range(1, len(num_list)):\n",
    "    n -= num_list[i]\n",
    "\n",
    "print(n)"
   ]
  },
  {
   "cell_type": "code",
   "execution_count": 13,
   "metadata": {
    "vscode": {
     "languageId": "python"
    }
   },
   "outputs": [],
   "source": [
    "def solution(prices):\n",
    "    answer = [0] * len(prices)\n",
    "    for i in range(len(prices)):\n",
    "        for j in range(i+1, len(prices)):\n",
    "            answer[i]+= 1\n",
    "            if prices[i] > prices[j]:\n",
    "                break\n",
    "          \n",
    "    return answer"
   ]
  },
  {
   "cell_type": "code",
   "execution_count": 14,
   "metadata": {
    "vscode": {
     "languageId": "python"
    }
   },
   "outputs": [
    {
     "data": {
      "text/plain": [
       "[4, 3, 1, 1, 0]"
      ]
     },
     "execution_count": 14,
     "metadata": {},
     "output_type": "execute_result"
    }
   ],
   "source": [
    "prices = [1, 2, 3, 2, 3]\n",
    "solution(prices)"
   ]
  },
  {
   "cell_type": "code",
   "execution_count": 15,
   "metadata": {
    "vscode": {
     "languageId": "python"
    }
   },
   "outputs": [],
   "source": [
    "def solution(priorities, location):\n",
    "    answer = priorities\n",
    "    for i in range(len(priorities)):\n",
    "        for j in range(i+1, len(priorities)):\n",
    "            if priorities[j] >= priorities[i]:\n",
    "                answer = answer[1:]\n",
    "                answer.append(priorities[i])\n",
    "            else:\n",
    "                continue\n",
    "    return answer"
   ]
  },
  {
   "cell_type": "code",
   "execution_count": null,
   "metadata": {
    "vscode": {
     "languageId": "python"
    }
   },
   "outputs": [],
   "source": [
    "priorities = [2, 1, 3, 2]\n",
    "location =2"
   ]
  },
  {
   "cell_type": "code",
   "execution_count": null,
   "metadata": {
    "vscode": {
     "languageId": "python"
    }
   },
   "outputs": [],
   "source": [
    "def solution(priorities, location):\n",
    "    priorities = [(v, idx) for idx, v in enumerate(priorities)]\n",
    "    count = 0\n",
    "    while True:\n",
    "        if priorities[0][0] == max(priorities)[0]:\n",
    "            count += 1\n",
    "            if priorities[0][1] == location:\n",
    "                break\n",
    "            priorities.pop(0)\n",
    "        else:\n",
    "            priorities.append(priorities.pop(0))\n",
    "    return count"
   ]
  },
  {
   "cell_type": "code",
   "execution_count": 177,
   "metadata": {
    "vscode": {
     "languageId": "python"
    }
   },
   "outputs": [],
   "source": [
    "data1 = [[1,0,5],[2,2,2],[3,3,1],[4,4,1],[5,10,2]]\n",
    "data2 = [[1,2,10],[2,5,8],[3,6,9],[4,20,6],[5,25,5]]\n",
    "data3 = [[1,0,3],[2,1,3],[3,3,2],[4,9,1],[5,10,2]]"
   ]
  },
  {
   "cell_type": "code",
   "execution_count": 178,
   "metadata": {
    "vscode": {
     "languageId": "python"
    }
   },
   "outputs": [],
   "source": [
    "#프린터출력 문서번호, 시작시간, 작업시간\n",
    "#작업시간이 짧은 순서대로 출력\n",
    "#작업시간이 같다면 문서번호가 빠른 순서대로 출력\n",
    "#작업시간이 같고 문서번호도 같다면 먼저 들어온 순서대로 출력\n",
    "\n",
    "def solution(data):\n",
    "    data = sorted(data, key=lambda x: (x[1], x[2]))\n",
    "    answer = []\n",
    "    wait = []\n",
    "    sec = 0\n",
    "    answer.append(data[0][0])\n",
    "    sec = data[0][1] + data[0][2]\n",
    "    data.pop(0)\n",
    "    \n",
    "    print(data)\n",
    "    print(sec)\n",
    "\n",
    "   \n",
    "    \n",
    "\n",
    "    return answer\n"
   ]
  },
  {
   "cell_type": "code",
   "execution_count": 179,
   "metadata": {
    "vscode": {
     "languageId": "python"
    }
   },
   "outputs": [
    {
     "name": "stdout",
     "output_type": "stream",
     "text": [
      "[[2, 2, 2], [3, 3, 1], [4, 4, 1], [5, 10, 2]]\n",
      "5\n",
      "[[4, 4, 1], [2, 2, 2]]\n"
     ]
    },
    {
     "data": {
      "text/plain": [
       "[1, 4]"
      ]
     },
     "execution_count": 179,
     "metadata": {},
     "output_type": "execute_result"
    }
   ],
   "source": [
    "solution(data1)"
   ]
  },
  {
   "cell_type": "code",
   "execution_count": 222,
   "metadata": {
    "vscode": {
     "languageId": "python"
    }
   },
   "outputs": [],
   "source": [
    "data1 = [[1,0,5],[2,2,2],[3,3,1],[4,4,1],[5,10,2]]\n",
    "data2 = [[1,2,10],[2,5,8],[3,6,9],[4,20,6],[5,25,5]]\n",
    "data3 = [[1,0,3],[2,1,3],[3,3,2],[4,9,1],[5,10,2]]"
   ]
  },
  {
   "cell_type": "code",
   "execution_count": 223,
   "metadata": {
    "vscode": {
     "languageId": "python"
    }
   },
   "outputs": [],
   "source": [
    "wait = []\n",
    "answer = []\n",
    "sec = 0\n",
    "\n",
    "def wait_append(data, sec):\n",
    "    for i in data:\n",
    "        if i[1] <= sec:\n",
    "            wait.append(i)\n",
    "            data.remove(i)\n",
    "    for j in wait:\n",
    "        sec += j[2]\n",
    "    return data, wait\n",
    "\n",
    "def solution(data):\n",
    "    answer = []\n",
    "    sec = 0\n",
    "    wait = []\n",
    "    data.sort(key=lambda x: (x[1]))\n",
    "    print(data)\n",
    "    sec = data[0][1] + data[0][2]\n",
    "    answer.append(data[0][0])\n",
    "    data.pop(0)\n",
    "    \n",
    "    print(wait_append(data, sec))\n",
    "    \n",
    "    \n",
    "\n",
    "    return answer\n"
   ]
  },
  {
   "cell_type": "code",
   "execution_count": 224,
   "metadata": {
    "vscode": {
     "languageId": "python"
    }
   },
   "outputs": [
    {
     "name": "stdout",
     "output_type": "stream",
     "text": [
      "[[1, 0, 3], [2, 1, 3], [3, 3, 2], [4, 9, 1], [5, 10, 2]]\n",
      "([[3, 3, 2], [4, 9, 1], [5, 10, 2]], [[2, 1, 3]])\n"
     ]
    },
    {
     "data": {
      "text/plain": [
       "[1]"
      ]
     },
     "execution_count": 224,
     "metadata": {},
     "output_type": "execute_result"
    }
   ],
   "source": [
    "solution(data3)"
   ]
  },
  {
   "cell_type": "code",
   "execution_count": null,
   "metadata": {
    "vscode": {
     "languageId": "python"
    }
   },
   "outputs": [],
   "source": []
  },
  {
   "cell_type": "code",
   "execution_count": null,
   "metadata": {
    "vscode": {
     "languageId": "python"
    }
   },
   "outputs": [],
   "source": []
  },
  {
   "cell_type": "code",
   "execution_count": null,
   "metadata": {
    "vscode": {
     "languageId": "python"
    }
   },
   "outputs": [],
   "source": []
  },
  {
   "cell_type": "code",
   "execution_count": null,
   "metadata": {
    "vscode": {
     "languageId": "python"
    }
   },
   "outputs": [],
   "source": [
    "def solution(grid):\n",
    "    answer = []\n",
    "    for i in range(len(grid)):\n",
    "        grid[i]\n",
    "        for j in range(len(grid[i])):\n",
    "\n",
    "    return answer"
   ]
  },
  {
   "attachments": {},
   "cell_type": "markdown",
   "metadata": {},
   "source": [
    "https://www.acmicpc.net/problem/18870\n",
    "\n",
    "백준 실버2\n",
    "\n",
    "좌표 압축"
   ]
  },
  {
   "cell_type": "code",
   "execution_count": 6,
   "metadata": {
    "vscode": {
     "languageId": "python"
    }
   },
   "outputs": [
    {
     "name": "stdout",
     "output_type": "stream",
     "text": [
      "2 3 0 3 1 "
     ]
    }
   ],
   "source": [
    "#풀이는 맞지만 시간 초과.... 짜증나네?\n",
    "N = int(input())\n",
    "num_list = list(map(int, input().split()))\n",
    "\n",
    "for i in range(N):\n",
    "    cnt = 0\n",
    "    for j in range(N):\n",
    "        #cnt = 0\n",
    "        if num_list[i] > num_list[j]:\n",
    "            cnt += 1\n",
    "        else:\n",
    "            continue\n",
    "    print(cnt, end=' ')"
   ]
  },
  {
   "cell_type": "code",
   "execution_count": 7,
   "metadata": {
    "vscode": {
     "languageId": "python"
    }
   },
   "outputs": [],
   "source": [
    "# 시간 복잡도 줄인 버전\n",
    "# dic, sys로 줄임\n",
    "import sys\n",
    "\n",
    "input = sys.stdin.readline\n",
    "\n",
    "N = int(input())\n",
    "num_list = list(map(int, input().split()))\n",
    "\n",
    "idx_num = sorted(list(set(num_list)))\n",
    "idx_dict = {idx_num[i]:i for i in range(len(idx_num))}\n",
    "\n",
    "for i in num_list:\n",
    "    print(idx_dict[i], end=' ')\n"
   ]
  },
  {
   "cell_type": "markdown",
   "metadata": {
    "vscode": {
     "languageId": "python"
    }
   },
   "source": [
    "https://www.acmicpc.net/problem/11399\n",
    "\n",
    "백준 실버4\n",
    "\n",
    "그리디 알고리즘\n",
    "\n",
    "ATM"
   ]
  },
  {
   "cell_type": "code",
   "execution_count": null,
   "metadata": {
    "vscode": {
     "languageId": "python"
    }
   },
   "outputs": [
    {
     "ename": "",
     "evalue": "",
     "output_type": "error",
     "traceback": [
      "\u001b[1;31mThe kernel failed to start as a dll could not be loaded.\n",
      "\u001b[1;31m자세한 내용을 보려면 <a href='https://aka.ms/kernelFailuresDllLoad'>여기</a>를 클릭합니다."
     ]
    }
   ],
   "source": [
    "N = int(input())\n",
    "num_list = list(map(int, input().split()))\n",
    "\n",
    "num_list = sorted(num_list)\n",
    "print(num_list)"
   ]
  },
  {
   "cell_type": "code",
   "execution_count": null,
   "metadata": {
    "vscode": {
     "languageId": "python"
    }
   },
   "outputs": [],
   "source": []
  },
  {
   "cell_type": "code",
   "execution_count": null,
   "metadata": {
    "vscode": {
     "languageId": "python"
    }
   },
   "outputs": [],
   "source": []
  },
  {
   "cell_type": "code",
   "execution_count": null,
   "metadata": {
    "vscode": {
     "languageId": "python"
    }
   },
   "outputs": [],
   "source": []
  },
  {
   "cell_type": "code",
   "execution_count": null,
   "metadata": {
    "vscode": {
     "languageId": "python"
    }
   },
   "outputs": [],
   "source": []
  }
 ],
 "metadata": {
  "kernelspec": {
<<<<<<< Updated upstream:coding-test/baekjoon/baekjoon_coding_test.ipynb
   "display_name": "cote",
   "language": "python",
   "name": "cote"
=======
   "display_name": "Python 3.7.15 ('cote')",
   "language": "python",
   "name": "python3"
  },
  "language_info": {
   "codemirror_mode": {
    "name": "ipython",
    "version": 3
   },
   "file_extension": ".py",
   "mimetype": "text/x-python",
   "name": "python",
   "nbconvert_exporter": "python",
   "pygments_lexer": "ipython3",
   "version": "3.7.15"
>>>>>>> Stashed changes:baekjoon_coding_test.ipynb
  },
  "vscode": {
   "interpreter": {
    "hash": "9b82df0975fe984d01dacbb357b9eed7660c0abf523cbde32e759786ce5c2da4"
   }
  }
 },
 "nbformat": 4,
 "nbformat_minor": 2
}
