{
 "cells": [
  {
   "cell_type": "code",
   "execution_count": 8,
   "metadata": {},
   "outputs": [
    {
     "name": "stdout",
     "output_type": "stream",
     "text": [
      "3\n"
     ]
    }
   ],
   "source": [
    "n = int(input())"
   ]
  },
  {
   "cell_type": "code",
   "execution_count": 15,
   "metadata": {},
   "outputs": [
    {
     "name": "stdout",
     "output_type": "stream",
     "text": [
      "3\n",
      "40 80 70\n",
      "50 10 20\n",
      "100 70 30\n",
      "[[40, 80, 70], [50, 10, 20], [100, 70, 30]]\n",
      "[0, 0, 0]\n"
     ]
    }
   ],
   "source": [
    "n = int(input())\n",
    "\n",
    "score = [list(map(int, input().split())) for _ in range(3)]\n",
    "\n",
    "total = [0] * n\n",
    "\n",
    "print(score)\n",
    "print(total)"
   ]
  },
  {
   "cell_type": "code",
   "execution_count": 19,
   "metadata": {},
   "outputs": [
    {
     "name": "stdout",
     "output_type": "stream",
     "text": [
      "[40, 70, 80]\n",
      "40 80\n",
      "[10, 20, 50]\n",
      "10 50\n",
      "[30, 70, 100]\n",
      "30 100\n"
     ]
    }
   ],
   "source": [
    "for i in score:\n",
    "    print(i)\n",
    "    min_score = min(i)\n",
    "    max_score = max(i)\n",
    "    print(min_score, max_score)"
   ]
  },
  {
   "cell_type": "code",
   "execution_count": null,
   "metadata": {},
   "outputs": [],
   "source": []
  }
 ],
 "metadata": {
  "kernelspec": {
   "display_name": "cote",
   "language": "python",
   "name": "cote"
  },
  "language_info": {
   "codemirror_mode": {
    "name": "ipython",
    "version": 3
   },
   "file_extension": ".py",
   "mimetype": "text/x-python",
   "name": "python",
   "nbconvert_exporter": "python",
   "pygments_lexer": "ipython3",
   "version": "3.7.15"
  },
  "vscode": {
   "interpreter": {
    "hash": "9b82df0975fe984d01dacbb357b9eed7660c0abf523cbde32e759786ce5c2da4"
   }
  }
 },
 "nbformat": 4,
 "nbformat_minor": 2
}
