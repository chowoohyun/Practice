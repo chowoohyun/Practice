{
 "cells": [
  {
   "cell_type": "code",
   "execution_count": null,
   "metadata": {},
   "outputs": [],
   "source": [
    "# sample input\n",
    "\n",
    "'''\n",
    "5\n",
    "12 10\n",
    "1B3B3B81F75E\n",
    "16 2\n",
    "F53586D76286B2D8\n",
    "20 14\n",
    "88F611AE414A751A767B\n",
    "24 16\n",
    "044D3EBA6A647B2567A91D0E\n",
    "28 11\n",
    "8E0B7DD258D4122317E3ADBFEA99\n",
    "'''"
   ]
  },
  {
   "cell_type": "code",
   "execution_count": null,
   "metadata": {},
   "outputs": [],
   "source": [
    "# sample output\n",
    "\n",
    "#1 503\n",
    "#2 55541\n",
    "#3 334454\n",
    "#4 5667473\n",
    "#5 182189737"
   ]
  },
  {
   "cell_type": "code",
   "execution_count": 23,
   "metadata": {},
   "outputs": [
    {
     "name": "stdout",
     "output_type": "stream",
     "text": [
      "[5, 1, 2, 3, 4]\n"
     ]
    }
   ],
   "source": [
    "# 16진법의 10진법 변환 방법\n",
    "\n",
    "# 1\n",
    "int('f', 16)\n",
    "\n",
    "# 리스트에서 맨 뒷자리를 빼서 맨 앞자리에 붙이는 방법\n",
    "\n",
    "test_data = [1, 2, 3, 4, 5]\n",
    "# insert and pop 활용\n",
    "test_data.insert(0, test_data.pop())\n",
    "print(test_data)\n",
    "\n",
    "# 두가지를 활용해서 바꿔보자\n"
   ]
  },
  {
   "cell_type": "code",
   "execution_count": 30,
   "metadata": {},
   "outputs": [],
   "source": [
    "n = 12\n",
    "k = 10\n",
    "data = '1B3B3B81F75E'"
   ]
  },
  {
   "cell_type": "code",
   "execution_count": 32,
   "metadata": {},
   "outputs": [
    {
     "name": "stdout",
     "output_type": "stream",
     "text": [
      "#1 503\n"
     ]
    }
   ],
   "source": [
    "T = int(input())\n",
    "for tc in range(T):\n",
    "    N, K = map(int, input().split())\n",
    "    A = list(input())\n",
    "    turn = N//4\n",
    "    result = 0\n",
    "    L = []\n",
    "    for _ in range(turn):\n",
    "        for i in range(0, N, turn):\n",
    "            temp = int(''.join(A[i:i+turn]), 16)\n",
    "            if temp not in L:\n",
    "                L.append(temp)\n",
    "        A = [A[-1]] + A[:-1]\n",
    "    print(\"#{} {}\".format(tc+1, sorted(L, reverse=True)[K-1]))"
   ]
  },
  {
   "cell_type": "code",
   "execution_count": 31,
   "metadata": {},
   "outputs": [
    {
     "name": "stdout",
     "output_type": "stream",
     "text": [
      "E\n",
      "['E', '1', 'B', '3', 'B', '3', 'B', '8', '1', 'F', '7', '5']\n",
      "5\n",
      "['5', 'E', '1', 'B', '3', 'B', '3', 'B', '8', '1', 'F', '7']\n",
      "7\n",
      "['7', '5', 'E', '1', 'B', '3', 'B', '3', 'B', '8', '1', 'F']\n",
      "#1 225\n"
     ]
    }
   ],
   "source": [
    "cnt = n//4\n",
    "arr = []\n",
    "data_list = list(map(str, data))\n",
    "\n",
    "for i in range(cnt):\n",
    "    pop = data_list.pop()\n",
    "    print(pop)\n",
    "    data_list.insert(0, pop)\n",
    "    print(data_list)\n",
    "    for j in range(0, n, cnt):\n",
    "        a = ''\n",
    "        for k in range(i, j+cnt):\n",
    "            a += data_list[k]\n",
    "        arr.append(a)\n",
    "\n",
    "new_arr = set(arr)\n",
    "answer = []\n",
    "for num in new_arr:\n",
    "    answer.append(int(num, 16))\n",
    "\n",
    "sorted_answer = sorted(answer, reverse=True)\n",
    "print('#{} {}'.format(1, sorted_answer[k-1]))"
   ]
  },
  {
   "cell_type": "code",
   "execution_count": 28,
   "metadata": {},
   "outputs": [
    {
     "name": "stdout",
     "output_type": "stream",
     "text": [
      "E\n",
      "5\n",
      "7\n",
      "#1 225\n"
     ]
    }
   ],
   "source": [
    "cnt = n//4\n",
    "arr = []\n",
    "data_list = list(map(str, data))\n",
    "\n",
    "for i in range(cnt):\n",
    "    pop = data_list.pop()\n",
    "    print(pop)\n",
    "    data_list.insert(0, pop)\n",
    "    for j in range(0, n, cnt):\n",
    "        a = ''\n",
    "        for k in range(i, j+cnt):\n",
    "            a += data_list[k]\n",
    "        arr.append(a)\n",
    "\n",
    "new_arr = set(arr)\n",
    "answer = []\n",
    "for num in new_arr:\n",
    "    answer.append(int(num, 16))\n",
    "\n",
    "sorted_answer = sorted(answer, reverse=True)\n",
    "print('#{} {}'.format(1, sorted_answer[k-1]))"
   ]
  },
  {
   "cell_type": "code",
   "execution_count": 19,
   "metadata": {},
   "outputs": [
    {
     "ename": "TypeError",
     "evalue": "'str' object cannot be interpreted as an integer",
     "output_type": "error",
     "traceback": [
      "\u001b[1;31m---------------------------------------------------------------------------\u001b[0m",
      "\u001b[1;31mTypeError\u001b[0m                                 Traceback (most recent call last)",
      "\u001b[1;32m~\\AppData\\Local\\Temp\\ipykernel_23424\\1913377726.py\u001b[0m in \u001b[0;36m<module>\u001b[1;34m\u001b[0m\n\u001b[1;32m----> 1\u001b[1;33m \u001b[0mdec2hex\u001b[0m\u001b[1;33m(\u001b[0m\u001b[0mdata\u001b[0m\u001b[1;33m)\u001b[0m\u001b[1;33m\u001b[0m\u001b[1;33m\u001b[0m\u001b[0m\n\u001b[0m",
      "\u001b[1;32m~\\AppData\\Local\\Temp\\ipykernel_23424\\2397530360.py\u001b[0m in \u001b[0;36mdec2hex\u001b[1;34m(data)\u001b[0m\n\u001b[0;32m      3\u001b[0m \u001b[1;33m\u001b[0m\u001b[0m\n\u001b[0;32m      4\u001b[0m \u001b[1;32mdef\u001b[0m \u001b[0mdec2hex\u001b[0m\u001b[1;33m(\u001b[0m\u001b[0mdata\u001b[0m\u001b[1;33m)\u001b[0m\u001b[1;33m:\u001b[0m\u001b[1;33m\u001b[0m\u001b[1;33m\u001b[0m\u001b[0m\n\u001b[1;32m----> 5\u001b[1;33m     \u001b[1;32mreturn\u001b[0m \u001b[0mhex\u001b[0m\u001b[1;33m(\u001b[0m\u001b[0mdata\u001b[0m\u001b[1;33m)\u001b[0m\u001b[1;33m[\u001b[0m\u001b[1;36m2\u001b[0m\u001b[1;33m:\u001b[0m\u001b[1;33m]\u001b[0m\u001b[1;33m.\u001b[0m\u001b[0mupper\u001b[0m\u001b[1;33m(\u001b[0m\u001b[1;33m)\u001b[0m\u001b[1;33m\u001b[0m\u001b[1;33m\u001b[0m\u001b[0m\n\u001b[0m\u001b[0;32m      6\u001b[0m \u001b[1;33m\u001b[0m\u001b[0m\n\u001b[0;32m      7\u001b[0m \u001b[1;32mdef\u001b[0m \u001b[0mrotate\u001b[0m\u001b[1;33m(\u001b[0m\u001b[0mdata\u001b[0m\u001b[1;33m)\u001b[0m\u001b[1;33m:\u001b[0m\u001b[1;33m\u001b[0m\u001b[1;33m\u001b[0m\u001b[0m\n",
      "\u001b[1;31mTypeError\u001b[0m: 'str' object cannot be interpreted as an integer"
     ]
    }
   ],
   "source": []
  },
  {
   "cell_type": "code",
   "execution_count": null,
   "metadata": {},
   "outputs": [],
   "source": []
  }
 ],
 "metadata": {
  "kernelspec": {
   "display_name": "cote",
   "language": "python",
   "name": "python3"
  },
  "language_info": {
   "codemirror_mode": {
    "name": "ipython",
    "version": 3
   },
   "file_extension": ".py",
   "mimetype": "text/x-python",
   "name": "python",
   "nbconvert_exporter": "python",
   "pygments_lexer": "ipython3",
   "version": "3.7.15"
  },
  "orig_nbformat": 4
 },
 "nbformat": 4,
 "nbformat_minor": 2
}
