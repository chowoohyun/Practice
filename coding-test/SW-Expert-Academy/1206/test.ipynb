{
 "cells": [
  {
   "cell_type": "code",
   "execution_count": 1,
   "metadata": {},
   "outputs": [
    {
     "name": "stdout",
     "output_type": "stream",
     "text": [
      "691\n"
     ]
    }
   ],
   "source": [
    "n = int(input())\n",
    "\n",
    "heights = list(map(int, input().split()))\n",
    "cnt = 0\n",
    "\n",
    "check = [-1,-2,1,2]\n",
    "\n",
    "for i in range(2, n-2):\n",
    "    check_list = []\n",
    "    for j in check:\n",
    "        check_list.append(heights[i+j])\n",
    "    if max(check_list) > heights[i]:\n",
    "        continue\n",
    "\n",
    "    cnt += heights[i] - max(check_list)\n",
    "\n"
   ]
  },
  {
   "cell_type": "code",
   "execution_count": null,
   "metadata": {},
   "outputs": [],
   "source": []
  }
 ],
 "metadata": {
  "kernelspec": {
   "display_name": "cote",
   "language": "python",
   "name": "python3"
  },
  "language_info": {
   "codemirror_mode": {
    "name": "ipython",
    "version": 3
   },
   "file_extension": ".py",
   "mimetype": "text/x-python",
   "name": "python",
   "nbconvert_exporter": "python",
   "pygments_lexer": "ipython3",
   "version": "3.7.15"
  },
  "orig_nbformat": 4
 },
 "nbformat": 4,
 "nbformat_minor": 2
}
