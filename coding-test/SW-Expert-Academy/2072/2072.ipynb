{
 "cells": [
  {
   "cell_type": "code",
   "execution_count": 1,
   "metadata": {},
   "outputs": [
    {
     "name": "stdout",
     "output_type": "stream",
     "text": [
      "#1 200\n",
      "#2 208\n",
      "#3 121\n"
     ]
    }
   ],
   "source": [
    "T = int(input())\n",
    "\n",
    "for tc in range(T):\n",
    "    nums = list(map(int, input().split()))\n",
    "    result = 0\n",
    "    for num in nums:\n",
    "        if num % 2 == 1:\n",
    "            result += num\n",
    "    print(f'#{tc+1} {result}')"
   ]
  },
  {
   "cell_type": "code",
   "execution_count": null,
   "metadata": {},
   "outputs": [],
   "source": []
  }
 ],
 "metadata": {
  "kernelspec": {
   "display_name": "cote",
   "language": "python",
   "name": "python3"
  },
  "language_info": {
   "codemirror_mode": {
    "name": "ipython",
    "version": 3
   },
   "file_extension": ".py",
   "mimetype": "text/x-python",
   "name": "python",
   "nbconvert_exporter": "python",
   "pygments_lexer": "ipython3",
   "version": "3.7.15"
  },
  "orig_nbformat": 4
 },
 "nbformat": 4,
 "nbformat_minor": 2
}
