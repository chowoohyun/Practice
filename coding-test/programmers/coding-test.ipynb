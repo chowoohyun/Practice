{
 "cells": [
  {
   "cell_type": "code",
   "execution_count": 8,
   "metadata": {},
   "outputs": [],
   "source": [
    "from datetime import datetime, timedelta\n",
    "\n",
    "today = \"2022.05.19\"\n",
    "terms = \t[\"A 6\", \"B 12\", \"C 3\"]\n",
    "privacies = [\"2021.05.02 A\", \"2021.07.01 B\", \"2022.02.19 C\", \"2022.02.20 C\"]\n",
    "\n",
    "def solution(today, terms, privacies):\n",
    "    answer = []\n",
    "    today = datetime.strptime(today, '%Y.%m.%d')\n",
    "    print(today)\n",
    "\n",
    "\n",
    "    return answer"
   ]
  },
  {
   "cell_type": "code",
   "execution_count": 9,
   "metadata": {},
   "outputs": [
    {
     "name": "stdout",
     "output_type": "stream",
     "text": [
      "2022-05-19 00:00:00\n",
      "2022-05-25 00:00:00\n",
      "2022-05-31 00:00:00\n",
      "2022-05-22 00:00:00\n"
     ]
    },
    {
     "data": {
      "text/plain": [
       "[['A', datetime.datetime(2022, 5, 25, 0, 0)],\n",
       " ['B', datetime.datetime(2022, 5, 31, 0, 0)],\n",
       " ['C', datetime.datetime(2022, 5, 22, 0, 0)]]"
      ]
     },
     "execution_count": 9,
     "metadata": {},
     "output_type": "execute_result"
    }
   ],
   "source": [
    "solution(today, terms, privacies)"
   ]
  },
  {
   "cell_type": "code",
   "execution_count": null,
   "metadata": {},
   "outputs": [],
   "source": []
  },
  {
   "cell_type": "code",
   "execution_count": null,
   "metadata": {},
   "outputs": [],
   "source": []
  },
  {
   "cell_type": "code",
   "execution_count": null,
   "metadata": {},
   "outputs": [],
   "source": []
  },
  {
   "cell_type": "code",
   "execution_count": null,
   "metadata": {},
   "outputs": [],
   "source": []
  },
  {
   "cell_type": "code",
   "execution_count": null,
   "metadata": {},
   "outputs": [],
   "source": []
  }
 ],
 "metadata": {
  "kernelspec": {
   "display_name": "Python 3",
   "language": "python",
   "name": "python3"
  },
  "language_info": {
   "codemirror_mode": {
    "name": "ipython",
    "version": 3
   },
   "file_extension": ".py",
   "mimetype": "text/x-python",
   "name": "python",
   "nbconvert_exporter": "python",
   "pygments_lexer": "ipython3",
   "version": "3.9.13"
  },
  "orig_nbformat": 4,
  "vscode": {
   "interpreter": {
    "hash": "00ee76699285989ab0153aba5008b82838f25880af8093963e333c843f2d3f6a"
   }
  }
 },
 "nbformat": 4,
 "nbformat_minor": 2
}
