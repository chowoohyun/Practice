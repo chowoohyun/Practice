{
 "cells": [
  {
   "cell_type": "code",
   "execution_count": 7,
   "metadata": {},
   "outputs": [],
   "source": [
    "from datetime import datetime\n",
    "\n",
    "today = \"2022.05.19\"\n",
    "terms = \t[\"A 6\", \"B 12\", \"C 3\"]\n",
    "privacies = [\"2021.05.02 A\", \"2021.07.01 B\", \"2022.02.19 C\", \"2022.02.20 C\"]\n",
    "\n",
    "def solution(today, terms, privacies):\n",
    "    \n",
    "    return answer"
   ]
  },
  {
   "cell_type": "code",
   "execution_count": 8,
   "metadata": {},
   "outputs": [
    {
     "ename": "AttributeError",
     "evalue": "type object 'datetime.datetime' has no attribute 'timedelta'",
     "output_type": "error",
     "traceback": [
      "\u001b[1;31m---------------------------------------------------------------------------\u001b[0m",
      "\u001b[1;31mAttributeError\u001b[0m                            Traceback (most recent call last)",
      "Cell \u001b[1;32mIn[8], line 1\u001b[0m\n\u001b[1;32m----> 1\u001b[0m solution(today, terms, privacies)\n",
      "Cell \u001b[1;32mIn[7], line 18\u001b[0m, in \u001b[0;36msolution\u001b[1;34m(today, terms, privacies)\u001b[0m\n\u001b[0;32m     16\u001b[0m     \u001b[39mfor\u001b[39;00m j \u001b[39min\u001b[39;00m terms:\n\u001b[0;32m     17\u001b[0m         \u001b[39mif\u001b[39;00m privacy[\u001b[39m1\u001b[39m] \u001b[39m==\u001b[39m j[\u001b[39m0\u001b[39m]:\n\u001b[1;32m---> 18\u001b[0m             \u001b[39mif\u001b[39;00m privacy[\u001b[39m0\u001b[39m] \u001b[39m+\u001b[39m datetime\u001b[39m.\u001b[39;49mtimedelta(days \u001b[39m=\u001b[39m \u001b[39mint\u001b[39m(j[\u001b[39m2\u001b[39m])) \u001b[39m>\u001b[39m today:\n\u001b[0;32m     19\u001b[0m                 answer\u001b[39m.\u001b[39mappend(privacy[\u001b[39m1\u001b[39m])\n\u001b[0;32m     20\u001b[0m \u001b[39mreturn\u001b[39;00m answer\n",
      "\u001b[1;31mAttributeError\u001b[0m: type object 'datetime.datetime' has no attribute 'timedelta'"
     ]
    }
   ],
   "source": [
    "solution(today, terms, privacies)"
   ]
  }
 ],
 "metadata": {
  "kernelspec": {
   "display_name": "Python 3",
   "language": "python",
   "name": "python3"
  },
  "language_info": {
   "codemirror_mode": {
    "name": "ipython",
    "version": 3
   },
   "file_extension": ".py",
   "mimetype": "text/x-python",
   "name": "python",
   "nbconvert_exporter": "python",
   "pygments_lexer": "ipython3",
   "version": "3.9.13"
  },
  "orig_nbformat": 4,
  "vscode": {
   "interpreter": {
    "hash": "00ee76699285989ab0153aba5008b82838f25880af8093963e333c843f2d3f6a"
   }
  }
 },
 "nbformat": 4,
 "nbformat_minor": 2
}
