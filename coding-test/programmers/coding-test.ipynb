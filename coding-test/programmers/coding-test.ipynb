{
 "cells": [
  {
   "cell_type": "code",
   "execution_count": null,
   "metadata": {},
   "outputs": [],
   "source": [
    "from datetime import datetime\n",
    "\n",
    "today = \"2022.05.19\"\n",
    "terms = \t[\"A 6\", \"B 12\", \"C 3\"]\n",
    "privacies = [\"2021.05.02 A\", \"2021.07.01 B\", \"2022.02.19 C\", \"2022.02.20 C\"]\n",
    "\n",
    "def solution(today, terms, privacies):\n",
    "    answer = []\n",
    "    today = datetime.strptime(today, '%Y.%m.%d')\n",
    "    for term in terms:\n",
    "        term = term.split()\n",
    "        for privacy in privacies:\n",
    "            privacy = privacy.split()\n",
    "            privacy_date = datetime.strptime(privacy[0], '%Y.%m.%d')\n",
    "            if term[0] == privacy[1] and (today - privacy_date).days <= int(term[1]):\n",
    "                answer.append(privacy[1])\n",
    "    return sorted(list(set(answer)))"
   ]
  }
 ],
 "metadata": {
  "kernelspec": {
   "display_name": "Python 3",
   "language": "python",
   "name": "python3"
  },
  "language_info": {
   "name": "python",
   "version": "3.9.13 (tags/v3.9.13:6de2ca5, May 17 2022, 16:36:42) [MSC v.1929 64 bit (AMD64)]"
  },
  "orig_nbformat": 4,
  "vscode": {
   "interpreter": {
    "hash": "00ee76699285989ab0153aba5008b82838f25880af8093963e333c843f2d3f6a"
   }
  }
 },
 "nbformat": 4,
 "nbformat_minor": 2
}
