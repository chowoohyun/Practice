{
 "cells": [
  {
   "cell_type": "code",
   "execution_count": 8,
   "metadata": {},
   "outputs": [],
   "source": [
    "from datetime import datetime, timedelta\n",
    "\n",
    "today = \"2022.05.19\"\n",
    "terms = \t[\"A 6\", \"B 12\", \"C 3\"]\n",
    "privacies = [\"2021.05.02 A\", \"2021.07.01 B\", \"2022.02.19 C\", \"2022.02.20 C\"]\n",
    "\n",
    "def solution(today, terms, privacies):\n",
    "    answer = []\n",
    "    today = datetime.strptime(today, '%Y.%m.%d')\n",
    "    print(today)\n",
    "\n",
    "\n",
    "    return answer"
   ]
  },
  {
   "cell_type": "code",
   "execution_count": 9,
   "metadata": {},
   "outputs": [
    {
     "name": "stdout",
     "output_type": "stream",
     "text": [
      "2022-05-19 00:00:00\n",
      "2022-05-25 00:00:00\n",
      "2022-05-31 00:00:00\n",
      "2022-05-22 00:00:00\n"
     ]
    },
    {
     "data": {
      "text/plain": [
       "[['A', datetime.datetime(2022, 5, 25, 0, 0)],\n",
       " ['B', datetime.datetime(2022, 5, 31, 0, 0)],\n",
       " ['C', datetime.datetime(2022, 5, 22, 0, 0)]]"
      ]
     },
     "execution_count": 9,
     "metadata": {},
     "output_type": "execute_result"
    }
   ],
   "source": [
    "solution(today, terms, privacies)"
   ]
  },
  {
   "cell_type": "code",
   "execution_count": null,
   "metadata": {},
   "outputs": [],
   "source": [
    "# programers coding test\n",
    "# 합승 택시 요금\n",
    "# reference: https://foameraserblue.tistory.com/192\n",
    "# 다익스트라 개념만 참고\n",
    "\n",
    "import heapq\n",
    "\n",
    "def solution(n, s, a, b, fares):\n",
    "    answer = 10000000\n",
    "    graph = [[]*(n+1) for _ in range(n+1)]\n",
    "\n",
    "    for i in fares:\n",
    "        node_1, node_2, f = i\n",
    "        graph[node_1].append((node_2, f))\n",
    "        graph[node_2].append((node_1, f))\n",
    "    \n",
    "    def dijkstra(s):\n",
    "        q = []\n",
    "        heapq.heappush(q, (0, s))\n",
    "        dist = [answer]*(n+1)\n",
    "        dist[s] = 0\n",
    "\n",
    "        while q:\n",
    "            cost, node = heapq.heappop(q)\n",
    "            if dist[node] < cost:\n",
    "                continue\n",
    "            for i in graph[node]:\n",
    "                cost_2 = cost + i[1]\n",
    "                if cost_2 < dist[i[0]]:\n",
    "                    dist[i[0]] = cost_2\n",
    "                    heapq.heappush(q, (cost_2, i[0]))\n",
    "        return dist\n",
    "    dist_list = [[]] + [dijkstra(i) for i in range(1, n+1)]\n",
    "\n",
    "    for i in range(1, n+1):\n",
    "        answer = min(answer, dist_list[s][i] + dist_list[i][a] + dist_list[i][b])\n",
    "    return answer"
   ]
  },
  {
   "cell_type": "code",
   "execution_count": null,
   "metadata": {},
   "outputs": [],
   "source": []
  },
  {
   "cell_type": "code",
   "execution_count": 13,
   "metadata": {},
   "outputs": [],
   "source": [
    "import heapq\n",
    "n = 6\n",
    "s = 4\n",
    "a = 6\n",
    "b = 2\n",
    "fares = [[4, 1, 10], [3, 5, 24], [5, 6, 2], [3, 1, 41], [5, 1, 24], [4, 6, 50], [2, 4, 66], [2, 3, 22], [1, 6, 25]]\n",
    "\n",
    "def solution(n, s, a, b, fares):\n",
    "    answer = 10000000\n",
    "    graph = [[]*(n+1) for _ in range(n+1)]\n",
    "\n",
    "    for i in fares:\n",
    "        node_1, node_2, f = i\n",
    "        graph[node_1].append((node_2, f))\n",
    "        graph[node_2].append((node_1, f))\n",
    "    \n",
    "    def dijkstra(s):\n",
    "        q = []\n",
    "        heapq.heappush(q, (0, s))\n",
    "        dist = [answer]*(n+1)\n",
    "        dist[s] = 0\n",
    "\n",
    "        while q:\n",
    "            cost, node = heapq.heappop(q)\n",
    "            if dist[node] < cost:\n",
    "                continue\n",
    "            for i in graph[node]:\n",
    "                cost_2 = cost + i[1]\n",
    "                #print(cost_2)\n",
    "                if cost_2 < dist[i[0]]:\n",
    "                    #print(dist[i[0]])\n",
    "                    dist[i[0]] = cost_2\n",
    "                    heapq.heappush(q, (cost_2, i[0]))\n",
    "        return dist\n",
    "    dist_list = [[]] + [dijkstra(i) for i in range(1, n+1)]\n",
    "\n",
    "    for i in range(1, n+1):\n",
    "        answer = min(answer, dist_list[s][i] + dist_list[i][a] + dist_list[i][b])\n",
    "    return answer"
   ]
  },
  {
   "cell_type": "code",
   "execution_count": 14,
   "metadata": {},
   "outputs": [
    {
     "data": {
      "text/plain": [
       "82"
      ]
     },
     "execution_count": 14,
     "metadata": {},
     "output_type": "execute_result"
    }
   ],
   "source": [
    "solution(n, s, a, b, fares)"
   ]
  },
  {
   "cell_type": "code",
   "execution_count": 17,
   "metadata": {},
   "outputs": [],
   "source": [
    "def solution2(n, s, a, b, fares):\n",
    "    d = [ [ 20000001 for _ in range(n) ] for _ in range(n) ]\n",
    "    for x in range(n):\n",
    "        d[x][x] = 0\n",
    "    #print(d)\n",
    "    for x, y, c in fares:\n",
    "        #print(x,y,c)\n",
    "        d[x-1][y-1] = c\n",
    "        d[y-1][x-1] = c\n",
    "\n",
    "    for i in range(n):\n",
    "        for j in range(n):\n",
    "            for k in range(n):\n",
    "                if d[j][k] > d[j][i] + d[i][k]:\n",
    "                    d[j][k] = d[j][i] + d[i][k]\n",
    "\n",
    "    minv = 40000002\n",
    "    for i in range(n):\n",
    "        minv = min(minv, d[s-1][i]+d[i][a-1]+d[i][b-1])\n",
    "    return minv"
   ]
  },
  {
   "cell_type": "code",
   "execution_count": 18,
   "metadata": {},
   "outputs": [
    {
     "data": {
      "text/plain": [
       "82"
      ]
     },
     "execution_count": 18,
     "metadata": {},
     "output_type": "execute_result"
    }
   ],
   "source": [
    "solution2(n, s, a, b, fares)"
   ]
  },
  {
   "cell_type": "code",
   "execution_count": null,
   "metadata": {},
   "outputs": [],
   "source": [
    "from collections import deque\n",
    "N, M = map(int, input().split())\n",
    "arr = [[0]*N for _ in range(N)]\n",
    "for i in range(N):\n",
    "    li = list(map(int, input().split()))\n",
    "    for j in range(N):\n",
    "        arr[i][j] = li[j]\n",
    "def find_Max():\n",
    "    global arr, N, M\n",
    "    dx = [-1, 1, 0, 0]\n",
    "    dy = [0, 0, -1, 1]\n",
    "    visit = [[False]*N for _ in range(N)]\n",
    "    maxVal = 0\n",
    "    maxStart = []\n",
    "    for i in range(N):\n",
    "        for j in range(N):\n",
    "            if visit[i][j] is False and arr[i][j] > 0:\n",
    "                visit[i][j] = True\n",
    "                now = arr[i][j]\n",
    "                zeros = []\n",
    "                q = deque()\n",
    "                cnt = 1\n",
    "                q.append((i,j))\n",
    "                rainbow = 0\n",
    "                while q:\n",
    "                    x, y = q.popleft()\n",
    "                    for l in range(4):\n",
    "                        xx = dx[l] + x\n",
    "                        yy = dy[l] + y\n",
    "                        if 0<=xx<N and 0<=yy<N and (arr[xx][yy] == now or arr[xx][yy] == 0) and visit[xx][yy] is False:\n",
    "                            visit[xx][yy] = True\n",
    "                            if arr[xx][yy] == 0:\n",
    "                                zeros.append((xx,yy))\n",
    "                                rainbow += 1\n",
    "                            q.append((xx,yy))\n",
    "                            cnt += 1\n",
    "                if cnt >= maxVal:\n",
    "                    if cnt > maxVal:\n",
    "                        maxStart = []\n",
    "                    maxVal = cnt\n",
    "                    maxStart.append((-rainbow, -i,-j))\n",
    "                for zero in zeros:\n",
    "                    visit[zero[0]][zero[1]] = False\n",
    "    if not maxStart:\n",
    "        return 0\n",
    "    if maxVal <= 1:\n",
    "        return 0\n",
    "    maxStart.sort()\n",
    "    maxStart = (-maxStart[0][1], -maxStart[0][2])\n",
    "    now = arr[maxStart[0]][maxStart[1]]\n",
    "    q = deque()\n",
    "    q.append(maxStart)\n",
    "    visit = [[False] * N for _ in range(N)]\n",
    "    visit[maxStart[0]][maxStart[1]] = True\n",
    "    while q:\n",
    "        x, y = q.popleft()\n",
    "        arr[x][y] = -2\n",
    "        for l in range(4):\n",
    "            xx = dx[l] + x\n",
    "            yy = dy[l] + y\n",
    "            if 0 <= xx < N and 0 <= yy < N and (arr[xx][yy] == now or arr[xx][yy] == 0) and visit[xx][yy] is False:\n",
    "                visit[xx][yy] = True\n",
    "                q.append((xx, yy))\n",
    "    return maxVal*maxVal\n",
    "\n",
    "def grarvity():\n",
    "    global arr\n",
    "    # 열별로\n",
    "    for j in range(N):\n",
    "        ind = N-1\n",
    "        for i in range(N-1, -1, -1):\n",
    "            if arr[i][j] == -2:\n",
    "                continue\n",
    "            if arr[i][j] == -1:\n",
    "                ind = i-1\n",
    "                continue\n",
    "            if ind == i:\n",
    "                ind -=1\n",
    "                continue\n",
    "            arr[ind][j] = arr[i][j]\n",
    "            arr[i][j] = -2\n",
    "            ind -= 1\n",
    "def rotate():\n",
    "    global arr\n",
    "    res = []\n",
    "    for j in range(N-1, -1, -1):\n",
    "        temp = []\n",
    "        for i in range(N):\n",
    "            temp.append(arr[i][j])\n",
    "        res.append(temp)\n",
    "    arr= res\n",
    "\n",
    "result = 0\n",
    "while True:\n",
    "    score = find_Max()\n",
    "    result += score\n",
    "    if score == 0:\n",
    "        break\n",
    "    grarvity()\n",
    "    rotate()\n",
    "    grarvity()\n",
    "print(result)"
   ]
  }
 ],
 "metadata": {
  "kernelspec": {
   "display_name": "Python 3",
   "language": "python",
   "name": "python3"
  },
  "language_info": {
   "codemirror_mode": {
    "name": "ipython",
    "version": 3
   },
   "file_extension": ".py",
   "mimetype": "text/x-python",
   "name": "python",
   "nbconvert_exporter": "python",
   "pygments_lexer": "ipython3",
   "version": "3.7.15"
  },
  "orig_nbformat": 4,
  "vscode": {
   "interpreter": {
    "hash": "00ee76699285989ab0153aba5008b82838f25880af8093963e333c843f2d3f6a"
   }
  }
 },
 "nbformat": 4,
 "nbformat_minor": 2
}
