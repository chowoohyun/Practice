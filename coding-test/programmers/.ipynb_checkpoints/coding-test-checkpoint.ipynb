{
 "cells": [
  {
   "cell_type": "code",
   "execution_count": 8,
   "metadata": {},
   "outputs": [],
   "source": [
    "from datetime import datetime, timedelta\n",
    "\n",
    "today = \"2022.05.19\"\n",
    "terms = \t[\"A 6\", \"B 12\", \"C 3\"]\n",
    "privacies = [\"2021.05.02 A\", \"2021.07.01 B\", \"2022.02.19 C\", \"2022.02.20 C\"]\n",
    "\n",
    "def solution(today, terms, privacies):\n",
    "    answer = []\n",
    "    today = datetime.strptime(today, '%Y.%m.%d')\n",
    "    print(today)\n",
    "\n",
    "\n",
    "    return answer"
   ]
  },
  {
   "cell_type": "code",
   "execution_count": null,
   "metadata": {},
   "outputs": [],
   "source": []
  },
  {
   "cell_type": "code",
   "execution_count": 9,
   "metadata": {},
   "outputs": [
    {
     "name": "stdout",
     "output_type": "stream",
     "text": [
      "2022-05-19 00:00:00\n",
      "2022-05-25 00:00:00\n",
      "2022-05-31 00:00:00\n",
      "2022-05-22 00:00:00\n"
     ]
    },
    {
     "data": {
      "text/plain": [
       "[['A', datetime.datetime(2022, 5, 25, 0, 0)],\n",
       " ['B', datetime.datetime(2022, 5, 31, 0, 0)],\n",
       " ['C', datetime.datetime(2022, 5, 22, 0, 0)]]"
      ]
     },
     "execution_count": 9,
     "metadata": {},
     "output_type": "execute_result"
    }
   ],
   "source": [
    "solution(today, terms, privacies)"
   ]
  },
  {
   "cell_type": "code",
   "execution_count": null,
   "metadata": {},
   "outputs": [],
   "source": [
    "# programers coding test\n",
    "# 합승 택시 요금\n",
    "# reference: https://foameraserblue.tistory.com/192\n",
    "# 다익스트라 개념만 참고\n",
    "\n",
    "import heapq\n",
    "\n",
    "def solution(n, s, a, b, fares):\n",
    "    answer = 10000000\n",
    "    graph = [[]*(n+1) for _ in range(n+1)]\n",
    "\n",
    "    for i in fares:\n",
    "        node_1, node_2, f = i\n",
    "\n",
    "        graph[node_1].append((node_2, f))\n",
    "        graph[node_2].append((node_1, f))\n",
    "    \n",
    "    def dijkstra(s):\n",
    "        q = []\n",
    "        heapq.heappush(q, (0, s))\n",
    "\n",
    "        dist = [answer]*(n+1)\n",
    "        dist[s] = 0\n",
    "\n",
    "        while q:\n",
    "            cost, node = heapq.heappop(q)\n",
    "            if dist[node] < cost:\n",
    "                continue\n",
    "            for i in graph[node]:\n",
    "                cost_2 = cost + i[1]\n",
    "                if cost_2 < dist[i[0]]:\n",
    "                    dist[i[0]] = cost_2\n",
    "                    heapq.heappush(q, (cost_2, i[0]))\n",
    "        return dist\n",
    "    dist_list = [[]] + [dijkstra(i) for i in range(1, n+1)]\n",
    "\n",
    "    for i in range(1, n+1):\n",
    "        answer = min(answer, dist_list[s][i] + dist_list[i][a] + dist_list[i][b])\n",
    "    return answer"
   ]
  },
  {
   "cell_type": "code",
   "execution_count": null,
   "metadata": {},
   "outputs": [],
   "source": []
  },
  {
   "cell_type": "code",
   "execution_count": 13,
   "metadata": {},
   "outputs": [],
   "source": [
    "import heapq\n",
    "\n",
    "def solution(n, s, a, b, fares):\n",
    "    answer = 10000000\n",
    "    graph = [[]*(n+1) for _ in range(n+1)]\n",
    "\n",
    "    for i in fares:\n",
    "        node_1, node_2, f = i\n",
    "        graph[node_1].append((node_2, f))\n",
    "        graph[node_2].append((node_1, f))\n",
    "    \n",
    "    def dijkstra(s):\n",
    "        q = []\n",
    "        heapq.heappush(q, (0, s))\n",
    "        dist = [answer]*(n+1)\n",
    "        dist[s] = 0\n",
    "        \n",
    "        while q:\n",
    "            cost, node = heapq.heappop(q)\n",
    "            if dist[node] < cost:\n",
    "                continue\n",
    "            for i in graph[node]:\n",
    "                cost_2 = cost + i[1]\n",
    "                if cost_2 < dist[i[0]]:\n",
    "                    dist[i[0]] = cost_2\n",
    "                    heapq.heappush(q, (cost_2, i[0]))\n",
    "        return dist\n",
    "    dist_list = [[]] + [dijkstra(i) for i in range(1, n+1)]\n",
    "\n",
    "    for i in range(1, n+1):\n",
    "        answer = min(answer, dist_list[s][i] + dist_list[i][a] + dist_list[i][b])\n",
    "    return answer"
   ]
  },
  {
   "cell_type": "code",
   "execution_count": 17,
   "metadata": {},
   "outputs": [],
   "source": [
    "# 플로이드 마샬\n",
    "def solution2(n, s, a, b, fares):\n",
    "    d = [ [ 20000001 for _ in range(n) ] for _ in range(n) ]\n",
    "    for x in range(n):\n",
    "        d[x][x] = 0\n",
    "   \n",
    "    for x, y, c in fares:\n",
    "        \n",
    "        d[x-1][y-1] = c\n",
    "        d[y-1][x-1] = c\n",
    "\n",
    "    for i in range(n):\n",
    "        for j in range(n):\n",
    "            for k in range(n):\n",
    "                if d[j][k] > d[j][i] + d[i][k]:\n",
    "                    d[j][k] = d[j][i] + d[i][k]\n",
    "\n",
    "    minv = 40000002\n",
    "    for i in range(n):\n",
    "        minv = min(minv, d[s-1][i]+d[i][a-1]+d[i][b-1])\n",
    "    return minv"
   ]
  },
  {
   "cell_type": "code",
   "execution_count": 2,
   "metadata": {},
   "outputs": [],
   "source": [
    "# 올바른 괄호\n",
    "\n",
    "def solution(s):\n",
    "    answer = True\n",
    "    stack = []\n",
    "    for i in s:\n",
    "        if i == '(':\n",
    "            stack.append(i)\n",
    "            print(stack)\n",
    "        else:\n",
    "            if len(stack) == 0:\n",
    "                return False\n",
    "            else:\n",
    "                print(stack)\n",
    "                stack.pop()\n",
    "                print(stack)\n",
    "    if len(stack) == 0:\n",
    "        return True\n",
    "    else:\n",
    "        return False"
   ]
  },
  {
   "cell_type": "code",
   "execution_count": 3,
   "metadata": {},
   "outputs": [
    {
     "name": "stdout",
     "output_type": "stream",
     "text": [
      "['(']\n",
      "['(']\n",
      "[]\n",
      "['(']\n",
      "['(']\n",
      "[]\n"
     ]
    },
    {
     "data": {
      "text/plain": [
       "False"
      ]
     },
     "execution_count": 3,
     "metadata": {},
     "output_type": "execute_result"
    }
   ],
   "source": [
    "solution(\"()())\")"
   ]
  },
  {
   "cell_type": "code",
   "execution_count": 7,
   "metadata": {},
   "outputs": [],
   "source": [
    "board1 = [[0, 0, 0, 0, 0], [0, 0, 0, 0, 0], [0, 0, 0, 0, 0], [0, 0, 1, 1, 0], [0, 0, 0, 0, 0]]\n",
    "board2 = [[0, 0, 0, 0, 0], [0, 0, 0, 0, 0], [0, 0, 0, 0, 0], [0, 0, 1, 0, 0], [0, 0, 0, 0, 0]]"
   ]
  },
  {
   "cell_type": "code",
   "execution_count": 14,
   "metadata": {},
   "outputs": [],
   "source": [
    "import numpy as np\n",
    "def solution(board):\n",
    "    board = np.array(board)\n",
    "    for a, b in zip(*np.where(board == 1)):\n",
    "        print(a,b)\n",
    "        board[a-1 if a else 0:a+2, b-1 if b else 0:b+2] = 1\n",
    "        print(board)\n",
    "        print('end')\n",
    "    #print(board)\n",
    "    return len(board[board == 0])"
   ]
  },
  {
   "cell_type": "code",
   "execution_count": 15,
   "metadata": {},
   "outputs": [
    {
     "name": "stdout",
     "output_type": "stream",
     "text": [
      "3 2\n",
      "[[0 0 0 0 0]\n",
      " [0 0 0 0 0]\n",
      " [0 1 1 1 0]\n",
      " [0 1 1 1 0]\n",
      " [0 1 1 1 0]]\n",
      "end\n"
     ]
    },
    {
     "data": {
      "text/plain": [
       "16"
      ]
     },
     "execution_count": 15,
     "metadata": {},
     "output_type": "execute_result"
    }
   ],
   "source": [
    "solution(board2)"
   ]
  },
  {
   "cell_type": "code",
   "execution_count": 16,
   "metadata": {},
   "outputs": [
    {
     "name": "stdout",
     "output_type": "stream",
     "text": [
      "3 2\n",
      "[[0 0 0 0 0]\n",
      " [0 0 0 0 0]\n",
      " [0 1 1 1 0]\n",
      " [0 1 1 1 0]\n",
      " [0 1 1 1 0]]\n",
      "end\n",
      "3 3\n",
      "[[0 0 0 0 0]\n",
      " [0 0 0 0 0]\n",
      " [0 1 1 1 1]\n",
      " [0 1 1 1 1]\n",
      " [0 1 1 1 1]]\n",
      "end\n"
     ]
    },
    {
     "data": {
      "text/plain": [
       "13"
      ]
     },
     "execution_count": 16,
     "metadata": {},
     "output_type": "execute_result"
    }
   ],
   "source": [
    "solution(board1)"
   ]
  },
  {
   "cell_type": "code",
   "execution_count": null,
   "metadata": {},
   "outputs": [],
   "source": []
  }
 ],
 "metadata": {
  "kernelspec": {
   "display_name": "Python 3 (ipykernel)",
   "language": "python",
   "name": "python3"
  },
  "language_info": {
   "codemirror_mode": {
    "name": "ipython",
    "version": 3
   },
   "file_extension": ".py",
   "mimetype": "text/x-python",
   "name": "python",
   "nbconvert_exporter": "python",
   "pygments_lexer": "ipython3",
   "version": "3.7.15"
  },
  "vscode": {
   "interpreter": {
    "hash": "00ee76699285989ab0153aba5008b82838f25880af8093963e333c843f2d3f6a"
   }
  }
 },
 "nbformat": 4,
 "nbformat_minor": 2
}
