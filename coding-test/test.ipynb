{
 "cells": [
  {
   "cell_type": "code",
   "execution_count": 14,
   "metadata": {},
   "outputs": [
    {
     "data": {
      "text/plain": [
       "16"
      ]
     },
     "execution_count": 14,
     "metadata": {},
     "output_type": "execute_result"
    }
   ],
   "source": [
    "def solution(storey):\n",
    "    answer = 0\n",
    "    \n",
    "\n",
    "solution(2554)"
   ]
  },
  {
   "cell_type": "code",
   "execution_count": null,
   "metadata": {},
   "outputs": [],
   "source": [
    "def solution(storey):\n",
    "    answer, carry = 0, 0\n",
    "\n",
    "    storey = list(map(int, str(storey)))\n",
    "    idx = len(storey) - 1\n",
    "\n",
    "    while idx >= 0:\n",
    "        if storey[idx] == 10:\n",
    "            if idx == 0:\n",
    "                carry = 1\n",
    "            else:\n",
    "                storey[idx - 1] += 1\n",
    "\n",
    "        elif storey[idx] <= 4:\n",
    "            answer += storey[idx]\n",
    "\n",
    "        elif storey[idx] >= 6:\n",
    "            answer += 10 - storey[idx]\n",
    "\n",
    "            if idx == 0:\n",
    "                carry = 1\n",
    "            else:\n",
    "                storey[idx - 1] += 1\n",
    "\n",
    "        elif storey[idx] == 5:\n",
    "            answer += 5\n",
    "            has_to_up = False\n",
    "\n",
    "            temp = idx\n",
    "            while temp >= 0:\n",
    "                if storey[temp] <= 4:\n",
    "                    break\n",
    "                elif storey[temp] >= 6:\n",
    "                    has_to_up = True\n",
    "                    break\n",
    "\n",
    "                temp -= 1\n",
    "\n",
    "            if temp == -1 and storey[0] == 5:\n",
    "                has_to_up = True\n",
    "\n",
    "            if has_to_up:\n",
    "                storey[idx - 1] += 1\n",
    "\n",
    "        idx -= 1\n",
    "\n",
    "    return answer + carry"
   ]
  }
 ],
 "metadata": {
  "kernelspec": {
   "display_name": "coding-test",
   "language": "python",
   "name": "python3"
  },
  "language_info": {
   "codemirror_mode": {
    "name": "ipython",
    "version": 3
   },
   "file_extension": ".py",
   "mimetype": "text/x-python",
   "name": "python",
   "nbconvert_exporter": "python",
   "pygments_lexer": "ipython3",
   "version": "3.7.0 (default, Jun 28 2018, 08:04:48) [MSC v.1912 64 bit (AMD64)]"
  },
  "orig_nbformat": 4,
  "vscode": {
   "interpreter": {
    "hash": "d6ad6d17d433956241bd1971b03d3a544e0a3f8ae9b344efd23fe3ced4d7c8ac"
   }
  }
 },
 "nbformat": 4,
 "nbformat_minor": 2
}
