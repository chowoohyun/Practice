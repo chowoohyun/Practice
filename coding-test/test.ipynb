{
 "cells": [
  {
   "cell_type": "code",
   "execution_count": 1,
   "metadata": {
    "pycharm": {
     "is_executing": true
    }
   },
   "outputs": [],
   "source": [
    "def solution(storey):\n",
    "    answer = 0\n",
    "    \n",
    "\n",
    "solution(2554)"
   ]
  },
  {
   "cell_type": "code",
   "execution_count": null,
   "metadata": {},
   "outputs": [],
   "source": [
    "def solution(storey):\n",
    "    answer, carry = 0, 0\n",
    "\n",
    "    storey = list(map(int, str(storey)))\n",
    "    idx = len(storey) - 1\n",
    "\n",
    "    while idx >= 0:\n",
    "        if storey[idx] == 10:\n",
    "            if idx == 0:\n",
    "                carry = 1\n",
    "            else:\n",
    "                storey[idx - 1] += 1\n",
    "\n",
    "        elif storey[idx] <= 4:\n",
    "            answer += storey[idx]\n",
    "\n",
    "        elif storey[idx] >= 6:\n",
    "            answer += 10 - storey[idx]\n",
    "\n",
    "            if idx == 0:\n",
    "                carry = 1\n",
    "            else:\n",
    "                storey[idx - 1] += 1\n",
    "\n",
    "        elif storey[idx] == 5:\n",
    "            answer += 5\n",
    "            has_to_up = False\n",
    "\n",
    "            temp = idx\n",
    "            while temp >= 0:\n",
    "                if storey[temp] <= 4:\n",
    "                    break\n",
    "                elif storey[temp] >= 6:\n",
    "                    has_to_up = True\n",
    "                    break\n",
    "\n",
    "                temp -= 1\n",
    "\n",
    "            if temp == -1 and storey[0] == 5:\n",
    "                has_to_up = True\n",
    "\n",
    "            if has_to_up:\n",
    "                storey[idx - 1] += 1\n",
    "\n",
    "        idx -= 1\n",
    "\n",
    "    return answer + carry"
   ]
  },
  {
   "cell_type": "code",
   "execution_count": null,
   "metadata": {},
   "outputs": [],
   "source": [
    "from collections import deque\n",
    "\n",
    "def BFS_with_adj_list(graph, start):\n",
    "    visited = []\n",
    "    queue = deque([start])\n",
    "\n",
    "    while queue:\n",
    "        n = queue.popleft()\n",
    "        if n not in visited:\n",
    "            visited.append(n)\n",
    "            queue.extend(graph[n])\n",
    "\n",
    "    return visited\n",
    "\n"
   ]
  },
  {
   "cell_type": "code",
   "execution_count": null,
   "metadata": {},
   "outputs": [],
   "source": [
    "# 위의 그래프를 예시로 삼아서 인접 리스트 방식으로 표현했습니다!\n",
    "graph = {\n",
    "    1: [2, 5, 9],\n",
    "    2: [1, 3],\n",
    "    3: [2, 4],\n",
    "    4: [3],\n",
    "    5: [1, 6, 8],\n",
    "    6: [5, 7],\n",
    "    7: [6],\n",
    "    8: [5],\n",
    "    9: [1, 10],\n",
    "    10: [9]\n",
    "}\n",
    "\n",
    "visited = []\n",
    "\n",
    "\n",
    "def dfs_recursion(adjacent_graph, cur_node, visited_array):\n",
    "    visited_array.append(cur_node)\n",
    "\n",
    "    for i in adjacent_graph[cur_node] :\n",
    "        if i not in visited_array:\n",
    "            dfs_recursion(adjacent_graph,i,visited_array)\n",
    "\n",
    "\n",
    "    return\n",
    "\n",
    "\n",
    "dfs_recursion(graph, 1, visited)  # 1 이 시작노드입니다!\n",
    "print(visited)  # [1, 2, 3, 4, 5, 6, 7, 8, 9, 10] 이 출력되어야 합니다!"
   ]
  },
  {
   "cell_type": "code",
   "execution_count": 8,
   "metadata": {},
   "outputs": [],
   "source": [
    "import re\n",
    "\n",
    "def solution(S):\n",
    "    answer = True\n",
    "    pair = {\"{\" : \"}\", \"(\" : \")\", \"[\" : \"]\", \"]\" : None, \"}\": None, \")\" : None }\n",
    "\n",
    "    stack = []\n",
    "\n",
    "\n",
    "    tmp_S = re.sub(r'\\<[^)]*\\>', \"\", S)\n",
    "\n",
    "    #print(tmp_S)\n",
    "\n",
    "    for i in tmp_S:\n",
    "\n",
    "        if stack and pair[stack[-1]]==i:\n",
    "            stack.pop()\n",
    "        else:\n",
    "            stack.append(i)\n",
    "    answer = stack== []\n",
    "\n",
    "    answer = str(answer).upper()\n",
    "   \n",
    "    return answer\n",
    "    "
   ]
  },
  {
   "cell_type": "code",
   "execution_count": 9,
   "metadata": {},
   "outputs": [
    {
     "data": {
      "text/plain": [
       "'FALSE'"
      ]
     },
     "execution_count": 9,
     "metadata": {},
     "output_type": "execute_result"
    }
   ],
   "source": [
    "solution(\"(<{}>]\")"
   ]
  },
  {
   "cell_type": "code",
   "execution_count": null,
   "metadata": {},
   "outputs": [],
   "source": []
  }
 ],
 "metadata": {
  "kernelspec": {
   "display_name": "cote",
   "language": "python",
   "name": "python3"
  },
  "language_info": {
   "codemirror_mode": {
    "name": "ipython",
    "version": 3
   },
   "file_extension": ".py",
   "mimetype": "text/x-python",
   "name": "python",
   "nbconvert_exporter": "python",
   "pygments_lexer": "ipython3",
   "version": "3.7.15"
  }
 },
 "nbformat": 4,
 "nbformat_minor": 2
}
