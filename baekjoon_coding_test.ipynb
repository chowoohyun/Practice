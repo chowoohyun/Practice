{
 "cells": [
  {
   "cell_type": "markdown",
   "metadata": {},
   "source": [
    "https://www.acmicpc.net/problem/2447\n",
    "\n",
    "백준 별찍기-10"
   ]
  },
  {
   "cell_type": "code",
   "execution_count": null,
   "metadata": {},
   "outputs": [],
   "source": [
    "def print_star(n):\n",
    "    if n == 1:\n",
    "        return ['*']\n",
    "    star = print_star(n//3)\n",
    "    star_list = []\n",
    "    for i in star:\n",
    "        star_list.append(i*3)\n",
    "    for i in star:\n",
    "        star_list.append(i+' '*(n//3)+i)\n",
    "    for i in star:\n",
    "        star_list.append(i*3)\n",
    "        \n",
    "    return star_list\n",
    "\n",
    "N = int(input())\n",
    "print('\\n'.join(print_star(N)))"
   ]
  },
  {
   "cell_type": "markdown",
   "metadata": {},
   "source": [
    "https://www.acmicpc.net/problem/2884\n",
    "\n",
    "백준 알람시계\n",
    "브3"
   ]
  },
  {
   "cell_type": "code",
   "execution_count": 4,
   "metadata": {},
   "outputs": [
    {
     "name": "stdout",
     "output_type": "stream",
     "text": [
      "9 25\n"
     ]
    }
   ],
   "source": [
    "H, W = map(int, input().split())\n",
    "\n",
    "def alarm(h, m):\n",
    "    if m < 45:\n",
    "        h -= 1\n",
    "        m += 15\n",
    "    else:\n",
    "        m -= 45\n",
    "    if h < 0:\n",
    "        h += 24\n",
    "    return print(h, m)\n",
    "\n",
    "alarm(H, W)"
   ]
  },
  {
   "cell_type": "markdown",
   "metadata": {},
   "source": [
    "https://www.acmicpc.net/problem/1789\n",
    "\n",
    "백준 수들의 합\n",
    "실5"
   ]
  },
  {
   "cell_type": "code",
   "execution_count": 10,
   "metadata": {},
   "outputs": [
    {
     "name": "stdout",
     "output_type": "stream",
     "text": [
      "19\n"
     ]
    }
   ],
   "source": [
    "# 인풋값을 받고 가장 작은 수 부터 더하면 될듯??\n",
    "n = int(input())\n",
    "\n",
    "num = 0\n",
    "result = 0\n",
    "for i in range(1, n+1):\n",
    "    result += i\n",
    "    num += 1\n",
    "    if result > n :\n",
    "        num -= 1\n",
    "        break\n",
    "print(num)\n",
    "\n",
    "    "
   ]
  },
  {
   "cell_type": "markdown",
   "metadata": {},
   "source": [
    "https://www.acmicpc.net/problem/2525\n",
    "\n",
    "\n",
    "백준 오븐시계"
   ]
  },
  {
   "cell_type": "code",
   "execution_count": 16,
   "metadata": {},
   "outputs": [
    {
     "name": "stdout",
     "output_type": "stream",
     "text": [
      "19 0\n"
     ]
    }
   ],
   "source": [
    "H, M = map(int, input().split())\n",
    "minute = int(input())\n",
    "\n",
    "tmp = H * 60 + M + minute\n",
    "H = tmp // 60\n",
    "M = tmp % 60\n",
    "if H > 23:\n",
    "    H = H % 24\n",
    "print(H, M)"
   ]
  },
  {
   "cell_type": "markdown",
   "metadata": {},
   "source": [
    "https://www.acmicpc.net/problem/\n",
    "\n",
    "\n",
    "백준 곱셈\n",
    "\n",
    "\n",
    "브3"
   ]
  },
  {
   "cell_type": "code",
   "execution_count": 17,
   "metadata": {},
   "outputs": [
    {
     "name": "stdout",
     "output_type": "stream",
     "text": [
      "2360\n",
      "3776\n",
      "1416\n",
      "181720\n"
     ]
    }
   ],
   "source": [
    "a = int(input())\n",
    "b = int(input())\n",
    "\n",
    "print(a*(b%10))\n",
    "print(a*((b%100)//10))\n",
    "print(a*(b//100))\n",
    "print(a*b)"
   ]
  },
  {
   "cell_type": "markdown",
   "metadata": {},
   "source": [
    "https://www.acmicpc.net/problem/2480\n",
    "\n",
    "\n",
    "백준 주사위 세개\n",
    "\n",
    "\n",
    "브 4"
   ]
  },
  {
   "cell_type": "code",
   "execution_count": 20,
   "metadata": {},
   "outputs": [
    {
     "name": "stdout",
     "output_type": "stream",
     "text": [
      "12000\n"
     ]
    }
   ],
   "source": [
    "a, b, c= map(int, input().split())\n",
    "\n",
    "if a == b == c:\n",
    "    print(10000 + a*1000)\n",
    "elif a == b or a == c :\n",
    "    print(1000 + a*100)\n",
    "elif b == c:\n",
    "    print(1000 + b*100)\n",
    "else:\n",
    "    print(max(a, b, c)*100)\n"
   ]
  },
  {
   "cell_type": "markdown",
   "metadata": {},
   "source": [
    "https://www.acmicpc.net/problem/4673\n",
    "\n",
    "백준 셀프 넘버\n",
    "\n",
    "실5"
   ]
  },
  {
   "cell_type": "code",
   "execution_count": null,
   "metadata": {},
   "outputs": [],
   "source": [
    "# 10000 이전까지 니까...\n",
    "# set을 잘 활용해보자!\n",
    "num = set(range(1, 10001))\n",
    "gen_num = set()\n",
    "\n",
    "for i in range(1, 10001):\n",
    "    for j in str(i):\n",
    "        i += int(j)\n",
    "    gen_num.add(i)\n",
    "\n",
    "self_num = sorted(num-gen_num)\n",
    "for i in self_num:\n",
    "    print(i)"
   ]
  },
  {
   "cell_type": "code",
   "execution_count": null,
   "metadata": {},
   "outputs": [],
   "source": []
  },
  {
   "cell_type": "code",
   "execution_count": null,
   "metadata": {},
   "outputs": [],
   "source": []
  },
  {
   "cell_type": "code",
   "execution_count": null,
   "metadata": {},
   "outputs": [],
   "source": []
  },
  {
   "cell_type": "code",
   "execution_count": null,
   "metadata": {},
   "outputs": [],
   "source": []
  },
  {
   "cell_type": "code",
   "execution_count": null,
   "metadata": {},
   "outputs": [],
   "source": []
  },
  {
   "cell_type": "code",
   "execution_count": null,
   "metadata": {},
   "outputs": [],
   "source": []
  },
  {
   "cell_type": "code",
   "execution_count": null,
   "metadata": {},
   "outputs": [],
   "source": []
  },
  {
   "cell_type": "code",
   "execution_count": null,
   "metadata": {},
   "outputs": [],
   "source": []
  },
  {
   "cell_type": "code",
   "execution_count": null,
   "metadata": {},
   "outputs": [],
   "source": []
  },
  {
   "cell_type": "code",
   "execution_count": null,
   "metadata": {},
   "outputs": [],
   "source": []
  },
  {
   "cell_type": "code",
   "execution_count": null,
   "metadata": {},
   "outputs": [],
   "source": []
  },
  {
   "cell_type": "code",
   "execution_count": null,
   "metadata": {},
   "outputs": [],
   "source": []
  },
  {
   "cell_type": "code",
   "execution_count": null,
   "metadata": {},
   "outputs": [],
   "source": []
  },
  {
   "cell_type": "code",
   "execution_count": null,
   "metadata": {},
   "outputs": [],
   "source": []
  },
  {
   "cell_type": "code",
   "execution_count": null,
   "metadata": {},
   "outputs": [],
   "source": []
  },
  {
   "cell_type": "code",
   "execution_count": null,
   "metadata": {},
   "outputs": [],
   "source": []
  },
  {
   "cell_type": "code",
   "execution_count": null,
   "metadata": {},
   "outputs": [],
   "source": []
  },
  {
   "cell_type": "code",
   "execution_count": null,
   "metadata": {},
   "outputs": [],
   "source": []
  },
  {
   "cell_type": "code",
   "execution_count": null,
   "metadata": {},
   "outputs": [],
   "source": []
  }
 ],
 "metadata": {
  "kernelspec": {
   "display_name": "Python 3.8.15 ('stt')",
   "language": "python",
   "name": "python3"
  },
  "language_info": {
   "codemirror_mode": {
    "name": "ipython",
    "version": 3
   },
   "file_extension": ".py",
   "mimetype": "text/x-python",
   "name": "python",
   "nbconvert_exporter": "python",
   "pygments_lexer": "ipython3",
   "version": "3.8.15"
  },
  "orig_nbformat": 4,
  "vscode": {
   "interpreter": {
    "hash": "3cd858a4f8fb0caecab810033da4971254e82793c5ea307208cb66cdc8c1638c"
   }
  }
 },
 "nbformat": 4,
 "nbformat_minor": 2
}
