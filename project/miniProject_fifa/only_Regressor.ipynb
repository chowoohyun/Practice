{
 "cells": [
  {
   "cell_type": "code",
   "execution_count": 40,
   "id": "c380829a",
   "metadata": {},
   "outputs": [],
   "source": [
    "import pandas as pd\n",
    "import numpy as np\n",
    "import matplotlib.pyplot as plt\n",
    "import seaborn as sns\n",
    "%matplotlib inline\n",
    "import warnings\n",
    "warnings.filterwarnings('ignore')\n",
    "from sklearn.metrics import mean_squared_error\n",
    "from sklearn.ensemble import RandomForestRegressor, GradientBoostingRegressor, ExtraTreesRegressor\n",
    "from sklearn.model_selection import KFold\n",
    "from lightgbm import LGBMRegressor\n",
    "from xgboost import XGBRegressor\n",
    "from catboost import CatBoostRegressor\n",
    "from ngboost import NGBRegressor\n",
    "import statsmodels.api as sm\n",
    "import statsmodels.formula.api as smf"
   ]
  },
  {
   "cell_type": "code",
   "execution_count": 7,
   "id": "77ffffc9",
   "metadata": {},
   "outputs": [],
   "source": [
    "train = pd.read_csv('.\\\\data\\\\FIFA_train.csv')\n",
    "test = pd.read_csv('.\\\\data\\\\FIFA_test.csv')\n",
    "submission = pd.read_csv('.\\\\data\\\\submission.csv')"
   ]
  },
  {
   "cell_type": "code",
   "execution_count": 8,
   "id": "5295d62e",
   "metadata": {},
   "outputs": [
    {
     "data": {
      "text/html": [
       "<div>\n",
       "<style scoped>\n",
       "    .dataframe tbody tr th:only-of-type {\n",
       "        vertical-align: middle;\n",
       "    }\n",
       "\n",
       "    .dataframe tbody tr th {\n",
       "        vertical-align: top;\n",
       "    }\n",
       "\n",
       "    .dataframe thead th {\n",
       "        text-align: right;\n",
       "    }\n",
       "</style>\n",
       "<table border=\"1\" class=\"dataframe\">\n",
       "  <thead>\n",
       "    <tr style=\"text-align: right;\">\n",
       "      <th></th>\n",
       "      <th>id</th>\n",
       "      <th>name</th>\n",
       "      <th>age</th>\n",
       "      <th>continent</th>\n",
       "      <th>contract_until</th>\n",
       "      <th>position</th>\n",
       "      <th>prefer_foot</th>\n",
       "      <th>reputation</th>\n",
       "      <th>stat_overall</th>\n",
       "      <th>stat_potential</th>\n",
       "      <th>stat_skill_moves</th>\n",
       "      <th>value</th>\n",
       "    </tr>\n",
       "  </thead>\n",
       "  <tbody>\n",
       "    <tr>\n",
       "      <th>0</th>\n",
       "      <td>0</td>\n",
       "      <td>L. Messi</td>\n",
       "      <td>31</td>\n",
       "      <td>south america</td>\n",
       "      <td>2021</td>\n",
       "      <td>ST</td>\n",
       "      <td>left</td>\n",
       "      <td>5.0</td>\n",
       "      <td>94</td>\n",
       "      <td>94</td>\n",
       "      <td>4.0</td>\n",
       "      <td>110500000.0</td>\n",
       "    </tr>\n",
       "    <tr>\n",
       "      <th>1</th>\n",
       "      <td>3</td>\n",
       "      <td>De Gea</td>\n",
       "      <td>27</td>\n",
       "      <td>europe</td>\n",
       "      <td>2020</td>\n",
       "      <td>GK</td>\n",
       "      <td>right</td>\n",
       "      <td>4.0</td>\n",
       "      <td>91</td>\n",
       "      <td>93</td>\n",
       "      <td>1.0</td>\n",
       "      <td>72000000.0</td>\n",
       "    </tr>\n",
       "    <tr>\n",
       "      <th>2</th>\n",
       "      <td>7</td>\n",
       "      <td>L. Suárez</td>\n",
       "      <td>31</td>\n",
       "      <td>south america</td>\n",
       "      <td>2021</td>\n",
       "      <td>ST</td>\n",
       "      <td>right</td>\n",
       "      <td>5.0</td>\n",
       "      <td>91</td>\n",
       "      <td>91</td>\n",
       "      <td>3.0</td>\n",
       "      <td>80000000.0</td>\n",
       "    </tr>\n",
       "    <tr>\n",
       "      <th>3</th>\n",
       "      <td>8</td>\n",
       "      <td>Sergio Ramos</td>\n",
       "      <td>32</td>\n",
       "      <td>europe</td>\n",
       "      <td>2020</td>\n",
       "      <td>DF</td>\n",
       "      <td>right</td>\n",
       "      <td>4.0</td>\n",
       "      <td>91</td>\n",
       "      <td>91</td>\n",
       "      <td>3.0</td>\n",
       "      <td>51000000.0</td>\n",
       "    </tr>\n",
       "    <tr>\n",
       "      <th>4</th>\n",
       "      <td>9</td>\n",
       "      <td>J. Oblak</td>\n",
       "      <td>25</td>\n",
       "      <td>europe</td>\n",
       "      <td>2021</td>\n",
       "      <td>GK</td>\n",
       "      <td>right</td>\n",
       "      <td>3.0</td>\n",
       "      <td>90</td>\n",
       "      <td>93</td>\n",
       "      <td>1.0</td>\n",
       "      <td>68000000.0</td>\n",
       "    </tr>\n",
       "  </tbody>\n",
       "</table>\n",
       "</div>"
      ],
      "text/plain": [
       "   id          name  age      continent contract_until position prefer_foot  \\\n",
       "0   0      L. Messi   31  south america           2021       ST        left   \n",
       "1   3        De Gea   27         europe           2020       GK       right   \n",
       "2   7     L. Suárez   31  south america           2021       ST       right   \n",
       "3   8  Sergio Ramos   32         europe           2020       DF       right   \n",
       "4   9      J. Oblak   25         europe           2021       GK       right   \n",
       "\n",
       "   reputation  stat_overall  stat_potential  stat_skill_moves        value  \n",
       "0         5.0            94              94               4.0  110500000.0  \n",
       "1         4.0            91              93               1.0   72000000.0  \n",
       "2         5.0            91              91               3.0   80000000.0  \n",
       "3         4.0            91              91               3.0   51000000.0  \n",
       "4         3.0            90              93               1.0   68000000.0  "
      ]
     },
     "execution_count": 8,
     "metadata": {},
     "output_type": "execute_result"
    }
   ],
   "source": [
    "train.head()"
   ]
  },
  {
   "cell_type": "code",
   "execution_count": 9,
   "id": "94d069b7",
   "metadata": {},
   "outputs": [
    {
     "data": {
      "text/html": [
       "<div>\n",
       "<style scoped>\n",
       "    .dataframe tbody tr th:only-of-type {\n",
       "        vertical-align: middle;\n",
       "    }\n",
       "\n",
       "    .dataframe tbody tr th {\n",
       "        vertical-align: top;\n",
       "    }\n",
       "\n",
       "    .dataframe thead th {\n",
       "        text-align: right;\n",
       "    }\n",
       "</style>\n",
       "<table border=\"1\" class=\"dataframe\">\n",
       "  <thead>\n",
       "    <tr style=\"text-align: right;\">\n",
       "      <th></th>\n",
       "      <th>id</th>\n",
       "      <th>name</th>\n",
       "      <th>age</th>\n",
       "      <th>continent</th>\n",
       "      <th>contract_until</th>\n",
       "      <th>position</th>\n",
       "      <th>prefer_foot</th>\n",
       "      <th>reputation</th>\n",
       "      <th>stat_overall</th>\n",
       "      <th>stat_potential</th>\n",
       "      <th>stat_skill_moves</th>\n",
       "    </tr>\n",
       "  </thead>\n",
       "  <tbody>\n",
       "    <tr>\n",
       "      <th>0</th>\n",
       "      <td>1</td>\n",
       "      <td>Cristiano Ronaldo</td>\n",
       "      <td>33</td>\n",
       "      <td>europe</td>\n",
       "      <td>2022</td>\n",
       "      <td>ST</td>\n",
       "      <td>right</td>\n",
       "      <td>5.0</td>\n",
       "      <td>94</td>\n",
       "      <td>94</td>\n",
       "      <td>5.0</td>\n",
       "    </tr>\n",
       "    <tr>\n",
       "      <th>1</th>\n",
       "      <td>2</td>\n",
       "      <td>Neymar Jr</td>\n",
       "      <td>26</td>\n",
       "      <td>south america</td>\n",
       "      <td>2022</td>\n",
       "      <td>ST</td>\n",
       "      <td>right</td>\n",
       "      <td>5.0</td>\n",
       "      <td>92</td>\n",
       "      <td>93</td>\n",
       "      <td>5.0</td>\n",
       "    </tr>\n",
       "    <tr>\n",
       "      <th>2</th>\n",
       "      <td>4</td>\n",
       "      <td>K. De Bruyne</td>\n",
       "      <td>27</td>\n",
       "      <td>europe</td>\n",
       "      <td>2023</td>\n",
       "      <td>MF</td>\n",
       "      <td>right</td>\n",
       "      <td>4.0</td>\n",
       "      <td>91</td>\n",
       "      <td>92</td>\n",
       "      <td>4.0</td>\n",
       "    </tr>\n",
       "    <tr>\n",
       "      <th>3</th>\n",
       "      <td>5</td>\n",
       "      <td>E. Hazard</td>\n",
       "      <td>27</td>\n",
       "      <td>europe</td>\n",
       "      <td>2020</td>\n",
       "      <td>ST</td>\n",
       "      <td>right</td>\n",
       "      <td>4.0</td>\n",
       "      <td>91</td>\n",
       "      <td>91</td>\n",
       "      <td>4.0</td>\n",
       "    </tr>\n",
       "    <tr>\n",
       "      <th>4</th>\n",
       "      <td>6</td>\n",
       "      <td>L. Modrić</td>\n",
       "      <td>32</td>\n",
       "      <td>europe</td>\n",
       "      <td>2020</td>\n",
       "      <td>MF</td>\n",
       "      <td>right</td>\n",
       "      <td>4.0</td>\n",
       "      <td>91</td>\n",
       "      <td>91</td>\n",
       "      <td>4.0</td>\n",
       "    </tr>\n",
       "  </tbody>\n",
       "</table>\n",
       "</div>"
      ],
      "text/plain": [
       "   id               name  age      continent contract_until position  \\\n",
       "0   1  Cristiano Ronaldo   33         europe           2022       ST   \n",
       "1   2          Neymar Jr   26  south america           2022       ST   \n",
       "2   4       K. De Bruyne   27         europe           2023       MF   \n",
       "3   5          E. Hazard   27         europe           2020       ST   \n",
       "4   6          L. Modrić   32         europe           2020       MF   \n",
       "\n",
       "  prefer_foot  reputation  stat_overall  stat_potential  stat_skill_moves  \n",
       "0       right         5.0            94              94               5.0  \n",
       "1       right         5.0            92              93               5.0  \n",
       "2       right         4.0            91              92               4.0  \n",
       "3       right         4.0            91              91               4.0  \n",
       "4       right         4.0            91              91               4.0  "
      ]
     },
     "execution_count": 9,
     "metadata": {},
     "output_type": "execute_result"
    }
   ],
   "source": [
    "test.head()"
   ]
  },
  {
   "cell_type": "code",
   "execution_count": 10,
   "id": "de16dd84",
   "metadata": {},
   "outputs": [
    {
     "data": {
      "text/html": [
       "<div>\n",
       "<style scoped>\n",
       "    .dataframe tbody tr th:only-of-type {\n",
       "        vertical-align: middle;\n",
       "    }\n",
       "\n",
       "    .dataframe tbody tr th {\n",
       "        vertical-align: top;\n",
       "    }\n",
       "\n",
       "    .dataframe thead th {\n",
       "        text-align: right;\n",
       "    }\n",
       "</style>\n",
       "<table border=\"1\" class=\"dataframe\">\n",
       "  <thead>\n",
       "    <tr style=\"text-align: right;\">\n",
       "      <th></th>\n",
       "      <th>id</th>\n",
       "      <th>value</th>\n",
       "    </tr>\n",
       "  </thead>\n",
       "  <tbody>\n",
       "    <tr>\n",
       "      <th>0</th>\n",
       "      <td>1</td>\n",
       "      <td>0</td>\n",
       "    </tr>\n",
       "    <tr>\n",
       "      <th>1</th>\n",
       "      <td>2</td>\n",
       "      <td>0</td>\n",
       "    </tr>\n",
       "    <tr>\n",
       "      <th>2</th>\n",
       "      <td>4</td>\n",
       "      <td>0</td>\n",
       "    </tr>\n",
       "    <tr>\n",
       "      <th>3</th>\n",
       "      <td>5</td>\n",
       "      <td>0</td>\n",
       "    </tr>\n",
       "    <tr>\n",
       "      <th>4</th>\n",
       "      <td>6</td>\n",
       "      <td>0</td>\n",
       "    </tr>\n",
       "  </tbody>\n",
       "</table>\n",
       "</div>"
      ],
      "text/plain": [
       "   id  value\n",
       "0   1      0\n",
       "1   2      0\n",
       "2   4      0\n",
       "3   5      0\n",
       "4   6      0"
      ]
     },
     "execution_count": 10,
     "metadata": {},
     "output_type": "execute_result"
    }
   ],
   "source": [
    "submission.head()"
   ]
  },
  {
   "cell_type": "code",
   "execution_count": 11,
   "id": "437aeb92",
   "metadata": {},
   "outputs": [],
   "source": [
    "def con_period(x):\n",
    "    if x == 'Dec 31, 2018' :\n",
    "        return '2019'\n",
    "    elif x == 'Jun 30, 2020' :\n",
    "        return '2020.5'\n",
    "    elif x == 'Jun 30, 2019' :\n",
    "        return '2019.5'\n",
    "    elif x == 'May 31, 2020' :\n",
    "        return '2020.3333'\n",
    "    elif x == 'May 31, 2019' :\n",
    "        return '2019.3333'\n",
    "    elif x == 'Jan 31, 2019' :\n",
    "        return '2019.0833'\n",
    "    elif x == 'Jan 1, 2019' :\n",
    "        return '2019'\n",
    "    elif x == 'Jan 12, 2019' :\n",
    "        return '2019.034'\n",
    "    elif x == 'Dec 31, 2019' :\n",
    "        return '2020'\n",
    "    elif x == 'Jun 1, 2019' :\n",
    "        return '2019.416'\n",
    "    else :\n",
    "        return x"
   ]
  },
  {
   "cell_type": "code",
   "execution_count": 12,
   "id": "fca609e8",
   "metadata": {},
   "outputs": [],
   "source": [
    "train.contract_until = train.contract_until.apply(con_period).astype('float64') - 2018\n",
    "test.contract_until = test.contract_until.apply(con_period).astype('float64') - 2018"
   ]
  },
  {
   "cell_type": "code",
   "execution_count": 13,
   "id": "eeb79221",
   "metadata": {},
   "outputs": [],
   "source": [
    "train[['age', 'stat_potential']] = np.log1p(train[['age', 'stat_potential']])\n",
    "test[['age', 'stat_potential']] = np.log1p(test[['age', 'stat_potential']])"
   ]
  },
  {
   "cell_type": "code",
   "execution_count": 14,
   "id": "e1aa5e15",
   "metadata": {},
   "outputs": [],
   "source": [
    "X = train[['age', 'continent', 'contract_until', 'position', 'reputation', 'stat_overall', 'stat_potential', 'stat_skill_moves']]\n",
    "y = np.log1p(train['value'])"
   ]
  },
  {
   "cell_type": "code",
   "execution_count": 15,
   "id": "2fe3a952",
   "metadata": {},
   "outputs": [],
   "source": [
    "X = pd.get_dummies(columns = ['continent', 'position'], data = X)"
   ]
  },
  {
   "cell_type": "code",
   "execution_count": 16,
   "id": "22564853",
   "metadata": {},
   "outputs": [],
   "source": [
    "target = test[['age', 'continent', 'contract_until', 'position', 'reputation', 'stat_overall', 'stat_potential', 'stat_skill_moves']]"
   ]
  },
  {
   "cell_type": "code",
   "execution_count": 17,
   "id": "064bbb63",
   "metadata": {},
   "outputs": [],
   "source": [
    "target = pd.get_dummies(columns = ['continent', 'position'], data = target)"
   ]
  },
  {
   "cell_type": "code",
   "execution_count": 18,
   "id": "32d0c319",
   "metadata": {},
   "outputs": [],
   "source": [
    "kf = KFold(n_splits = 10, random_state = 521, shuffle = True)"
   ]
  },
  {
   "cell_type": "code",
   "execution_count": 19,
   "id": "6cece50d",
   "metadata": {},
   "outputs": [],
   "source": [
    "ngb = NGBRegressor(random_state = 521, verbose = 500, n_estimators = 500)"
   ]
  },
  {
   "cell_type": "code",
   "execution_count": 20,
   "id": "4d7260a4",
   "metadata": {},
   "outputs": [
    {
     "name": "stdout",
     "output_type": "stream",
     "text": [
      "[iter 0] loss=1.7562 val_loss=0.0000 scale=1.0000 norm=1.2861\n",
      "[iter 100] loss=0.7611 val_loss=0.0000 scale=2.0000 norm=1.1141\n",
      "[iter 200] loss=-0.1028 val_loss=0.0000 scale=2.0000 norm=0.9194\n",
      "[iter 300] loss=-0.7609 val_loss=0.0000 scale=2.0000 norm=0.8144\n",
      "[iter 400] loss=-1.0723 val_loss=0.0000 scale=2.0000 norm=0.8506\n",
      "[iter 0] loss=-1.1726 val_loss=0.0000 scale=1.0000 norm=0.4586\n",
      "[iter 100] loss=-1.2324 val_loss=0.0000 scale=1.0000 norm=0.4658\n",
      "[iter 200] loss=-1.2790 val_loss=0.0000 scale=2.0000 norm=0.9459\n",
      "[iter 300] loss=-1.3129 val_loss=0.0000 scale=1.0000 norm=0.4786\n",
      "[iter 400] loss=-1.3410 val_loss=0.0000 scale=2.0000 norm=0.9640\n",
      "[iter 0] loss=-1.3254 val_loss=0.0000 scale=2.0000 norm=1.0137\n",
      "[iter 100] loss=-1.3735 val_loss=0.0000 scale=1.0000 norm=0.4876\n",
      "[iter 200] loss=-1.3927 val_loss=0.0000 scale=2.0000 norm=0.9750\n",
      "[iter 300] loss=-1.4115 val_loss=0.0000 scale=1.0000 norm=0.4871\n",
      "[iter 400] loss=-1.4346 val_loss=0.0000 scale=1.0000 norm=0.4853\n",
      "[iter 0] loss=-1.4245 val_loss=0.0000 scale=1.0000 norm=0.5040\n",
      "[iter 100] loss=-1.4555 val_loss=0.0000 scale=1.0000 norm=0.4877\n",
      "[iter 200] loss=-1.4665 val_loss=0.0000 scale=1.0000 norm=0.4880\n",
      "[iter 300] loss=-1.4776 val_loss=0.0000 scale=1.0000 norm=0.4874\n",
      "[iter 400] loss=-1.4913 val_loss=0.0000 scale=2.0000 norm=0.9744\n",
      "[iter 0] loss=-1.4983 val_loss=0.0000 scale=1.0000 norm=0.4833\n",
      "[iter 100] loss=-1.5198 val_loss=0.0000 scale=1.0000 norm=0.4814\n",
      "[iter 200] loss=-1.5290 val_loss=0.0000 scale=1.0000 norm=0.4849\n",
      "[iter 300] loss=-1.5372 val_loss=0.0000 scale=1.0000 norm=0.4864\n",
      "[iter 400] loss=-1.5440 val_loss=0.0000 scale=1.0000 norm=0.4878\n",
      "[iter 0] loss=-1.5457 val_loss=0.0000 scale=1.0000 norm=0.4953\n",
      "[iter 100] loss=-1.5556 val_loss=0.0000 scale=1.0000 norm=0.4914\n",
      "[iter 200] loss=-1.5680 val_loss=0.0000 scale=1.0000 norm=0.4885\n",
      "[iter 300] loss=-1.5756 val_loss=0.0000 scale=1.0000 norm=0.4897\n",
      "[iter 400] loss=-1.5813 val_loss=0.0000 scale=1.0000 norm=0.4903\n",
      "[iter 0] loss=-1.5543 val_loss=0.0000 scale=1.0000 norm=0.5074\n",
      "[iter 100] loss=-1.5786 val_loss=0.0000 scale=1.0000 norm=0.4914\n",
      "[iter 200] loss=-1.5882 val_loss=0.0000 scale=1.0000 norm=0.4899\n",
      "[iter 300] loss=-1.5951 val_loss=0.0000 scale=2.0000 norm=0.9803\n",
      "[iter 400] loss=-1.6024 val_loss=0.0000 scale=1.0000 norm=0.4896\n",
      "[iter 0] loss=-1.5868 val_loss=0.0000 scale=1.0000 norm=0.5019\n",
      "[iter 100] loss=-1.6273 val_loss=0.0000 scale=1.0000 norm=0.4838\n",
      "[iter 200] loss=-1.6385 val_loss=0.0000 scale=1.0000 norm=0.4869\n",
      "[iter 300] loss=-1.6439 val_loss=0.0000 scale=1.0000 norm=0.4895\n",
      "[iter 400] loss=-1.6487 val_loss=0.0000 scale=1.0000 norm=0.4905\n",
      "[iter 0] loss=-1.5737 val_loss=0.0000 scale=2.0000 norm=1.0912\n",
      "[iter 100] loss=-1.6494 val_loss=0.0000 scale=1.0000 norm=0.4876\n",
      "[iter 200] loss=-1.6615 val_loss=0.0000 scale=2.0000 norm=0.9752\n",
      "[iter 300] loss=-1.6666 val_loss=0.0000 scale=1.0000 norm=0.4889\n",
      "[iter 400] loss=-1.6704 val_loss=0.0000 scale=0.5000 norm=0.2447\n",
      "[iter 0] loss=-1.6682 val_loss=0.0000 scale=1.0000 norm=0.4895\n",
      "[iter 100] loss=-1.6803 val_loss=0.0000 scale=1.0000 norm=0.4874\n",
      "[iter 200] loss=-1.6865 val_loss=0.0000 scale=1.0000 norm=0.4881\n",
      "[iter 300] loss=-1.6901 val_loss=0.0000 scale=1.0000 norm=0.4888\n",
      "[iter 400] loss=-1.6944 val_loss=0.0000 scale=1.0000 norm=0.4897\n",
      "NGBRegressor의 10fold 평균 RMSE는 379763.31398493296\n"
     ]
    }
   ],
   "source": [
    "ngb_pred = np.zeros((target.shape[0]))\n",
    "rmse_list = []\n",
    "for tr_idx, val_idx in kf.split(X, y) :\n",
    "    tr_x, tr_y = X.iloc[tr_idx], y.iloc[tr_idx]\n",
    "    val_x, val_y = X.iloc[val_idx], y.iloc[val_idx]\n",
    "    \n",
    "    ngb.fit(tr_x, tr_y)\n",
    "    pred = np.expm1([0 if x < 0 else x for x in ngb.predict(val_x)])\n",
    "\n",
    "    rmse = np.sqrt(mean_squared_error(np.expm1(val_y), pred))\n",
    "    rmse_list.append(rmse)\n",
    "    \n",
    "    sub_pred = np.expm1([0 if x < 0 else x for x in ngb.predict(target)]) / 10\n",
    "    ngb_pred += sub_pred\n",
    "print(f'{ngb.__class__.__name__}의 10fold 평균 RMSE는 {np.mean(rmse_list)}')"
   ]
  },
  {
   "cell_type": "code",
   "execution_count": 42,
   "id": "1c98867f",
   "metadata": {},
   "outputs": [
    {
     "ename": "ValueError",
     "evalue": "shapes (8932,15) and (8932,15) not aligned: 15 (dim 1) != 8932 (dim 0)",
     "output_type": "error",
     "traceback": [
      "\u001b[1;31m---------------------------------------------------------------------------\u001b[0m",
      "\u001b[1;31mValueError\u001b[0m                                Traceback (most recent call last)",
      "Input \u001b[1;32mIn [42]\u001b[0m, in \u001b[0;36m<cell line: 4>\u001b[1;34m()\u001b[0m\n\u001b[0;32m      1\u001b[0m model_ngb \u001b[38;5;241m=\u001b[39m sm\u001b[38;5;241m.\u001b[39mOLS(X, y)\n\u001b[0;32m      2\u001b[0m result \u001b[38;5;241m=\u001b[39m model_ngb\u001b[38;5;241m.\u001b[39mfit()\n\u001b[1;32m----> 4\u001b[0m \u001b[43mresult\u001b[49m\u001b[38;5;241;43m.\u001b[39;49m\u001b[43msummary\u001b[49m\u001b[43m(\u001b[49m\u001b[43m)\u001b[49m\n",
      "File \u001b[1;32m~\\miniconda3\\lib\\site-packages\\statsmodels\\regression\\linear_model.py:2723\u001b[0m, in \u001b[0;36mRegressionResults.summary\u001b[1;34m(self, yname, xname, title, alpha, slim)\u001b[0m\n\u001b[0;32m   2719\u001b[0m     top_left\u001b[38;5;241m.\u001b[39mappend((\u001b[38;5;124m'\u001b[39m\u001b[38;5;124mCovariance Type:\u001b[39m\u001b[38;5;124m'\u001b[39m, [\u001b[38;5;28mself\u001b[39m\u001b[38;5;241m.\u001b[39mcov_type]))\n\u001b[0;32m   2721\u001b[0m rsquared_type \u001b[38;5;241m=\u001b[39m \u001b[38;5;124m'\u001b[39m\u001b[38;5;124m'\u001b[39m \u001b[38;5;28;01mif\u001b[39;00m \u001b[38;5;28mself\u001b[39m\u001b[38;5;241m.\u001b[39mk_constant \u001b[38;5;28;01melse\u001b[39;00m \u001b[38;5;124m'\u001b[39m\u001b[38;5;124m (uncentered)\u001b[39m\u001b[38;5;124m'\u001b[39m\n\u001b[0;32m   2722\u001b[0m top_right \u001b[38;5;241m=\u001b[39m [(\u001b[38;5;124m'\u001b[39m\u001b[38;5;124mR-squared\u001b[39m\u001b[38;5;124m'\u001b[39m \u001b[38;5;241m+\u001b[39m rsquared_type \u001b[38;5;241m+\u001b[39m \u001b[38;5;124m'\u001b[39m\u001b[38;5;124m:\u001b[39m\u001b[38;5;124m'\u001b[39m,\n\u001b[1;32m-> 2723\u001b[0m               [\u001b[38;5;124m\"\u001b[39m\u001b[38;5;132;01m%#8.3f\u001b[39;00m\u001b[38;5;124m\"\u001b[39m \u001b[38;5;241m%\u001b[39m \u001b[38;5;28;43mself\u001b[39;49m\u001b[38;5;241;43m.\u001b[39;49m\u001b[43mrsquared\u001b[49m]),\n\u001b[0;32m   2724\u001b[0m              (\u001b[38;5;124m'\u001b[39m\u001b[38;5;124mAdj. R-squared\u001b[39m\u001b[38;5;124m'\u001b[39m \u001b[38;5;241m+\u001b[39m rsquared_type \u001b[38;5;241m+\u001b[39m \u001b[38;5;124m'\u001b[39m\u001b[38;5;124m:\u001b[39m\u001b[38;5;124m'\u001b[39m,\n\u001b[0;32m   2725\u001b[0m               [\u001b[38;5;124m\"\u001b[39m\u001b[38;5;132;01m%#8.3f\u001b[39;00m\u001b[38;5;124m\"\u001b[39m \u001b[38;5;241m%\u001b[39m \u001b[38;5;28mself\u001b[39m\u001b[38;5;241m.\u001b[39mrsquared_adj]),\n\u001b[0;32m   2726\u001b[0m              (\u001b[38;5;124m'\u001b[39m\u001b[38;5;124mF-statistic:\u001b[39m\u001b[38;5;124m'\u001b[39m, [\u001b[38;5;124m\"\u001b[39m\u001b[38;5;132;01m%#8.4g\u001b[39;00m\u001b[38;5;124m\"\u001b[39m \u001b[38;5;241m%\u001b[39m \u001b[38;5;28mself\u001b[39m\u001b[38;5;241m.\u001b[39mfvalue]),\n\u001b[0;32m   2727\u001b[0m              (\u001b[38;5;124m'\u001b[39m\u001b[38;5;124mProb (F-statistic):\u001b[39m\u001b[38;5;124m'\u001b[39m, [\u001b[38;5;124m\"\u001b[39m\u001b[38;5;132;01m%#6.3g\u001b[39;00m\u001b[38;5;124m\"\u001b[39m \u001b[38;5;241m%\u001b[39m \u001b[38;5;28mself\u001b[39m\u001b[38;5;241m.\u001b[39mf_pvalue]),\n\u001b[0;32m   2728\u001b[0m              (\u001b[38;5;124m'\u001b[39m\u001b[38;5;124mLog-Likelihood:\u001b[39m\u001b[38;5;124m'\u001b[39m, \u001b[38;5;28;01mNone\u001b[39;00m),\n\u001b[0;32m   2729\u001b[0m              (\u001b[38;5;124m'\u001b[39m\u001b[38;5;124mAIC:\u001b[39m\u001b[38;5;124m'\u001b[39m, [\u001b[38;5;124m\"\u001b[39m\u001b[38;5;132;01m%#8.4g\u001b[39;00m\u001b[38;5;124m\"\u001b[39m \u001b[38;5;241m%\u001b[39m \u001b[38;5;28mself\u001b[39m\u001b[38;5;241m.\u001b[39maic]),\n\u001b[0;32m   2730\u001b[0m              (\u001b[38;5;124m'\u001b[39m\u001b[38;5;124mBIC:\u001b[39m\u001b[38;5;124m'\u001b[39m, [\u001b[38;5;124m\"\u001b[39m\u001b[38;5;132;01m%#8.4g\u001b[39;00m\u001b[38;5;124m\"\u001b[39m \u001b[38;5;241m%\u001b[39m \u001b[38;5;28mself\u001b[39m\u001b[38;5;241m.\u001b[39mbic])\n\u001b[0;32m   2731\u001b[0m              ]\n\u001b[0;32m   2733\u001b[0m \u001b[38;5;28;01mif\u001b[39;00m slim:\n\u001b[0;32m   2734\u001b[0m     slimlist \u001b[38;5;241m=\u001b[39m [\u001b[38;5;124m'\u001b[39m\u001b[38;5;124mDep. Variable:\u001b[39m\u001b[38;5;124m'\u001b[39m, \u001b[38;5;124m'\u001b[39m\u001b[38;5;124mModel:\u001b[39m\u001b[38;5;124m'\u001b[39m, \u001b[38;5;124m'\u001b[39m\u001b[38;5;124mNo. Observations:\u001b[39m\u001b[38;5;124m'\u001b[39m,\n\u001b[0;32m   2735\u001b[0m                 \u001b[38;5;124m'\u001b[39m\u001b[38;5;124mCovariance Type:\u001b[39m\u001b[38;5;124m'\u001b[39m, \u001b[38;5;124m'\u001b[39m\u001b[38;5;124mR-squared:\u001b[39m\u001b[38;5;124m'\u001b[39m, \u001b[38;5;124m'\u001b[39m\u001b[38;5;124mAdj. R-squared:\u001b[39m\u001b[38;5;124m'\u001b[39m,\n\u001b[0;32m   2736\u001b[0m                 \u001b[38;5;124m'\u001b[39m\u001b[38;5;124mF-statistic:\u001b[39m\u001b[38;5;124m'\u001b[39m, \u001b[38;5;124m'\u001b[39m\u001b[38;5;124mProb (F-statistic):\u001b[39m\u001b[38;5;124m'\u001b[39m]\n",
      "File \u001b[1;32m~\\miniconda3\\lib\\site-packages\\pandas\\_libs\\properties.pyx:37\u001b[0m, in \u001b[0;36mpandas._libs.properties.CachedProperty.__get__\u001b[1;34m()\u001b[0m\n",
      "File \u001b[1;32m~\\miniconda3\\lib\\site-packages\\statsmodels\\regression\\linear_model.py:1738\u001b[0m, in \u001b[0;36mRegressionResults.rsquared\u001b[1;34m(self)\u001b[0m\n\u001b[0;32m   1736\u001b[0m     \u001b[38;5;28;01mreturn\u001b[39;00m \u001b[38;5;241m1\u001b[39m \u001b[38;5;241m-\u001b[39m \u001b[38;5;28mself\u001b[39m\u001b[38;5;241m.\u001b[39mssr\u001b[38;5;241m/\u001b[39m\u001b[38;5;28mself\u001b[39m\u001b[38;5;241m.\u001b[39mcentered_tss\n\u001b[0;32m   1737\u001b[0m \u001b[38;5;28;01melse\u001b[39;00m:\n\u001b[1;32m-> 1738\u001b[0m     \u001b[38;5;28;01mreturn\u001b[39;00m \u001b[38;5;241m1\u001b[39m \u001b[38;5;241m-\u001b[39m \u001b[38;5;28;43mself\u001b[39;49m\u001b[38;5;241;43m.\u001b[39;49m\u001b[43mssr\u001b[49m\u001b[38;5;241m/\u001b[39m\u001b[38;5;28mself\u001b[39m\u001b[38;5;241m.\u001b[39muncentered_tss\n",
      "File \u001b[1;32m~\\miniconda3\\lib\\site-packages\\pandas\\_libs\\properties.pyx:37\u001b[0m, in \u001b[0;36mpandas._libs.properties.CachedProperty.__get__\u001b[1;34m()\u001b[0m\n",
      "File \u001b[1;32m~\\miniconda3\\lib\\site-packages\\statsmodels\\regression\\linear_model.py:1677\u001b[0m, in \u001b[0;36mRegressionResults.ssr\u001b[1;34m(self)\u001b[0m\n\u001b[0;32m   1675\u001b[0m \u001b[38;5;124;03m\"\"\"Sum of squared (whitened) residuals.\"\"\"\u001b[39;00m\n\u001b[0;32m   1676\u001b[0m wresid \u001b[38;5;241m=\u001b[39m \u001b[38;5;28mself\u001b[39m\u001b[38;5;241m.\u001b[39mwresid\n\u001b[1;32m-> 1677\u001b[0m \u001b[38;5;28;01mreturn\u001b[39;00m \u001b[43mnp\u001b[49m\u001b[38;5;241;43m.\u001b[39;49m\u001b[43mdot\u001b[49m\u001b[43m(\u001b[49m\u001b[43mwresid\u001b[49m\u001b[43m,\u001b[49m\u001b[43m \u001b[49m\u001b[43mwresid\u001b[49m\u001b[43m)\u001b[49m\n",
      "File \u001b[1;32m<__array_function__ internals>:180\u001b[0m, in \u001b[0;36mdot\u001b[1;34m(*args, **kwargs)\u001b[0m\n",
      "\u001b[1;31mValueError\u001b[0m: shapes (8932,15) and (8932,15) not aligned: 15 (dim 1) != 8932 (dim 0)"
     ]
    }
   ],
   "source": [
    "model_ngb = sm.OLS(X, y)\n",
    "result = model_ngb.fit()\n",
    "\n",
    "result.summary()"
   ]
  },
  {
   "cell_type": "code",
   "execution_count": 21,
   "id": "88f4b934",
   "metadata": {},
   "outputs": [],
   "source": [
    "rf = RandomForestRegressor(random_state = 521, n_estimators = 150)"
   ]
  },
  {
   "cell_type": "code",
   "execution_count": 22,
   "id": "7bbf4f69",
   "metadata": {},
   "outputs": [
    {
     "name": "stdout",
     "output_type": "stream",
     "text": [
      "RandomForestRegressor의 10fold 평균 RMSE는 807354.2566586821\n"
     ]
    }
   ],
   "source": [
    "rf_pred = np.zeros((target.shape[0]))\n",
    "rmse_list = []\n",
    "for tr_idx, val_idx in kf.split(X, y) :\n",
    "    tr_x, tr_y = X.iloc[tr_idx], y.iloc[tr_idx]\n",
    "    val_x, val_y = X.iloc[val_idx], y.iloc[val_idx]\n",
    "    \n",
    "    rf.fit(tr_x, tr_y)\n",
    "    pred = np.expm1([0 if x < 0 else x for x in rf.predict(val_x)])\n",
    "\n",
    "    rmse = np.sqrt(mean_squared_error(np.expm1(val_y), pred))\n",
    "    rmse_list.append(rmse)\n",
    "    \n",
    "    sub_pred = np.expm1([0 if x < 0 else x for x in rf.predict(target)]) / 10\n",
    "    rf_pred += sub_pred\n",
    "print(f'{rf.__class__.__name__}의 10fold 평균 RMSE는 {np.mean(rmse_list)}')"
   ]
  },
  {
   "cell_type": "code",
   "execution_count": 23,
   "id": "ce2d92a5",
   "metadata": {},
   "outputs": [],
   "source": [
    "etc = ExtraTreesRegressor(random_state = 521, n_estimators = 500)"
   ]
  },
  {
   "cell_type": "code",
   "execution_count": 24,
   "id": "1abc171e",
   "metadata": {},
   "outputs": [
    {
     "name": "stdout",
     "output_type": "stream",
     "text": [
      "ExtraTreesRegressor의 10fold 평균 RMSE는 748777.7449780542\n"
     ]
    }
   ],
   "source": [
    "etc_pred = np.zeros((target.shape[0]))\n",
    "rmse_list = []\n",
    "for tr_idx, val_idx in kf.split(X, y) :\n",
    "    tr_x, tr_y = X.iloc[tr_idx], y.iloc[tr_idx]\n",
    "    val_x, val_y = X.iloc[val_idx], y.iloc[val_idx]\n",
    "    \n",
    "    etc.fit(tr_x, tr_y)\n",
    "    pred = np.expm1([0 if x < 0 else x for x in etc.predict(val_x)])\n",
    "\n",
    "    rmse = np.sqrt(mean_squared_error(np.expm1(val_y), pred))\n",
    "    rmse_list.append(rmse)\n",
    "    \n",
    "    sub_pred = np.expm1([0 if x < 0 else x for x in etc.predict(target)]) / 10\n",
    "    etc_pred += sub_pred\n",
    "print(f'{etc.__class__.__name__}의 10fold 평균 RMSE는 {np.mean(rmse_list)}')"
   ]
  },
  {
   "cell_type": "code",
   "execution_count": 25,
   "id": "59335777",
   "metadata": {},
   "outputs": [],
   "source": [
    "gb = GradientBoostingRegressor(random_state = 521, max_depth = 5)"
   ]
  },
  {
   "cell_type": "code",
   "execution_count": 26,
   "id": "f4f8f2af",
   "metadata": {},
   "outputs": [
    {
     "name": "stdout",
     "output_type": "stream",
     "text": [
      "GradientBoostingRegressor의 10fold 평균 RMSE는 590051.6390746763\n"
     ]
    }
   ],
   "source": [
    "gb_pred = np.zeros((target.shape[0]))\n",
    "rmse_list = []\n",
    "for tr_idx, val_idx in kf.split(X, y) :\n",
    "    tr_x, tr_y = X.iloc[tr_idx], y.iloc[tr_idx]\n",
    "    val_x, val_y = X.iloc[val_idx], y.iloc[val_idx]\n",
    "    \n",
    "    gb.fit(tr_x, tr_y)\n",
    "    pred = np.expm1([0 if x < 0 else x for x in gb.predict(val_x)])\n",
    "\n",
    "    rmse = np.sqrt(mean_squared_error(np.expm1(val_y), pred))\n",
    "    rmse_list.append(rmse)\n",
    "    \n",
    "    sub_pred = np.expm1([0 if x < 0 else x for x in gb.predict(target)]) / 10\n",
    "    gb_pred += sub_pred\n",
    "print(f'{gb.__class__.__name__}의 10fold 평균 RMSE는 {np.mean(rmse_list)}')"
   ]
  },
  {
   "cell_type": "code",
   "execution_count": 27,
   "id": "aeb8c542",
   "metadata": {},
   "outputs": [],
   "source": [
    "cb = CatBoostRegressor(random_state = 521, silent = True, depth = 3)"
   ]
  },
  {
   "cell_type": "code",
   "execution_count": 28,
   "id": "cadd8153",
   "metadata": {},
   "outputs": [
    {
     "name": "stdout",
     "output_type": "stream",
     "text": [
      "CatBoostRegressor의 10fold 평균 RMSE는 444907.98380159435\n"
     ]
    }
   ],
   "source": [
    "cb_pred = np.zeros((target.shape[0]))\n",
    "rmse_list = []\n",
    "for tr_idx, val_idx in kf.split(X, y) :\n",
    "    tr_x, tr_y = X.iloc[tr_idx], y.iloc[tr_idx]\n",
    "    val_x, val_y = X.iloc[val_idx], y.iloc[val_idx]\n",
    "    \n",
    "    cb.fit(tr_x, tr_y)\n",
    "    pred = np.expm1([0 if x < 0 else x for x in cb.predict(val_x)])\n",
    "\n",
    "    rmse = np.sqrt(mean_squared_error(np.expm1(val_y), pred))\n",
    "    rmse_list.append(rmse)\n",
    "    \n",
    "    sub_pred = np.expm1([0 if x < 0 else x for x in cb.predict(target)]) / 10\n",
    "    cb_pred += sub_pred\n",
    "print(f'{cb.__class__.__name__}의 10fold 평균 RMSE는 {np.mean(rmse_list)}')"
   ]
  },
  {
   "cell_type": "code",
   "execution_count": 29,
   "id": "01ca49b9",
   "metadata": {},
   "outputs": [],
   "source": [
    "lgbm = LGBMRegressor(random_state = 521, max_depth = 4, n_estimators = 1000)"
   ]
  },
  {
   "cell_type": "code",
   "execution_count": 30,
   "id": "7ecf964e",
   "metadata": {},
   "outputs": [
    {
     "name": "stdout",
     "output_type": "stream",
     "text": [
      "LGBMRegressor의 10fold 평균 RMSE는 600903.6346210752\n"
     ]
    }
   ],
   "source": [
    "lgbm_pred = np.zeros((target.shape[0]))\n",
    "rmse_list = []\n",
    "for tr_idx, val_idx in kf.split(X, y) :\n",
    "    tr_x, tr_y = X.iloc[tr_idx], y.iloc[tr_idx]\n",
    "    val_x, val_y = X.iloc[val_idx], y.iloc[val_idx]\n",
    "    \n",
    "    lgbm.fit(tr_x, tr_y)\n",
    "    pred = np.expm1([0 if x < 0 else x for x in lgbm.predict(val_x)])\n",
    "\n",
    "    rmse = np.sqrt(mean_squared_error(np.expm1(val_y), pred))\n",
    "    rmse_list.append(rmse)\n",
    "    \n",
    "    sub_pred = np.expm1([0 if x < 0 else x for x in lgbm.predict(target)]) / 10\n",
    "    lgbm_pred += sub_pred\n",
    "print(f'{lgbm.__class__.__name__}의 10fold 평균 RMSE는 {np.mean(rmse_list)}')"
   ]
  },
  {
   "cell_type": "code",
   "execution_count": 31,
   "id": "c6f038be",
   "metadata": {},
   "outputs": [],
   "source": [
    "xgb = XGBRegressor(random_state = 521, max_depth = 5)"
   ]
  },
  {
   "cell_type": "code",
   "execution_count": 32,
   "id": "e33e7fee",
   "metadata": {},
   "outputs": [
    {
     "name": "stdout",
     "output_type": "stream",
     "text": [
      "XGBRegressor의 10fold 평균 RMSE는 581307.7178958185\n"
     ]
    }
   ],
   "source": [
    "xgb_pred = np.zeros((target.shape[0]))\n",
    "rmse_list = []\n",
    "for tr_idx, val_idx in kf.split(X, y) :\n",
    "    tr_x, tr_y = X.iloc[tr_idx], y.iloc[tr_idx]\n",
    "    val_x, val_y = X.iloc[val_idx], y.iloc[val_idx]\n",
    "    \n",
    "    xgb.fit(tr_x, tr_y)\n",
    "    pred = np.expm1([0 if x < 0 else x for x in xgb.predict(val_x)])\n",
    "\n",
    "    rmse = np.sqrt(mean_squared_error(np.expm1(val_y), pred))\n",
    "    rmse_list.append(rmse)\n",
    "    \n",
    "    sub_pred = np.expm1([0 if x < 0 else x for x in xgb.predict(target)]) / 10\n",
    "    xgb_pred += sub_pred\n",
    "print(f'{xgb.__class__.__name__}의 10fold 평균 RMSE는 {np.mean(rmse_list)}')"
   ]
  },
  {
   "cell_type": "code",
   "execution_count": 34,
   "id": "2f9610d5",
   "metadata": {},
   "outputs": [
    {
     "data": {
      "text/plain": [
       "array([5.95594447e+07, 9.37229710e+07, 7.91129374e+07, ...,\n",
       "       5.95277318e+04, 4.97725431e+04, 5.04208175e+04])"
      ]
     },
     "execution_count": 34,
     "metadata": {},
     "output_type": "execute_result"
    }
   ],
   "source": [
    "submission['value'] = (gb_pred + rf_pred + etc_pred + lgbm_pred + cb_pred + ngb_pred + xgb_pred) / 7\n"
   ]
  },
  {
   "cell_type": "code",
   "execution_count": 35,
   "id": "d113301b",
   "metadata": {},
   "outputs": [],
   "source": [
    "q1 = submission['value'].quantile(0.004)\n",
    "q2 = submission['value'].quantile(0.99)\n",
    "\n",
    "submission['value'] = submission['value'].apply(lambda x: x if x > q1 else x * 0.9)\n",
    "submission['value'] = submission['value'].apply(lambda x: x if x < q2 else x * 1.1)"
   ]
  },
  {
   "cell_type": "code",
   "execution_count": 38,
   "id": "1b9b9660",
   "metadata": {},
   "outputs": [
    {
     "data": {
      "text/html": [
       "<div>\n",
       "<style scoped>\n",
       "    .dataframe tbody tr th:only-of-type {\n",
       "        vertical-align: middle;\n",
       "    }\n",
       "\n",
       "    .dataframe tbody tr th {\n",
       "        vertical-align: top;\n",
       "    }\n",
       "\n",
       "    .dataframe thead th {\n",
       "        text-align: right;\n",
       "    }\n",
       "</style>\n",
       "<table border=\"1\" class=\"dataframe\">\n",
       "  <thead>\n",
       "    <tr style=\"text-align: right;\">\n",
       "      <th></th>\n",
       "      <th>id</th>\n",
       "      <th>value</th>\n",
       "    </tr>\n",
       "  </thead>\n",
       "  <tbody>\n",
       "    <tr>\n",
       "      <th>0</th>\n",
       "      <td>1</td>\n",
       "      <td>65515389</td>\n",
       "    </tr>\n",
       "    <tr>\n",
       "      <th>1</th>\n",
       "      <td>2</td>\n",
       "      <td>103095268</td>\n",
       "    </tr>\n",
       "    <tr>\n",
       "      <th>2</th>\n",
       "      <td>4</td>\n",
       "      <td>87024231</td>\n",
       "    </tr>\n",
       "    <tr>\n",
       "      <th>3</th>\n",
       "      <td>5</td>\n",
       "      <td>91661198</td>\n",
       "    </tr>\n",
       "    <tr>\n",
       "      <th>4</th>\n",
       "      <td>6</td>\n",
       "      <td>70043135</td>\n",
       "    </tr>\n",
       "    <tr>\n",
       "      <th>...</th>\n",
       "      <td>...</td>\n",
       "      <td>...</td>\n",
       "    </tr>\n",
       "    <tr>\n",
       "      <th>3823</th>\n",
       "      <td>16924</td>\n",
       "      <td>58399</td>\n",
       "    </tr>\n",
       "    <tr>\n",
       "      <th>3824</th>\n",
       "      <td>16929</td>\n",
       "      <td>49855</td>\n",
       "    </tr>\n",
       "    <tr>\n",
       "      <th>3825</th>\n",
       "      <td>16932</td>\n",
       "      <td>59527</td>\n",
       "    </tr>\n",
       "    <tr>\n",
       "      <th>3826</th>\n",
       "      <td>16937</td>\n",
       "      <td>49772</td>\n",
       "    </tr>\n",
       "    <tr>\n",
       "      <th>3827</th>\n",
       "      <td>16943</td>\n",
       "      <td>50420</td>\n",
       "    </tr>\n",
       "  </tbody>\n",
       "</table>\n",
       "<p>3828 rows × 2 columns</p>\n",
       "</div>"
      ],
      "text/plain": [
       "         id      value\n",
       "0         1   65515389\n",
       "1         2  103095268\n",
       "2         4   87024231\n",
       "3         5   91661198\n",
       "4         6   70043135\n",
       "...     ...        ...\n",
       "3823  16924      58399\n",
       "3824  16929      49855\n",
       "3825  16932      59527\n",
       "3826  16937      49772\n",
       "3827  16943      50420\n",
       "\n",
       "[3828 rows x 2 columns]"
      ]
     },
     "execution_count": 38,
     "metadata": {},
     "output_type": "execute_result"
    }
   ],
   "source": [
    "submission['value'] = submission['value'].astype('int')\n",
    "submission"
   ]
  },
  {
   "cell_type": "code",
   "execution_count": null,
   "id": "83816870",
   "metadata": {},
   "outputs": [],
   "source": []
  },
  {
   "cell_type": "code",
   "execution_count": null,
   "id": "26c45f72",
   "metadata": {},
   "outputs": [],
   "source": []
  },
  {
   "cell_type": "code",
   "execution_count": null,
   "id": "48c03e3a",
   "metadata": {},
   "outputs": [],
   "source": []
  }
 ],
 "metadata": {
  "kernelspec": {
   "display_name": "Python 3 (ipykernel)",
   "language": "python",
   "name": "python3"
  },
  "language_info": {
   "codemirror_mode": {
    "name": "ipython",
    "version": 3
   },
   "file_extension": ".py",
   "mimetype": "text/x-python",
   "name": "python",
   "nbconvert_exporter": "python",
   "pygments_lexer": "ipython3",
   "version": "3.9.12"
  }
 },
 "nbformat": 4,
 "nbformat_minor": 5
}
