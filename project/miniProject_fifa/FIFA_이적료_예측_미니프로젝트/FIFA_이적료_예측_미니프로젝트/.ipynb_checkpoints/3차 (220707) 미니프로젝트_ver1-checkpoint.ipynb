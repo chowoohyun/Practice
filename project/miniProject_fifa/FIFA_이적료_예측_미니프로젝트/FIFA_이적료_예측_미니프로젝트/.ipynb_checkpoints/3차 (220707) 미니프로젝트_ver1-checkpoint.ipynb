{
 "cells": [
  {
   "cell_type": "code",
   "execution_count": 2,
   "id": "98120117",
   "metadata": {},
   "outputs": [
    {
     "name": "stderr",
     "output_type": "stream",
     "text": [
      "UsageError: unrecognized arguments: : 실행을 했을 때 그래프가 바로 나타나게 하는 옵션\n"
     ]
    }
   ],
   "source": [
    "import numpy as np\n",
    "import pandas as pd\n",
    "import matplotlib.pyplot as plt\n",
    "plt.style.use('ggplot')\n",
    "from matplotlib import rc\n",
    "import seaborn as sns\n",
    "import pandas as pd\n",
    "from scipy import stats\n",
    "from sklearn.linear_model import LinearRegression\n",
    "from sklearn.ensemble import GradientBoostingRegressor\n",
    "from sklearn.model_selection import train_test_split\n",
    "from sklearn.tree import DecisionTreeRegressor\n",
    "from sklearn.model_selection import StratifiedKFold\n",
    "from sklearn.model_selection import GridSearchCV\n",
    "from sklearn.metrics import mean_squared_error\n",
    "from sklearn.ensemble import RandomForestRegressor\n",
    "import xgboost\n",
    "from sklearn.metrics import explained_variance_score\n",
    "\n",
    "plt.rcParams[\"axes.unicode_minus\"] = False\n",
    "rc(\"font\", family = \"Arial Unicode MS\")\n",
    "%matplotlib inline : 실행을 했을 때 그래프가 바로 나타나게 하는 옵션\n",
    "get_ipython().run_line_magic(\"matplotlib\",\"inline\")\n",
    "\n",
    "import warnings\n",
    "warnings.filterwarning(\"ignore\")"
   ]
  },
  {
   "cell_type": "code",
   "execution_count": null,
   "id": "e3082110",
   "metadata": {},
   "outputs": [],
   "source": [
    "train = pd.read_csv('FIFA_train.csv')\n",
    "train.head()"
   ]
  },
  {
   "cell_type": "code",
   "execution_count": null,
   "id": "7d48eefa",
   "metadata": {},
   "outputs": [],
   "source": [
    "train.info()"
   ]
  },
  {
   "cell_type": "markdown",
   "id": "904ebdc6",
   "metadata": {},
   "source": [
    "FIFA_train.csv / FIFA_test.csv\n",
    " id : 선수 고유의 아이디\n",
    " \n",
    " name : 이름(object)\n",
    " \n",
    " age : 나이\n",
    " \n",
    " continent : 선수들의 국적이 포함되어 있는 대륙입니다(object)\n",
    " \n",
    " contract_until : 선수의 계약기간이 언제까지인지 나타내어 줍니다(object)\n",
    " \n",
    " position : 선수가 선호하는 포지션입니다. ex) 공격수, 수비수 등(object)\n",
    " \n",
    " prefer_foot : 선수가 선호하는 발입니다. ex) 오른발(object)\n",
    " \n",
    " reputation : 선수가 유명한 정도입니다. ex) 높은 수치일 수록 유명한 선수\n",
    " \n",
    " stat_overall : 선수의 현재 능력치 입니다.\n",
    " \n",
    " stat_potential : 선수가 경험 및 노력을 통해 발전할 수 있는 정도입니다.\n",
    " \n",
    " stat_skill_moves : 선수의 개인기 능력치 입니다.\n",
    " \n",
    " value : FIFA가 선정한 선수의 이적 시장 가격 (단위 : 유로) 입니다\n",
    " \n"
   ]
  },
  {
   "cell_type": "code",
   "execution_count": null,
   "id": "d871b241",
   "metadata": {},
   "outputs": [],
   "source": [
    "print(\"이 데이터는 축구선수 {:d}명의 데이터이며 null값은 존재하지 않는다\".format(len(train['id'])))\n",
    "print(\"object형 변수는 {:d}개이며, 숫자형 변수는 {:d}개이다.\".format(len(train.dtypes==\"object\"), len(train.dtypes==\"int64\")+len(train.dtypes==\"float64\")))"
   ]
  },
  {
   "cell_type": "code",
   "execution_count": null,
   "id": "fd258084",
   "metadata": {},
   "outputs": [],
   "source": [
    "numtype=[\"int64\",\"float64\"]\n",
    "numCol=[]\n",
    "for col, x in zip(train.dtypes.index, train.dtypes):\n",
    "    if x in numtype:\n",
    "        numCol.append(col)\n",
    "numCol"
   ]
  },
  {
   "cell_type": "code",
   "execution_count": null,
   "id": "f53dd23b",
   "metadata": {},
   "outputs": [],
   "source": [
    "numCol.remove('id')"
   ]
  },
  {
   "cell_type": "code",
   "execution_count": null,
   "id": "85915ff1",
   "metadata": {},
   "outputs": [],
   "source": [
    "def novarplot(var):\n",
    "    plt.boxplot(train[var], sym=\"bo\")\n",
    "    plt.title(\"Boxplot   \" + var)\n",
    "    plt.xlabel(var)\n",
    "    plt.show()"
   ]
  },
  {
   "cell_type": "code",
   "execution_count": 3,
   "id": "7d86c767",
   "metadata": {},
   "outputs": [
    {
     "ename": "NameError",
     "evalue": "name 'numCol' is not defined",
     "output_type": "error",
     "traceback": [
      "\u001b[1;31m---------------------------------------------------------------------------\u001b[0m",
      "\u001b[1;31mNameError\u001b[0m                                 Traceback (most recent call last)",
      "Input \u001b[1;32mIn [3]\u001b[0m, in \u001b[0;36m<cell line: 1>\u001b[1;34m()\u001b[0m\n\u001b[1;32m----> 1\u001b[0m \u001b[38;5;28;01mfor\u001b[39;00m x \u001b[38;5;129;01min\u001b[39;00m \u001b[43mnumCol\u001b[49m:\n\u001b[0;32m      2\u001b[0m     novarplot(x)\n",
      "\u001b[1;31mNameError\u001b[0m: name 'numCol' is not defined"
     ]
    }
   ],
   "source": [
    "for x in numCol:\n",
    "    novarplot(x)"
   ]
  },
  {
   "cell_type": "code",
   "execution_count": null,
   "id": "bd7ac071",
   "metadata": {},
   "outputs": [],
   "source": [
    "for x in numCol:\n",
    "    plt.hist(train[x])\n",
    "    plt.show()"
   ]
  },
  {
   "cell_type": "code",
   "execution_count": null,
   "id": "77cd595b",
   "metadata": {},
   "outputs": [],
   "source": [
    "#value 변환\n",
    "#1) 2018년 환율 기준으로 won으로 바꿈\n"
   ]
  },
  {
   "cell_type": "code",
   "execution_count": null,
   "id": "a48c71c3",
   "metadata": {},
   "outputs": [],
   "source": [
    "train['value_won'] = train['value'].apply(lambda x: x*1299.65).astype(np.int64)\n",
    "sns.distplot(train['value_won'])"
   ]
  },
  {
   "cell_type": "code",
   "execution_count": null,
   "id": "2d323fe1",
   "metadata": {},
   "outputs": [],
   "source": [
    "# # 편향 처리\n",
    "# https://towardsdatascience.com/top-3-methods-for-handling-skewed-data-1334e0debf45\n",
    "# https://www.statisticshowto.com/probability-and-statistics/normal-distributions/box-cox-transformation/\n",
    "# https://dining-developer.tistory.com/18\n",
    "# 1) 로그 처리\n",
    "#https://suppppppp.github.io/posts/Why-Series-MDM-1/\n",
    "# 2) 루트 처리\n",
    "\n",
    "# 3) Box-Cox 변환"
   ]
  },
  {
   "cell_type": "code",
   "execution_count": null,
   "id": "df4ce76b",
   "metadata": {},
   "outputs": [],
   "source": [
    "\n",
    "train['log_value'] = np.log1p(train['value'])\n",
    "train['root_value'] = np.sqrt(train['value'])\n",
    "train['boxcox_value'] = pd.Series(stats.boxcox(train['value'])[0])"
   ]
  },
  {
   "cell_type": "code",
   "execution_count": null,
   "id": "9e481e25",
   "metadata": {},
   "outputs": [],
   "source": [
    "# 왜도 (Skewness)\n",
    "# - 분포의 비대칭도.\n",
    "\n",
    "# - 정규분포 = 왜도 0\n",
    "\n",
    "# - 왼쪽으로 치우침 = 왜도 > 0\n",
    "\n",
    "# - 오른쪽으로 치우침 = 왜도 < 0"
   ]
  },
  {
   "cell_type": "code",
   "execution_count": null,
   "id": "1b9ea64a",
   "metadata": {},
   "outputs": [],
   "source": [
    "print(\"로그변환      :   \", train['log_value'].skew())\n",
    "print(\"루트변환      :   \", train['root_value'].skew())\n",
    "print(\"box-cox변환  :   \", train['boxcox_value'].skew())"
   ]
  },
  {
   "cell_type": "code",
   "execution_count": null,
   "id": "4efb2622",
   "metadata": {},
   "outputs": [],
   "source": [
    "# 그래프 확인\n",
    "fig, ax = plt.subplots(ncols=3, figsize=(20,5))\n",
    "\n",
    "sns.distplot(train['log_value'], ax=ax[0])\n",
    "sns.distplot(train['root_value'], ax=ax[1])\n",
    "sns.distplot(train['boxcox_value'], ax=ax[2])"
   ]
  },
  {
   "cell_type": "code",
   "execution_count": null,
   "id": "8e30433d",
   "metadata": {},
   "outputs": [],
   "source": [
    "train.info()"
   ]
  },
  {
   "cell_type": "code",
   "execution_count": null,
   "id": "26dde774",
   "metadata": {
    "scrolled": true
   },
   "outputs": [],
   "source": [
    "novarplot('log_value')\n",
    "novarplot('root_value')\n",
    "novarplot('boxcox_value')"
   ]
  },
  {
   "cell_type": "code",
   "execution_count": null,
   "id": "a092621f",
   "metadata": {},
   "outputs": [],
   "source": [
    "print(\"log 변환     >> 평균 : {:.4f} 편차 : {:.4f}  최소값 : {:.4f}  최대값 : {:.4f} \".format(np.mean(train['log_value']), np.std(train['log_value']), np.min(train['log_value']), np.max(train['log_value'])))\n",
    "print(\"root 변환    >> 평균 : {:.2f} 편차 : {:.2f}  최소값 : {:.2f}  최대값 : {:.2f} \".format(np.mean(train['root_value']), np.std(train['root_value']), np.min(train['root_value']), np.max(train['root_value'])))\n",
    "print(\"box-cox 변환 >> 평균 : {:.4f} 편차 : {:.4f}  최소값 : {:.4f}  최대값 : {:.4f} \".format(np.mean(train['boxcox_value']), np.std(train['boxcox_value']), np.min(train['boxcox_value']), np.max(train['boxcox_value'])))\n"
   ]
  },
  {
   "cell_type": "code",
   "execution_count": null,
   "id": "5946f346",
   "metadata": {},
   "outputs": [],
   "source": [
    "train.head()"
   ]
  },
  {
   "cell_type": "code",
   "execution_count": null,
   "id": "0fa2d056",
   "metadata": {},
   "outputs": [],
   "source": [
    "# # object Unique\n",
    "#  continent : 선수들의 국적이 포함되어 있는 대륙입니다(object)\n",
    " \n",
    "#  contract_until : 선수의 계약기간이 언제까지인지 나타내어 줍니다(object)\n",
    " \n",
    "#  position : 선수가 선호하는 포지션입니다. ex) 공격수, 수비수 등(object)\n",
    " \n",
    "#  prefer_foot : 선수가 선호하는 발입니다. ex) 오른발(object)"
   ]
  },
  {
   "cell_type": "code",
   "execution_count": null,
   "id": "4b1077e6",
   "metadata": {},
   "outputs": [],
   "source": [
    "objCol = train.dtypes[train.dtypes==\"object\"].index\n",
    "objCol = list(objCol)"
   ]
  },
  {
   "cell_type": "code",
   "execution_count": null,
   "id": "ade1f5a7",
   "metadata": {},
   "outputs": [],
   "source": [
    "objCol.remove('name')"
   ]
  },
  {
   "cell_type": "code",
   "execution_count": null,
   "id": "654c9614",
   "metadata": {},
   "outputs": [],
   "source": [
    "objCol"
   ]
  },
  {
   "cell_type": "code",
   "execution_count": null,
   "id": "e1c8d921",
   "metadata": {},
   "outputs": [],
   "source": [
    "for x in objCol:\n",
    "    print(\"변수 : \", x, train[x].unique(), end=\"\\n\")\n",
    "    print(\" >>>> 항목 개수 : \", len(train[x].unique()))"
   ]
  },
  {
   "cell_type": "code",
   "execution_count": null,
   "id": "7d64a9c9",
   "metadata": {},
   "outputs": [],
   "source": [
    "train['contract_until']=train['contract_until'].map(lambda x: x[-4:])"
   ]
  },
  {
   "cell_type": "code",
   "execution_count": null,
   "id": "c226606d",
   "metadata": {},
   "outputs": [],
   "source": [
    "train['contract_until'].unique()"
   ]
  },
  {
   "cell_type": "code",
   "execution_count": null,
   "id": "590e6bdf",
   "metadata": {},
   "outputs": [],
   "source": [
    "numCol.append('log_value')\n",
    "numCol.append('boxcox_value')"
   ]
  },
  {
   "cell_type": "code",
   "execution_count": null,
   "id": "f333c7b5",
   "metadata": {},
   "outputs": [],
   "source": [
    "numCol"
   ]
  },
  {
   "cell_type": "code",
   "execution_count": null,
   "id": "131412db",
   "metadata": {},
   "outputs": [],
   "source": [
    "colormap = plt.cm.PuBu\n",
    "plt.figure(figsize=(10, 8))\n",
    "plt.title(\"Person Correlation of Features\", y = 1.05, size = 15)\n",
    "sns.heatmap(train[numCol].astype(float).corr(), linewidths = 0.1, vmax = 1.0,\n",
    "           square = True, cmap = colormap, linecolor = \"white\", annot = True, annot_kws = {\"size\" : 16})\n"
   ]
  },
  {
   "cell_type": "code",
   "execution_count": null,
   "id": "94d8b00f",
   "metadata": {},
   "outputs": [],
   "source": [
    "# 다중공선성 확인\n",
    "from statsmodels.stats.outliers_influence import variance_inflation_factor\n",
    "\n",
    "vif = pd.DataFrame()\n",
    "vif[\"VIF Factor\"] = [variance_inflation_factor(\n",
    "    x_data_basic.values, i) for i in range(x_data_basic.shape[1])]\n",
    "vif[\"feature\"] = x_data_basic.columns\n",
    "vif"
   ]
  },
  {
   "cell_type": "code",
   "execution_count": null,
   "id": "fff197b0",
   "metadata": {},
   "outputs": [],
   "source": [
    "print(\"상관계수는 stat_potential(잠재력) & stat_overall(현재 능력치)이 0.67로 가장 상관관계가 크다.\")\n",
    "print(\"이 두변수는 변환된 value(log/boxcox 기준)와는 stat_overallDL 0.94로 stat_potential 0.79보다 높은 것으로 나타났으나,\")\n",
    "print(\"VIF를 확인하였을 때, 다중공선성의 가능성은 없는 것으로 확인하였다.\", end='\\n\\n')\n",
    "\n",
    "print(\"두번째로 높은 상관계수는 reputation(유명도) & stat_overall(현재능력치)가 0.52로 높게 나타났다.\")"
   ]
  },
  {
   "cell_type": "code",
   "execution_count": null,
   "id": "6957952a",
   "metadata": {
    "scrolled": true
   },
   "outputs": [],
   "source": [
    "#Object변수와 Num변수 함께 boxplot 그리기\n",
    "\n",
    "for obj in objCol:\n",
    "    for num in numCol:\n",
    "        sns.boxplot(x=obj,y=num,data=train)\n",
    "        plt.title(\"boxplot  \"+obj+\" & \"+num)\n",
    "        plt.xlabel(obj)\n",
    "        plt.ylabel(num)\n",
    "        plt.show()\n"
   ]
  },
  {
   "cell_type": "code",
   "execution_count": null,
   "id": "edd54930",
   "metadata": {
    "scrolled": true
   },
   "outputs": [],
   "source": [
    "for a in numCol:\n",
    "    for b in numCol:\n",
    "        sns.scatterplot(x=a,y=b,data=train)\n",
    "        plt.title(\"scatterplot  \"+a+\" & \"+b)\n",
    "        plt.xlabel(a)\n",
    "        plt.ylabel(b)\n",
    "        plt.show()\n",
    "            "
   ]
  },
  {
   "cell_type": "code",
   "execution_count": null,
   "id": "8448fcef",
   "metadata": {},
   "outputs": [],
   "source": [
    "sns.pairplot(train)\n",
    "plt.show()"
   ]
  },
  {
   "cell_type": "code",
   "execution_count": null,
   "id": "2df4c99f",
   "metadata": {},
   "outputs": [],
   "source": [
    "train.head()"
   ]
  },
  {
   "cell_type": "code",
   "execution_count": null,
   "id": "f3d297e3",
   "metadata": {},
   "outputs": [],
   "source": [
    "x_data = train.iloc[:,2:11].copy()"
   ]
  },
  {
   "cell_type": "code",
   "execution_count": null,
   "id": "3fda4c02",
   "metadata": {},
   "outputs": [],
   "source": [
    "y_data = train['value'].copy()\n",
    "y_data_log = train['log_value'].copy()\n",
    "y_data_boxcox = train['boxcox_value'].copy()"
   ]
  },
  {
   "cell_type": "code",
   "execution_count": null,
   "id": "9ea98938",
   "metadata": {},
   "outputs": [],
   "source": [
    "x_data.head()"
   ]
  },
  {
   "cell_type": "code",
   "execution_count": null,
   "id": "a2d2a2e5",
   "metadata": {},
   "outputs": [],
   "source": [
    "x_data = pd.get_dummies(x_data)"
   ]
  },
  {
   "cell_type": "code",
   "execution_count": null,
   "id": "254e9980",
   "metadata": {},
   "outputs": [],
   "source": [
    "x_data.head()"
   ]
  },
  {
   "cell_type": "code",
   "execution_count": null,
   "id": "dd85945d",
   "metadata": {},
   "outputs": [],
   "source": [
    "#100점 만점 변수 5점 변수로 변환\n",
    "x_data['stat_overall']=x_data['stat_overall']/100*5\n",
    "x_data['stat_potential']=x_data['stat_potential']/100*5"
   ]
  },
  {
   "cell_type": "code",
   "execution_count": null,
   "id": "0ce667cf",
   "metadata": {},
   "outputs": [],
   "source": [
    "x_data.head()"
   ]
  },
  {
   "cell_type": "code",
   "execution_count": null,
   "id": "8b33fd58",
   "metadata": {},
   "outputs": [],
   "source": [
    "x_data['age_minmax'] = (x_data['age']-x_data['age'].min())/(x_data['age'].max()-x_data['age'].min())\n",
    "x_data['age_std'] = (x_data['age']-x_data['age'].mean())/x_data['age'].std()"
   ]
  },
  {
   "cell_type": "code",
   "execution_count": null,
   "id": "494b64f5",
   "metadata": {},
   "outputs": [],
   "source": [
    "print(\"age_minmax     >> 평균 : {:.4f} 편차 : {:.4f}  최소값 : {:.4f}  최대값 : {:.4f} \".format(np.mean(x_data['age_minmax']), np.std(x_data['age_minmax']), np.min(x_data['age_minmax']), np.max(x_data['age_minmax'])))\n",
    "print(\"age_std   >> 평균 : {:.2f} 편차 : {:.2f}  최소값 : {:.2f}  최대값 : {:.2f} \".format(np.mean(x_data['age_std']), np.std(x_data['age_std']), np.min(x_data['age_std']), np.max(x_data['age_std'])))"
   ]
  },
  {
   "cell_type": "code",
   "execution_count": null,
   "id": "3cf98ff0",
   "metadata": {},
   "outputs": [],
   "source": [
    "x_data_basic = x_data.copy()\n",
    "x_data_minmax = x_data.copy()\n",
    "x_data_std = x_data.copy()"
   ]
  },
  {
   "cell_type": "code",
   "execution_count": null,
   "id": "b1e9f1d8",
   "metadata": {},
   "outputs": [],
   "source": [
    "del x_data_basic['age_minmax']\n",
    "del x_data_basic['age_std']\n",
    "del x_data_minmax['age']\n",
    "del x_data_minmax['age_std']\n",
    "del x_data_std['age']\n",
    "del x_data_std['age_minmax']"
   ]
  },
  {
   "cell_type": "code",
   "execution_count": null,
   "id": "418bde01",
   "metadata": {},
   "outputs": [],
   "source": [
    "x_data_std.head()"
   ]
  },
  {
   "cell_type": "code",
   "execution_count": null,
   "id": "20e6d10b",
   "metadata": {},
   "outputs": [],
   "source": [
    "- linear regression\n",
    "1) age를 그냥 넣어서 y_data/y_data_log/y_data_boxcox \n",
    "2) age_minmax 넣어서 y_data/y_data_log/y_data_boxcox\n",
    "3) age_std 넣어서 y_data/y_data_log/y_data_boxcox"
   ]
  },
  {
   "cell_type": "code",
   "execution_count": null,
   "id": "ddde41ba",
   "metadata": {},
   "outputs": [],
   "source": [
    "- random forest\n",
    "1) age를 그냥 넣어서 y_data/y_data_log/y_data_boxcox \n",
    "2) age_minmax 넣어서 y_data/y_data_log/y_data_boxcox\n",
    "3) age_std 넣어서 y_data/y_data_log/y_data_boxcox"
   ]
  },
  {
   "cell_type": "code",
   "execution_count": null,
   "id": "c6f238b1",
   "metadata": {},
   "outputs": [],
   "source": [
    "-xgboost\n",
    "1) age를 그냥 넣어서 y_data/y_data_log/y_data_boxcox \n",
    "2) age_minmax 넣어서 y_data/y_data_log/y_data_boxcox\n",
    "3) age_std 넣어서 y_data/y_data_log/y_data_boxcox"
   ]
  },
  {
   "cell_type": "code",
   "execution_count": null,
   "id": "de92eca9",
   "metadata": {},
   "outputs": [],
   "source": [
    "#linear regression\n",
    "x_name = []\n",
    "y_name = []\n",
    "tr_rmse = []\n",
    "test_rmse = []\n",
    "train_score=[]\n",
    "test_score = []\n",
    "\n",
    "x_dataset = [x_data_basic, x_data_minmax, x_data_std]\n",
    "y_dataset = [y_data, y_data_log, y_data_boxcox]\n",
    "\n",
    "x_list = [\"x_data_basic\", \"x_data_minmax\", \"x_data_std\"]\n",
    "y_list = [\"y_data\", \"y_data_log\", \"y_data_boxcox\"]"
   ]
  },
  {
   "cell_type": "code",
   "execution_count": null,
   "id": "07656402",
   "metadata": {},
   "outputs": [],
   "source": [
    "for i, a in enumerate(x_dataset):\n",
    "    for j, b in enumerate(y_dataset):\n",
    "        X_train, X_test, y_train, y_test = train_test_split(a, b, test_size=0.3, random_state=9)\n",
    "\n",
    "        reg = LinearRegression()\n",
    "        reg.fit(X_train, y_train)\n",
    "\n",
    "        pred_tr = reg.predict(X_train)\n",
    "        pred_test = reg.predict(X_test)\n",
    "        rmse_tr = (np.sqrt(mean_squared_error(y_train, pred_tr)))\n",
    "        rmse_test = (np.sqrt(mean_squared_error(y_test, pred_test)))\n",
    "\n",
    "        x_name.append(x_list[i])\n",
    "        y_name.append(y_list[j])\n",
    "        tr_rmse.append(rmse_tr)\n",
    "        test_rmse.append(rmse_test)\n",
    "        train_score.append(reg.score(X_train,y_train))\n",
    "        test_score.append(reg.score(X_test, y_test))\n",
    "        print(len(x_name), len(y_name), len(tr_rmse), len(test_rmse), len(train_score),len(test_score))"
   ]
  },
  {
   "cell_type": "code",
   "execution_count": null,
   "id": "37b35af8",
   "metadata": {},
   "outputs": [],
   "source": [
    "df_linear = pd.DataFrame({'X_data' : x_name,\n",
    "                  'y_data' : y_name,\n",
    "                  'train_rmse' : tr_rmse,\n",
    "                  'test_rmse' : test_rmse,\n",
    "                  'train_score' : train_score,\n",
    "                  'test_score' : test_score})\n"
   ]
  },
  {
   "cell_type": "code",
   "execution_count": null,
   "id": "0cfcc7ce",
   "metadata": {},
   "outputs": [],
   "source": [
    "display(df_linear)"
   ]
  },
  {
   "cell_type": "code",
   "execution_count": null,
   "id": "a821f14d",
   "metadata": {},
   "outputs": [],
   "source": [
    "x_dataset[1]"
   ]
  },
  {
   "cell_type": "code",
   "execution_count": null,
   "id": "5384e16c",
   "metadata": {},
   "outputs": [],
   "source": [
    "#randomforest\n",
    "x_name = []\n",
    "y_name = []\n",
    "tr_rmse = []\n",
    "test_rmse = []\n",
    "train_score=[]\n",
    "test_score = []\n",
    "\n",
    "x_dataset = [x_data_basic, x_data_minmax, x_data_std]\n",
    "y_dataset = [y_data, y_data_log, y_data_boxcox]\n",
    "\n",
    "x_list = [\"x_data_basic\", \"x_data_minmax\", \"x_data_std\"]\n",
    "y_list = [\"y_data\", \"y_data_log\", \"y_data_boxcox\"]"
   ]
  },
  {
   "cell_type": "code",
   "execution_count": null,
   "id": "0a417f52",
   "metadata": {},
   "outputs": [],
   "source": [
    "for i, a in enumerate(x_dataset):\n",
    "    for j, b in enumerate(y_dataset):\n",
    "        X_train, X_test, y_train, y_test = train_test_split(a, b, test_size=0.3, random_state=9)\n",
    "\n",
    "        rfref = RandomForestRegressor()\n",
    "        rfref.fit(X_train, y_train)\n",
    "\n",
    "        pred_tr = rfref.predict(X_train)\n",
    "        pred_test = rfref.predict(X_test)\n",
    "        rmse_tr = (np.sqrt(mean_squared_error(y_train, pred_tr)))\n",
    "        rmse_test = (np.sqrt(mean_squared_error(y_test, pred_test)))\n",
    "\n",
    "        x_name.append(x_list[i])\n",
    "        y_name.append(y_list[j])\n",
    "        tr_rmse.append(rmse_tr)\n",
    "        test_rmse.append(rmse_test)\n",
    "        train_score.append(rfref.score(X_train,y_train))\n",
    "        test_score.append(rfref.score(X_test, y_test))\n",
    "        print(len(x_name), len(y_name), len(tr_rmse), len(test_rmse), len(train_score),len(test_score))"
   ]
  },
  {
   "cell_type": "code",
   "execution_count": null,
   "id": "ad9f9c59",
   "metadata": {},
   "outputs": [],
   "source": [
    "df_randomforest = pd.DataFrame({'X_data' : x_name,\n",
    "                  'y_data' : y_name,\n",
    "                  'train_rmse' : tr_rmse,\n",
    "                  'test_rmse' : test_rmse,\n",
    "                  'train_score' : train_score,\n",
    "                  'test_score' : test_score})\n"
   ]
  },
  {
   "cell_type": "code",
   "execution_count": null,
   "id": "54b63df7",
   "metadata": {},
   "outputs": [],
   "source": [
    "display(df_randomforest)"
   ]
  },
  {
   "cell_type": "code",
   "execution_count": null,
   "id": "63d6665e",
   "metadata": {},
   "outputs": [],
   "source": [
    "#xgboost\n",
    "x_name = []\n",
    "y_name = []\n",
    "tr_rmse = []\n",
    "test_rmse = []\n",
    "train_score=[]\n",
    "test_score = []\n",
    "\n",
    "x_dataset = [x_data_basic, x_data_minmax, x_data_std]\n",
    "y_dataset = [y_data, y_data_log, y_data_boxcox]\n",
    "\n",
    "x_list = [\"x_data_basic\", \"x_data_minmax\", \"x_data_std\"]\n",
    "y_list = [\"y_data\", \"y_data_log\", \"y_data_boxcox\"]"
   ]
  },
  {
   "cell_type": "code",
   "execution_count": null,
   "id": "fa350041",
   "metadata": {},
   "outputs": [],
   "source": [
    "for i, a in enumerate(x_dataset):\n",
    "    for j, b in enumerate(y_dataset):\n",
    "        \n",
    "        X_train, X_test, y_train, y_test = train_test_split(a, b, test_size=0.3, random_state=9)\n",
    "        \n",
    "        xgb = xgboost.XGBRegressor(n_estimators=100,learning_rate=0.08,gamma=0,subsample=0.75,colsample_bytree=1,max_depth=7)\n",
    "        xgb.fit(X_train, y_train)\n",
    "\n",
    "        pred_tr = xgb.predict(X_train)\n",
    "        pred_test = xgb.predict(X_test)\n",
    "        rmse_tr = (np.sqrt(mean_squared_error(y_train, pred_tr)))\n",
    "        rmse_test = (np.sqrt(mean_squared_error(y_test, pred_test)))\n",
    "\n",
    "        x_name.append(x_list[i])\n",
    "        y_name.append(y_list[j])\n",
    "        tr_rmse.append(rmse_tr)\n",
    "        test_rmse.append(rmse_test)\n",
    "        train_score.append(xgb.score(X_train,y_train))\n",
    "        test_score.append(xgb.score(X_test, y_test))\n",
    "        #print(len(x_name), len(y_name), len(tr_rmse), len(test_rmse), len(train_score),len(test_score))\n",
    "        print(x_list[i], y_list[j], xgboost.plot_importance(xgb))"
   ]
  },
  {
   "cell_type": "code",
   "execution_count": null,
   "id": "71704982",
   "metadata": {},
   "outputs": [],
   "source": [
    "df_xgboost = pd.DataFrame({'X_data' : x_name,\n",
    "                  'y_data' : y_name,\n",
    "                  'train_rmse' : tr_rmse,\n",
    "                  'test_rmse' : test_rmse,\n",
    "                  'train_score' : train_score,\n",
    "                  'test_score' : test_score})\n"
   ]
  },
  {
   "cell_type": "code",
   "execution_count": null,
   "id": "3005bcef",
   "metadata": {},
   "outputs": [],
   "source": [
    "display(df_xgboost)"
   ]
  },
  {
   "cell_type": "code",
   "execution_count": null,
   "id": "7f11055a",
   "metadata": {},
   "outputs": [],
   "source": [
    "df_linear['algorithm']=\"linear regression\"\n",
    "df_randomforest['algorithm']=\"randomforest\"\n",
    "df_xgboost['algorithm']=\"xgboost\""
   ]
  },
  {
   "cell_type": "code",
   "execution_count": null,
   "id": "5a9de801",
   "metadata": {},
   "outputs": [],
   "source": [
    "df_linear"
   ]
  },
  {
   "cell_type": "code",
   "execution_count": null,
   "id": "d834c541",
   "metadata": {},
   "outputs": [],
   "source": [
    "result = pd.concat([df_linear, df_randomforest, df_xgboost], ignore_index=True)"
   ]
  },
  {
   "cell_type": "code",
   "execution_count": null,
   "id": "153070b7",
   "metadata": {},
   "outputs": [],
   "source": [
    "result"
   ]
  },
  {
   "cell_type": "code",
   "execution_count": null,
   "id": "a0d0ce22",
   "metadata": {},
   "outputs": [],
   "source": [
    "result.sort_values(by=['test_score'], ascending=False)"
   ]
  },
  {
   "cell_type": "code",
   "execution_count": null,
   "id": "000f7017",
   "metadata": {},
   "outputs": [],
   "source": [
    "test = pd.read_csv('FIFA_test.csv')"
   ]
  },
  {
   "cell_type": "code",
   "execution_count": null,
   "id": "5f8b739b",
   "metadata": {},
   "outputs": [],
   "source": [
    "test.head()"
   ]
  },
  {
   "cell_type": "code",
   "execution_count": null,
   "id": "64308066",
   "metadata": {},
   "outputs": [],
   "source": [
    "test['contract_until'].unique()"
   ]
  },
  {
   "cell_type": "code",
   "execution_count": null,
   "id": "4a26242f",
   "metadata": {},
   "outputs": [],
   "source": [
    "del test['id']\n",
    "del test['name']"
   ]
  },
  {
   "cell_type": "code",
   "execution_count": null,
   "id": "670b1783",
   "metadata": {},
   "outputs": [],
   "source": [
    "test['contract_until']=test['contract_until'].map(lambda x: x[-4:])"
   ]
  },
  {
   "cell_type": "code",
   "execution_count": null,
   "id": "e133fa49",
   "metadata": {},
   "outputs": [],
   "source": [
    "x_test = pd.get_dummies(test)\n",
    "\n",
    "#100점 만점 변수 5점 변수로 변환\n",
    "x_test['stat_overall']=x_test['stat_overall']/100*5\n",
    "x_test['stat_potential']=x_test['stat_potential']/100*5"
   ]
  },
  {
   "cell_type": "code",
   "execution_count": null,
   "id": "879783f2",
   "metadata": {},
   "outputs": [],
   "source": [
    "x_test['age_minmax'] = (x_test['age']-x_data['age'].min())/(x_data['age'].max()-x_data['age'].min())\n",
    "x_test['age_std'] = (x_test['age']-x_data['age'].mean())/x_data['age'].std()"
   ]
  },
  {
   "cell_type": "code",
   "execution_count": null,
   "id": "b31d8580",
   "metadata": {},
   "outputs": [],
   "source": [
    "x_test_basic = x_test.copy()\n",
    "x_test_minmax = x_test.copy()\n",
    "x_test_std = x_test.copy()"
   ]
  },
  {
   "cell_type": "code",
   "execution_count": null,
   "id": "8258af06",
   "metadata": {},
   "outputs": [],
   "source": [
    "del x_test_basic['age_minmax']\n",
    "del x_test_basic['age_std']\n",
    "del x_test_minmax['age']\n",
    "del x_test_minmax['age_std']\n",
    "del x_test_std['age']\n",
    "del x_test_std['age_minmax']"
   ]
  },
  {
   "cell_type": "code",
   "execution_count": null,
   "id": "9578f0f6",
   "metadata": {},
   "outputs": [],
   "source": [
    "x_test_set = [x_test_basic, x_test_minmax, x_test_std]"
   ]
  },
  {
   "cell_type": "code",
   "execution_count": null,
   "id": "2f1df944",
   "metadata": {},
   "outputs": [],
   "source": [
    "reg_pred_basic = reg.predict(x_test_basic)\n",
    "reg_pred_minmax = reg.predict(x_test_minmax)\n",
    "reg_pred_std = reg.predict(x_test_std)"
   ]
  },
  {
   "cell_type": "code",
   "execution_count": null,
   "id": "3b97e198",
   "metadata": {},
   "outputs": [],
   "source": [
    "x_test_basic.head()"
   ]
  },
  {
   "cell_type": "code",
   "execution_count": null,
   "id": "63695b08",
   "metadata": {},
   "outputs": [],
   "source": [
    "reg_pred_basic"
   ]
  },
  {
   "cell_type": "code",
   "execution_count": null,
   "id": "cbcc8b88",
   "metadata": {},
   "outputs": [],
   "source": [
    "x_test_basic.loc[:,'prediction'] = reg_pred_basic\n",
    "x_test_minmax.loc[:,'prediction'] = reg_pred_minmax\n",
    "x_test_std.loc[:,'prediction'] = reg_pred_std"
   ]
  },
  {
   "cell_type": "code",
   "execution_count": null,
   "id": "56817e00",
   "metadata": {},
   "outputs": [],
   "source": [
    "x_test_basic"
   ]
  },
  {
   "cell_type": "code",
   "execution_count": null,
   "id": "fb313043",
   "metadata": {},
   "outputs": [],
   "source": [
    "x_test_basic.loc[:,'id'] = test['id']\n",
    "x_test_minmax.loc[:,'id'] = test['id']\n",
    "x_test_std.loc[:,'id'] = test['id']"
   ]
  },
  {
   "cell_type": "code",
   "execution_count": null,
   "id": "4c30f4f7",
   "metadata": {},
   "outputs": [],
   "source": [
    "x_test_minmax.head()"
   ]
  },
  {
   "cell_type": "code",
   "execution_count": null,
   "id": "717829e9",
   "metadata": {},
   "outputs": [],
   "source": [
    "#원본값 반환\n",
    "origin = np.log(x)\n",
    "log_plus1 = np.log(x + 1)\n",
    "log_1p = np.log1p(x)\n",
    "\n",
    "print(\"origin -> np.exp(origin)\")\n",
    "print(\"origin -> np.exp(log_plus1)\")\n",
    "print(\"origin -> np.exp(log_1p)\")"
   ]
  }
 ],
 "metadata": {
  "kernelspec": {
   "display_name": "Python 3 (ipykernel)",
   "language": "python",
   "name": "python3"
  },
  "language_info": {
   "codemirror_mode": {
    "name": "ipython",
    "version": 3
   },
   "file_extension": ".py",
   "mimetype": "text/x-python",
   "name": "python",
   "nbconvert_exporter": "python",
   "pygments_lexer": "ipython3",
   "version": "3.9.12"
  },
  "toc": {
   "base_numbering": 1,
   "nav_menu": {},
   "number_sections": true,
   "sideBar": true,
   "skip_h1_title": false,
   "title_cell": "Table of Contents",
   "title_sidebar": "Contents",
   "toc_cell": false,
   "toc_position": {},
   "toc_section_display": true,
   "toc_window_display": false
  }
 },
 "nbformat": 4,
 "nbformat_minor": 5
}
