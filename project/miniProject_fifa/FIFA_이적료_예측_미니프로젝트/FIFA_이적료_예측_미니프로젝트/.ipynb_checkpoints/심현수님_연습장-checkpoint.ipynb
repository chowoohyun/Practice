{
 "cells": [
  {
   "cell_type": "code",
   "execution_count": 4,
   "id": "69df406a",
   "metadata": {},
   "outputs": [],
   "source": [
    "import pandas as pd\n",
    "import seaborn as sns\n",
    "import numpy as np\n",
    "import matplotlib.pyplot as plt\n",
    "plt.style.use('ggplot')"
   ]
  },
  {
   "cell_type": "code",
   "execution_count": 5,
   "id": "9c1942b2",
   "metadata": {},
   "outputs": [],
   "source": [
    "train = pd.read_csv('FIFA_train.csv', encoding='utf-8')\n",
    "test = pd.read_csv('C:FIFA_test.csv', encoding='utf-8')\n",
    "# 데이터 불러오기"
   ]
  },
  {
   "cell_type": "code",
   "execution_count": 6,
   "id": "b10a8c9a",
   "metadata": {},
   "outputs": [],
   "source": [
    "train.drop(['id','name'], axis=1, inplace=True)\n",
    "test.drop(['id','name'], axis=1, inplace=True)"
   ]
  },
  {
   "cell_type": "code",
   "execution_count": 7,
   "id": "fd149383",
   "metadata": {},
   "outputs": [
    {
     "data": {
      "text/plain": [
       "2019            2366\n",
       "2021            2308\n",
       "2020            2041\n",
       "2022             761\n",
       "2023             506\n",
       "Jun 30, 2019     501\n",
       "2018             327\n",
       "Dec 31, 2018      64\n",
       "May 31, 2019      19\n",
       "2024              12\n",
       "Jan 31, 2019      10\n",
       "Jun 30, 2020       9\n",
       "2025               3\n",
       "Jan 1, 2019        2\n",
       "2026               1\n",
       "May 31, 2020       1\n",
       "Jan 12, 2019       1\n",
       "Name: contract_until, dtype: int64"
      ]
     },
     "execution_count": 7,
     "metadata": {},
     "output_type": "execute_result"
    }
   ],
   "source": [
    "train.contract_until.value_counts() # 계약기간 값들 정렬"
   ]
  },
  {
   "cell_type": "code",
   "execution_count": 8,
   "id": "694c3eb0",
   "metadata": {},
   "outputs": [],
   "source": [
    "# 계약기간값 년도별로 재구성\n",
    "\n",
    "def func(string:object) -> int:\n",
    "    string = string[-4:]\n",
    "    return int(string)\n",
    "\n",
    "train['contract_until'] = train['contract_until'].apply(func)\n",
    "test['contract_until'] = test['contract_until'].apply(func)"
   ]
  },
  {
   "cell_type": "markdown",
   "id": "b1bba69f",
   "metadata": {},
   "source": [
    "### RMSE"
   ]
  },
  {
   "cell_type": "code",
   "execution_count": 9,
   "id": "640d8192",
   "metadata": {},
   "outputs": [],
   "source": [
    "b_train = train.copy()"
   ]
  },
  {
   "cell_type": "code",
   "execution_count": 10,
   "id": "9125534a",
   "metadata": {},
   "outputs": [],
   "source": [
    "b_test = test.copy()"
   ]
  },
  {
   "cell_type": "code",
   "execution_count": 11,
   "id": "b3e37069",
   "metadata": {},
   "outputs": [
    {
     "data": {
      "text/plain": [
       "((8932, 10), (3828, 9))"
      ]
     },
     "execution_count": 11,
     "metadata": {},
     "output_type": "execute_result"
    }
   ],
   "source": [
    "b_train.shape, b_test.shape"
   ]
  },
  {
   "cell_type": "code",
   "execution_count": 12,
   "id": "c022ede1",
   "metadata": {},
   "outputs": [],
   "source": [
    "b_train['continent']=b_train['continent'].astype('category').cat.codes\n",
    "b_test['continent'] = b_test['continent'].astype('category').cat.codes\n",
    "\n",
    "b_train['position'] = b_train['position'].astype('category').cat.codes\n",
    "b_test['position'] = b_test['position'].astype('category').cat.codes\n",
    "\n",
    "b_train['prefer_foot'] = b_train['prefer_foot'].astype('category').cat.codes\n",
    "b_test['prefer_foot'] = b_test['prefer_foot'].astype('category').cat.codes"
   ]
  },
  {
   "cell_type": "code",
   "execution_count": 13,
   "id": "fbae93ed",
   "metadata": {},
   "outputs": [
    {
     "data": {
      "text/html": [
       "<div>\n",
       "<style scoped>\n",
       "    .dataframe tbody tr th:only-of-type {\n",
       "        vertical-align: middle;\n",
       "    }\n",
       "\n",
       "    .dataframe tbody tr th {\n",
       "        vertical-align: top;\n",
       "    }\n",
       "\n",
       "    .dataframe thead th {\n",
       "        text-align: right;\n",
       "    }\n",
       "</style>\n",
       "<table border=\"1\" class=\"dataframe\">\n",
       "  <thead>\n",
       "    <tr style=\"text-align: right;\">\n",
       "      <th></th>\n",
       "      <th>age</th>\n",
       "      <th>continent</th>\n",
       "      <th>contract_until</th>\n",
       "      <th>position</th>\n",
       "      <th>prefer_foot</th>\n",
       "      <th>reputation</th>\n",
       "      <th>stat_overall</th>\n",
       "      <th>stat_potential</th>\n",
       "      <th>stat_skill_moves</th>\n",
       "      <th>value</th>\n",
       "    </tr>\n",
       "  </thead>\n",
       "  <tbody>\n",
       "    <tr>\n",
       "      <th>0</th>\n",
       "      <td>31</td>\n",
       "      <td>4</td>\n",
       "      <td>2021</td>\n",
       "      <td>3</td>\n",
       "      <td>0</td>\n",
       "      <td>5.0</td>\n",
       "      <td>94</td>\n",
       "      <td>94</td>\n",
       "      <td>4.0</td>\n",
       "      <td>110500000.0</td>\n",
       "    </tr>\n",
       "    <tr>\n",
       "      <th>1</th>\n",
       "      <td>27</td>\n",
       "      <td>2</td>\n",
       "      <td>2020</td>\n",
       "      <td>1</td>\n",
       "      <td>1</td>\n",
       "      <td>4.0</td>\n",
       "      <td>91</td>\n",
       "      <td>93</td>\n",
       "      <td>1.0</td>\n",
       "      <td>72000000.0</td>\n",
       "    </tr>\n",
       "    <tr>\n",
       "      <th>2</th>\n",
       "      <td>31</td>\n",
       "      <td>4</td>\n",
       "      <td>2021</td>\n",
       "      <td>3</td>\n",
       "      <td>1</td>\n",
       "      <td>5.0</td>\n",
       "      <td>91</td>\n",
       "      <td>91</td>\n",
       "      <td>3.0</td>\n",
       "      <td>80000000.0</td>\n",
       "    </tr>\n",
       "    <tr>\n",
       "      <th>3</th>\n",
       "      <td>32</td>\n",
       "      <td>2</td>\n",
       "      <td>2020</td>\n",
       "      <td>0</td>\n",
       "      <td>1</td>\n",
       "      <td>4.0</td>\n",
       "      <td>91</td>\n",
       "      <td>91</td>\n",
       "      <td>3.0</td>\n",
       "      <td>51000000.0</td>\n",
       "    </tr>\n",
       "    <tr>\n",
       "      <th>4</th>\n",
       "      <td>25</td>\n",
       "      <td>2</td>\n",
       "      <td>2021</td>\n",
       "      <td>1</td>\n",
       "      <td>1</td>\n",
       "      <td>3.0</td>\n",
       "      <td>90</td>\n",
       "      <td>93</td>\n",
       "      <td>1.0</td>\n",
       "      <td>68000000.0</td>\n",
       "    </tr>\n",
       "    <tr>\n",
       "      <th>...</th>\n",
       "      <td>...</td>\n",
       "      <td>...</td>\n",
       "      <td>...</td>\n",
       "      <td>...</td>\n",
       "      <td>...</td>\n",
       "      <td>...</td>\n",
       "      <td>...</td>\n",
       "      <td>...</td>\n",
       "      <td>...</td>\n",
       "      <td>...</td>\n",
       "    </tr>\n",
       "    <tr>\n",
       "      <th>8927</th>\n",
       "      <td>18</td>\n",
       "      <td>0</td>\n",
       "      <td>2019</td>\n",
       "      <td>2</td>\n",
       "      <td>1</td>\n",
       "      <td>1.0</td>\n",
       "      <td>48</td>\n",
       "      <td>63</td>\n",
       "      <td>3.0</td>\n",
       "      <td>60000.0</td>\n",
       "    </tr>\n",
       "    <tr>\n",
       "      <th>8928</th>\n",
       "      <td>19</td>\n",
       "      <td>2</td>\n",
       "      <td>2020</td>\n",
       "      <td>0</td>\n",
       "      <td>1</td>\n",
       "      <td>1.0</td>\n",
       "      <td>47</td>\n",
       "      <td>59</td>\n",
       "      <td>2.0</td>\n",
       "      <td>40000.0</td>\n",
       "    </tr>\n",
       "    <tr>\n",
       "      <th>8929</th>\n",
       "      <td>18</td>\n",
       "      <td>4</td>\n",
       "      <td>2021</td>\n",
       "      <td>0</td>\n",
       "      <td>1</td>\n",
       "      <td>1.0</td>\n",
       "      <td>47</td>\n",
       "      <td>64</td>\n",
       "      <td>2.0</td>\n",
       "      <td>50000.0</td>\n",
       "    </tr>\n",
       "    <tr>\n",
       "      <th>8930</th>\n",
       "      <td>18</td>\n",
       "      <td>2</td>\n",
       "      <td>2021</td>\n",
       "      <td>1</td>\n",
       "      <td>1</td>\n",
       "      <td>1.0</td>\n",
       "      <td>47</td>\n",
       "      <td>65</td>\n",
       "      <td>1.0</td>\n",
       "      <td>50000.0</td>\n",
       "    </tr>\n",
       "    <tr>\n",
       "      <th>8931</th>\n",
       "      <td>19</td>\n",
       "      <td>2</td>\n",
       "      <td>2020</td>\n",
       "      <td>3</td>\n",
       "      <td>1</td>\n",
       "      <td>1.0</td>\n",
       "      <td>47</td>\n",
       "      <td>63</td>\n",
       "      <td>2.0</td>\n",
       "      <td>60000.0</td>\n",
       "    </tr>\n",
       "  </tbody>\n",
       "</table>\n",
       "<p>8932 rows × 10 columns</p>\n",
       "</div>"
      ],
      "text/plain": [
       "      age  continent  contract_until  position  prefer_foot  reputation  \\\n",
       "0      31          4            2021         3            0         5.0   \n",
       "1      27          2            2020         1            1         4.0   \n",
       "2      31          4            2021         3            1         5.0   \n",
       "3      32          2            2020         0            1         4.0   \n",
       "4      25          2            2021         1            1         3.0   \n",
       "...   ...        ...             ...       ...          ...         ...   \n",
       "8927   18          0            2019         2            1         1.0   \n",
       "8928   19          2            2020         0            1         1.0   \n",
       "8929   18          4            2021         0            1         1.0   \n",
       "8930   18          2            2021         1            1         1.0   \n",
       "8931   19          2            2020         3            1         1.0   \n",
       "\n",
       "      stat_overall  stat_potential  stat_skill_moves        value  \n",
       "0               94              94               4.0  110500000.0  \n",
       "1               91              93               1.0   72000000.0  \n",
       "2               91              91               3.0   80000000.0  \n",
       "3               91              91               3.0   51000000.0  \n",
       "4               90              93               1.0   68000000.0  \n",
       "...            ...             ...               ...          ...  \n",
       "8927            48              63               3.0      60000.0  \n",
       "8928            47              59               2.0      40000.0  \n",
       "8929            47              64               2.0      50000.0  \n",
       "8930            47              65               1.0      50000.0  \n",
       "8931            47              63               2.0      60000.0  \n",
       "\n",
       "[8932 rows x 10 columns]"
      ]
     },
     "execution_count": 13,
     "metadata": {},
     "output_type": "execute_result"
    }
   ],
   "source": [
    "b_train"
   ]
  },
  {
   "cell_type": "code",
   "execution_count": 14,
   "id": "0f0f3574",
   "metadata": {},
   "outputs": [
    {
     "name": "stdout",
     "output_type": "stream",
     "text": [
      "<class 'pandas.core.frame.DataFrame'>\n",
      "RangeIndex: 8932 entries, 0 to 8931\n",
      "Data columns (total 10 columns):\n",
      " #   Column            Non-Null Count  Dtype  \n",
      "---  ------            --------------  -----  \n",
      " 0   age               8932 non-null   int64  \n",
      " 1   continent         8932 non-null   object \n",
      " 2   contract_until    8932 non-null   int64  \n",
      " 3   position          8932 non-null   object \n",
      " 4   prefer_foot       8932 non-null   object \n",
      " 5   reputation        8932 non-null   float64\n",
      " 6   stat_overall      8932 non-null   int64  \n",
      " 7   stat_potential    8932 non-null   int64  \n",
      " 8   stat_skill_moves  8932 non-null   float64\n",
      " 9   value             8932 non-null   float64\n",
      "dtypes: float64(3), int64(4), object(3)\n",
      "memory usage: 697.9+ KB\n",
      "<class 'pandas.core.frame.DataFrame'>\n",
      "RangeIndex: 3828 entries, 0 to 3827\n",
      "Data columns (total 9 columns):\n",
      " #   Column            Non-Null Count  Dtype  \n",
      "---  ------            --------------  -----  \n",
      " 0   age               3828 non-null   int64  \n",
      " 1   continent         3828 non-null   object \n",
      " 2   contract_until    3828 non-null   int64  \n",
      " 3   position          3828 non-null   object \n",
      " 4   prefer_foot       3828 non-null   object \n",
      " 5   reputation        3828 non-null   float64\n",
      " 6   stat_overall      3828 non-null   int64  \n",
      " 7   stat_potential    3828 non-null   int64  \n",
      " 8   stat_skill_moves  3828 non-null   float64\n",
      "dtypes: float64(2), int64(4), object(3)\n",
      "memory usage: 269.3+ KB\n"
     ]
    }
   ],
   "source": [
    "train.info(), test.info()\n",
    "\n",
    "from sklearn.model_selection import train_test_split\n",
    "X = b_train.drop(['value'],axis=1)\n",
    "y = b_train['value']\n",
    "\n",
    "# train_test_split\n",
    "X_train, X_test, y_train, y_test = train_test_split(X, y, test_size=0.2)"
   ]
  },
  {
   "cell_type": "code",
   "execution_count": 15,
   "id": "7d07205e",
   "metadata": {
    "scrolled": true
   },
   "outputs": [
    {
     "data": {
      "image/png": "[encoded data removed]",
      "text/plain": [
       "<Figure size 2160x720 with 10 Axes>"
      ]
     },
     "metadata": {
      "needs_background": "light"
     },
     "output_type": "display_data"
    }
   ],
   "source": [
    "f, axes = plt.subplots(2,5, figsize=(30,10)) # 변수가 10개 이므로 subplots을 (2,5) 로 설정해주었습니다.\n",
    "axes = axes.flatten()\n",
    "for col,ax in zip(X.columns, axes):\n",
    "    sns.histplot(data = X, x=col, ax=ax, alpha=0.6, kde=True)\n",
    "plt.show()"
   ]
  },
  {
   "cell_type": "code",
   "execution_count": 16,
   "id": "fa707b6f",
   "metadata": {},
   "outputs": [
    {
     "data": {
      "text/plain": [
       "(8932, 1)"
      ]
     },
     "execution_count": 16,
     "metadata": {},
     "output_type": "execute_result"
    }
   ],
   "source": [
    "X = train['reputation'].values\n",
    "X = X.reshape(-1,1)\n",
    "X.shape"
   ]
  },
  {
   "cell_type": "code",
   "execution_count": 17,
   "id": "8b2b9d01",
   "metadata": {},
   "outputs": [
    {
     "data": {
      "text/plain": [
       "(8932, 1)"
      ]
     },
     "execution_count": 17,
     "metadata": {},
     "output_type": "execute_result"
    }
   ],
   "source": [
    "y = train['value'].values\n",
    "y = y.reshape(-1,1)\n",
    "y.shape"
   ]
  },
  {
   "cell_type": "code",
   "execution_count": 18,
   "id": "cf19bf9c",
   "metadata": {},
   "outputs": [
    {
     "data": {
      "text/plain": [
       "((7145, 1), (1787, 1), (7145, 1), (1787, 1))"
      ]
     },
     "execution_count": 18,
     "metadata": {},
     "output_type": "execute_result"
    }
   ],
   "source": [
    "from sklearn.model_selection import train_test_split\n",
    "X_train, X_test, y_train, y_test = train_test_split(X,y, test_size=0.2, random_state=1)\n",
    "X_train.shape, X_test.shape, y_train.shape, y_test.shape"
   ]
  },
  {
   "cell_type": "code",
   "execution_count": 19,
   "id": "79ac2073",
   "metadata": {},
   "outputs": [
    {
     "data": {
      "image/png": "[encoded data removed]",
      "text/plain": [
       "<Figure size 432x288 with 1 Axes>"
      ]
     },
     "metadata": {
      "needs_background": "light"
     },
     "output_type": "display_data"
    }
   ],
   "source": [
    "def draw_data():\n",
    "  plt.scatter(X_train, y_train, label='Trainset', color='lightgray')\n",
    "  plt.scatter(X_test, y_test, label='Testset', color='lightgreen')\n",
    "  plt.xlabel('Player Value Factors[reputation]')\n",
    "  plt.ylabel('value')\n",
    "  plt.legend()\n",
    "draw_data()"
   ]
  },
  {
   "cell_type": "code",
   "execution_count": 20,
   "id": "f2e89b02",
   "metadata": {},
   "outputs": [
    {
     "data": {
      "text/plain": [
       "(8932, 1)"
      ]
     },
     "execution_count": 20,
     "metadata": {},
     "output_type": "execute_result"
    }
   ],
   "source": [
    "X = train['stat_overall'].values\n",
    "X = X.reshape(-1,1)\n",
    "X.shape"
   ]
  },
  {
   "cell_type": "code",
   "execution_count": 21,
   "id": "ed88818c",
   "metadata": {},
   "outputs": [
    {
     "data": {
      "text/plain": [
       "(8932, 1)"
      ]
     },
     "execution_count": 21,
     "metadata": {},
     "output_type": "execute_result"
    }
   ],
   "source": [
    "y = train['value'].values\n",
    "y = y.reshape(-1,1)\n",
    "y.shape"
   ]
  },
  {
   "cell_type": "code",
   "execution_count": 22,
   "id": "615c6160",
   "metadata": {},
   "outputs": [
    {
     "data": {
      "text/plain": [
       "((7145, 1), (1787, 1), (7145, 1), (1787, 1))"
      ]
     },
     "execution_count": 22,
     "metadata": {},
     "output_type": "execute_result"
    }
   ],
   "source": [
    "from sklearn.model_selection import train_test_split\n",
    "X_train, X_test, y_train, y_test = train_test_split(X,y, test_size=0.2, random_state=1)\n",
    "X_train.shape, X_test.shape, y_train.shape, y_test.shape"
   ]
  },
  {
   "cell_type": "code",
   "execution_count": 23,
   "id": "6ff4251e",
   "metadata": {
    "scrolled": true
   },
   "outputs": [
    {
     "data": {
      "image/png": "[encoded data removed]",
      "text/plain": [
       "<Figure size 432x288 with 1 Axes>"
      ]
     },
     "metadata": {
      "needs_background": "light"
     },
     "output_type": "display_data"
    }
   ],
   "source": [
    "def draw_data():\n",
    "    plt.scatter(X_train, y_train, label='Trainset', color='lightgray')\n",
    "    plt.scatter(X_test, y_test, label='Testset', color='lightgreen')\n",
    "    plt.xlabel('Player Value Factors[stat_overall]')\n",
    "    plt.ylabel('value')\n",
    "    plt.legend()\n",
    "draw_data()"
   ]
  },
  {
   "cell_type": "code",
   "execution_count": 24,
   "id": "dd280ff6",
   "metadata": {},
   "outputs": [],
   "source": [
    "b_train[\"log_value\"] = np.log(b_train['value'])\n",
    "log_value = b_train[\"log_value\"]"
   ]
  },
  {
   "cell_type": "code",
   "execution_count": 25,
   "id": "58e9abd4",
   "metadata": {},
   "outputs": [
    {
     "data": {
      "text/plain": [
       "<AxesSubplot:xlabel='log_value', ylabel='Count'>"
      ]
     },
     "execution_count": 25,
     "metadata": {},
     "output_type": "execute_result"
    },
    {
     "data": {
      "image/png": "[encoded data removed]",
      "text/plain": [
       "<Figure size 432x288 with 1 Axes>"
      ]
     },
     "metadata": {
      "needs_background": "light"
     },
     "output_type": "display_data"
    }
   ],
   "source": [
    "# 연봉 로그값의 분포도 그래프\n",
    "sns.histplot(log_value)"
   ]
  },
  {
   "cell_type": "code",
   "execution_count": 26,
   "id": "3ccc94de",
   "metadata": {},
   "outputs": [
    {
     "data": {
      "text/plain": [
       "<AxesSubplot:xlabel='age', ylabel='value'>"
      ]
     },
     "execution_count": 26,
     "metadata": {},
     "output_type": "execute_result"
    },
    {
     "data": {
      "image/png": "[encoded data removed]",
      "text/plain": [
       "<Figure size 432x288 with 1 Axes>"
      ]
     },
     "metadata": {
      "needs_background": "light"
     },
     "output_type": "display_data"
    }
   ],
   "source": [
    "# 나이대별 평균 연봉 (로그값)\n",
    "age_value_mean = b_train.groupby(\"age\")[\"value\"].mean()\n",
    "age_value_mean = age_value_mean.reset_index()\n",
    "\n",
    "sns.barplot(x=\"age\",y=\"value\",data=age_value_mean)"
   ]
  },
  {
   "cell_type": "code",
   "execution_count": 27,
   "id": "959d9416",
   "metadata": {
    "scrolled": false
   },
   "outputs": [
    {
     "data": {
      "text/plain": [
       "<AxesSubplot:xlabel='age', ylabel='log_value'>"
      ]
     },
     "execution_count": 27,
     "metadata": {},
     "output_type": "execute_result"
    },
    {
     "data": {
      "image/png": "[encoded data removed]",
      "text/plain": [
       "<Figure size 432x288 with 1 Axes>"
      ]
     },
     "metadata": {
      "needs_background": "light"
     },
     "output_type": "display_data"
    }
   ],
   "source": [
    "# 나이대별 평균 연봉 (로그값)\n",
    "age_value_mean = b_train.groupby(\"age\")[\"log_value\"].mean()\n",
    "age_value_mean = age_value_mean.reset_index()\n",
    "\n",
    "sns.barplot(x=\"age\",y=\"log_value\",data=age_value_mean)"
   ]
  },
  {
   "cell_type": "code",
   "execution_count": 28,
   "id": "0ab1dedb",
   "metadata": {
    "scrolled": true
   },
   "outputs": [
    {
     "data": {
      "text/plain": [
       "<AxesSubplot:xlabel='age', ylabel='reputation'>"
      ]
     },
     "execution_count": 28,
     "metadata": {},
     "output_type": "execute_result"
    },
    {
     "data": {
      "image/png": "[encoded data removed]",
      "text/plain": [
       "<Figure size 432x288 with 1 Axes>"
      ]
     },
     "metadata": {
      "needs_background": "light"
     },
     "output_type": "display_data"
    }
   ],
   "source": [
    "# 나이대별 평균 인기도\n",
    "age_value_mean = b_train.groupby(\"age\")[\"reputation\"].mean()\n",
    "age_value_mean = age_value_mean.reset_index()\n",
    "\n",
    "sns.barplot(x=\"age\",y=\"reputation\",data=age_value_mean)"
   ]
  },
  {
   "cell_type": "code",
   "execution_count": 29,
   "id": "63f51b41",
   "metadata": {},
   "outputs": [
    {
     "data": {
      "text/plain": [
       "<AxesSubplot:xlabel='prefer_foot', ylabel='value'>"
      ]
     },
     "execution_count": 29,
     "metadata": {},
     "output_type": "execute_result"
    },
    {
     "data": {
      "image/png": "[encoded data removed]",
      "text/plain": [
       "<Figure size 432x288 with 1 Axes>"
      ]
     },
     "metadata": {
      "needs_background": "light"
     },
     "output_type": "display_data"
    }
   ],
   "source": [
    "# 왼발0 오른발1 사용 발별 연봉 \n",
    "age_value_mean = b_train.groupby(\"prefer_foot\")[\"value\"].mean()\n",
    "age_value_mean = age_value_mean.reset_index()\n",
    "\n",
    "sns.barplot(x=\"prefer_foot\",y=\"value\",data=age_value_mean)"
   ]
  },
  {
   "cell_type": "code",
   "execution_count": null,
   "id": "2047a53f",
   "metadata": {},
   "outputs": [],
   "source": []
  },
  {
   "cell_type": "code",
   "execution_count": null,
   "id": "aca8a80a",
   "metadata": {},
   "outputs": [],
   "source": []
  },
  {
   "cell_type": "code",
   "execution_count": null,
   "id": "b9dda4a6",
   "metadata": {},
   "outputs": [],
   "source": []
  },
  {
   "cell_type": "code",
   "execution_count": null,
   "id": "86089091",
   "metadata": {},
   "outputs": [],
   "source": []
  },
  {
   "cell_type": "code",
   "execution_count": 30,
   "id": "9c4ca952",
   "metadata": {},
   "outputs": [
    {
     "data": {
      "text/html": [
       "<div>\n",
       "<style scoped>\n",
       "    .dataframe tbody tr th:only-of-type {\n",
       "        vertical-align: middle;\n",
       "    }\n",
       "\n",
       "    .dataframe tbody tr th {\n",
       "        vertical-align: top;\n",
       "    }\n",
       "\n",
       "    .dataframe thead th {\n",
       "        text-align: right;\n",
       "    }\n",
       "</style>\n",
       "<table border=\"1\" class=\"dataframe\">\n",
       "  <thead>\n",
       "    <tr style=\"text-align: right;\">\n",
       "      <th></th>\n",
       "      <th>age</th>\n",
       "      <th>continent</th>\n",
       "      <th>contract_until</th>\n",
       "      <th>position</th>\n",
       "      <th>prefer_foot</th>\n",
       "      <th>reputation</th>\n",
       "      <th>stat_overall</th>\n",
       "      <th>stat_potential</th>\n",
       "      <th>stat_skill_moves</th>\n",
       "      <th>value</th>\n",
       "      <th>log_value</th>\n",
       "    </tr>\n",
       "  </thead>\n",
       "  <tbody>\n",
       "    <tr>\n",
       "      <th>0</th>\n",
       "      <td>31</td>\n",
       "      <td>4</td>\n",
       "      <td>2021</td>\n",
       "      <td>3</td>\n",
       "      <td>0</td>\n",
       "      <td>5.0</td>\n",
       "      <td>94</td>\n",
       "      <td>94</td>\n",
       "      <td>4.0</td>\n",
       "      <td>110500000.0</td>\n",
       "      <td>18.520526</td>\n",
       "    </tr>\n",
       "    <tr>\n",
       "      <th>1</th>\n",
       "      <td>27</td>\n",
       "      <td>2</td>\n",
       "      <td>2020</td>\n",
       "      <td>1</td>\n",
       "      <td>1</td>\n",
       "      <td>4.0</td>\n",
       "      <td>91</td>\n",
       "      <td>93</td>\n",
       "      <td>1.0</td>\n",
       "      <td>72000000.0</td>\n",
       "      <td>18.092177</td>\n",
       "    </tr>\n",
       "    <tr>\n",
       "      <th>2</th>\n",
       "      <td>31</td>\n",
       "      <td>4</td>\n",
       "      <td>2021</td>\n",
       "      <td>3</td>\n",
       "      <td>1</td>\n",
       "      <td>5.0</td>\n",
       "      <td>91</td>\n",
       "      <td>91</td>\n",
       "      <td>3.0</td>\n",
       "      <td>80000000.0</td>\n",
       "      <td>18.197537</td>\n",
       "    </tr>\n",
       "    <tr>\n",
       "      <th>3</th>\n",
       "      <td>32</td>\n",
       "      <td>2</td>\n",
       "      <td>2020</td>\n",
       "      <td>0</td>\n",
       "      <td>1</td>\n",
       "      <td>4.0</td>\n",
       "      <td>91</td>\n",
       "      <td>91</td>\n",
       "      <td>3.0</td>\n",
       "      <td>51000000.0</td>\n",
       "      <td>17.747336</td>\n",
       "    </tr>\n",
       "    <tr>\n",
       "      <th>4</th>\n",
       "      <td>25</td>\n",
       "      <td>2</td>\n",
       "      <td>2021</td>\n",
       "      <td>1</td>\n",
       "      <td>1</td>\n",
       "      <td>3.0</td>\n",
       "      <td>90</td>\n",
       "      <td>93</td>\n",
       "      <td>1.0</td>\n",
       "      <td>68000000.0</td>\n",
       "      <td>18.035018</td>\n",
       "    </tr>\n",
       "    <tr>\n",
       "      <th>...</th>\n",
       "      <td>...</td>\n",
       "      <td>...</td>\n",
       "      <td>...</td>\n",
       "      <td>...</td>\n",
       "      <td>...</td>\n",
       "      <td>...</td>\n",
       "      <td>...</td>\n",
       "      <td>...</td>\n",
       "      <td>...</td>\n",
       "      <td>...</td>\n",
       "      <td>...</td>\n",
       "    </tr>\n",
       "    <tr>\n",
       "      <th>8927</th>\n",
       "      <td>18</td>\n",
       "      <td>0</td>\n",
       "      <td>2019</td>\n",
       "      <td>2</td>\n",
       "      <td>1</td>\n",
       "      <td>1.0</td>\n",
       "      <td>48</td>\n",
       "      <td>63</td>\n",
       "      <td>3.0</td>\n",
       "      <td>60000.0</td>\n",
       "      <td>11.002100</td>\n",
       "    </tr>\n",
       "    <tr>\n",
       "      <th>8928</th>\n",
       "      <td>19</td>\n",
       "      <td>2</td>\n",
       "      <td>2020</td>\n",
       "      <td>0</td>\n",
       "      <td>1</td>\n",
       "      <td>1.0</td>\n",
       "      <td>47</td>\n",
       "      <td>59</td>\n",
       "      <td>2.0</td>\n",
       "      <td>40000.0</td>\n",
       "      <td>10.596635</td>\n",
       "    </tr>\n",
       "    <tr>\n",
       "      <th>8929</th>\n",
       "      <td>18</td>\n",
       "      <td>4</td>\n",
       "      <td>2021</td>\n",
       "      <td>0</td>\n",
       "      <td>1</td>\n",
       "      <td>1.0</td>\n",
       "      <td>47</td>\n",
       "      <td>64</td>\n",
       "      <td>2.0</td>\n",
       "      <td>50000.0</td>\n",
       "      <td>10.819778</td>\n",
       "    </tr>\n",
       "    <tr>\n",
       "      <th>8930</th>\n",
       "      <td>18</td>\n",
       "      <td>2</td>\n",
       "      <td>2021</td>\n",
       "      <td>1</td>\n",
       "      <td>1</td>\n",
       "      <td>1.0</td>\n",
       "      <td>47</td>\n",
       "      <td>65</td>\n",
       "      <td>1.0</td>\n",
       "      <td>50000.0</td>\n",
       "      <td>10.819778</td>\n",
       "    </tr>\n",
       "    <tr>\n",
       "      <th>8931</th>\n",
       "      <td>19</td>\n",
       "      <td>2</td>\n",
       "      <td>2020</td>\n",
       "      <td>3</td>\n",
       "      <td>1</td>\n",
       "      <td>1.0</td>\n",
       "      <td>47</td>\n",
       "      <td>63</td>\n",
       "      <td>2.0</td>\n",
       "      <td>60000.0</td>\n",
       "      <td>11.002100</td>\n",
       "    </tr>\n",
       "  </tbody>\n",
       "</table>\n",
       "<p>8932 rows × 11 columns</p>\n",
       "</div>"
      ],
      "text/plain": [
       "      age  continent  contract_until  position  prefer_foot  reputation  \\\n",
       "0      31          4            2021         3            0         5.0   \n",
       "1      27          2            2020         1            1         4.0   \n",
       "2      31          4            2021         3            1         5.0   \n",
       "3      32          2            2020         0            1         4.0   \n",
       "4      25          2            2021         1            1         3.0   \n",
       "...   ...        ...             ...       ...          ...         ...   \n",
       "8927   18          0            2019         2            1         1.0   \n",
       "8928   19          2            2020         0            1         1.0   \n",
       "8929   18          4            2021         0            1         1.0   \n",
       "8930   18          2            2021         1            1         1.0   \n",
       "8931   19          2            2020         3            1         1.0   \n",
       "\n",
       "      stat_overall  stat_potential  stat_skill_moves        value  log_value  \n",
       "0               94              94               4.0  110500000.0  18.520526  \n",
       "1               91              93               1.0   72000000.0  18.092177  \n",
       "2               91              91               3.0   80000000.0  18.197537  \n",
       "3               91              91               3.0   51000000.0  17.747336  \n",
       "4               90              93               1.0   68000000.0  18.035018  \n",
       "...            ...             ...               ...          ...        ...  \n",
       "8927            48              63               3.0      60000.0  11.002100  \n",
       "8928            47              59               2.0      40000.0  10.596635  \n",
       "8929            47              64               2.0      50000.0  10.819778  \n",
       "8930            47              65               1.0      50000.0  10.819778  \n",
       "8931            47              63               2.0      60000.0  11.002100  \n",
       "\n",
       "[8932 rows x 11 columns]"
      ]
     },
     "execution_count": 30,
     "metadata": {},
     "output_type": "execute_result"
    }
   ],
   "source": [
    "b_train"
   ]
  },
  {
   "cell_type": "markdown",
   "id": "2fb80188",
   "metadata": {},
   "source": [
    "### LinearRegression 구현"
   ]
  },
  {
   "cell_type": "code",
   "execution_count": 31,
   "id": "c9be3e1f",
   "metadata": {},
   "outputs": [
    {
     "data": {
      "text/plain": [
       "0       110500000.0\n",
       "1        72000000.0\n",
       "2        80000000.0\n",
       "3        51000000.0\n",
       "4        68000000.0\n",
       "           ...     \n",
       "8927        60000.0\n",
       "8928        40000.0\n",
       "8929        50000.0\n",
       "8930        50000.0\n",
       "8931        60000.0\n",
       "Name: value, Length: 8932, dtype: float64"
      ]
     },
     "execution_count": 31,
     "metadata": {},
     "output_type": "execute_result"
    }
   ],
   "source": [
    "lables= train['value']\n",
    "lables"
   ]
  },
  {
   "cell_type": "code",
   "execution_count": 32,
   "id": "17329e5f",
   "metadata": {},
   "outputs": [],
   "source": [
    "train.drop(['value'], axis=1, inplace=True)"
   ]
  },
  {
   "cell_type": "code",
   "execution_count": 33,
   "id": "e594200c",
   "metadata": {
    "scrolled": true
   },
   "outputs": [
    {
     "data": {
      "text/plain": [
       "0       110500000.0\n",
       "1        72000000.0\n",
       "2        80000000.0\n",
       "3        51000000.0\n",
       "4        68000000.0\n",
       "           ...     \n",
       "8927        60000.0\n",
       "8928        40000.0\n",
       "8929        50000.0\n",
       "8930        50000.0\n",
       "8931        60000.0\n",
       "Name: value, Length: 8932, dtype: float64"
      ]
     },
     "execution_count": 33,
     "metadata": {},
     "output_type": "execute_result"
    }
   ],
   "source": [
    "# lables값 확인\n",
    "lables"
   ]
  },
  {
   "cell_type": "code",
   "execution_count": 34,
   "id": "107b75b8",
   "metadata": {},
   "outputs": [
    {
     "data": {
      "text/html": [
       "<div>\n",
       "<style scoped>\n",
       "    .dataframe tbody tr th:only-of-type {\n",
       "        vertical-align: middle;\n",
       "    }\n",
       "\n",
       "    .dataframe tbody tr th {\n",
       "        vertical-align: top;\n",
       "    }\n",
       "\n",
       "    .dataframe thead th {\n",
       "        text-align: right;\n",
       "    }\n",
       "</style>\n",
       "<table border=\"1\" class=\"dataframe\">\n",
       "  <thead>\n",
       "    <tr style=\"text-align: right;\">\n",
       "      <th></th>\n",
       "      <th>age</th>\n",
       "      <th>continent</th>\n",
       "      <th>contract_until</th>\n",
       "      <th>position</th>\n",
       "      <th>prefer_foot</th>\n",
       "      <th>reputation</th>\n",
       "      <th>stat_overall</th>\n",
       "      <th>stat_potential</th>\n",
       "      <th>stat_skill_moves</th>\n",
       "    </tr>\n",
       "  </thead>\n",
       "  <tbody>\n",
       "    <tr>\n",
       "      <th>0</th>\n",
       "      <td>31</td>\n",
       "      <td>south america</td>\n",
       "      <td>2021</td>\n",
       "      <td>ST</td>\n",
       "      <td>left</td>\n",
       "      <td>5.0</td>\n",
       "      <td>94</td>\n",
       "      <td>94</td>\n",
       "      <td>4.0</td>\n",
       "    </tr>\n",
       "    <tr>\n",
       "      <th>1</th>\n",
       "      <td>27</td>\n",
       "      <td>europe</td>\n",
       "      <td>2020</td>\n",
       "      <td>GK</td>\n",
       "      <td>right</td>\n",
       "      <td>4.0</td>\n",
       "      <td>91</td>\n",
       "      <td>93</td>\n",
       "      <td>1.0</td>\n",
       "    </tr>\n",
       "    <tr>\n",
       "      <th>2</th>\n",
       "      <td>31</td>\n",
       "      <td>south america</td>\n",
       "      <td>2021</td>\n",
       "      <td>ST</td>\n",
       "      <td>right</td>\n",
       "      <td>5.0</td>\n",
       "      <td>91</td>\n",
       "      <td>91</td>\n",
       "      <td>3.0</td>\n",
       "    </tr>\n",
       "    <tr>\n",
       "      <th>3</th>\n",
       "      <td>32</td>\n",
       "      <td>europe</td>\n",
       "      <td>2020</td>\n",
       "      <td>DF</td>\n",
       "      <td>right</td>\n",
       "      <td>4.0</td>\n",
       "      <td>91</td>\n",
       "      <td>91</td>\n",
       "      <td>3.0</td>\n",
       "    </tr>\n",
       "    <tr>\n",
       "      <th>4</th>\n",
       "      <td>25</td>\n",
       "      <td>europe</td>\n",
       "      <td>2021</td>\n",
       "      <td>GK</td>\n",
       "      <td>right</td>\n",
       "      <td>3.0</td>\n",
       "      <td>90</td>\n",
       "      <td>93</td>\n",
       "      <td>1.0</td>\n",
       "    </tr>\n",
       "    <tr>\n",
       "      <th>...</th>\n",
       "      <td>...</td>\n",
       "      <td>...</td>\n",
       "      <td>...</td>\n",
       "      <td>...</td>\n",
       "      <td>...</td>\n",
       "      <td>...</td>\n",
       "      <td>...</td>\n",
       "      <td>...</td>\n",
       "      <td>...</td>\n",
       "    </tr>\n",
       "    <tr>\n",
       "      <th>8927</th>\n",
       "      <td>18</td>\n",
       "      <td>africa</td>\n",
       "      <td>2019</td>\n",
       "      <td>MF</td>\n",
       "      <td>right</td>\n",
       "      <td>1.0</td>\n",
       "      <td>48</td>\n",
       "      <td>63</td>\n",
       "      <td>3.0</td>\n",
       "    </tr>\n",
       "    <tr>\n",
       "      <th>8928</th>\n",
       "      <td>19</td>\n",
       "      <td>europe</td>\n",
       "      <td>2020</td>\n",
       "      <td>DF</td>\n",
       "      <td>right</td>\n",
       "      <td>1.0</td>\n",
       "      <td>47</td>\n",
       "      <td>59</td>\n",
       "      <td>2.0</td>\n",
       "    </tr>\n",
       "    <tr>\n",
       "      <th>8929</th>\n",
       "      <td>18</td>\n",
       "      <td>south america</td>\n",
       "      <td>2021</td>\n",
       "      <td>DF</td>\n",
       "      <td>right</td>\n",
       "      <td>1.0</td>\n",
       "      <td>47</td>\n",
       "      <td>64</td>\n",
       "      <td>2.0</td>\n",
       "    </tr>\n",
       "    <tr>\n",
       "      <th>8930</th>\n",
       "      <td>18</td>\n",
       "      <td>europe</td>\n",
       "      <td>2021</td>\n",
       "      <td>GK</td>\n",
       "      <td>right</td>\n",
       "      <td>1.0</td>\n",
       "      <td>47</td>\n",
       "      <td>65</td>\n",
       "      <td>1.0</td>\n",
       "    </tr>\n",
       "    <tr>\n",
       "      <th>8931</th>\n",
       "      <td>19</td>\n",
       "      <td>europe</td>\n",
       "      <td>2020</td>\n",
       "      <td>ST</td>\n",
       "      <td>right</td>\n",
       "      <td>1.0</td>\n",
       "      <td>47</td>\n",
       "      <td>63</td>\n",
       "      <td>2.0</td>\n",
       "    </tr>\n",
       "  </tbody>\n",
       "</table>\n",
       "<p>8932 rows × 9 columns</p>\n",
       "</div>"
      ],
      "text/plain": [
       "      age      continent  contract_until position prefer_foot  reputation  \\\n",
       "0      31  south america            2021       ST        left         5.0   \n",
       "1      27         europe            2020       GK       right         4.0   \n",
       "2      31  south america            2021       ST       right         5.0   \n",
       "3      32         europe            2020       DF       right         4.0   \n",
       "4      25         europe            2021       GK       right         3.0   \n",
       "...   ...            ...             ...      ...         ...         ...   \n",
       "8927   18         africa            2019       MF       right         1.0   \n",
       "8928   19         europe            2020       DF       right         1.0   \n",
       "8929   18  south america            2021       DF       right         1.0   \n",
       "8930   18         europe            2021       GK       right         1.0   \n",
       "8931   19         europe            2020       ST       right         1.0   \n",
       "\n",
       "      stat_overall  stat_potential  stat_skill_moves  \n",
       "0               94              94               4.0  \n",
       "1               91              93               1.0  \n",
       "2               91              91               3.0  \n",
       "3               91              91               3.0  \n",
       "4               90              93               1.0  \n",
       "...            ...             ...               ...  \n",
       "8927            48              63               3.0  \n",
       "8928            47              59               2.0  \n",
       "8929            47              64               2.0  \n",
       "8930            47              65               1.0  \n",
       "8931            47              63               2.0  \n",
       "\n",
       "[8932 rows x 9 columns]"
      ]
     },
     "execution_count": 34,
     "metadata": {},
     "output_type": "execute_result"
    }
   ],
   "source": [
    "# 정렬확인\n",
    "train"
   ]
  },
  {
   "cell_type": "code",
   "execution_count": 35,
   "id": "fb43b7ab",
   "metadata": {},
   "outputs": [
    {
     "data": {
      "text/plain": [
       "['continent', 'position', 'prefer_foot']"
      ]
     },
     "execution_count": 35,
     "metadata": {},
     "output_type": "execute_result"
    }
   ],
   "source": [
    "# ojbect 타입 list변환후 출력\n",
    "olist=train.dtypes[train.dtypes=='object'].index\n",
    "olist = list(olist)\n",
    "olist"
   ]
  },
  {
   "cell_type": "code",
   "execution_count": 36,
   "id": "30fa6e34",
   "metadata": {},
   "outputs": [],
   "source": [
    "# dummies로 변수창출 후 원변수 제거\n",
    "for x in olist:\n",
    "    train = pd.concat((train, pd.get_dummies(train[x])), axis=1)\n",
    "    train.drop(x,axis=1,inplace=True)"
   ]
  },
  {
   "cell_type": "code",
   "execution_count": 37,
   "id": "30b3937f",
   "metadata": {},
   "outputs": [
    {
     "data": {
      "text/html": [
       "<div>\n",
       "<style scoped>\n",
       "    .dataframe tbody tr th:only-of-type {\n",
       "        vertical-align: middle;\n",
       "    }\n",
       "\n",
       "    .dataframe tbody tr th {\n",
       "        vertical-align: top;\n",
       "    }\n",
       "\n",
       "    .dataframe thead th {\n",
       "        text-align: right;\n",
       "    }\n",
       "</style>\n",
       "<table border=\"1\" class=\"dataframe\">\n",
       "  <thead>\n",
       "    <tr style=\"text-align: right;\">\n",
       "      <th></th>\n",
       "      <th>age</th>\n",
       "      <th>contract_until</th>\n",
       "      <th>reputation</th>\n",
       "      <th>stat_overall</th>\n",
       "      <th>stat_potential</th>\n",
       "      <th>stat_skill_moves</th>\n",
       "      <th>africa</th>\n",
       "      <th>asia</th>\n",
       "      <th>europe</th>\n",
       "      <th>oceania</th>\n",
       "      <th>south america</th>\n",
       "      <th>DF</th>\n",
       "      <th>GK</th>\n",
       "      <th>MF</th>\n",
       "      <th>ST</th>\n",
       "      <th>left</th>\n",
       "      <th>right</th>\n",
       "    </tr>\n",
       "  </thead>\n",
       "  <tbody>\n",
       "    <tr>\n",
       "      <th>0</th>\n",
       "      <td>31</td>\n",
       "      <td>2021</td>\n",
       "      <td>5.0</td>\n",
       "      <td>94</td>\n",
       "      <td>94</td>\n",
       "      <td>4.0</td>\n",
       "      <td>0</td>\n",
       "      <td>0</td>\n",
       "      <td>0</td>\n",
       "      <td>0</td>\n",
       "      <td>1</td>\n",
       "      <td>0</td>\n",
       "      <td>0</td>\n",
       "      <td>0</td>\n",
       "      <td>1</td>\n",
       "      <td>1</td>\n",
       "      <td>0</td>\n",
       "    </tr>\n",
       "    <tr>\n",
       "      <th>1</th>\n",
       "      <td>27</td>\n",
       "      <td>2020</td>\n",
       "      <td>4.0</td>\n",
       "      <td>91</td>\n",
       "      <td>93</td>\n",
       "      <td>1.0</td>\n",
       "      <td>0</td>\n",
       "      <td>0</td>\n",
       "      <td>1</td>\n",
       "      <td>0</td>\n",
       "      <td>0</td>\n",
       "      <td>0</td>\n",
       "      <td>1</td>\n",
       "      <td>0</td>\n",
       "      <td>0</td>\n",
       "      <td>0</td>\n",
       "      <td>1</td>\n",
       "    </tr>\n",
       "    <tr>\n",
       "      <th>2</th>\n",
       "      <td>31</td>\n",
       "      <td>2021</td>\n",
       "      <td>5.0</td>\n",
       "      <td>91</td>\n",
       "      <td>91</td>\n",
       "      <td>3.0</td>\n",
       "      <td>0</td>\n",
       "      <td>0</td>\n",
       "      <td>0</td>\n",
       "      <td>0</td>\n",
       "      <td>1</td>\n",
       "      <td>0</td>\n",
       "      <td>0</td>\n",
       "      <td>0</td>\n",
       "      <td>1</td>\n",
       "      <td>0</td>\n",
       "      <td>1</td>\n",
       "    </tr>\n",
       "    <tr>\n",
       "      <th>3</th>\n",
       "      <td>32</td>\n",
       "      <td>2020</td>\n",
       "      <td>4.0</td>\n",
       "      <td>91</td>\n",
       "      <td>91</td>\n",
       "      <td>3.0</td>\n",
       "      <td>0</td>\n",
       "      <td>0</td>\n",
       "      <td>1</td>\n",
       "      <td>0</td>\n",
       "      <td>0</td>\n",
       "      <td>1</td>\n",
       "      <td>0</td>\n",
       "      <td>0</td>\n",
       "      <td>0</td>\n",
       "      <td>0</td>\n",
       "      <td>1</td>\n",
       "    </tr>\n",
       "    <tr>\n",
       "      <th>4</th>\n",
       "      <td>25</td>\n",
       "      <td>2021</td>\n",
       "      <td>3.0</td>\n",
       "      <td>90</td>\n",
       "      <td>93</td>\n",
       "      <td>1.0</td>\n",
       "      <td>0</td>\n",
       "      <td>0</td>\n",
       "      <td>1</td>\n",
       "      <td>0</td>\n",
       "      <td>0</td>\n",
       "      <td>0</td>\n",
       "      <td>1</td>\n",
       "      <td>0</td>\n",
       "      <td>0</td>\n",
       "      <td>0</td>\n",
       "      <td>1</td>\n",
       "    </tr>\n",
       "    <tr>\n",
       "      <th>...</th>\n",
       "      <td>...</td>\n",
       "      <td>...</td>\n",
       "      <td>...</td>\n",
       "      <td>...</td>\n",
       "      <td>...</td>\n",
       "      <td>...</td>\n",
       "      <td>...</td>\n",
       "      <td>...</td>\n",
       "      <td>...</td>\n",
       "      <td>...</td>\n",
       "      <td>...</td>\n",
       "      <td>...</td>\n",
       "      <td>...</td>\n",
       "      <td>...</td>\n",
       "      <td>...</td>\n",
       "      <td>...</td>\n",
       "      <td>...</td>\n",
       "    </tr>\n",
       "    <tr>\n",
       "      <th>8927</th>\n",
       "      <td>18</td>\n",
       "      <td>2019</td>\n",
       "      <td>1.0</td>\n",
       "      <td>48</td>\n",
       "      <td>63</td>\n",
       "      <td>3.0</td>\n",
       "      <td>1</td>\n",
       "      <td>0</td>\n",
       "      <td>0</td>\n",
       "      <td>0</td>\n",
       "      <td>0</td>\n",
       "      <td>0</td>\n",
       "      <td>0</td>\n",
       "      <td>1</td>\n",
       "      <td>0</td>\n",
       "      <td>0</td>\n",
       "      <td>1</td>\n",
       "    </tr>\n",
       "    <tr>\n",
       "      <th>8928</th>\n",
       "      <td>19</td>\n",
       "      <td>2020</td>\n",
       "      <td>1.0</td>\n",
       "      <td>47</td>\n",
       "      <td>59</td>\n",
       "      <td>2.0</td>\n",
       "      <td>0</td>\n",
       "      <td>0</td>\n",
       "      <td>1</td>\n",
       "      <td>0</td>\n",
       "      <td>0</td>\n",
       "      <td>1</td>\n",
       "      <td>0</td>\n",
       "      <td>0</td>\n",
       "      <td>0</td>\n",
       "      <td>0</td>\n",
       "      <td>1</td>\n",
       "    </tr>\n",
       "    <tr>\n",
       "      <th>8929</th>\n",
       "      <td>18</td>\n",
       "      <td>2021</td>\n",
       "      <td>1.0</td>\n",
       "      <td>47</td>\n",
       "      <td>64</td>\n",
       "      <td>2.0</td>\n",
       "      <td>0</td>\n",
       "      <td>0</td>\n",
       "      <td>0</td>\n",
       "      <td>0</td>\n",
       "      <td>1</td>\n",
       "      <td>1</td>\n",
       "      <td>0</td>\n",
       "      <td>0</td>\n",
       "      <td>0</td>\n",
       "      <td>0</td>\n",
       "      <td>1</td>\n",
       "    </tr>\n",
       "    <tr>\n",
       "      <th>8930</th>\n",
       "      <td>18</td>\n",
       "      <td>2021</td>\n",
       "      <td>1.0</td>\n",
       "      <td>47</td>\n",
       "      <td>65</td>\n",
       "      <td>1.0</td>\n",
       "      <td>0</td>\n",
       "      <td>0</td>\n",
       "      <td>1</td>\n",
       "      <td>0</td>\n",
       "      <td>0</td>\n",
       "      <td>0</td>\n",
       "      <td>1</td>\n",
       "      <td>0</td>\n",
       "      <td>0</td>\n",
       "      <td>0</td>\n",
       "      <td>1</td>\n",
       "    </tr>\n",
       "    <tr>\n",
       "      <th>8931</th>\n",
       "      <td>19</td>\n",
       "      <td>2020</td>\n",
       "      <td>1.0</td>\n",
       "      <td>47</td>\n",
       "      <td>63</td>\n",
       "      <td>2.0</td>\n",
       "      <td>0</td>\n",
       "      <td>0</td>\n",
       "      <td>1</td>\n",
       "      <td>0</td>\n",
       "      <td>0</td>\n",
       "      <td>0</td>\n",
       "      <td>0</td>\n",
       "      <td>0</td>\n",
       "      <td>1</td>\n",
       "      <td>0</td>\n",
       "      <td>1</td>\n",
       "    </tr>\n",
       "  </tbody>\n",
       "</table>\n",
       "<p>8932 rows × 17 columns</p>\n",
       "</div>"
      ],
      "text/plain": [
       "      age  contract_until  reputation  stat_overall  stat_potential  \\\n",
       "0      31            2021         5.0            94              94   \n",
       "1      27            2020         4.0            91              93   \n",
       "2      31            2021         5.0            91              91   \n",
       "3      32            2020         4.0            91              91   \n",
       "4      25            2021         3.0            90              93   \n",
       "...   ...             ...         ...           ...             ...   \n",
       "8927   18            2019         1.0            48              63   \n",
       "8928   19            2020         1.0            47              59   \n",
       "8929   18            2021         1.0            47              64   \n",
       "8930   18            2021         1.0            47              65   \n",
       "8931   19            2020         1.0            47              63   \n",
       "\n",
       "      stat_skill_moves  africa  asia  europe  oceania  south america  DF  GK  \\\n",
       "0                  4.0       0     0       0        0              1   0   0   \n",
       "1                  1.0       0     0       1        0              0   0   1   \n",
       "2                  3.0       0     0       0        0              1   0   0   \n",
       "3                  3.0       0     0       1        0              0   1   0   \n",
       "4                  1.0       0     0       1        0              0   0   1   \n",
       "...                ...     ...   ...     ...      ...            ...  ..  ..   \n",
       "8927               3.0       1     0       0        0              0   0   0   \n",
       "8928               2.0       0     0       1        0              0   1   0   \n",
       "8929               2.0       0     0       0        0              1   1   0   \n",
       "8930               1.0       0     0       1        0              0   0   1   \n",
       "8931               2.0       0     0       1        0              0   0   0   \n",
       "\n",
       "      MF  ST  left  right  \n",
       "0      0   1     1      0  \n",
       "1      0   0     0      1  \n",
       "2      0   1     0      1  \n",
       "3      0   0     0      1  \n",
       "4      0   0     0      1  \n",
       "...   ..  ..   ...    ...  \n",
       "8927   1   0     0      1  \n",
       "8928   0   0     0      1  \n",
       "8929   0   0     0      1  \n",
       "8930   0   0     0      1  \n",
       "8931   0   1     0      1  \n",
       "\n",
       "[8932 rows x 17 columns]"
      ]
     },
     "execution_count": 37,
     "metadata": {},
     "output_type": "execute_result"
    }
   ],
   "source": [
    "# 데이터 확인\n",
    "train"
   ]
  },
  {
   "cell_type": "code",
   "execution_count": 38,
   "id": "d1cb27d2",
   "metadata": {},
   "outputs": [
    {
     "data": {
      "text/html": [
       "<style>#sk-container-id-1 {color: black;background-color: white;}#sk-container-id-1 pre{padding: 0;}#sk-container-id-1 div.sk-toggleable {background-color: white;}#sk-container-id-1 label.sk-toggleable__label {cursor: pointer;display: block;width: 100%;margin-bottom: 0;padding: 0.3em;box-sizing: border-box;text-align: center;}#sk-container-id-1 label.sk-toggleable__label-arrow:before {content: \"▸\";float: left;margin-right: 0.25em;color: #696969;}#sk-container-id-1 label.sk-toggleable__label-arrow:hover:before {color: black;}#sk-container-id-1 div.sk-estimator:hover label.sk-toggleable__label-arrow:before {color: black;}#sk-container-id-1 div.sk-toggleable__content {max-height: 0;max-width: 0;overflow: hidden;text-align: left;background-color: #f0f8ff;}#sk-container-id-1 div.sk-toggleable__content pre {margin: 0.2em;color: black;border-radius: 0.25em;background-color: #f0f8ff;}#sk-container-id-1 input.sk-toggleable__control:checked~div.sk-toggleable__content {max-height: 200px;max-width: 100%;overflow: auto;}#sk-container-id-1 input.sk-toggleable__control:checked~label.sk-toggleable__label-arrow:before {content: \"▾\";}#sk-container-id-1 div.sk-estimator input.sk-toggleable__control:checked~label.sk-toggleable__label {background-color: #d4ebff;}#sk-container-id-1 div.sk-label input.sk-toggleable__control:checked~label.sk-toggleable__label {background-color: #d4ebff;}#sk-container-id-1 input.sk-hidden--visually {border: 0;clip: rect(1px 1px 1px 1px);clip: rect(1px, 1px, 1px, 1px);height: 1px;margin: -1px;overflow: hidden;padding: 0;position: absolute;width: 1px;}#sk-container-id-1 div.sk-estimator {font-family: monospace;background-color: #f0f8ff;border: 1px dotted black;border-radius: 0.25em;box-sizing: border-box;margin-bottom: 0.5em;}#sk-container-id-1 div.sk-estimator:hover {background-color: #d4ebff;}#sk-container-id-1 div.sk-parallel-item::after {content: \"\";width: 100%;border-bottom: 1px solid gray;flex-grow: 1;}#sk-container-id-1 div.sk-label:hover label.sk-toggleable__label {background-color: #d4ebff;}#sk-container-id-1 div.sk-serial::before {content: \"\";position: absolute;border-left: 1px solid gray;box-sizing: border-box;top: 0;bottom: 0;left: 50%;z-index: 0;}#sk-container-id-1 div.sk-serial {display: flex;flex-direction: column;align-items: center;background-color: white;padding-right: 0.2em;padding-left: 0.2em;position: relative;}#sk-container-id-1 div.sk-item {position: relative;z-index: 1;}#sk-container-id-1 div.sk-parallel {display: flex;align-items: stretch;justify-content: center;background-color: white;position: relative;}#sk-container-id-1 div.sk-item::before, #sk-container-id-1 div.sk-parallel-item::before {content: \"\";position: absolute;border-left: 1px solid gray;box-sizing: border-box;top: 0;bottom: 0;left: 50%;z-index: -1;}#sk-container-id-1 div.sk-parallel-item {display: flex;flex-direction: column;z-index: 1;position: relative;background-color: white;}#sk-container-id-1 div.sk-parallel-item:first-child::after {align-self: flex-end;width: 50%;}#sk-container-id-1 div.sk-parallel-item:last-child::after {align-self: flex-start;width: 50%;}#sk-container-id-1 div.sk-parallel-item:only-child::after {width: 0;}#sk-container-id-1 div.sk-dashed-wrapped {border: 1px dashed gray;margin: 0 0.4em 0.5em 0.4em;box-sizing: border-box;padding-bottom: 0.4em;background-color: white;}#sk-container-id-1 div.sk-label label {font-family: monospace;font-weight: bold;display: inline-block;line-height: 1.2em;}#sk-container-id-1 div.sk-label-container {text-align: center;}#sk-container-id-1 div.sk-container {/* jupyter's `normalize.less` sets `[hidden] { display: none; }` but bootstrap.min.css set `[hidden] { display: none !important; }` so we also need the `!important` here to be able to override the default hidden behavior on the sphinx rendered scikit-learn.org. See: https://github.com/scikit-learn/scikit-learn/issues/21755 */display: inline-block !important;position: relative;}#sk-container-id-1 div.sk-text-repr-fallback {display: none;}</style><div id=\"sk-container-id-1\" class=\"sk-top-container\"><div class=\"sk-text-repr-fallback\"><pre>LinearRegression()</pre><b>In a Jupyter environment, please rerun this cell to show the HTML representation or trust the notebook. <br />On GitHub, the HTML representation is unable to render, please try loading this page with nbviewer.org.</b></div><div class=\"sk-container\" hidden><div class=\"sk-item\"><div class=\"sk-estimator sk-toggleable\"><input class=\"sk-toggleable__control sk-hidden--visually\" id=\"sk-estimator-id-1\" type=\"checkbox\" checked><label for=\"sk-estimator-id-1\" class=\"sk-toggleable__label sk-toggleable__label-arrow\">LinearRegression</label><div class=\"sk-toggleable__content\"><pre>LinearRegression()</pre></div></div></div></div></div>"
      ],
      "text/plain": [
       "LinearRegression()"
      ]
     },
     "execution_count": 38,
     "metadata": {},
     "output_type": "execute_result"
    }
   ],
   "source": [
    "# 초기 LinearRegression값\n",
    "\n",
    "from sklearn.model_selection import train_test_split\n",
    "from sklearn.linear_model import LinearRegression\n",
    "from sklearn.metrics import accuracy_score\n",
    "\n",
    "\n",
    "x_train,x_test,y_train,y_test = train_test_split(train, lables,\n",
    "                                                 test_size=0.3,\n",
    "                                                 random_state= 111)\n",
    "\n",
    "model = LinearRegression()\n",
    "model.fit(x_test,y_test)"
   ]
  },
  {
   "cell_type": "code",
   "execution_count": 39,
   "id": "bddf287e",
   "metadata": {},
   "outputs": [
    {
     "data": {
      "text/plain": [
       "(array([-396839.71930919,  339558.52278459, 6448254.20818612,\n",
       "         500812.85593073,  -48489.15296136,  127473.82362587,\n",
       "        -282330.09408556,  236099.55819538, -149801.86606916,\n",
       "         230464.00048857,  -34431.59852924, -424251.98331392,\n",
       "         586198.10972106,  -58191.12357911, -103755.00282803,\n",
       "         -19927.78388208,   19927.78388208]),\n",
       " -710706745.5923765)"
      ]
     },
     "execution_count": 39,
     "metadata": {},
     "output_type": "execute_result"
    }
   ],
   "source": [
    "model.fit(x_train, y_train) \n",
    "model.coef_, model.intercept_"
   ]
  },
  {
   "cell_type": "code",
   "execution_count": 40,
   "id": "4c80bd96",
   "metadata": {
    "scrolled": true
   },
   "outputs": [
    {
     "data": {
      "text/plain": [
       "0.6216642307238236"
      ]
     },
     "execution_count": 40,
     "metadata": {},
     "output_type": "execute_result"
    }
   ],
   "source": [
    "# 스코어점수\n",
    "model.score(x_test, y_test)"
   ]
  },
  {
   "cell_type": "code",
   "execution_count": 41,
   "id": "ea4367a0",
   "metadata": {},
   "outputs": [
    {
     "data": {
      "text/plain": [
       "987      5500000.0\n",
       "1065     8500000.0\n",
       "3846      270000.0\n",
       "6703      550000.0\n",
       "8438      180000.0\n",
       "           ...    \n",
       "191     12500000.0\n",
       "4955      525000.0\n",
       "641     12500000.0\n",
       "5583      575000.0\n",
       "7692      375000.0\n",
       "Name: value, Length: 2680, dtype: float64"
      ]
     },
     "execution_count": 41,
     "metadata": {},
     "output_type": "execute_result"
    }
   ],
   "source": [
    "y_test"
   ]
  },
  {
   "cell_type": "markdown",
   "id": "a889a966",
   "metadata": {},
   "source": [
    "### 대륙분포 제거 버전"
   ]
  },
  {
   "cell_type": "code",
   "execution_count": 42,
   "id": "937f1a1e",
   "metadata": {},
   "outputs": [],
   "source": [
    "# 불필요해보이는 대륙분포를 제거\n",
    "tss = train.drop(train.iloc[:,6:11],axis=1)"
   ]
  },
  {
   "cell_type": "code",
   "execution_count": 43,
   "id": "0a906681",
   "metadata": {},
   "outputs": [
    {
     "data": {
      "text/html": [
       "<div>\n",
       "<style scoped>\n",
       "    .dataframe tbody tr th:only-of-type {\n",
       "        vertical-align: middle;\n",
       "    }\n",
       "\n",
       "    .dataframe tbody tr th {\n",
       "        vertical-align: top;\n",
       "    }\n",
       "\n",
       "    .dataframe thead th {\n",
       "        text-align: right;\n",
       "    }\n",
       "</style>\n",
       "<table border=\"1\" class=\"dataframe\">\n",
       "  <thead>\n",
       "    <tr style=\"text-align: right;\">\n",
       "      <th></th>\n",
       "      <th>age</th>\n",
       "      <th>contract_until</th>\n",
       "      <th>reputation</th>\n",
       "      <th>stat_overall</th>\n",
       "      <th>stat_potential</th>\n",
       "      <th>stat_skill_moves</th>\n",
       "      <th>DF</th>\n",
       "      <th>GK</th>\n",
       "      <th>MF</th>\n",
       "      <th>ST</th>\n",
       "      <th>left</th>\n",
       "      <th>right</th>\n",
       "    </tr>\n",
       "  </thead>\n",
       "  <tbody>\n",
       "    <tr>\n",
       "      <th>0</th>\n",
       "      <td>31</td>\n",
       "      <td>2021</td>\n",
       "      <td>5.0</td>\n",
       "      <td>94</td>\n",
       "      <td>94</td>\n",
       "      <td>4.0</td>\n",
       "      <td>0</td>\n",
       "      <td>0</td>\n",
       "      <td>0</td>\n",
       "      <td>1</td>\n",
       "      <td>1</td>\n",
       "      <td>0</td>\n",
       "    </tr>\n",
       "    <tr>\n",
       "      <th>1</th>\n",
       "      <td>27</td>\n",
       "      <td>2020</td>\n",
       "      <td>4.0</td>\n",
       "      <td>91</td>\n",
       "      <td>93</td>\n",
       "      <td>1.0</td>\n",
       "      <td>0</td>\n",
       "      <td>1</td>\n",
       "      <td>0</td>\n",
       "      <td>0</td>\n",
       "      <td>0</td>\n",
       "      <td>1</td>\n",
       "    </tr>\n",
       "    <tr>\n",
       "      <th>2</th>\n",
       "      <td>31</td>\n",
       "      <td>2021</td>\n",
       "      <td>5.0</td>\n",
       "      <td>91</td>\n",
       "      <td>91</td>\n",
       "      <td>3.0</td>\n",
       "      <td>0</td>\n",
       "      <td>0</td>\n",
       "      <td>0</td>\n",
       "      <td>1</td>\n",
       "      <td>0</td>\n",
       "      <td>1</td>\n",
       "    </tr>\n",
       "    <tr>\n",
       "      <th>3</th>\n",
       "      <td>32</td>\n",
       "      <td>2020</td>\n",
       "      <td>4.0</td>\n",
       "      <td>91</td>\n",
       "      <td>91</td>\n",
       "      <td>3.0</td>\n",
       "      <td>1</td>\n",
       "      <td>0</td>\n",
       "      <td>0</td>\n",
       "      <td>0</td>\n",
       "      <td>0</td>\n",
       "      <td>1</td>\n",
       "    </tr>\n",
       "    <tr>\n",
       "      <th>4</th>\n",
       "      <td>25</td>\n",
       "      <td>2021</td>\n",
       "      <td>3.0</td>\n",
       "      <td>90</td>\n",
       "      <td>93</td>\n",
       "      <td>1.0</td>\n",
       "      <td>0</td>\n",
       "      <td>1</td>\n",
       "      <td>0</td>\n",
       "      <td>0</td>\n",
       "      <td>0</td>\n",
       "      <td>1</td>\n",
       "    </tr>\n",
       "    <tr>\n",
       "      <th>...</th>\n",
       "      <td>...</td>\n",
       "      <td>...</td>\n",
       "      <td>...</td>\n",
       "      <td>...</td>\n",
       "      <td>...</td>\n",
       "      <td>...</td>\n",
       "      <td>...</td>\n",
       "      <td>...</td>\n",
       "      <td>...</td>\n",
       "      <td>...</td>\n",
       "      <td>...</td>\n",
       "      <td>...</td>\n",
       "    </tr>\n",
       "    <tr>\n",
       "      <th>8927</th>\n",
       "      <td>18</td>\n",
       "      <td>2019</td>\n",
       "      <td>1.0</td>\n",
       "      <td>48</td>\n",
       "      <td>63</td>\n",
       "      <td>3.0</td>\n",
       "      <td>0</td>\n",
       "      <td>0</td>\n",
       "      <td>1</td>\n",
       "      <td>0</td>\n",
       "      <td>0</td>\n",
       "      <td>1</td>\n",
       "    </tr>\n",
       "    <tr>\n",
       "      <th>8928</th>\n",
       "      <td>19</td>\n",
       "      <td>2020</td>\n",
       "      <td>1.0</td>\n",
       "      <td>47</td>\n",
       "      <td>59</td>\n",
       "      <td>2.0</td>\n",
       "      <td>1</td>\n",
       "      <td>0</td>\n",
       "      <td>0</td>\n",
       "      <td>0</td>\n",
       "      <td>0</td>\n",
       "      <td>1</td>\n",
       "    </tr>\n",
       "    <tr>\n",
       "      <th>8929</th>\n",
       "      <td>18</td>\n",
       "      <td>2021</td>\n",
       "      <td>1.0</td>\n",
       "      <td>47</td>\n",
       "      <td>64</td>\n",
       "      <td>2.0</td>\n",
       "      <td>1</td>\n",
       "      <td>0</td>\n",
       "      <td>0</td>\n",
       "      <td>0</td>\n",
       "      <td>0</td>\n",
       "      <td>1</td>\n",
       "    </tr>\n",
       "    <tr>\n",
       "      <th>8930</th>\n",
       "      <td>18</td>\n",
       "      <td>2021</td>\n",
       "      <td>1.0</td>\n",
       "      <td>47</td>\n",
       "      <td>65</td>\n",
       "      <td>1.0</td>\n",
       "      <td>0</td>\n",
       "      <td>1</td>\n",
       "      <td>0</td>\n",
       "      <td>0</td>\n",
       "      <td>0</td>\n",
       "      <td>1</td>\n",
       "    </tr>\n",
       "    <tr>\n",
       "      <th>8931</th>\n",
       "      <td>19</td>\n",
       "      <td>2020</td>\n",
       "      <td>1.0</td>\n",
       "      <td>47</td>\n",
       "      <td>63</td>\n",
       "      <td>2.0</td>\n",
       "      <td>0</td>\n",
       "      <td>0</td>\n",
       "      <td>0</td>\n",
       "      <td>1</td>\n",
       "      <td>0</td>\n",
       "      <td>1</td>\n",
       "    </tr>\n",
       "  </tbody>\n",
       "</table>\n",
       "<p>8932 rows × 12 columns</p>\n",
       "</div>"
      ],
      "text/plain": [
       "      age  contract_until  reputation  stat_overall  stat_potential  \\\n",
       "0      31            2021         5.0            94              94   \n",
       "1      27            2020         4.0            91              93   \n",
       "2      31            2021         5.0            91              91   \n",
       "3      32            2020         4.0            91              91   \n",
       "4      25            2021         3.0            90              93   \n",
       "...   ...             ...         ...           ...             ...   \n",
       "8927   18            2019         1.0            48              63   \n",
       "8928   19            2020         1.0            47              59   \n",
       "8929   18            2021         1.0            47              64   \n",
       "8930   18            2021         1.0            47              65   \n",
       "8931   19            2020         1.0            47              63   \n",
       "\n",
       "      stat_skill_moves  DF  GK  MF  ST  left  right  \n",
       "0                  4.0   0   0   0   1     1      0  \n",
       "1                  1.0   0   1   0   0     0      1  \n",
       "2                  3.0   0   0   0   1     0      1  \n",
       "3                  3.0   1   0   0   0     0      1  \n",
       "4                  1.0   0   1   0   0     0      1  \n",
       "...                ...  ..  ..  ..  ..   ...    ...  \n",
       "8927               3.0   0   0   1   0     0      1  \n",
       "8928               2.0   1   0   0   0     0      1  \n",
       "8929               2.0   1   0   0   0     0      1  \n",
       "8930               1.0   0   1   0   0     0      1  \n",
       "8931               2.0   0   0   0   1     0      1  \n",
       "\n",
       "[8932 rows x 12 columns]"
      ]
     },
     "execution_count": 43,
     "metadata": {},
     "output_type": "execute_result"
    }
   ],
   "source": [
    "#대륙 제거한 train값 \n",
    "tss"
   ]
  },
  {
   "cell_type": "code",
   "execution_count": 44,
   "id": "01a43e72",
   "metadata": {},
   "outputs": [
    {
     "data": {
      "text/html": [
       "<style>#sk-container-id-2 {color: black;background-color: white;}#sk-container-id-2 pre{padding: 0;}#sk-container-id-2 div.sk-toggleable {background-color: white;}#sk-container-id-2 label.sk-toggleable__label {cursor: pointer;display: block;width: 100%;margin-bottom: 0;padding: 0.3em;box-sizing: border-box;text-align: center;}#sk-container-id-2 label.sk-toggleable__label-arrow:before {content: \"▸\";float: left;margin-right: 0.25em;color: #696969;}#sk-container-id-2 label.sk-toggleable__label-arrow:hover:before {color: black;}#sk-container-id-2 div.sk-estimator:hover label.sk-toggleable__label-arrow:before {color: black;}#sk-container-id-2 div.sk-toggleable__content {max-height: 0;max-width: 0;overflow: hidden;text-align: left;background-color: #f0f8ff;}#sk-container-id-2 div.sk-toggleable__content pre {margin: 0.2em;color: black;border-radius: 0.25em;background-color: #f0f8ff;}#sk-container-id-2 input.sk-toggleable__control:checked~div.sk-toggleable__content {max-height: 200px;max-width: 100%;overflow: auto;}#sk-container-id-2 input.sk-toggleable__control:checked~label.sk-toggleable__label-arrow:before {content: \"▾\";}#sk-container-id-2 div.sk-estimator input.sk-toggleable__control:checked~label.sk-toggleable__label {background-color: #d4ebff;}#sk-container-id-2 div.sk-label input.sk-toggleable__control:checked~label.sk-toggleable__label {background-color: #d4ebff;}#sk-container-id-2 input.sk-hidden--visually {border: 0;clip: rect(1px 1px 1px 1px);clip: rect(1px, 1px, 1px, 1px);height: 1px;margin: -1px;overflow: hidden;padding: 0;position: absolute;width: 1px;}#sk-container-id-2 div.sk-estimator {font-family: monospace;background-color: #f0f8ff;border: 1px dotted black;border-radius: 0.25em;box-sizing: border-box;margin-bottom: 0.5em;}#sk-container-id-2 div.sk-estimator:hover {background-color: #d4ebff;}#sk-container-id-2 div.sk-parallel-item::after {content: \"\";width: 100%;border-bottom: 1px solid gray;flex-grow: 1;}#sk-container-id-2 div.sk-label:hover label.sk-toggleable__label {background-color: #d4ebff;}#sk-container-id-2 div.sk-serial::before {content: \"\";position: absolute;border-left: 1px solid gray;box-sizing: border-box;top: 0;bottom: 0;left: 50%;z-index: 0;}#sk-container-id-2 div.sk-serial {display: flex;flex-direction: column;align-items: center;background-color: white;padding-right: 0.2em;padding-left: 0.2em;position: relative;}#sk-container-id-2 div.sk-item {position: relative;z-index: 1;}#sk-container-id-2 div.sk-parallel {display: flex;align-items: stretch;justify-content: center;background-color: white;position: relative;}#sk-container-id-2 div.sk-item::before, #sk-container-id-2 div.sk-parallel-item::before {content: \"\";position: absolute;border-left: 1px solid gray;box-sizing: border-box;top: 0;bottom: 0;left: 50%;z-index: -1;}#sk-container-id-2 div.sk-parallel-item {display: flex;flex-direction: column;z-index: 1;position: relative;background-color: white;}#sk-container-id-2 div.sk-parallel-item:first-child::after {align-self: flex-end;width: 50%;}#sk-container-id-2 div.sk-parallel-item:last-child::after {align-self: flex-start;width: 50%;}#sk-container-id-2 div.sk-parallel-item:only-child::after {width: 0;}#sk-container-id-2 div.sk-dashed-wrapped {border: 1px dashed gray;margin: 0 0.4em 0.5em 0.4em;box-sizing: border-box;padding-bottom: 0.4em;background-color: white;}#sk-container-id-2 div.sk-label label {font-family: monospace;font-weight: bold;display: inline-block;line-height: 1.2em;}#sk-container-id-2 div.sk-label-container {text-align: center;}#sk-container-id-2 div.sk-container {/* jupyter's `normalize.less` sets `[hidden] { display: none; }` but bootstrap.min.css set `[hidden] { display: none !important; }` so we also need the `!important` here to be able to override the default hidden behavior on the sphinx rendered scikit-learn.org. See: https://github.com/scikit-learn/scikit-learn/issues/21755 */display: inline-block !important;position: relative;}#sk-container-id-2 div.sk-text-repr-fallback {display: none;}</style><div id=\"sk-container-id-2\" class=\"sk-top-container\"><div class=\"sk-text-repr-fallback\"><pre>LinearRegression()</pre><b>In a Jupyter environment, please rerun this cell to show the HTML representation or trust the notebook. <br />On GitHub, the HTML representation is unable to render, please try loading this page with nbviewer.org.</b></div><div class=\"sk-container\" hidden><div class=\"sk-item\"><div class=\"sk-estimator sk-toggleable\"><input class=\"sk-toggleable__control sk-hidden--visually\" id=\"sk-estimator-id-2\" type=\"checkbox\" checked><label for=\"sk-estimator-id-2\" class=\"sk-toggleable__label sk-toggleable__label-arrow\">LinearRegression</label><div class=\"sk-toggleable__content\"><pre>LinearRegression()</pre></div></div></div></div></div>"
      ],
      "text/plain": [
       "LinearRegression()"
      ]
     },
     "execution_count": 44,
     "metadata": {},
     "output_type": "execute_result"
    }
   ],
   "source": [
    "x_train,x_test,y_train,y_test = train_test_split(tss, lables,\n",
    "                                                 test_size=0.3,\n",
    "                                                 random_state= 111)\n",
    "\n",
    "model = LinearRegression()\n",
    "model.fit(x_test,y_test)"
   ]
  },
  {
   "cell_type": "code",
   "execution_count": 45,
   "id": "1a43081b",
   "metadata": {},
   "outputs": [
    {
     "data": {
      "text/plain": [
       "(array([-393739.11873111,  351376.7040645 , 6454357.60725952,\n",
       "         497223.95940886,  -49922.38799482,  135650.55892296,\n",
       "        -422236.51280548,  592597.83964969,  -57687.10665778,\n",
       "        -112674.22018643,  -18857.97593399,   18857.97593399]),\n",
       " -734436262.2502766)"
      ]
     },
     "execution_count": 45,
     "metadata": {},
     "output_type": "execute_result"
    }
   ],
   "source": [
    "model.fit(x_train, y_train) \n",
    "model.coef_, model.intercept_"
   ]
  },
  {
   "cell_type": "code",
   "execution_count": 46,
   "id": "3b12b8cb",
   "metadata": {},
   "outputs": [
    {
     "data": {
      "text/plain": [
       "0.6205464373371865"
      ]
     },
     "execution_count": 46,
     "metadata": {},
     "output_type": "execute_result"
    }
   ],
   "source": [
    "model.score(x_test, y_test)"
   ]
  },
  {
   "cell_type": "code",
   "execution_count": 47,
   "id": "8ef24366",
   "metadata": {},
   "outputs": [
    {
     "data": {
      "text/plain": [
       "987      5500000.0\n",
       "1065     8500000.0\n",
       "3846      270000.0\n",
       "6703      550000.0\n",
       "8438      180000.0\n",
       "           ...    \n",
       "191     12500000.0\n",
       "4955      525000.0\n",
       "641     12500000.0\n",
       "5583      575000.0\n",
       "7692      375000.0\n",
       "Name: value, Length: 2680, dtype: float64"
      ]
     },
     "execution_count": 47,
     "metadata": {},
     "output_type": "execute_result"
    }
   ],
   "source": [
    "y_test"
   ]
  },
  {
   "cell_type": "markdown",
   "id": "cdfe7054",
   "metadata": {},
   "source": [
    "### 디시젼 트리(임시)"
   ]
  },
  {
   "cell_type": "code",
   "execution_count": 48,
   "id": "6f9fca0e",
   "metadata": {},
   "outputs": [
    {
     "name": "stdout",
     "output_type": "stream",
     "text": [
      "0.5690978886756238\n",
      "0.383955223880597\n",
      "0.5\n"
     ]
    }
   ],
   "source": [
    "from sklearn.model_selection import train_test_split\n",
    "from sklearn.tree import DecisionTreeClassifier\n",
    "from sklearn.model_selection import GridSearchCV\n",
    "\n",
    "\n",
    "\n",
    "model = DecisionTreeClassifier(criterion='gini', \n",
    "                               max_depth=10, \n",
    "                               max_leaf_nodes=None, min_samples_split=3, min_samples_leaf=2, max_features=None)\n",
    "\n",
    "\n",
    "\n",
    "##########모델 학습\n",
    "\n",
    "model.fit(x_train, y_train)\n",
    "\n",
    "##########모델 검증\n",
    "\n",
    "print(model.score(x_train, y_train)) \n",
    "\n",
    "print(model.score(x_test, y_test)) \n",
    "\n",
    "##########모델 예측\n",
    "\n",
    "y_predict = model.predict(x_test)\n",
    "y_predict = model.predict_proba(x_test)\n",
    "confidence = y_predict[0][y_predict[0].argmax()]\n",
    "\n",
    "print(confidence)"
   ]
  },
  {
   "cell_type": "markdown",
   "id": "5531215d",
   "metadata": {},
   "source": [
    "### PCA 테스트"
   ]
  },
  {
   "cell_type": "code",
   "execution_count": 49,
   "id": "a8624e60",
   "metadata": {},
   "outputs": [
    {
     "ename": "FileNotFoundError",
     "evalue": "[Errno 2] No such file or directory: 'C:\\\\Users\\\\HP\\\\Desktop\\\\rapa\\\\fifa_data\\\\FIFA_train.csv'",
     "output_type": "error",
     "traceback": [
      "\u001b[1;31m---------------------------------------------------------------------------\u001b[0m",
      "\u001b[1;31mFileNotFoundError\u001b[0m                         Traceback (most recent call last)",
      "Input \u001b[1;32mIn [49]\u001b[0m, in \u001b[0;36m<cell line: 1>\u001b[1;34m()\u001b[0m\n\u001b[1;32m----> 1\u001b[0m train \u001b[38;5;241m=\u001b[39m \u001b[43mpd\u001b[49m\u001b[38;5;241;43m.\u001b[39;49m\u001b[43mread_csv\u001b[49m\u001b[43m(\u001b[49m\u001b[38;5;124;43m'\u001b[39;49m\u001b[38;5;124;43mC:\u001b[39;49m\u001b[38;5;130;43;01m\\\\\u001b[39;49;00m\u001b[38;5;124;43mUsers\u001b[39;49m\u001b[38;5;130;43;01m\\\\\u001b[39;49;00m\u001b[38;5;124;43mHP\u001b[39;49m\u001b[38;5;130;43;01m\\\\\u001b[39;49;00m\u001b[38;5;124;43mDesktop\u001b[39;49m\u001b[38;5;130;43;01m\\\\\u001b[39;49;00m\u001b[38;5;124;43mrapa\u001b[39;49m\u001b[38;5;130;43;01m\\\\\u001b[39;49;00m\u001b[38;5;124;43mfifa_data\u001b[39;49m\u001b[38;5;130;43;01m\\\\\u001b[39;49;00m\u001b[38;5;124;43mFIFA_train.csv\u001b[39;49m\u001b[38;5;124;43m'\u001b[39;49m\u001b[43m,\u001b[49m\u001b[43m \u001b[49m\u001b[43mencoding\u001b[49m\u001b[38;5;241;43m=\u001b[39;49m\u001b[38;5;124;43m'\u001b[39;49m\u001b[38;5;124;43mutf-8\u001b[39;49m\u001b[38;5;124;43m'\u001b[39;49m\u001b[43m)\u001b[49m\n",
      "File \u001b[1;32m~\\miniconda3\\lib\\site-packages\\pandas\\util\\_decorators.py:311\u001b[0m, in \u001b[0;36mdeprecate_nonkeyword_arguments.<locals>.decorate.<locals>.wrapper\u001b[1;34m(*args, **kwargs)\u001b[0m\n\u001b[0;32m    305\u001b[0m \u001b[38;5;28;01mif\u001b[39;00m \u001b[38;5;28mlen\u001b[39m(args) \u001b[38;5;241m>\u001b[39m num_allow_args:\n\u001b[0;32m    306\u001b[0m     warnings\u001b[38;5;241m.\u001b[39mwarn(\n\u001b[0;32m    307\u001b[0m         msg\u001b[38;5;241m.\u001b[39mformat(arguments\u001b[38;5;241m=\u001b[39marguments),\n\u001b[0;32m    308\u001b[0m         \u001b[38;5;167;01mFutureWarning\u001b[39;00m,\n\u001b[0;32m    309\u001b[0m         stacklevel\u001b[38;5;241m=\u001b[39mstacklevel,\n\u001b[0;32m    310\u001b[0m     )\n\u001b[1;32m--> 311\u001b[0m \u001b[38;5;28;01mreturn\u001b[39;00m func(\u001b[38;5;241m*\u001b[39margs, \u001b[38;5;241m*\u001b[39m\u001b[38;5;241m*\u001b[39mkwargs)\n",
      "File \u001b[1;32m~\\miniconda3\\lib\\site-packages\\pandas\\io\\parsers\\readers.py:680\u001b[0m, in \u001b[0;36mread_csv\u001b[1;34m(filepath_or_buffer, sep, delimiter, header, names, index_col, usecols, squeeze, prefix, mangle_dupe_cols, dtype, engine, converters, true_values, false_values, skipinitialspace, skiprows, skipfooter, nrows, na_values, keep_default_na, na_filter, verbose, skip_blank_lines, parse_dates, infer_datetime_format, keep_date_col, date_parser, dayfirst, cache_dates, iterator, chunksize, compression, thousands, decimal, lineterminator, quotechar, quoting, doublequote, escapechar, comment, encoding, encoding_errors, dialect, error_bad_lines, warn_bad_lines, on_bad_lines, delim_whitespace, low_memory, memory_map, float_precision, storage_options)\u001b[0m\n\u001b[0;32m    665\u001b[0m kwds_defaults \u001b[38;5;241m=\u001b[39m _refine_defaults_read(\n\u001b[0;32m    666\u001b[0m     dialect,\n\u001b[0;32m    667\u001b[0m     delimiter,\n\u001b[1;32m   (...)\u001b[0m\n\u001b[0;32m    676\u001b[0m     defaults\u001b[38;5;241m=\u001b[39m{\u001b[38;5;124m\"\u001b[39m\u001b[38;5;124mdelimiter\u001b[39m\u001b[38;5;124m\"\u001b[39m: \u001b[38;5;124m\"\u001b[39m\u001b[38;5;124m,\u001b[39m\u001b[38;5;124m\"\u001b[39m},\n\u001b[0;32m    677\u001b[0m )\n\u001b[0;32m    678\u001b[0m kwds\u001b[38;5;241m.\u001b[39mupdate(kwds_defaults)\n\u001b[1;32m--> 680\u001b[0m \u001b[38;5;28;01mreturn\u001b[39;00m \u001b[43m_read\u001b[49m\u001b[43m(\u001b[49m\u001b[43mfilepath_or_buffer\u001b[49m\u001b[43m,\u001b[49m\u001b[43m \u001b[49m\u001b[43mkwds\u001b[49m\u001b[43m)\u001b[49m\n",
      "File \u001b[1;32m~\\miniconda3\\lib\\site-packages\\pandas\\io\\parsers\\readers.py:575\u001b[0m, in \u001b[0;36m_read\u001b[1;34m(filepath_or_buffer, kwds)\u001b[0m\n\u001b[0;32m    572\u001b[0m _validate_names(kwds\u001b[38;5;241m.\u001b[39mget(\u001b[38;5;124m\"\u001b[39m\u001b[38;5;124mnames\u001b[39m\u001b[38;5;124m\"\u001b[39m, \u001b[38;5;28;01mNone\u001b[39;00m))\n\u001b[0;32m    574\u001b[0m \u001b[38;5;66;03m# Create the parser.\u001b[39;00m\n\u001b[1;32m--> 575\u001b[0m parser \u001b[38;5;241m=\u001b[39m TextFileReader(filepath_or_buffer, \u001b[38;5;241m*\u001b[39m\u001b[38;5;241m*\u001b[39mkwds)\n\u001b[0;32m    577\u001b[0m \u001b[38;5;28;01mif\u001b[39;00m chunksize \u001b[38;5;129;01mor\u001b[39;00m iterator:\n\u001b[0;32m    578\u001b[0m     \u001b[38;5;28;01mreturn\u001b[39;00m parser\n",
      "File \u001b[1;32m~\\miniconda3\\lib\\site-packages\\pandas\\io\\parsers\\readers.py:934\u001b[0m, in \u001b[0;36mTextFileReader.__init__\u001b[1;34m(self, f, engine, **kwds)\u001b[0m\n\u001b[0;32m    931\u001b[0m     \u001b[38;5;28mself\u001b[39m\u001b[38;5;241m.\u001b[39moptions[\u001b[38;5;124m\"\u001b[39m\u001b[38;5;124mhas_index_names\u001b[39m\u001b[38;5;124m\"\u001b[39m] \u001b[38;5;241m=\u001b[39m kwds[\u001b[38;5;124m\"\u001b[39m\u001b[38;5;124mhas_index_names\u001b[39m\u001b[38;5;124m\"\u001b[39m]\n\u001b[0;32m    933\u001b[0m \u001b[38;5;28mself\u001b[39m\u001b[38;5;241m.\u001b[39mhandles: IOHandles \u001b[38;5;241m|\u001b[39m \u001b[38;5;28;01mNone\u001b[39;00m \u001b[38;5;241m=\u001b[39m \u001b[38;5;28;01mNone\u001b[39;00m\n\u001b[1;32m--> 934\u001b[0m \u001b[38;5;28mself\u001b[39m\u001b[38;5;241m.\u001b[39m_engine \u001b[38;5;241m=\u001b[39m \u001b[38;5;28;43mself\u001b[39;49m\u001b[38;5;241;43m.\u001b[39;49m\u001b[43m_make_engine\u001b[49m\u001b[43m(\u001b[49m\u001b[43mf\u001b[49m\u001b[43m,\u001b[49m\u001b[43m \u001b[49m\u001b[38;5;28;43mself\u001b[39;49m\u001b[38;5;241;43m.\u001b[39;49m\u001b[43mengine\u001b[49m\u001b[43m)\u001b[49m\n",
      "File \u001b[1;32m~\\miniconda3\\lib\\site-packages\\pandas\\io\\parsers\\readers.py:1218\u001b[0m, in \u001b[0;36mTextFileReader._make_engine\u001b[1;34m(self, f, engine)\u001b[0m\n\u001b[0;32m   1214\u001b[0m     mode \u001b[38;5;241m=\u001b[39m \u001b[38;5;124m\"\u001b[39m\u001b[38;5;124mrb\u001b[39m\u001b[38;5;124m\"\u001b[39m\n\u001b[0;32m   1215\u001b[0m \u001b[38;5;66;03m# error: No overload variant of \"get_handle\" matches argument types\u001b[39;00m\n\u001b[0;32m   1216\u001b[0m \u001b[38;5;66;03m# \"Union[str, PathLike[str], ReadCsvBuffer[bytes], ReadCsvBuffer[str]]\"\u001b[39;00m\n\u001b[0;32m   1217\u001b[0m \u001b[38;5;66;03m# , \"str\", \"bool\", \"Any\", \"Any\", \"Any\", \"Any\", \"Any\"\u001b[39;00m\n\u001b[1;32m-> 1218\u001b[0m \u001b[38;5;28mself\u001b[39m\u001b[38;5;241m.\u001b[39mhandles \u001b[38;5;241m=\u001b[39m \u001b[43mget_handle\u001b[49m\u001b[43m(\u001b[49m\u001b[43m  \u001b[49m\u001b[38;5;66;43;03m# type: ignore[call-overload]\u001b[39;49;00m\n\u001b[0;32m   1219\u001b[0m \u001b[43m    \u001b[49m\u001b[43mf\u001b[49m\u001b[43m,\u001b[49m\n\u001b[0;32m   1220\u001b[0m \u001b[43m    \u001b[49m\u001b[43mmode\u001b[49m\u001b[43m,\u001b[49m\n\u001b[0;32m   1221\u001b[0m \u001b[43m    \u001b[49m\u001b[43mencoding\u001b[49m\u001b[38;5;241;43m=\u001b[39;49m\u001b[38;5;28;43mself\u001b[39;49m\u001b[38;5;241;43m.\u001b[39;49m\u001b[43moptions\u001b[49m\u001b[38;5;241;43m.\u001b[39;49m\u001b[43mget\u001b[49m\u001b[43m(\u001b[49m\u001b[38;5;124;43m\"\u001b[39;49m\u001b[38;5;124;43mencoding\u001b[39;49m\u001b[38;5;124;43m\"\u001b[39;49m\u001b[43m,\u001b[49m\u001b[43m \u001b[49m\u001b[38;5;28;43;01mNone\u001b[39;49;00m\u001b[43m)\u001b[49m\u001b[43m,\u001b[49m\n\u001b[0;32m   1222\u001b[0m \u001b[43m    \u001b[49m\u001b[43mcompression\u001b[49m\u001b[38;5;241;43m=\u001b[39;49m\u001b[38;5;28;43mself\u001b[39;49m\u001b[38;5;241;43m.\u001b[39;49m\u001b[43moptions\u001b[49m\u001b[38;5;241;43m.\u001b[39;49m\u001b[43mget\u001b[49m\u001b[43m(\u001b[49m\u001b[38;5;124;43m\"\u001b[39;49m\u001b[38;5;124;43mcompression\u001b[39;49m\u001b[38;5;124;43m\"\u001b[39;49m\u001b[43m,\u001b[49m\u001b[43m \u001b[49m\u001b[38;5;28;43;01mNone\u001b[39;49;00m\u001b[43m)\u001b[49m\u001b[43m,\u001b[49m\n\u001b[0;32m   1223\u001b[0m \u001b[43m    \u001b[49m\u001b[43mmemory_map\u001b[49m\u001b[38;5;241;43m=\u001b[39;49m\u001b[38;5;28;43mself\u001b[39;49m\u001b[38;5;241;43m.\u001b[39;49m\u001b[43moptions\u001b[49m\u001b[38;5;241;43m.\u001b[39;49m\u001b[43mget\u001b[49m\u001b[43m(\u001b[49m\u001b[38;5;124;43m\"\u001b[39;49m\u001b[38;5;124;43mmemory_map\u001b[39;49m\u001b[38;5;124;43m\"\u001b[39;49m\u001b[43m,\u001b[49m\u001b[43m \u001b[49m\u001b[38;5;28;43;01mFalse\u001b[39;49;00m\u001b[43m)\u001b[49m\u001b[43m,\u001b[49m\n\u001b[0;32m   1224\u001b[0m \u001b[43m    \u001b[49m\u001b[43mis_text\u001b[49m\u001b[38;5;241;43m=\u001b[39;49m\u001b[43mis_text\u001b[49m\u001b[43m,\u001b[49m\n\u001b[0;32m   1225\u001b[0m \u001b[43m    \u001b[49m\u001b[43merrors\u001b[49m\u001b[38;5;241;43m=\u001b[39;49m\u001b[38;5;28;43mself\u001b[39;49m\u001b[38;5;241;43m.\u001b[39;49m\u001b[43moptions\u001b[49m\u001b[38;5;241;43m.\u001b[39;49m\u001b[43mget\u001b[49m\u001b[43m(\u001b[49m\u001b[38;5;124;43m\"\u001b[39;49m\u001b[38;5;124;43mencoding_errors\u001b[39;49m\u001b[38;5;124;43m\"\u001b[39;49m\u001b[43m,\u001b[49m\u001b[43m \u001b[49m\u001b[38;5;124;43m\"\u001b[39;49m\u001b[38;5;124;43mstrict\u001b[39;49m\u001b[38;5;124;43m\"\u001b[39;49m\u001b[43m)\u001b[49m\u001b[43m,\u001b[49m\n\u001b[0;32m   1226\u001b[0m \u001b[43m    \u001b[49m\u001b[43mstorage_options\u001b[49m\u001b[38;5;241;43m=\u001b[39;49m\u001b[38;5;28;43mself\u001b[39;49m\u001b[38;5;241;43m.\u001b[39;49m\u001b[43moptions\u001b[49m\u001b[38;5;241;43m.\u001b[39;49m\u001b[43mget\u001b[49m\u001b[43m(\u001b[49m\u001b[38;5;124;43m\"\u001b[39;49m\u001b[38;5;124;43mstorage_options\u001b[39;49m\u001b[38;5;124;43m\"\u001b[39;49m\u001b[43m,\u001b[49m\u001b[43m \u001b[49m\u001b[38;5;28;43;01mNone\u001b[39;49;00m\u001b[43m)\u001b[49m\u001b[43m,\u001b[49m\n\u001b[0;32m   1227\u001b[0m \u001b[43m\u001b[49m\u001b[43m)\u001b[49m\n\u001b[0;32m   1228\u001b[0m \u001b[38;5;28;01massert\u001b[39;00m \u001b[38;5;28mself\u001b[39m\u001b[38;5;241m.\u001b[39mhandles \u001b[38;5;129;01mis\u001b[39;00m \u001b[38;5;129;01mnot\u001b[39;00m \u001b[38;5;28;01mNone\u001b[39;00m\n\u001b[0;32m   1229\u001b[0m f \u001b[38;5;241m=\u001b[39m \u001b[38;5;28mself\u001b[39m\u001b[38;5;241m.\u001b[39mhandles\u001b[38;5;241m.\u001b[39mhandle\n",
      "File \u001b[1;32m~\\miniconda3\\lib\\site-packages\\pandas\\io\\common.py:786\u001b[0m, in \u001b[0;36mget_handle\u001b[1;34m(path_or_buf, mode, encoding, compression, memory_map, is_text, errors, storage_options)\u001b[0m\n\u001b[0;32m    781\u001b[0m \u001b[38;5;28;01melif\u001b[39;00m \u001b[38;5;28misinstance\u001b[39m(handle, \u001b[38;5;28mstr\u001b[39m):\n\u001b[0;32m    782\u001b[0m     \u001b[38;5;66;03m# Check whether the filename is to be opened in binary mode.\u001b[39;00m\n\u001b[0;32m    783\u001b[0m     \u001b[38;5;66;03m# Binary mode does not support 'encoding' and 'newline'.\u001b[39;00m\n\u001b[0;32m    784\u001b[0m     \u001b[38;5;28;01mif\u001b[39;00m ioargs\u001b[38;5;241m.\u001b[39mencoding \u001b[38;5;129;01mand\u001b[39;00m \u001b[38;5;124m\"\u001b[39m\u001b[38;5;124mb\u001b[39m\u001b[38;5;124m\"\u001b[39m \u001b[38;5;129;01mnot\u001b[39;00m \u001b[38;5;129;01min\u001b[39;00m ioargs\u001b[38;5;241m.\u001b[39mmode:\n\u001b[0;32m    785\u001b[0m         \u001b[38;5;66;03m# Encoding\u001b[39;00m\n\u001b[1;32m--> 786\u001b[0m         handle \u001b[38;5;241m=\u001b[39m \u001b[38;5;28;43mopen\u001b[39;49m\u001b[43m(\u001b[49m\n\u001b[0;32m    787\u001b[0m \u001b[43m            \u001b[49m\u001b[43mhandle\u001b[49m\u001b[43m,\u001b[49m\n\u001b[0;32m    788\u001b[0m \u001b[43m            \u001b[49m\u001b[43mioargs\u001b[49m\u001b[38;5;241;43m.\u001b[39;49m\u001b[43mmode\u001b[49m\u001b[43m,\u001b[49m\n\u001b[0;32m    789\u001b[0m \u001b[43m            \u001b[49m\u001b[43mencoding\u001b[49m\u001b[38;5;241;43m=\u001b[39;49m\u001b[43mioargs\u001b[49m\u001b[38;5;241;43m.\u001b[39;49m\u001b[43mencoding\u001b[49m\u001b[43m,\u001b[49m\n\u001b[0;32m    790\u001b[0m \u001b[43m            \u001b[49m\u001b[43merrors\u001b[49m\u001b[38;5;241;43m=\u001b[39;49m\u001b[43merrors\u001b[49m\u001b[43m,\u001b[49m\n\u001b[0;32m    791\u001b[0m \u001b[43m            \u001b[49m\u001b[43mnewline\u001b[49m\u001b[38;5;241;43m=\u001b[39;49m\u001b[38;5;124;43m\"\u001b[39;49m\u001b[38;5;124;43m\"\u001b[39;49m\u001b[43m,\u001b[49m\n\u001b[0;32m    792\u001b[0m \u001b[43m        \u001b[49m\u001b[43m)\u001b[49m\n\u001b[0;32m    793\u001b[0m     \u001b[38;5;28;01melse\u001b[39;00m:\n\u001b[0;32m    794\u001b[0m         \u001b[38;5;66;03m# Binary mode\u001b[39;00m\n\u001b[0;32m    795\u001b[0m         handle \u001b[38;5;241m=\u001b[39m \u001b[38;5;28mopen\u001b[39m(handle, ioargs\u001b[38;5;241m.\u001b[39mmode)\n",
      "\u001b[1;31mFileNotFoundError\u001b[0m: [Errno 2] No such file or directory: 'C:\\\\Users\\\\HP\\\\Desktop\\\\rapa\\\\fifa_data\\\\FIFA_train.csv'"
     ]
    }
   ],
   "source": [
    "train = pd.read_csv('C:\\\\Users\\\\HP\\\\Desktop\\\\rapa\\\\fifa_data\\\\FIFA_train.csv', encoding='utf-8')"
   ]
  },
  {
   "cell_type": "code",
   "execution_count": null,
   "id": "31e6a2ed",
   "metadata": {},
   "outputs": [],
   "source": [
    "train.drop(['id','age','continent','contract_until','prefer_foot','position','value'], axis=1, inplace=True)"
   ]
  },
  {
   "cell_type": "code",
   "execution_count": null,
   "id": "2ff3236d",
   "metadata": {
    "scrolled": false
   },
   "outputs": [],
   "source": [
    "train=train.sample(10)"
   ]
  },
  {
   "cell_type": "code",
   "execution_count": null,
   "id": "0edee6a3",
   "metadata": {},
   "outputs": [],
   "source": [
    "from sklearn import datasets\n",
    "from sklearn.preprocessing import StandardScaler\n",
    "\n",
    "# 1. 데이터 분리\n",
    "soccer_values = train[['reputation','stat_overall','stat_potential']]\n",
    "soccer_name = train['name']\n",
    "\n",
    "# 2. 스케일러로 값 변환\n",
    "# scaling using StandardScaler\n",
    "\n",
    "scaler = StandardScaler()\n",
    "scaler.fit(soccer_values.values)\n",
    "soccer_scaled = scaler.transform(soccer_values.values)\n",
    "\n",
    "soccer_scaled.shape\n",
    "\n",
    "\n",
    "\n",
    "\n",
    "# 3. PCA 모델링\n",
    "# - PCA.fit() : 주성분 찾음\n",
    "# - PCA.transform() : 새로운 주성분으로 데이터 변환\n",
    "\n",
    "# PCA modelling \n",
    "from sklearn.decomposition import PCA\n",
    "\n",
    "pca_soccer = PCA()\n",
    "pca_soccer.fit(soccer_scaled)\n",
    "\n",
    "# data transform\n",
    "X_pca_soccer = pca_soccer.transform(soccer_scaled)\n",
    "\n",
    "# look into data shape\n",
    "print(\"original data : {}\".format(str(soccer_scaled.shape)))\n",
    "print(\"transform data : {}\".format(str(X_pca_soccer.shape)))\n",
    "\n",
    "# original data : (10, 3)  transform data : (10, 3)"
   ]
  },
  {
   "cell_type": "code",
   "execution_count": null,
   "id": "572f5a26",
   "metadata": {},
   "outputs": [],
   "source": [
    "pca_soccer.components_"
   ]
  },
  {
   "cell_type": "code",
   "execution_count": null,
   "id": "0738b592",
   "metadata": {
    "scrolled": false
   },
   "outputs": [],
   "source": [
    "pc1=0\n",
    "pc2=0\n",
    "pc3=0\n",
    "# pc4=0\n",
    "\n",
    "for j in range(len(pca_soccer.components_)):\n",
    "    pc1 += pca_soccer.components_[0][j] * soccer_scaled[:,j] # 계수 3개에 있어서 스케일된 모든 열을 다 곱하고 더한 것 = pc1\n",
    "    pc2 += pca_soccer.components_[1][j] * soccer_scaled[:,j]\n",
    "    pc3 += pca_soccer.components_[2][j] * soccer_scaled[:,j]\n",
    "#    pc4 += pca_soccer.components_[3][j] * soccer_scaled[:,j]\n",
    "    \n",
    "pc1 = pc1.reshape(-1 ,1)\n",
    "pc2 = pc2.reshape(-1 ,1)\n",
    "pc3 = pc3.reshape(-1 ,1)\n",
    "# pc4 = pc3.reshape(-1 ,1)\n",
    "\n",
    "# np.round(np.hstack((pc1,pc2,pc3,pc4)),4) == np.round(X_pca_lamen,4)\n",
    "np.round(np.hstack((pc1,pc2,pc3)),3) == np.round(X_pca_soccer,3)"
   ]
  },
  {
   "cell_type": "code",
   "execution_count": null,
   "id": "14639f85",
   "metadata": {},
   "outputs": [],
   "source": [
    "def biplot2(score, coeff, label, pcax, pcay, labels = None):\n",
    "    pca1=pcax-1\n",
    "    pca2=pcay-1\n",
    "    xs = score[:,pca1]\n",
    "    ys = score[:,pca2]\n",
    "    n=score.shape[1]\n",
    "    scalex = 1.0/(xs.max() - xs.min())\n",
    "    scaley = 1.0/(ys.max() - ys.min())\n",
    "    \n",
    "    for i in range(len(xs)):\n",
    "        plt.scatter(xs[i]*scalex, ys[i]*scaley)\n",
    "        plt.annotate(label.iloc[i], xy=(xs[i]*scalex, ys[i]*scaley), ha='right')\n",
    "        \n",
    "    for i in range(n):\n",
    "        plt.arrow(0, 0, coeff[i,pca1], coeff[i,pca2], color='r', alpha=1)\n",
    "        if labels is None:\n",
    "            plt.text(coeff[i,pca1]*1.15, coeff[i,pca2]*1.15, \"Var\"+str(i+1), color='g', ha = 'center', va='center')\n",
    "        else:\n",
    "            plt.text(coeff[i,pca1]*1.15, coeff[i,pca2]*1.15, labels[i], color='g', ha='center', va='center', size=15)\n",
    "    plt.xlim(-0.8, 0.75)\n",
    "    plt.ylim(-1,1)\n",
    "    plt.xlabel(\"PC{}\".format(pcax))\n",
    "    plt.ylabel(\"PC{}\".format(pcay))\n",
    "    plt.grid()\n",
    "    \n",
    "    \n",
    " ##한글 폰트 설정\n",
    "import matplotlib.pyplot as plt\n",
    "import matplotlib.font_manager as fm\n",
    "\n",
    "font_path=\"C:\\\\Windows\\\\Fonts\\\\malgun.ttf\"\n",
    "font_name=fm.FontProperties(fname=font_path).get_name()\n",
    "plt.rcParams['font.family']=font_name\n",
    "\n",
    "%matplotlib inline\n",
    "biplot2(X_pca_soccer, pca_soccer.components_, soccer_name, 1,2,labels=soccer_values.columns)"
   ]
  },
  {
   "cell_type": "code",
   "execution_count": null,
   "id": "21ba2314",
   "metadata": {},
   "outputs": [],
   "source": []
  }
 ],
 "metadata": {
  "kernelspec": {
   "display_name": "Python 3 (ipykernel)",
   "language": "python",
   "name": "python3"
  },
  "language_info": {
   "codemirror_mode": {
    "name": "ipython",
    "version": 3
   },
   "file_extension": ".py",
   "mimetype": "text/x-python",
   "name": "python",
   "nbconvert_exporter": "python",
   "pygments_lexer": "ipython3",
   "version": "3.9.12"
  },
  "toc": {
   "base_numbering": 1,
   "nav_menu": {},
   "number_sections": true,
   "sideBar": true,
   "skip_h1_title": false,
   "title_cell": "Table of Contents",
   "title_sidebar": "Contents",
   "toc_cell": false,
   "toc_position": {},
   "toc_section_display": true,
   "toc_window_display": false
  }
 },
 "nbformat": 4,
 "nbformat_minor": 5
}
