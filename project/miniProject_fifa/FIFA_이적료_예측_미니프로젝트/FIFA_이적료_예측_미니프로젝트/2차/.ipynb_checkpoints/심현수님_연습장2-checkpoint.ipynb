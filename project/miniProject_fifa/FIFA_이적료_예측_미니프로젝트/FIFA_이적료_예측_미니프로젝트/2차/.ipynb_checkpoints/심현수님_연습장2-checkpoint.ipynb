{
 "cells": [
  {
   "cell_type": "code",
   "execution_count": 3,
   "id": "2666640e",
   "metadata": {},
   "outputs": [],
   "source": [
    "import pandas as pd\n",
    "import seaborn as sns\n",
    "import numpy as np\n",
    "import matplotlib.pyplot as plt\n",
    "plt.style.use('ggplot')"
   ]
  },
  {
   "cell_type": "code",
   "execution_count": 373,
   "id": "bb17c6de",
   "metadata": {},
   "outputs": [],
   "source": [
    "train = pd.read_csv('C:\\\\Users\\\\HP\\\\Desktop\\\\rapa\\\\fifa_data\\\\FIFA_train.csv', encoding='utf-8')\n",
    "test = pd.read_csv('C:\\\\Users\\\\HP\\\\Desktop\\\\rapa\\\\fifa_data\\\\FIFA_test.csv', encoding='utf-8')\n",
    "# 데이터 불러오기"
   ]
  },
  {
   "cell_type": "code",
   "execution_count": 374,
   "id": "3e7647eb",
   "metadata": {},
   "outputs": [],
   "source": [
    "train.drop(['id','name'], axis=1, inplace=True)\n",
    "test.drop(['id','name'], axis=1, inplace=True)"
   ]
  },
  {
   "cell_type": "code",
   "execution_count": 375,
   "id": "0f1ed389",
   "metadata": {},
   "outputs": [
    {
     "data": {
      "text/plain": [
       "2019            2366\n",
       "2021            2308\n",
       "2020            2041\n",
       "2022             761\n",
       "2023             506\n",
       "Jun 30, 2019     501\n",
       "2018             327\n",
       "Dec 31, 2018      64\n",
       "May 31, 2019      19\n",
       "2024              12\n",
       "Jan 31, 2019      10\n",
       "Jun 30, 2020       9\n",
       "2025               3\n",
       "Jan 1, 2019        2\n",
       "2026               1\n",
       "May 31, 2020       1\n",
       "Jan 12, 2019       1\n",
       "Name: contract_until, dtype: int64"
      ]
     },
     "execution_count": 375,
     "metadata": {},
     "output_type": "execute_result"
    }
   ],
   "source": [
    "train.contract_until.value_counts() # 계약기간 값들 정렬"
   ]
  },
  {
   "cell_type": "code",
   "execution_count": 376,
   "id": "c5671734",
   "metadata": {},
   "outputs": [],
   "source": [
    "# 계약기간값 년도별로 재구성\n",
    "\n",
    "def func(string:object) -> int:\n",
    "    string = string[-4:]\n",
    "    return int(string)\n",
    "\n",
    "train['contract_until'] = train['contract_until'].apply(func)\n",
    "test['contract_until'] = test['contract_until'].apply(func)"
   ]
  },
  {
   "cell_type": "markdown",
   "id": "2a88b48d",
   "metadata": {},
   "source": [
    "### EDA"
   ]
  },
  {
   "cell_type": "code",
   "execution_count": 394,
   "id": "e399b364",
   "metadata": {},
   "outputs": [],
   "source": [
    "b_train = train.copy()"
   ]
  },
  {
   "cell_type": "code",
   "execution_count": 395,
   "id": "69bde8a9",
   "metadata": {},
   "outputs": [],
   "source": [
    "b_test = test.copy()"
   ]
  },
  {
   "cell_type": "code",
   "execution_count": 396,
   "id": "38144f79",
   "metadata": {},
   "outputs": [
    {
     "data": {
      "text/plain": [
       "((8932, 10), (3828, 9))"
      ]
     },
     "execution_count": 396,
     "metadata": {},
     "output_type": "execute_result"
    }
   ],
   "source": [
    "b_train.shape, b_test.shape"
   ]
  },
  {
   "cell_type": "code",
   "execution_count": 397,
   "id": "90cd3323",
   "metadata": {},
   "outputs": [],
   "source": [
    "b_train['continent']=b_train['continent'].astype('category').cat.codes\n",
    "b_test['continent'] = b_test['continent'].astype('category').cat.codes\n",
    "\n",
    "b_train['position'] = b_train['position'].astype('category').cat.codes\n",
    "b_test['position'] = b_test['position'].astype('category').cat.codes\n",
    "\n",
    "b_train['prefer_foot'] = b_train['prefer_foot'].astype('category').cat.codes\n",
    "b_test['prefer_foot'] = b_test['prefer_foot'].astype('category').cat.codes"
   ]
  },
  {
   "cell_type": "code",
   "execution_count": 398,
   "id": "fcc7e2ce",
   "metadata": {},
   "outputs": [
    {
     "data": {
      "text/html": [
       "<div>\n",
       "<style scoped>\n",
       "    .dataframe tbody tr th:only-of-type {\n",
       "        vertical-align: middle;\n",
       "    }\n",
       "\n",
       "    .dataframe tbody tr th {\n",
       "        vertical-align: top;\n",
       "    }\n",
       "\n",
       "    .dataframe thead th {\n",
       "        text-align: right;\n",
       "    }\n",
       "</style>\n",
       "<table border=\"1\" class=\"dataframe\">\n",
       "  <thead>\n",
       "    <tr style=\"text-align: right;\">\n",
       "      <th></th>\n",
       "      <th>age</th>\n",
       "      <th>continent</th>\n",
       "      <th>contract_until</th>\n",
       "      <th>position</th>\n",
       "      <th>prefer_foot</th>\n",
       "      <th>reputation</th>\n",
       "      <th>stat_overall</th>\n",
       "      <th>stat_potential</th>\n",
       "      <th>stat_skill_moves</th>\n",
       "      <th>value</th>\n",
       "    </tr>\n",
       "  </thead>\n",
       "  <tbody>\n",
       "    <tr>\n",
       "      <th>0</th>\n",
       "      <td>31</td>\n",
       "      <td>4</td>\n",
       "      <td>2021</td>\n",
       "      <td>3</td>\n",
       "      <td>0</td>\n",
       "      <td>5.0</td>\n",
       "      <td>94</td>\n",
       "      <td>94</td>\n",
       "      <td>4.0</td>\n",
       "      <td>110500000.0</td>\n",
       "    </tr>\n",
       "    <tr>\n",
       "      <th>1</th>\n",
       "      <td>27</td>\n",
       "      <td>2</td>\n",
       "      <td>2020</td>\n",
       "      <td>1</td>\n",
       "      <td>1</td>\n",
       "      <td>4.0</td>\n",
       "      <td>91</td>\n",
       "      <td>93</td>\n",
       "      <td>1.0</td>\n",
       "      <td>72000000.0</td>\n",
       "    </tr>\n",
       "    <tr>\n",
       "      <th>2</th>\n",
       "      <td>31</td>\n",
       "      <td>4</td>\n",
       "      <td>2021</td>\n",
       "      <td>3</td>\n",
       "      <td>1</td>\n",
       "      <td>5.0</td>\n",
       "      <td>91</td>\n",
       "      <td>91</td>\n",
       "      <td>3.0</td>\n",
       "      <td>80000000.0</td>\n",
       "    </tr>\n",
       "    <tr>\n",
       "      <th>3</th>\n",
       "      <td>32</td>\n",
       "      <td>2</td>\n",
       "      <td>2020</td>\n",
       "      <td>0</td>\n",
       "      <td>1</td>\n",
       "      <td>4.0</td>\n",
       "      <td>91</td>\n",
       "      <td>91</td>\n",
       "      <td>3.0</td>\n",
       "      <td>51000000.0</td>\n",
       "    </tr>\n",
       "    <tr>\n",
       "      <th>4</th>\n",
       "      <td>25</td>\n",
       "      <td>2</td>\n",
       "      <td>2021</td>\n",
       "      <td>1</td>\n",
       "      <td>1</td>\n",
       "      <td>3.0</td>\n",
       "      <td>90</td>\n",
       "      <td>93</td>\n",
       "      <td>1.0</td>\n",
       "      <td>68000000.0</td>\n",
       "    </tr>\n",
       "    <tr>\n",
       "      <th>...</th>\n",
       "      <td>...</td>\n",
       "      <td>...</td>\n",
       "      <td>...</td>\n",
       "      <td>...</td>\n",
       "      <td>...</td>\n",
       "      <td>...</td>\n",
       "      <td>...</td>\n",
       "      <td>...</td>\n",
       "      <td>...</td>\n",
       "      <td>...</td>\n",
       "    </tr>\n",
       "    <tr>\n",
       "      <th>8927</th>\n",
       "      <td>18</td>\n",
       "      <td>0</td>\n",
       "      <td>2019</td>\n",
       "      <td>2</td>\n",
       "      <td>1</td>\n",
       "      <td>1.0</td>\n",
       "      <td>48</td>\n",
       "      <td>63</td>\n",
       "      <td>3.0</td>\n",
       "      <td>60000.0</td>\n",
       "    </tr>\n",
       "    <tr>\n",
       "      <th>8928</th>\n",
       "      <td>19</td>\n",
       "      <td>2</td>\n",
       "      <td>2020</td>\n",
       "      <td>0</td>\n",
       "      <td>1</td>\n",
       "      <td>1.0</td>\n",
       "      <td>47</td>\n",
       "      <td>59</td>\n",
       "      <td>2.0</td>\n",
       "      <td>40000.0</td>\n",
       "    </tr>\n",
       "    <tr>\n",
       "      <th>8929</th>\n",
       "      <td>18</td>\n",
       "      <td>4</td>\n",
       "      <td>2021</td>\n",
       "      <td>0</td>\n",
       "      <td>1</td>\n",
       "      <td>1.0</td>\n",
       "      <td>47</td>\n",
       "      <td>64</td>\n",
       "      <td>2.0</td>\n",
       "      <td>50000.0</td>\n",
       "    </tr>\n",
       "    <tr>\n",
       "      <th>8930</th>\n",
       "      <td>18</td>\n",
       "      <td>2</td>\n",
       "      <td>2021</td>\n",
       "      <td>1</td>\n",
       "      <td>1</td>\n",
       "      <td>1.0</td>\n",
       "      <td>47</td>\n",
       "      <td>65</td>\n",
       "      <td>1.0</td>\n",
       "      <td>50000.0</td>\n",
       "    </tr>\n",
       "    <tr>\n",
       "      <th>8931</th>\n",
       "      <td>19</td>\n",
       "      <td>2</td>\n",
       "      <td>2020</td>\n",
       "      <td>3</td>\n",
       "      <td>1</td>\n",
       "      <td>1.0</td>\n",
       "      <td>47</td>\n",
       "      <td>63</td>\n",
       "      <td>2.0</td>\n",
       "      <td>60000.0</td>\n",
       "    </tr>\n",
       "  </tbody>\n",
       "</table>\n",
       "<p>8932 rows × 10 columns</p>\n",
       "</div>"
      ],
      "text/plain": [
       "      age  continent  contract_until  position  prefer_foot  reputation  \\\n",
       "0      31          4            2021         3            0         5.0   \n",
       "1      27          2            2020         1            1         4.0   \n",
       "2      31          4            2021         3            1         5.0   \n",
       "3      32          2            2020         0            1         4.0   \n",
       "4      25          2            2021         1            1         3.0   \n",
       "...   ...        ...             ...       ...          ...         ...   \n",
       "8927   18          0            2019         2            1         1.0   \n",
       "8928   19          2            2020         0            1         1.0   \n",
       "8929   18          4            2021         0            1         1.0   \n",
       "8930   18          2            2021         1            1         1.0   \n",
       "8931   19          2            2020         3            1         1.0   \n",
       "\n",
       "      stat_overall  stat_potential  stat_skill_moves        value  \n",
       "0               94              94               4.0  110500000.0  \n",
       "1               91              93               1.0   72000000.0  \n",
       "2               91              91               3.0   80000000.0  \n",
       "3               91              91               3.0   51000000.0  \n",
       "4               90              93               1.0   68000000.0  \n",
       "...            ...             ...               ...          ...  \n",
       "8927            48              63               3.0      60000.0  \n",
       "8928            47              59               2.0      40000.0  \n",
       "8929            47              64               2.0      50000.0  \n",
       "8930            47              65               1.0      50000.0  \n",
       "8931            47              63               2.0      60000.0  \n",
       "\n",
       "[8932 rows x 10 columns]"
      ]
     },
     "execution_count": 398,
     "metadata": {},
     "output_type": "execute_result"
    }
   ],
   "source": [
    "b_train"
   ]
  },
  {
   "cell_type": "code",
   "execution_count": 399,
   "id": "40af5320",
   "metadata": {},
   "outputs": [
    {
     "name": "stdout",
     "output_type": "stream",
     "text": [
      "<class 'pandas.core.frame.DataFrame'>\n",
      "RangeIndex: 8932 entries, 0 to 8931\n",
      "Data columns (total 10 columns):\n",
      " #   Column            Non-Null Count  Dtype  \n",
      "---  ------            --------------  -----  \n",
      " 0   age               8932 non-null   int64  \n",
      " 1   continent         8932 non-null   object \n",
      " 2   contract_until    8932 non-null   int64  \n",
      " 3   position          8932 non-null   object \n",
      " 4   prefer_foot       8932 non-null   object \n",
      " 5   reputation        8932 non-null   float64\n",
      " 6   stat_overall      8932 non-null   int64  \n",
      " 7   stat_potential    8932 non-null   int64  \n",
      " 8   stat_skill_moves  8932 non-null   float64\n",
      " 9   value             8932 non-null   float64\n",
      "dtypes: float64(3), int64(4), object(3)\n",
      "memory usage: 697.9+ KB\n",
      "<class 'pandas.core.frame.DataFrame'>\n",
      "RangeIndex: 3828 entries, 0 to 3827\n",
      "Data columns (total 9 columns):\n",
      " #   Column            Non-Null Count  Dtype  \n",
      "---  ------            --------------  -----  \n",
      " 0   age               3828 non-null   int64  \n",
      " 1   continent         3828 non-null   object \n",
      " 2   contract_until    3828 non-null   int64  \n",
      " 3   position          3828 non-null   object \n",
      " 4   prefer_foot       3828 non-null   object \n",
      " 5   reputation        3828 non-null   float64\n",
      " 6   stat_overall      3828 non-null   int64  \n",
      " 7   stat_potential    3828 non-null   int64  \n",
      " 8   stat_skill_moves  3828 non-null   float64\n",
      "dtypes: float64(2), int64(4), object(3)\n",
      "memory usage: 269.3+ KB\n"
     ]
    }
   ],
   "source": [
    "train.info(), test.info()\n",
    "\n",
    "from sklearn.model_selection import train_test_split\n",
    "X = b_train.drop(['value'],axis=1)\n",
    "y = b_train['value']\n",
    "\n",
    "# train_test_split\n",
    "X_train, X_test, y_train, y_test = train_test_split(X, y, test_size=0.2)"
   ]
  },
  {
   "cell_type": "code",
   "execution_count": 400,
   "id": "7c316a53",
   "metadata": {
    "scrolled": true
   },
   "outputs": [
    {
     "data": {
      "image/png": "[encoded data removed]",
      "text/plain": [
       "<Figure size 2160x720 with 10 Axes>"
      ]
     },
     "metadata": {
      "needs_background": "light"
     },
     "output_type": "display_data"
    }
   ],
   "source": [
    "f, axes = plt.subplots(2,5, figsize=(30,10)) # 변수가 10개 이므로 subplots을 (2,5) 로 설정해주었습니다.\n",
    "axes = axes.flatten()\n",
    "for col,ax in zip(X.columns, axes):\n",
    "    sns.histplot(data = X, x=col, ax=ax, alpha=0.6, kde=True)\n",
    "plt.show()"
   ]
  },
  {
   "cell_type": "code",
   "execution_count": 401,
   "id": "25ec2f78",
   "metadata": {},
   "outputs": [
    {
     "data": {
      "text/plain": [
       "(8932, 1)"
      ]
     },
     "execution_count": 401,
     "metadata": {},
     "output_type": "execute_result"
    }
   ],
   "source": [
    "X = train['reputation'].values\n",
    "X = X.reshape(-1,1)\n",
    "X.shape"
   ]
  },
  {
   "cell_type": "code",
   "execution_count": 402,
   "id": "e9e0957a",
   "metadata": {},
   "outputs": [
    {
     "data": {
      "text/plain": [
       "(8932, 1)"
      ]
     },
     "execution_count": 402,
     "metadata": {},
     "output_type": "execute_result"
    }
   ],
   "source": [
    "y = train['value'].values\n",
    "y = y.reshape(-1,1)\n",
    "y.shape"
   ]
  },
  {
   "cell_type": "code",
   "execution_count": 403,
   "id": "971b7d0a",
   "metadata": {},
   "outputs": [
    {
     "data": {
      "text/plain": [
       "((7145, 1), (1787, 1), (7145, 1), (1787, 1))"
      ]
     },
     "execution_count": 403,
     "metadata": {},
     "output_type": "execute_result"
    }
   ],
   "source": [
    "from sklearn.model_selection import train_test_split\n",
    "X_train, X_test, y_train, y_test = train_test_split(X,y, test_size=0.2, random_state=1)\n",
    "X_train.shape, X_test.shape, y_train.shape, y_test.shape"
   ]
  },
  {
   "cell_type": "code",
   "execution_count": 404,
   "id": "a973a71e",
   "metadata": {},
   "outputs": [
    {
     "data": {
      "image/png": "[encoded data removed]",
      "text/plain": [
       "<Figure size 432x288 with 1 Axes>"
      ]
     },
     "metadata": {
      "needs_background": "light"
     },
     "output_type": "display_data"
    }
   ],
   "source": [
    "def draw_data():\n",
    "  plt.scatter(X_train, y_train, label='Trainset', color='lightgray')\n",
    "  plt.scatter(X_test, y_test, label='Testset', color='lightgreen')\n",
    "  plt.xlabel('Player Value Factors[reputation]')\n",
    "  plt.ylabel('value')\n",
    "  plt.legend()\n",
    "draw_data()"
   ]
  },
  {
   "cell_type": "code",
   "execution_count": 405,
   "id": "ff67f2c3",
   "metadata": {},
   "outputs": [
    {
     "data": {
      "text/plain": [
       "(8932, 1)"
      ]
     },
     "execution_count": 405,
     "metadata": {},
     "output_type": "execute_result"
    }
   ],
   "source": [
    "X = train['stat_overall'].values\n",
    "X = X.reshape(-1,1)\n",
    "X.shape"
   ]
  },
  {
   "cell_type": "code",
   "execution_count": 406,
   "id": "6c221650",
   "metadata": {},
   "outputs": [
    {
     "data": {
      "text/plain": [
       "(8932, 1)"
      ]
     },
     "execution_count": 406,
     "metadata": {},
     "output_type": "execute_result"
    }
   ],
   "source": [
    "y = train['value'].values\n",
    "y = y.reshape(-1,1)\n",
    "y.shape"
   ]
  },
  {
   "cell_type": "code",
   "execution_count": 407,
   "id": "6207e2f7",
   "metadata": {},
   "outputs": [
    {
     "data": {
      "text/plain": [
       "((7145, 1), (1787, 1), (7145, 1), (1787, 1))"
      ]
     },
     "execution_count": 407,
     "metadata": {},
     "output_type": "execute_result"
    }
   ],
   "source": [
    "from sklearn.model_selection import train_test_split\n",
    "X_train, X_test, y_train, y_test = train_test_split(X,y, test_size=0.2, random_state=1)\n",
    "X_train.shape, X_test.shape, y_train.shape, y_test.shape"
   ]
  },
  {
   "cell_type": "code",
   "execution_count": 408,
   "id": "c35f574f",
   "metadata": {
    "scrolled": true
   },
   "outputs": [
    {
     "data": {
      "image/png": "[encoded data removed]",
      "text/plain": [
       "<Figure size 432x288 with 1 Axes>"
      ]
     },
     "metadata": {
      "needs_background": "light"
     },
     "output_type": "display_data"
    }
   ],
   "source": [
    "def draw_data():\n",
    "    plt.scatter(X_train, y_train, label='Trainset', color='lightgray')\n",
    "    plt.scatter(X_test, y_test, label='Testset', color='lightgreen')\n",
    "    plt.xlabel('Player Value Factors[stat_overall]')\n",
    "    plt.ylabel('value')\n",
    "    plt.legend()\n",
    "draw_data()"
   ]
  },
  {
   "cell_type": "code",
   "execution_count": 431,
   "id": "881f39b7",
   "metadata": {},
   "outputs": [],
   "source": [
    "b_train[\"log_value\"] = np.log(b_train['value'])\n",
    "log_value = b_train[\"log_value\"]"
   ]
  },
  {
   "cell_type": "code",
   "execution_count": 436,
   "id": "b3d84300",
   "metadata": {},
   "outputs": [
    {
     "data": {
      "text/plain": [
       "<AxesSubplot:xlabel='log_value', ylabel='Count'>"
      ]
     },
     "execution_count": 436,
     "metadata": {},
     "output_type": "execute_result"
    },
    {
     "data": {
      "image/png": "[encoded data removed]",
      "text/plain": [
       "<Figure size 432x288 with 1 Axes>"
      ]
     },
     "metadata": {
      "needs_background": "light"
     },
     "output_type": "display_data"
    }
   ],
   "source": [
    "# 연봉 로그값의 분포도 그래프\n",
    "sns.histplot(log_value)"
   ]
  },
  {
   "cell_type": "code",
   "execution_count": 440,
   "id": "b882cacb",
   "metadata": {},
   "outputs": [
    {
     "data": {
      "text/plain": [
       "<AxesSubplot:xlabel='age', ylabel='value'>"
      ]
     },
     "execution_count": 440,
     "metadata": {},
     "output_type": "execute_result"
    },
    {
     "data": {
      "image/png": "[encoded data removed]",
      "text/plain": [
       "<Figure size 432x288 with 1 Axes>"
      ]
     },
     "metadata": {
      "needs_background": "light"
     },
     "output_type": "display_data"
    }
   ],
   "source": [
    "# 나이대별 평균 연봉 (로그값)\n",
    "age_value_mean = b_train.groupby(\"age\")[\"value\"].mean()\n",
    "age_value_mean = age_value_mean.reset_index()\n",
    "\n",
    "sns.barplot(x=\"age\",y=\"value\",data=age_value_mean)"
   ]
  },
  {
   "cell_type": "code",
   "execution_count": 442,
   "id": "f446377b",
   "metadata": {
    "scrolled": false
   },
   "outputs": [
    {
     "data": {
      "text/plain": [
       "<AxesSubplot:xlabel='age', ylabel='log_value'>"
      ]
     },
     "execution_count": 442,
     "metadata": {},
     "output_type": "execute_result"
    },
    {
     "data": {
      "image/png": "[encoded data removed]",
      "text/plain": [
       "<Figure size 432x288 with 1 Axes>"
      ]
     },
     "metadata": {
      "needs_background": "light"
     },
     "output_type": "display_data"
    }
   ],
   "source": [
    "# 나이대별 평균 연봉 (로그값)\n",
    "age_value_mean = b_train.groupby(\"age\")[\"log_value\"].mean()\n",
    "age_value_mean = age_value_mean.reset_index()\n",
    "\n",
    "sns.barplot(x=\"age\",y=\"log_value\",data=age_value_mean)"
   ]
  },
  {
   "cell_type": "code",
   "execution_count": 444,
   "id": "4166e3d1",
   "metadata": {
    "scrolled": true
   },
   "outputs": [
    {
     "data": {
      "text/plain": [
       "<AxesSubplot:xlabel='age', ylabel='reputation'>"
      ]
     },
     "execution_count": 444,
     "metadata": {},
     "output_type": "execute_result"
    },
    {
     "data": {
      "image/png": "[encoded data removed]",
      "text/plain": [
       "<Figure size 432x288 with 1 Axes>"
      ]
     },
     "metadata": {
      "needs_background": "light"
     },
     "output_type": "display_data"
    }
   ],
   "source": [
    "# 나이대별 평균 인기도\n",
    "age_value_mean = b_train.groupby(\"age\")[\"reputation\"].mean()\n",
    "age_value_mean = age_value_mean.reset_index()\n",
    "\n",
    "sns.barplot(x=\"age\",y=\"reputation\",data=age_value_mean)"
   ]
  },
  {
   "cell_type": "code",
   "execution_count": 450,
   "id": "bdbc602d",
   "metadata": {},
   "outputs": [
    {
     "data": {
      "text/plain": [
       "<AxesSubplot:xlabel='prefer_foot', ylabel='value'>"
      ]
     },
     "execution_count": 450,
     "metadata": {},
     "output_type": "execute_result"
    },
    {
     "data": {
      "image/png": "[encoded data removed]",
      "text/plain": [
       "<Figure size 432x288 with 1 Axes>"
      ]
     },
     "metadata": {
      "needs_background": "light"
     },
     "output_type": "display_data"
    }
   ],
   "source": [
    "# 왼발0 오른발1 사용 발별 연봉 \n",
    "age_value_mean = b_train.groupby(\"prefer_foot\")[\"value\"].mean()\n",
    "age_value_mean = age_value_mean.reset_index()\n",
    "\n",
    "sns.barplot(x=\"prefer_foot\",y=\"value\",data=age_value_mean)"
   ]
  },
  {
   "cell_type": "code",
   "execution_count": 455,
   "id": "043b9835",
   "metadata": {},
   "outputs": [
    {
     "data": {
      "text/html": [
       "<div>\n",
       "<style scoped>\n",
       "    .dataframe tbody tr th:only-of-type {\n",
       "        vertical-align: middle;\n",
       "    }\n",
       "\n",
       "    .dataframe tbody tr th {\n",
       "        vertical-align: top;\n",
       "    }\n",
       "\n",
       "    .dataframe thead th {\n",
       "        text-align: right;\n",
       "    }\n",
       "</style>\n",
       "<table border=\"1\" class=\"dataframe\">\n",
       "  <thead>\n",
       "    <tr style=\"text-align: right;\">\n",
       "      <th></th>\n",
       "      <th>age</th>\n",
       "      <th>continent</th>\n",
       "      <th>contract_until</th>\n",
       "      <th>position</th>\n",
       "      <th>prefer_foot</th>\n",
       "      <th>reputation</th>\n",
       "      <th>stat_overall</th>\n",
       "      <th>stat_potential</th>\n",
       "      <th>stat_skill_moves</th>\n",
       "      <th>value</th>\n",
       "      <th>log_value</th>\n",
       "    </tr>\n",
       "  </thead>\n",
       "  <tbody>\n",
       "    <tr>\n",
       "      <th>0</th>\n",
       "      <td>31</td>\n",
       "      <td>4</td>\n",
       "      <td>2021</td>\n",
       "      <td>3</td>\n",
       "      <td>0</td>\n",
       "      <td>5.0</td>\n",
       "      <td>94</td>\n",
       "      <td>94</td>\n",
       "      <td>4.0</td>\n",
       "      <td>110500000.0</td>\n",
       "      <td>18.520526</td>\n",
       "    </tr>\n",
       "    <tr>\n",
       "      <th>1</th>\n",
       "      <td>27</td>\n",
       "      <td>2</td>\n",
       "      <td>2020</td>\n",
       "      <td>1</td>\n",
       "      <td>1</td>\n",
       "      <td>4.0</td>\n",
       "      <td>91</td>\n",
       "      <td>93</td>\n",
       "      <td>1.0</td>\n",
       "      <td>72000000.0</td>\n",
       "      <td>18.092177</td>\n",
       "    </tr>\n",
       "    <tr>\n",
       "      <th>2</th>\n",
       "      <td>31</td>\n",
       "      <td>4</td>\n",
       "      <td>2021</td>\n",
       "      <td>3</td>\n",
       "      <td>1</td>\n",
       "      <td>5.0</td>\n",
       "      <td>91</td>\n",
       "      <td>91</td>\n",
       "      <td>3.0</td>\n",
       "      <td>80000000.0</td>\n",
       "      <td>18.197537</td>\n",
       "    </tr>\n",
       "    <tr>\n",
       "      <th>3</th>\n",
       "      <td>32</td>\n",
       "      <td>2</td>\n",
       "      <td>2020</td>\n",
       "      <td>0</td>\n",
       "      <td>1</td>\n",
       "      <td>4.0</td>\n",
       "      <td>91</td>\n",
       "      <td>91</td>\n",
       "      <td>3.0</td>\n",
       "      <td>51000000.0</td>\n",
       "      <td>17.747336</td>\n",
       "    </tr>\n",
       "    <tr>\n",
       "      <th>4</th>\n",
       "      <td>25</td>\n",
       "      <td>2</td>\n",
       "      <td>2021</td>\n",
       "      <td>1</td>\n",
       "      <td>1</td>\n",
       "      <td>3.0</td>\n",
       "      <td>90</td>\n",
       "      <td>93</td>\n",
       "      <td>1.0</td>\n",
       "      <td>68000000.0</td>\n",
       "      <td>18.035018</td>\n",
       "    </tr>\n",
       "    <tr>\n",
       "      <th>...</th>\n",
       "      <td>...</td>\n",
       "      <td>...</td>\n",
       "      <td>...</td>\n",
       "      <td>...</td>\n",
       "      <td>...</td>\n",
       "      <td>...</td>\n",
       "      <td>...</td>\n",
       "      <td>...</td>\n",
       "      <td>...</td>\n",
       "      <td>...</td>\n",
       "      <td>...</td>\n",
       "    </tr>\n",
       "    <tr>\n",
       "      <th>8927</th>\n",
       "      <td>18</td>\n",
       "      <td>0</td>\n",
       "      <td>2019</td>\n",
       "      <td>2</td>\n",
       "      <td>1</td>\n",
       "      <td>1.0</td>\n",
       "      <td>48</td>\n",
       "      <td>63</td>\n",
       "      <td>3.0</td>\n",
       "      <td>60000.0</td>\n",
       "      <td>11.002100</td>\n",
       "    </tr>\n",
       "    <tr>\n",
       "      <th>8928</th>\n",
       "      <td>19</td>\n",
       "      <td>2</td>\n",
       "      <td>2020</td>\n",
       "      <td>0</td>\n",
       "      <td>1</td>\n",
       "      <td>1.0</td>\n",
       "      <td>47</td>\n",
       "      <td>59</td>\n",
       "      <td>2.0</td>\n",
       "      <td>40000.0</td>\n",
       "      <td>10.596635</td>\n",
       "    </tr>\n",
       "    <tr>\n",
       "      <th>8929</th>\n",
       "      <td>18</td>\n",
       "      <td>4</td>\n",
       "      <td>2021</td>\n",
       "      <td>0</td>\n",
       "      <td>1</td>\n",
       "      <td>1.0</td>\n",
       "      <td>47</td>\n",
       "      <td>64</td>\n",
       "      <td>2.0</td>\n",
       "      <td>50000.0</td>\n",
       "      <td>10.819778</td>\n",
       "    </tr>\n",
       "    <tr>\n",
       "      <th>8930</th>\n",
       "      <td>18</td>\n",
       "      <td>2</td>\n",
       "      <td>2021</td>\n",
       "      <td>1</td>\n",
       "      <td>1</td>\n",
       "      <td>1.0</td>\n",
       "      <td>47</td>\n",
       "      <td>65</td>\n",
       "      <td>1.0</td>\n",
       "      <td>50000.0</td>\n",
       "      <td>10.819778</td>\n",
       "    </tr>\n",
       "    <tr>\n",
       "      <th>8931</th>\n",
       "      <td>19</td>\n",
       "      <td>2</td>\n",
       "      <td>2020</td>\n",
       "      <td>3</td>\n",
       "      <td>1</td>\n",
       "      <td>1.0</td>\n",
       "      <td>47</td>\n",
       "      <td>63</td>\n",
       "      <td>2.0</td>\n",
       "      <td>60000.0</td>\n",
       "      <td>11.002100</td>\n",
       "    </tr>\n",
       "  </tbody>\n",
       "</table>\n",
       "<p>8932 rows × 11 columns</p>\n",
       "</div>"
      ],
      "text/plain": [
       "      age  continent  contract_until  position  prefer_foot  reputation  \\\n",
       "0      31          4            2021         3            0         5.0   \n",
       "1      27          2            2020         1            1         4.0   \n",
       "2      31          4            2021         3            1         5.0   \n",
       "3      32          2            2020         0            1         4.0   \n",
       "4      25          2            2021         1            1         3.0   \n",
       "...   ...        ...             ...       ...          ...         ...   \n",
       "8927   18          0            2019         2            1         1.0   \n",
       "8928   19          2            2020         0            1         1.0   \n",
       "8929   18          4            2021         0            1         1.0   \n",
       "8930   18          2            2021         1            1         1.0   \n",
       "8931   19          2            2020         3            1         1.0   \n",
       "\n",
       "      stat_overall  stat_potential  stat_skill_moves        value  log_value  \n",
       "0               94              94               4.0  110500000.0  18.520526  \n",
       "1               91              93               1.0   72000000.0  18.092177  \n",
       "2               91              91               3.0   80000000.0  18.197537  \n",
       "3               91              91               3.0   51000000.0  17.747336  \n",
       "4               90              93               1.0   68000000.0  18.035018  \n",
       "...            ...             ...               ...          ...        ...  \n",
       "8927            48              63               3.0      60000.0  11.002100  \n",
       "8928            47              59               2.0      40000.0  10.596635  \n",
       "8929            47              64               2.0      50000.0  10.819778  \n",
       "8930            47              65               1.0      50000.0  10.819778  \n",
       "8931            47              63               2.0      60000.0  11.002100  \n",
       "\n",
       "[8932 rows x 11 columns]"
      ]
     },
     "execution_count": 455,
     "metadata": {},
     "output_type": "execute_result"
    }
   ],
   "source": [
    "b_train"
   ]
  },
  {
   "cell_type": "markdown",
   "id": "d62d2314",
   "metadata": {},
   "source": [
    "### LinearRegression 구현"
   ]
  },
  {
   "cell_type": "code",
   "execution_count": 412,
   "id": "bbdfe3af",
   "metadata": {},
   "outputs": [
    {
     "data": {
      "text/plain": [
       "0       110500000.0\n",
       "1        72000000.0\n",
       "2        80000000.0\n",
       "3        51000000.0\n",
       "4        68000000.0\n",
       "           ...     \n",
       "8927        60000.0\n",
       "8928        40000.0\n",
       "8929        50000.0\n",
       "8930        50000.0\n",
       "8931        60000.0\n",
       "Name: value, Length: 8932, dtype: float64"
      ]
     },
     "execution_count": 412,
     "metadata": {},
     "output_type": "execute_result"
    }
   ],
   "source": [
    "lables= train['value']\n",
    "lables"
   ]
  },
  {
   "cell_type": "code",
   "execution_count": 413,
   "id": "5fe30f2d",
   "metadata": {},
   "outputs": [],
   "source": [
    "train.drop(['value'], axis=1, inplace=True)"
   ]
  },
  {
   "cell_type": "code",
   "execution_count": 414,
   "id": "183f3e12",
   "metadata": {
    "scrolled": true
   },
   "outputs": [
    {
     "data": {
      "text/plain": [
       "0       110500000.0\n",
       "1        72000000.0\n",
       "2        80000000.0\n",
       "3        51000000.0\n",
       "4        68000000.0\n",
       "           ...     \n",
       "8927        60000.0\n",
       "8928        40000.0\n",
       "8929        50000.0\n",
       "8930        50000.0\n",
       "8931        60000.0\n",
       "Name: value, Length: 8932, dtype: float64"
      ]
     },
     "execution_count": 414,
     "metadata": {},
     "output_type": "execute_result"
    }
   ],
   "source": [
    "# lables값 확인\n",
    "lables"
   ]
  },
  {
   "cell_type": "code",
   "execution_count": 415,
   "id": "b5cc9863",
   "metadata": {},
   "outputs": [
    {
     "data": {
      "text/html": [
       "<div>\n",
       "<style scoped>\n",
       "    .dataframe tbody tr th:only-of-type {\n",
       "        vertical-align: middle;\n",
       "    }\n",
       "\n",
       "    .dataframe tbody tr th {\n",
       "        vertical-align: top;\n",
       "    }\n",
       "\n",
       "    .dataframe thead th {\n",
       "        text-align: right;\n",
       "    }\n",
       "</style>\n",
       "<table border=\"1\" class=\"dataframe\">\n",
       "  <thead>\n",
       "    <tr style=\"text-align: right;\">\n",
       "      <th></th>\n",
       "      <th>age</th>\n",
       "      <th>continent</th>\n",
       "      <th>contract_until</th>\n",
       "      <th>position</th>\n",
       "      <th>prefer_foot</th>\n",
       "      <th>reputation</th>\n",
       "      <th>stat_overall</th>\n",
       "      <th>stat_potential</th>\n",
       "      <th>stat_skill_moves</th>\n",
       "    </tr>\n",
       "  </thead>\n",
       "  <tbody>\n",
       "    <tr>\n",
       "      <th>0</th>\n",
       "      <td>31</td>\n",
       "      <td>south america</td>\n",
       "      <td>2021</td>\n",
       "      <td>ST</td>\n",
       "      <td>left</td>\n",
       "      <td>5.0</td>\n",
       "      <td>94</td>\n",
       "      <td>94</td>\n",
       "      <td>4.0</td>\n",
       "    </tr>\n",
       "    <tr>\n",
       "      <th>1</th>\n",
       "      <td>27</td>\n",
       "      <td>europe</td>\n",
       "      <td>2020</td>\n",
       "      <td>GK</td>\n",
       "      <td>right</td>\n",
       "      <td>4.0</td>\n",
       "      <td>91</td>\n",
       "      <td>93</td>\n",
       "      <td>1.0</td>\n",
       "    </tr>\n",
       "    <tr>\n",
       "      <th>2</th>\n",
       "      <td>31</td>\n",
       "      <td>south america</td>\n",
       "      <td>2021</td>\n",
       "      <td>ST</td>\n",
       "      <td>right</td>\n",
       "      <td>5.0</td>\n",
       "      <td>91</td>\n",
       "      <td>91</td>\n",
       "      <td>3.0</td>\n",
       "    </tr>\n",
       "    <tr>\n",
       "      <th>3</th>\n",
       "      <td>32</td>\n",
       "      <td>europe</td>\n",
       "      <td>2020</td>\n",
       "      <td>DF</td>\n",
       "      <td>right</td>\n",
       "      <td>4.0</td>\n",
       "      <td>91</td>\n",
       "      <td>91</td>\n",
       "      <td>3.0</td>\n",
       "    </tr>\n",
       "    <tr>\n",
       "      <th>4</th>\n",
       "      <td>25</td>\n",
       "      <td>europe</td>\n",
       "      <td>2021</td>\n",
       "      <td>GK</td>\n",
       "      <td>right</td>\n",
       "      <td>3.0</td>\n",
       "      <td>90</td>\n",
       "      <td>93</td>\n",
       "      <td>1.0</td>\n",
       "    </tr>\n",
       "    <tr>\n",
       "      <th>...</th>\n",
       "      <td>...</td>\n",
       "      <td>...</td>\n",
       "      <td>...</td>\n",
       "      <td>...</td>\n",
       "      <td>...</td>\n",
       "      <td>...</td>\n",
       "      <td>...</td>\n",
       "      <td>...</td>\n",
       "      <td>...</td>\n",
       "    </tr>\n",
       "    <tr>\n",
       "      <th>8927</th>\n",
       "      <td>18</td>\n",
       "      <td>africa</td>\n",
       "      <td>2019</td>\n",
       "      <td>MF</td>\n",
       "      <td>right</td>\n",
       "      <td>1.0</td>\n",
       "      <td>48</td>\n",
       "      <td>63</td>\n",
       "      <td>3.0</td>\n",
       "    </tr>\n",
       "    <tr>\n",
       "      <th>8928</th>\n",
       "      <td>19</td>\n",
       "      <td>europe</td>\n",
       "      <td>2020</td>\n",
       "      <td>DF</td>\n",
       "      <td>right</td>\n",
       "      <td>1.0</td>\n",
       "      <td>47</td>\n",
       "      <td>59</td>\n",
       "      <td>2.0</td>\n",
       "    </tr>\n",
       "    <tr>\n",
       "      <th>8929</th>\n",
       "      <td>18</td>\n",
       "      <td>south america</td>\n",
       "      <td>2021</td>\n",
       "      <td>DF</td>\n",
       "      <td>right</td>\n",
       "      <td>1.0</td>\n",
       "      <td>47</td>\n",
       "      <td>64</td>\n",
       "      <td>2.0</td>\n",
       "    </tr>\n",
       "    <tr>\n",
       "      <th>8930</th>\n",
       "      <td>18</td>\n",
       "      <td>europe</td>\n",
       "      <td>2021</td>\n",
       "      <td>GK</td>\n",
       "      <td>right</td>\n",
       "      <td>1.0</td>\n",
       "      <td>47</td>\n",
       "      <td>65</td>\n",
       "      <td>1.0</td>\n",
       "    </tr>\n",
       "    <tr>\n",
       "      <th>8931</th>\n",
       "      <td>19</td>\n",
       "      <td>europe</td>\n",
       "      <td>2020</td>\n",
       "      <td>ST</td>\n",
       "      <td>right</td>\n",
       "      <td>1.0</td>\n",
       "      <td>47</td>\n",
       "      <td>63</td>\n",
       "      <td>2.0</td>\n",
       "    </tr>\n",
       "  </tbody>\n",
       "</table>\n",
       "<p>8932 rows × 9 columns</p>\n",
       "</div>"
      ],
      "text/plain": [
       "      age      continent  contract_until position prefer_foot  reputation  \\\n",
       "0      31  south america            2021       ST        left         5.0   \n",
       "1      27         europe            2020       GK       right         4.0   \n",
       "2      31  south america            2021       ST       right         5.0   \n",
       "3      32         europe            2020       DF       right         4.0   \n",
       "4      25         europe            2021       GK       right         3.0   \n",
       "...   ...            ...             ...      ...         ...         ...   \n",
       "8927   18         africa            2019       MF       right         1.0   \n",
       "8928   19         europe            2020       DF       right         1.0   \n",
       "8929   18  south america            2021       DF       right         1.0   \n",
       "8930   18         europe            2021       GK       right         1.0   \n",
       "8931   19         europe            2020       ST       right         1.0   \n",
       "\n",
       "      stat_overall  stat_potential  stat_skill_moves  \n",
       "0               94              94               4.0  \n",
       "1               91              93               1.0  \n",
       "2               91              91               3.0  \n",
       "3               91              91               3.0  \n",
       "4               90              93               1.0  \n",
       "...            ...             ...               ...  \n",
       "8927            48              63               3.0  \n",
       "8928            47              59               2.0  \n",
       "8929            47              64               2.0  \n",
       "8930            47              65               1.0  \n",
       "8931            47              63               2.0  \n",
       "\n",
       "[8932 rows x 9 columns]"
      ]
     },
     "execution_count": 415,
     "metadata": {},
     "output_type": "execute_result"
    }
   ],
   "source": [
    "# 정렬확인\n",
    "train"
   ]
  },
  {
   "cell_type": "code",
   "execution_count": 416,
   "id": "15c7bb3f",
   "metadata": {},
   "outputs": [
    {
     "data": {
      "text/plain": [
       "['continent', 'position', 'prefer_foot']"
      ]
     },
     "execution_count": 416,
     "metadata": {},
     "output_type": "execute_result"
    }
   ],
   "source": [
    "# ojbect 타입 list변환후 출력\n",
    "olist=train.dtypes[train.dtypes=='object'].index\n",
    "olist = list(olist)\n",
    "olist"
   ]
  },
  {
   "cell_type": "code",
   "execution_count": 417,
   "id": "20c9d1ba",
   "metadata": {},
   "outputs": [],
   "source": [
    "# dummies로 변수창출 후 원변수 제거\n",
    "for x in olist:\n",
    "    train = pd.concat((train, pd.get_dummies(train[x])), axis=1)\n",
    "    train.drop(x,axis=1,inplace=True)"
   ]
  },
  {
   "cell_type": "code",
   "execution_count": 418,
   "id": "652a2064",
   "metadata": {},
   "outputs": [
    {
     "data": {
      "text/html": [
       "<div>\n",
       "<style scoped>\n",
       "    .dataframe tbody tr th:only-of-type {\n",
       "        vertical-align: middle;\n",
       "    }\n",
       "\n",
       "    .dataframe tbody tr th {\n",
       "        vertical-align: top;\n",
       "    }\n",
       "\n",
       "    .dataframe thead th {\n",
       "        text-align: right;\n",
       "    }\n",
       "</style>\n",
       "<table border=\"1\" class=\"dataframe\">\n",
       "  <thead>\n",
       "    <tr style=\"text-align: right;\">\n",
       "      <th></th>\n",
       "      <th>age</th>\n",
       "      <th>contract_until</th>\n",
       "      <th>reputation</th>\n",
       "      <th>stat_overall</th>\n",
       "      <th>stat_potential</th>\n",
       "      <th>stat_skill_moves</th>\n",
       "      <th>africa</th>\n",
       "      <th>asia</th>\n",
       "      <th>europe</th>\n",
       "      <th>oceania</th>\n",
       "      <th>south america</th>\n",
       "      <th>DF</th>\n",
       "      <th>GK</th>\n",
       "      <th>MF</th>\n",
       "      <th>ST</th>\n",
       "      <th>left</th>\n",
       "      <th>right</th>\n",
       "    </tr>\n",
       "  </thead>\n",
       "  <tbody>\n",
       "    <tr>\n",
       "      <th>0</th>\n",
       "      <td>31</td>\n",
       "      <td>2021</td>\n",
       "      <td>5.0</td>\n",
       "      <td>94</td>\n",
       "      <td>94</td>\n",
       "      <td>4.0</td>\n",
       "      <td>0</td>\n",
       "      <td>0</td>\n",
       "      <td>0</td>\n",
       "      <td>0</td>\n",
       "      <td>1</td>\n",
       "      <td>0</td>\n",
       "      <td>0</td>\n",
       "      <td>0</td>\n",
       "      <td>1</td>\n",
       "      <td>1</td>\n",
       "      <td>0</td>\n",
       "    </tr>\n",
       "    <tr>\n",
       "      <th>1</th>\n",
       "      <td>27</td>\n",
       "      <td>2020</td>\n",
       "      <td>4.0</td>\n",
       "      <td>91</td>\n",
       "      <td>93</td>\n",
       "      <td>1.0</td>\n",
       "      <td>0</td>\n",
       "      <td>0</td>\n",
       "      <td>1</td>\n",
       "      <td>0</td>\n",
       "      <td>0</td>\n",
       "      <td>0</td>\n",
       "      <td>1</td>\n",
       "      <td>0</td>\n",
       "      <td>0</td>\n",
       "      <td>0</td>\n",
       "      <td>1</td>\n",
       "    </tr>\n",
       "    <tr>\n",
       "      <th>2</th>\n",
       "      <td>31</td>\n",
       "      <td>2021</td>\n",
       "      <td>5.0</td>\n",
       "      <td>91</td>\n",
       "      <td>91</td>\n",
       "      <td>3.0</td>\n",
       "      <td>0</td>\n",
       "      <td>0</td>\n",
       "      <td>0</td>\n",
       "      <td>0</td>\n",
       "      <td>1</td>\n",
       "      <td>0</td>\n",
       "      <td>0</td>\n",
       "      <td>0</td>\n",
       "      <td>1</td>\n",
       "      <td>0</td>\n",
       "      <td>1</td>\n",
       "    </tr>\n",
       "    <tr>\n",
       "      <th>3</th>\n",
       "      <td>32</td>\n",
       "      <td>2020</td>\n",
       "      <td>4.0</td>\n",
       "      <td>91</td>\n",
       "      <td>91</td>\n",
       "      <td>3.0</td>\n",
       "      <td>0</td>\n",
       "      <td>0</td>\n",
       "      <td>1</td>\n",
       "      <td>0</td>\n",
       "      <td>0</td>\n",
       "      <td>1</td>\n",
       "      <td>0</td>\n",
       "      <td>0</td>\n",
       "      <td>0</td>\n",
       "      <td>0</td>\n",
       "      <td>1</td>\n",
       "    </tr>\n",
       "    <tr>\n",
       "      <th>4</th>\n",
       "      <td>25</td>\n",
       "      <td>2021</td>\n",
       "      <td>3.0</td>\n",
       "      <td>90</td>\n",
       "      <td>93</td>\n",
       "      <td>1.0</td>\n",
       "      <td>0</td>\n",
       "      <td>0</td>\n",
       "      <td>1</td>\n",
       "      <td>0</td>\n",
       "      <td>0</td>\n",
       "      <td>0</td>\n",
       "      <td>1</td>\n",
       "      <td>0</td>\n",
       "      <td>0</td>\n",
       "      <td>0</td>\n",
       "      <td>1</td>\n",
       "    </tr>\n",
       "    <tr>\n",
       "      <th>...</th>\n",
       "      <td>...</td>\n",
       "      <td>...</td>\n",
       "      <td>...</td>\n",
       "      <td>...</td>\n",
       "      <td>...</td>\n",
       "      <td>...</td>\n",
       "      <td>...</td>\n",
       "      <td>...</td>\n",
       "      <td>...</td>\n",
       "      <td>...</td>\n",
       "      <td>...</td>\n",
       "      <td>...</td>\n",
       "      <td>...</td>\n",
       "      <td>...</td>\n",
       "      <td>...</td>\n",
       "      <td>...</td>\n",
       "      <td>...</td>\n",
       "    </tr>\n",
       "    <tr>\n",
       "      <th>8927</th>\n",
       "      <td>18</td>\n",
       "      <td>2019</td>\n",
       "      <td>1.0</td>\n",
       "      <td>48</td>\n",
       "      <td>63</td>\n",
       "      <td>3.0</td>\n",
       "      <td>1</td>\n",
       "      <td>0</td>\n",
       "      <td>0</td>\n",
       "      <td>0</td>\n",
       "      <td>0</td>\n",
       "      <td>0</td>\n",
       "      <td>0</td>\n",
       "      <td>1</td>\n",
       "      <td>0</td>\n",
       "      <td>0</td>\n",
       "      <td>1</td>\n",
       "    </tr>\n",
       "    <tr>\n",
       "      <th>8928</th>\n",
       "      <td>19</td>\n",
       "      <td>2020</td>\n",
       "      <td>1.0</td>\n",
       "      <td>47</td>\n",
       "      <td>59</td>\n",
       "      <td>2.0</td>\n",
       "      <td>0</td>\n",
       "      <td>0</td>\n",
       "      <td>1</td>\n",
       "      <td>0</td>\n",
       "      <td>0</td>\n",
       "      <td>1</td>\n",
       "      <td>0</td>\n",
       "      <td>0</td>\n",
       "      <td>0</td>\n",
       "      <td>0</td>\n",
       "      <td>1</td>\n",
       "    </tr>\n",
       "    <tr>\n",
       "      <th>8929</th>\n",
       "      <td>18</td>\n",
       "      <td>2021</td>\n",
       "      <td>1.0</td>\n",
       "      <td>47</td>\n",
       "      <td>64</td>\n",
       "      <td>2.0</td>\n",
       "      <td>0</td>\n",
       "      <td>0</td>\n",
       "      <td>0</td>\n",
       "      <td>0</td>\n",
       "      <td>1</td>\n",
       "      <td>1</td>\n",
       "      <td>0</td>\n",
       "      <td>0</td>\n",
       "      <td>0</td>\n",
       "      <td>0</td>\n",
       "      <td>1</td>\n",
       "    </tr>\n",
       "    <tr>\n",
       "      <th>8930</th>\n",
       "      <td>18</td>\n",
       "      <td>2021</td>\n",
       "      <td>1.0</td>\n",
       "      <td>47</td>\n",
       "      <td>65</td>\n",
       "      <td>1.0</td>\n",
       "      <td>0</td>\n",
       "      <td>0</td>\n",
       "      <td>1</td>\n",
       "      <td>0</td>\n",
       "      <td>0</td>\n",
       "      <td>0</td>\n",
       "      <td>1</td>\n",
       "      <td>0</td>\n",
       "      <td>0</td>\n",
       "      <td>0</td>\n",
       "      <td>1</td>\n",
       "    </tr>\n",
       "    <tr>\n",
       "      <th>8931</th>\n",
       "      <td>19</td>\n",
       "      <td>2020</td>\n",
       "      <td>1.0</td>\n",
       "      <td>47</td>\n",
       "      <td>63</td>\n",
       "      <td>2.0</td>\n",
       "      <td>0</td>\n",
       "      <td>0</td>\n",
       "      <td>1</td>\n",
       "      <td>0</td>\n",
       "      <td>0</td>\n",
       "      <td>0</td>\n",
       "      <td>0</td>\n",
       "      <td>0</td>\n",
       "      <td>1</td>\n",
       "      <td>0</td>\n",
       "      <td>1</td>\n",
       "    </tr>\n",
       "  </tbody>\n",
       "</table>\n",
       "<p>8932 rows × 17 columns</p>\n",
       "</div>"
      ],
      "text/plain": [
       "      age  contract_until  reputation  stat_overall  stat_potential  \\\n",
       "0      31            2021         5.0            94              94   \n",
       "1      27            2020         4.0            91              93   \n",
       "2      31            2021         5.0            91              91   \n",
       "3      32            2020         4.0            91              91   \n",
       "4      25            2021         3.0            90              93   \n",
       "...   ...             ...         ...           ...             ...   \n",
       "8927   18            2019         1.0            48              63   \n",
       "8928   19            2020         1.0            47              59   \n",
       "8929   18            2021         1.0            47              64   \n",
       "8930   18            2021         1.0            47              65   \n",
       "8931   19            2020         1.0            47              63   \n",
       "\n",
       "      stat_skill_moves  africa  asia  europe  oceania  south america  DF  GK  \\\n",
       "0                  4.0       0     0       0        0              1   0   0   \n",
       "1                  1.0       0     0       1        0              0   0   1   \n",
       "2                  3.0       0     0       0        0              1   0   0   \n",
       "3                  3.0       0     0       1        0              0   1   0   \n",
       "4                  1.0       0     0       1        0              0   0   1   \n",
       "...                ...     ...   ...     ...      ...            ...  ..  ..   \n",
       "8927               3.0       1     0       0        0              0   0   0   \n",
       "8928               2.0       0     0       1        0              0   1   0   \n",
       "8929               2.0       0     0       0        0              1   1   0   \n",
       "8930               1.0       0     0       1        0              0   0   1   \n",
       "8931               2.0       0     0       1        0              0   0   0   \n",
       "\n",
       "      MF  ST  left  right  \n",
       "0      0   1     1      0  \n",
       "1      0   0     0      1  \n",
       "2      0   1     0      1  \n",
       "3      0   0     0      1  \n",
       "4      0   0     0      1  \n",
       "...   ..  ..   ...    ...  \n",
       "8927   1   0     0      1  \n",
       "8928   0   0     0      1  \n",
       "8929   0   0     0      1  \n",
       "8930   0   0     0      1  \n",
       "8931   0   1     0      1  \n",
       "\n",
       "[8932 rows x 17 columns]"
      ]
     },
     "execution_count": 418,
     "metadata": {},
     "output_type": "execute_result"
    }
   ],
   "source": [
    "# 데이터 확인\n",
    "train"
   ]
  },
  {
   "cell_type": "code",
   "execution_count": 419,
   "id": "9fe6501b",
   "metadata": {},
   "outputs": [
    {
     "data": {
      "text/html": [
       "<style>#sk-container-id-8 {color: black;background-color: white;}#sk-container-id-8 pre{padding: 0;}#sk-container-id-8 div.sk-toggleable {background-color: white;}#sk-container-id-8 label.sk-toggleable__label {cursor: pointer;display: block;width: 100%;margin-bottom: 0;padding: 0.3em;box-sizing: border-box;text-align: center;}#sk-container-id-8 label.sk-toggleable__label-arrow:before {content: \"▸\";float: left;margin-right: 0.25em;color: #696969;}#sk-container-id-8 label.sk-toggleable__label-arrow:hover:before {color: black;}#sk-container-id-8 div.sk-estimator:hover label.sk-toggleable__label-arrow:before {color: black;}#sk-container-id-8 div.sk-toggleable__content {max-height: 0;max-width: 0;overflow: hidden;text-align: left;background-color: #f0f8ff;}#sk-container-id-8 div.sk-toggleable__content pre {margin: 0.2em;color: black;border-radius: 0.25em;background-color: #f0f8ff;}#sk-container-id-8 input.sk-toggleable__control:checked~div.sk-toggleable__content {max-height: 200px;max-width: 100%;overflow: auto;}#sk-container-id-8 input.sk-toggleable__control:checked~label.sk-toggleable__label-arrow:before {content: \"▾\";}#sk-container-id-8 div.sk-estimator input.sk-toggleable__control:checked~label.sk-toggleable__label {background-color: #d4ebff;}#sk-container-id-8 div.sk-label input.sk-toggleable__control:checked~label.sk-toggleable__label {background-color: #d4ebff;}#sk-container-id-8 input.sk-hidden--visually {border: 0;clip: rect(1px 1px 1px 1px);clip: rect(1px, 1px, 1px, 1px);height: 1px;margin: -1px;overflow: hidden;padding: 0;position: absolute;width: 1px;}#sk-container-id-8 div.sk-estimator {font-family: monospace;background-color: #f0f8ff;border: 1px dotted black;border-radius: 0.25em;box-sizing: border-box;margin-bottom: 0.5em;}#sk-container-id-8 div.sk-estimator:hover {background-color: #d4ebff;}#sk-container-id-8 div.sk-parallel-item::after {content: \"\";width: 100%;border-bottom: 1px solid gray;flex-grow: 1;}#sk-container-id-8 div.sk-label:hover label.sk-toggleable__label {background-color: #d4ebff;}#sk-container-id-8 div.sk-serial::before {content: \"\";position: absolute;border-left: 1px solid gray;box-sizing: border-box;top: 0;bottom: 0;left: 50%;z-index: 0;}#sk-container-id-8 div.sk-serial {display: flex;flex-direction: column;align-items: center;background-color: white;padding-right: 0.2em;padding-left: 0.2em;position: relative;}#sk-container-id-8 div.sk-item {position: relative;z-index: 1;}#sk-container-id-8 div.sk-parallel {display: flex;align-items: stretch;justify-content: center;background-color: white;position: relative;}#sk-container-id-8 div.sk-item::before, #sk-container-id-8 div.sk-parallel-item::before {content: \"\";position: absolute;border-left: 1px solid gray;box-sizing: border-box;top: 0;bottom: 0;left: 50%;z-index: -1;}#sk-container-id-8 div.sk-parallel-item {display: flex;flex-direction: column;z-index: 1;position: relative;background-color: white;}#sk-container-id-8 div.sk-parallel-item:first-child::after {align-self: flex-end;width: 50%;}#sk-container-id-8 div.sk-parallel-item:last-child::after {align-self: flex-start;width: 50%;}#sk-container-id-8 div.sk-parallel-item:only-child::after {width: 0;}#sk-container-id-8 div.sk-dashed-wrapped {border: 1px dashed gray;margin: 0 0.4em 0.5em 0.4em;box-sizing: border-box;padding-bottom: 0.4em;background-color: white;}#sk-container-id-8 div.sk-label label {font-family: monospace;font-weight: bold;display: inline-block;line-height: 1.2em;}#sk-container-id-8 div.sk-label-container {text-align: center;}#sk-container-id-8 div.sk-container {/* jupyter's `normalize.less` sets `[hidden] { display: none; }` but bootstrap.min.css set `[hidden] { display: none !important; }` so we also need the `!important` here to be able to override the default hidden behavior on the sphinx rendered scikit-learn.org. See: https://github.com/scikit-learn/scikit-learn/issues/21755 */display: inline-block !important;position: relative;}#sk-container-id-8 div.sk-text-repr-fallback {display: none;}</style><div id=\"sk-container-id-8\" class=\"sk-top-container\"><div class=\"sk-text-repr-fallback\"><pre>LinearRegression()</pre><b>In a Jupyter environment, please rerun this cell to show the HTML representation or trust the notebook. <br />On GitHub, the HTML representation is unable to render, please try loading this page with nbviewer.org.</b></div><div class=\"sk-container\" hidden><div class=\"sk-item\"><div class=\"sk-estimator sk-toggleable\"><input class=\"sk-toggleable__control sk-hidden--visually\" id=\"sk-estimator-id-8\" type=\"checkbox\" checked><label for=\"sk-estimator-id-8\" class=\"sk-toggleable__label sk-toggleable__label-arrow\">LinearRegression</label><div class=\"sk-toggleable__content\"><pre>LinearRegression()</pre></div></div></div></div></div>"
      ],
      "text/plain": [
       "LinearRegression()"
      ]
     },
     "execution_count": 419,
     "metadata": {},
     "output_type": "execute_result"
    }
   ],
   "source": [
    "# 초기 LinearRegression값\n",
    "\n",
    "from sklearn.model_selection import train_test_split\n",
    "from sklearn.linear_model import LinearRegression\n",
    "from sklearn.metrics import accuracy_score\n",
    "\n",
    "\n",
    "x_train,x_test,y_train,y_test = train_test_split(train, lables,\n",
    "                                                 test_size=0.3,\n",
    "                                                 random_state= 111)\n",
    "\n",
    "model = LinearRegression()\n",
    "model.fit(x_test,y_test)"
   ]
  },
  {
   "cell_type": "code",
   "execution_count": 420,
   "id": "f45f30a9",
   "metadata": {},
   "outputs": [
    {
     "data": {
      "text/plain": [
       "(array([-396839.71930919,  339558.52278459, 6448254.20818612,\n",
       "         500812.85593073,  -48489.15296136,  127473.82362587,\n",
       "        -282330.09408556,  236099.55819538, -149801.86606916,\n",
       "         230464.00048857,  -34431.59852924, -424251.98331392,\n",
       "         586198.10972106,  -58191.12357911, -103755.00282803,\n",
       "         -19927.78388208,   19927.78388208]),\n",
       " -710706745.5923765)"
      ]
     },
     "execution_count": 420,
     "metadata": {},
     "output_type": "execute_result"
    }
   ],
   "source": [
    "model.fit(x_train, y_train) \n",
    "model.coef_, model.intercept_"
   ]
  },
  {
   "cell_type": "code",
   "execution_count": 421,
   "id": "faaf9fef",
   "metadata": {
    "scrolled": true
   },
   "outputs": [
    {
     "data": {
      "text/plain": [
       "0.6216642307238236"
      ]
     },
     "execution_count": 421,
     "metadata": {},
     "output_type": "execute_result"
    }
   ],
   "source": [
    "# 스코어점수\n",
    "model.score(x_test, y_test)"
   ]
  },
  {
   "cell_type": "code",
   "execution_count": 422,
   "id": "28108361",
   "metadata": {},
   "outputs": [
    {
     "data": {
      "text/plain": [
       "987      5500000.0\n",
       "1065     8500000.0\n",
       "3846      270000.0\n",
       "6703      550000.0\n",
       "8438      180000.0\n",
       "           ...    \n",
       "191     12500000.0\n",
       "4955      525000.0\n",
       "641     12500000.0\n",
       "5583      575000.0\n",
       "7692      375000.0\n",
       "Name: value, Length: 2680, dtype: float64"
      ]
     },
     "execution_count": 422,
     "metadata": {},
     "output_type": "execute_result"
    }
   ],
   "source": [
    "y_test"
   ]
  },
  {
   "cell_type": "markdown",
   "id": "e411783e",
   "metadata": {},
   "source": [
    "### 대륙분포 제거 버전"
   ]
  },
  {
   "cell_type": "code",
   "execution_count": 423,
   "id": "8c08398c",
   "metadata": {},
   "outputs": [],
   "source": [
    "# 불필요해보이는 대륙분포를 제거\n",
    "tss = train.drop(train.iloc[:,6:11],axis=1)"
   ]
  },
  {
   "cell_type": "code",
   "execution_count": 424,
   "id": "e8e786be",
   "metadata": {},
   "outputs": [
    {
     "data": {
      "text/html": [
       "<div>\n",
       "<style scoped>\n",
       "    .dataframe tbody tr th:only-of-type {\n",
       "        vertical-align: middle;\n",
       "    }\n",
       "\n",
       "    .dataframe tbody tr th {\n",
       "        vertical-align: top;\n",
       "    }\n",
       "\n",
       "    .dataframe thead th {\n",
       "        text-align: right;\n",
       "    }\n",
       "</style>\n",
       "<table border=\"1\" class=\"dataframe\">\n",
       "  <thead>\n",
       "    <tr style=\"text-align: right;\">\n",
       "      <th></th>\n",
       "      <th>age</th>\n",
       "      <th>contract_until</th>\n",
       "      <th>reputation</th>\n",
       "      <th>stat_overall</th>\n",
       "      <th>stat_potential</th>\n",
       "      <th>stat_skill_moves</th>\n",
       "      <th>DF</th>\n",
       "      <th>GK</th>\n",
       "      <th>MF</th>\n",
       "      <th>ST</th>\n",
       "      <th>left</th>\n",
       "      <th>right</th>\n",
       "    </tr>\n",
       "  </thead>\n",
       "  <tbody>\n",
       "    <tr>\n",
       "      <th>0</th>\n",
       "      <td>31</td>\n",
       "      <td>2021</td>\n",
       "      <td>5.0</td>\n",
       "      <td>94</td>\n",
       "      <td>94</td>\n",
       "      <td>4.0</td>\n",
       "      <td>0</td>\n",
       "      <td>0</td>\n",
       "      <td>0</td>\n",
       "      <td>1</td>\n",
       "      <td>1</td>\n",
       "      <td>0</td>\n",
       "    </tr>\n",
       "    <tr>\n",
       "      <th>1</th>\n",
       "      <td>27</td>\n",
       "      <td>2020</td>\n",
       "      <td>4.0</td>\n",
       "      <td>91</td>\n",
       "      <td>93</td>\n",
       "      <td>1.0</td>\n",
       "      <td>0</td>\n",
       "      <td>1</td>\n",
       "      <td>0</td>\n",
       "      <td>0</td>\n",
       "      <td>0</td>\n",
       "      <td>1</td>\n",
       "    </tr>\n",
       "    <tr>\n",
       "      <th>2</th>\n",
       "      <td>31</td>\n",
       "      <td>2021</td>\n",
       "      <td>5.0</td>\n",
       "      <td>91</td>\n",
       "      <td>91</td>\n",
       "      <td>3.0</td>\n",
       "      <td>0</td>\n",
       "      <td>0</td>\n",
       "      <td>0</td>\n",
       "      <td>1</td>\n",
       "      <td>0</td>\n",
       "      <td>1</td>\n",
       "    </tr>\n",
       "    <tr>\n",
       "      <th>3</th>\n",
       "      <td>32</td>\n",
       "      <td>2020</td>\n",
       "      <td>4.0</td>\n",
       "      <td>91</td>\n",
       "      <td>91</td>\n",
       "      <td>3.0</td>\n",
       "      <td>1</td>\n",
       "      <td>0</td>\n",
       "      <td>0</td>\n",
       "      <td>0</td>\n",
       "      <td>0</td>\n",
       "      <td>1</td>\n",
       "    </tr>\n",
       "    <tr>\n",
       "      <th>4</th>\n",
       "      <td>25</td>\n",
       "      <td>2021</td>\n",
       "      <td>3.0</td>\n",
       "      <td>90</td>\n",
       "      <td>93</td>\n",
       "      <td>1.0</td>\n",
       "      <td>0</td>\n",
       "      <td>1</td>\n",
       "      <td>0</td>\n",
       "      <td>0</td>\n",
       "      <td>0</td>\n",
       "      <td>1</td>\n",
       "    </tr>\n",
       "    <tr>\n",
       "      <th>...</th>\n",
       "      <td>...</td>\n",
       "      <td>...</td>\n",
       "      <td>...</td>\n",
       "      <td>...</td>\n",
       "      <td>...</td>\n",
       "      <td>...</td>\n",
       "      <td>...</td>\n",
       "      <td>...</td>\n",
       "      <td>...</td>\n",
       "      <td>...</td>\n",
       "      <td>...</td>\n",
       "      <td>...</td>\n",
       "    </tr>\n",
       "    <tr>\n",
       "      <th>8927</th>\n",
       "      <td>18</td>\n",
       "      <td>2019</td>\n",
       "      <td>1.0</td>\n",
       "      <td>48</td>\n",
       "      <td>63</td>\n",
       "      <td>3.0</td>\n",
       "      <td>0</td>\n",
       "      <td>0</td>\n",
       "      <td>1</td>\n",
       "      <td>0</td>\n",
       "      <td>0</td>\n",
       "      <td>1</td>\n",
       "    </tr>\n",
       "    <tr>\n",
       "      <th>8928</th>\n",
       "      <td>19</td>\n",
       "      <td>2020</td>\n",
       "      <td>1.0</td>\n",
       "      <td>47</td>\n",
       "      <td>59</td>\n",
       "      <td>2.0</td>\n",
       "      <td>1</td>\n",
       "      <td>0</td>\n",
       "      <td>0</td>\n",
       "      <td>0</td>\n",
       "      <td>0</td>\n",
       "      <td>1</td>\n",
       "    </tr>\n",
       "    <tr>\n",
       "      <th>8929</th>\n",
       "      <td>18</td>\n",
       "      <td>2021</td>\n",
       "      <td>1.0</td>\n",
       "      <td>47</td>\n",
       "      <td>64</td>\n",
       "      <td>2.0</td>\n",
       "      <td>1</td>\n",
       "      <td>0</td>\n",
       "      <td>0</td>\n",
       "      <td>0</td>\n",
       "      <td>0</td>\n",
       "      <td>1</td>\n",
       "    </tr>\n",
       "    <tr>\n",
       "      <th>8930</th>\n",
       "      <td>18</td>\n",
       "      <td>2021</td>\n",
       "      <td>1.0</td>\n",
       "      <td>47</td>\n",
       "      <td>65</td>\n",
       "      <td>1.0</td>\n",
       "      <td>0</td>\n",
       "      <td>1</td>\n",
       "      <td>0</td>\n",
       "      <td>0</td>\n",
       "      <td>0</td>\n",
       "      <td>1</td>\n",
       "    </tr>\n",
       "    <tr>\n",
       "      <th>8931</th>\n",
       "      <td>19</td>\n",
       "      <td>2020</td>\n",
       "      <td>1.0</td>\n",
       "      <td>47</td>\n",
       "      <td>63</td>\n",
       "      <td>2.0</td>\n",
       "      <td>0</td>\n",
       "      <td>0</td>\n",
       "      <td>0</td>\n",
       "      <td>1</td>\n",
       "      <td>0</td>\n",
       "      <td>1</td>\n",
       "    </tr>\n",
       "  </tbody>\n",
       "</table>\n",
       "<p>8932 rows × 12 columns</p>\n",
       "</div>"
      ],
      "text/plain": [
       "      age  contract_until  reputation  stat_overall  stat_potential  \\\n",
       "0      31            2021         5.0            94              94   \n",
       "1      27            2020         4.0            91              93   \n",
       "2      31            2021         5.0            91              91   \n",
       "3      32            2020         4.0            91              91   \n",
       "4      25            2021         3.0            90              93   \n",
       "...   ...             ...         ...           ...             ...   \n",
       "8927   18            2019         1.0            48              63   \n",
       "8928   19            2020         1.0            47              59   \n",
       "8929   18            2021         1.0            47              64   \n",
       "8930   18            2021         1.0            47              65   \n",
       "8931   19            2020         1.0            47              63   \n",
       "\n",
       "      stat_skill_moves  DF  GK  MF  ST  left  right  \n",
       "0                  4.0   0   0   0   1     1      0  \n",
       "1                  1.0   0   1   0   0     0      1  \n",
       "2                  3.0   0   0   0   1     0      1  \n",
       "3                  3.0   1   0   0   0     0      1  \n",
       "4                  1.0   0   1   0   0     0      1  \n",
       "...                ...  ..  ..  ..  ..   ...    ...  \n",
       "8927               3.0   0   0   1   0     0      1  \n",
       "8928               2.0   1   0   0   0     0      1  \n",
       "8929               2.0   1   0   0   0     0      1  \n",
       "8930               1.0   0   1   0   0     0      1  \n",
       "8931               2.0   0   0   0   1     0      1  \n",
       "\n",
       "[8932 rows x 12 columns]"
      ]
     },
     "execution_count": 424,
     "metadata": {},
     "output_type": "execute_result"
    }
   ],
   "source": [
    "#대륙 제거한 train값 \n",
    "tss"
   ]
  },
  {
   "cell_type": "code",
   "execution_count": 425,
   "id": "175a54df",
   "metadata": {},
   "outputs": [
    {
     "data": {
      "text/html": [
       "<style>#sk-container-id-9 {color: black;background-color: white;}#sk-container-id-9 pre{padding: 0;}#sk-container-id-9 div.sk-toggleable {background-color: white;}#sk-container-id-9 label.sk-toggleable__label {cursor: pointer;display: block;width: 100%;margin-bottom: 0;padding: 0.3em;box-sizing: border-box;text-align: center;}#sk-container-id-9 label.sk-toggleable__label-arrow:before {content: \"▸\";float: left;margin-right: 0.25em;color: #696969;}#sk-container-id-9 label.sk-toggleable__label-arrow:hover:before {color: black;}#sk-container-id-9 div.sk-estimator:hover label.sk-toggleable__label-arrow:before {color: black;}#sk-container-id-9 div.sk-toggleable__content {max-height: 0;max-width: 0;overflow: hidden;text-align: left;background-color: #f0f8ff;}#sk-container-id-9 div.sk-toggleable__content pre {margin: 0.2em;color: black;border-radius: 0.25em;background-color: #f0f8ff;}#sk-container-id-9 input.sk-toggleable__control:checked~div.sk-toggleable__content {max-height: 200px;max-width: 100%;overflow: auto;}#sk-container-id-9 input.sk-toggleable__control:checked~label.sk-toggleable__label-arrow:before {content: \"▾\";}#sk-container-id-9 div.sk-estimator input.sk-toggleable__control:checked~label.sk-toggleable__label {background-color: #d4ebff;}#sk-container-id-9 div.sk-label input.sk-toggleable__control:checked~label.sk-toggleable__label {background-color: #d4ebff;}#sk-container-id-9 input.sk-hidden--visually {border: 0;clip: rect(1px 1px 1px 1px);clip: rect(1px, 1px, 1px, 1px);height: 1px;margin: -1px;overflow: hidden;padding: 0;position: absolute;width: 1px;}#sk-container-id-9 div.sk-estimator {font-family: monospace;background-color: #f0f8ff;border: 1px dotted black;border-radius: 0.25em;box-sizing: border-box;margin-bottom: 0.5em;}#sk-container-id-9 div.sk-estimator:hover {background-color: #d4ebff;}#sk-container-id-9 div.sk-parallel-item::after {content: \"\";width: 100%;border-bottom: 1px solid gray;flex-grow: 1;}#sk-container-id-9 div.sk-label:hover label.sk-toggleable__label {background-color: #d4ebff;}#sk-container-id-9 div.sk-serial::before {content: \"\";position: absolute;border-left: 1px solid gray;box-sizing: border-box;top: 0;bottom: 0;left: 50%;z-index: 0;}#sk-container-id-9 div.sk-serial {display: flex;flex-direction: column;align-items: center;background-color: white;padding-right: 0.2em;padding-left: 0.2em;position: relative;}#sk-container-id-9 div.sk-item {position: relative;z-index: 1;}#sk-container-id-9 div.sk-parallel {display: flex;align-items: stretch;justify-content: center;background-color: white;position: relative;}#sk-container-id-9 div.sk-item::before, #sk-container-id-9 div.sk-parallel-item::before {content: \"\";position: absolute;border-left: 1px solid gray;box-sizing: border-box;top: 0;bottom: 0;left: 50%;z-index: -1;}#sk-container-id-9 div.sk-parallel-item {display: flex;flex-direction: column;z-index: 1;position: relative;background-color: white;}#sk-container-id-9 div.sk-parallel-item:first-child::after {align-self: flex-end;width: 50%;}#sk-container-id-9 div.sk-parallel-item:last-child::after {align-self: flex-start;width: 50%;}#sk-container-id-9 div.sk-parallel-item:only-child::after {width: 0;}#sk-container-id-9 div.sk-dashed-wrapped {border: 1px dashed gray;margin: 0 0.4em 0.5em 0.4em;box-sizing: border-box;padding-bottom: 0.4em;background-color: white;}#sk-container-id-9 div.sk-label label {font-family: monospace;font-weight: bold;display: inline-block;line-height: 1.2em;}#sk-container-id-9 div.sk-label-container {text-align: center;}#sk-container-id-9 div.sk-container {/* jupyter's `normalize.less` sets `[hidden] { display: none; }` but bootstrap.min.css set `[hidden] { display: none !important; }` so we also need the `!important` here to be able to override the default hidden behavior on the sphinx rendered scikit-learn.org. See: https://github.com/scikit-learn/scikit-learn/issues/21755 */display: inline-block !important;position: relative;}#sk-container-id-9 div.sk-text-repr-fallback {display: none;}</style><div id=\"sk-container-id-9\" class=\"sk-top-container\"><div class=\"sk-text-repr-fallback\"><pre>LinearRegression()</pre><b>In a Jupyter environment, please rerun this cell to show the HTML representation or trust the notebook. <br />On GitHub, the HTML representation is unable to render, please try loading this page with nbviewer.org.</b></div><div class=\"sk-container\" hidden><div class=\"sk-item\"><div class=\"sk-estimator sk-toggleable\"><input class=\"sk-toggleable__control sk-hidden--visually\" id=\"sk-estimator-id-9\" type=\"checkbox\" checked><label for=\"sk-estimator-id-9\" class=\"sk-toggleable__label sk-toggleable__label-arrow\">LinearRegression</label><div class=\"sk-toggleable__content\"><pre>LinearRegression()</pre></div></div></div></div></div>"
      ],
      "text/plain": [
       "LinearRegression()"
      ]
     },
     "execution_count": 425,
     "metadata": {},
     "output_type": "execute_result"
    }
   ],
   "source": [
    "x_train,x_test,y_train,y_test = train_test_split(tss, lables,\n",
    "                                                 test_size=0.3,\n",
    "                                                 random_state= 111)\n",
    "\n",
    "model = LinearRegression()\n",
    "model.fit(x_test,y_test)"
   ]
  },
  {
   "cell_type": "code",
   "execution_count": 426,
   "id": "8d5d4478",
   "metadata": {},
   "outputs": [
    {
     "data": {
      "text/plain": [
       "(array([-393739.11873111,  351376.7040645 , 6454357.60725952,\n",
       "         497223.95940886,  -49922.38799482,  135650.55892296,\n",
       "        -422236.51280548,  592597.83964969,  -57687.10665778,\n",
       "        -112674.22018643,  -18857.97593399,   18857.97593399]),\n",
       " -734436262.2502766)"
      ]
     },
     "execution_count": 426,
     "metadata": {},
     "output_type": "execute_result"
    }
   ],
   "source": [
    "model.fit(x_train, y_train) \n",
    "model.coef_, model.intercept_"
   ]
  },
  {
   "cell_type": "code",
   "execution_count": 427,
   "id": "18b13f8f",
   "metadata": {},
   "outputs": [
    {
     "data": {
      "text/plain": [
       "0.6205464373371865"
      ]
     },
     "execution_count": 427,
     "metadata": {},
     "output_type": "execute_result"
    }
   ],
   "source": [
    "model.score(x_test, y_test)"
   ]
  },
  {
   "cell_type": "code",
   "execution_count": 452,
   "id": "3d2bcabe",
   "metadata": {
    "scrolled": true
   },
   "outputs": [
    {
     "data": {
      "text/plain": [
       "987      5500000.0\n",
       "1065     8500000.0\n",
       "3846      270000.0\n",
       "6703      550000.0\n",
       "8438      180000.0\n",
       "           ...    \n",
       "191     12500000.0\n",
       "4955      525000.0\n",
       "641     12500000.0\n",
       "5583      575000.0\n",
       "7692      375000.0\n",
       "Name: value, Length: 2680, dtype: float64"
      ]
     },
     "execution_count": 452,
     "metadata": {},
     "output_type": "execute_result"
    }
   ],
   "source": [
    "y_test"
   ]
  },
  {
   "cell_type": "code",
   "execution_count": null,
   "id": "af2bb4d5",
   "metadata": {},
   "outputs": [],
   "source": []
  },
  {
   "cell_type": "markdown",
   "id": "1578d794",
   "metadata": {},
   "source": [
    "### OLS"
   ]
  },
  {
   "cell_type": "code",
   "execution_count": 454,
   "id": "f0b19b48",
   "metadata": {
    "scrolled": false
   },
   "outputs": [
    {
     "name": "stdout",
     "output_type": "stream",
     "text": [
      "                            OLS Regression Results                            \n",
      "==============================================================================\n",
      "Dep. Variable:                  value   R-squared:                       0.624\n",
      "Model:                            OLS   Adj. R-squared:                  0.623\n",
      "Method:                 Least Squares   F-statistic:                     443.2\n",
      "Date:                Thu, 07 Jul 2022   Prob (F-statistic):               0.00\n",
      "Time:                        15:58:35   Log-Likelihood:                -44157.\n",
      "No. Observations:                2680   AIC:                         8.834e+04\n",
      "Df Residuals:                    2669   BIC:                         8.840e+04\n",
      "Df Model:                          10                                         \n",
      "Covariance Type:            nonrobust                                         \n",
      "====================================================================================\n",
      "                       coef    std err          t      P>|t|      [0.025      0.975]\n",
      "------------------------------------------------------------------------------------\n",
      "const            -4.311e+08   6.42e+07     -6.715      0.000   -5.57e+08   -3.05e+08\n",
      "age              -4.118e+05   2.95e+04    -13.950      0.000    -4.7e+05   -3.54e+05\n",
      "contract_until     3.62e+05   5.57e+04      6.503      0.000    2.53e+05    4.71e+05\n",
      "reputation          5.8e+06   1.92e+05     30.247      0.000    5.42e+06    6.18e+06\n",
      "stat_overall      5.407e+05   2.67e+04     20.222      0.000    4.88e+05    5.93e+05\n",
      "stat_potential   -9.119e+04   2.65e+04     -3.447      0.001   -1.43e+05   -3.93e+04\n",
      "stat_skill_moves -3537.2756   1.42e+05     -0.025      0.980   -2.83e+05    2.76e+05\n",
      "DF               -1.082e+08   1.61e+07     -6.742      0.000    -1.4e+08   -7.67e+07\n",
      "GK               -1.075e+08   1.61e+07     -6.695      0.000   -1.39e+08    -7.6e+07\n",
      "MF               -1.078e+08    1.6e+07     -6.720      0.000   -1.39e+08   -7.64e+07\n",
      "ST               -1.075e+08    1.6e+07     -6.702      0.000   -1.39e+08   -7.61e+07\n",
      "left             -2.156e+08   3.21e+07     -6.719      0.000   -2.79e+08   -1.53e+08\n",
      "right            -2.154e+08   3.21e+07     -6.712      0.000   -2.78e+08   -1.52e+08\n",
      "==============================================================================\n",
      "Omnibus:                     2797.303   Durbin-Watson:                   2.011\n",
      "Prob(Omnibus):                  0.000   Jarque-Bera (JB):           344306.237\n",
      "Skew:                           4.886   Prob(JB):                         0.00\n",
      "Kurtosis:                      57.661   Cond. No.                     1.70e+19\n",
      "==============================================================================\n",
      "\n",
      "Notes:\n",
      "[1] Standard Errors assume that the covariance matrix of the errors is correctly specified.\n",
      "[2] The smallest eigenvalue is 3.81e-29. This might indicate that there are\n",
      "strong multicollinearity problems or that the design matrix is singular.\n"
     ]
    }
   ],
   "source": [
    "import statsmodels.api as sm\n",
    "x2= sm.add_constant(x_test)\n",
    "\n",
    "model_sm1 = sm.OLS(y_test, x2)\n",
    "result1= model_sm1.fit()\n",
    "print(result1.summary())"
   ]
  },
  {
   "cell_type": "markdown",
   "id": "a1b34ee5",
   "metadata": {},
   "source": [
    "### stat_skill_moves  제거버전"
   ]
  },
  {
   "cell_type": "code",
   "execution_count": 457,
   "id": "ae057fc1",
   "metadata": {},
   "outputs": [],
   "source": [
    "train.drop(['stat_skill_moves'], axis=1, inplace=True)"
   ]
  },
  {
   "cell_type": "code",
   "execution_count": 458,
   "id": "2bceec68",
   "metadata": {
    "scrolled": false
   },
   "outputs": [
    {
     "data": {
      "text/html": [
       "<div>\n",
       "<style scoped>\n",
       "    .dataframe tbody tr th:only-of-type {\n",
       "        vertical-align: middle;\n",
       "    }\n",
       "\n",
       "    .dataframe tbody tr th {\n",
       "        vertical-align: top;\n",
       "    }\n",
       "\n",
       "    .dataframe thead th {\n",
       "        text-align: right;\n",
       "    }\n",
       "</style>\n",
       "<table border=\"1\" class=\"dataframe\">\n",
       "  <thead>\n",
       "    <tr style=\"text-align: right;\">\n",
       "      <th></th>\n",
       "      <th>age</th>\n",
       "      <th>contract_until</th>\n",
       "      <th>reputation</th>\n",
       "      <th>stat_overall</th>\n",
       "      <th>stat_potential</th>\n",
       "      <th>africa</th>\n",
       "      <th>asia</th>\n",
       "      <th>europe</th>\n",
       "      <th>oceania</th>\n",
       "      <th>south america</th>\n",
       "      <th>DF</th>\n",
       "      <th>GK</th>\n",
       "      <th>MF</th>\n",
       "      <th>ST</th>\n",
       "      <th>left</th>\n",
       "      <th>right</th>\n",
       "    </tr>\n",
       "  </thead>\n",
       "  <tbody>\n",
       "    <tr>\n",
       "      <th>0</th>\n",
       "      <td>31</td>\n",
       "      <td>2021</td>\n",
       "      <td>5.0</td>\n",
       "      <td>94</td>\n",
       "      <td>94</td>\n",
       "      <td>0</td>\n",
       "      <td>0</td>\n",
       "      <td>0</td>\n",
       "      <td>0</td>\n",
       "      <td>1</td>\n",
       "      <td>0</td>\n",
       "      <td>0</td>\n",
       "      <td>0</td>\n",
       "      <td>1</td>\n",
       "      <td>1</td>\n",
       "      <td>0</td>\n",
       "    </tr>\n",
       "    <tr>\n",
       "      <th>1</th>\n",
       "      <td>27</td>\n",
       "      <td>2020</td>\n",
       "      <td>4.0</td>\n",
       "      <td>91</td>\n",
       "      <td>93</td>\n",
       "      <td>0</td>\n",
       "      <td>0</td>\n",
       "      <td>1</td>\n",
       "      <td>0</td>\n",
       "      <td>0</td>\n",
       "      <td>0</td>\n",
       "      <td>1</td>\n",
       "      <td>0</td>\n",
       "      <td>0</td>\n",
       "      <td>0</td>\n",
       "      <td>1</td>\n",
       "    </tr>\n",
       "    <tr>\n",
       "      <th>2</th>\n",
       "      <td>31</td>\n",
       "      <td>2021</td>\n",
       "      <td>5.0</td>\n",
       "      <td>91</td>\n",
       "      <td>91</td>\n",
       "      <td>0</td>\n",
       "      <td>0</td>\n",
       "      <td>0</td>\n",
       "      <td>0</td>\n",
       "      <td>1</td>\n",
       "      <td>0</td>\n",
       "      <td>0</td>\n",
       "      <td>0</td>\n",
       "      <td>1</td>\n",
       "      <td>0</td>\n",
       "      <td>1</td>\n",
       "    </tr>\n",
       "    <tr>\n",
       "      <th>3</th>\n",
       "      <td>32</td>\n",
       "      <td>2020</td>\n",
       "      <td>4.0</td>\n",
       "      <td>91</td>\n",
       "      <td>91</td>\n",
       "      <td>0</td>\n",
       "      <td>0</td>\n",
       "      <td>1</td>\n",
       "      <td>0</td>\n",
       "      <td>0</td>\n",
       "      <td>1</td>\n",
       "      <td>0</td>\n",
       "      <td>0</td>\n",
       "      <td>0</td>\n",
       "      <td>0</td>\n",
       "      <td>1</td>\n",
       "    </tr>\n",
       "    <tr>\n",
       "      <th>4</th>\n",
       "      <td>25</td>\n",
       "      <td>2021</td>\n",
       "      <td>3.0</td>\n",
       "      <td>90</td>\n",
       "      <td>93</td>\n",
       "      <td>0</td>\n",
       "      <td>0</td>\n",
       "      <td>1</td>\n",
       "      <td>0</td>\n",
       "      <td>0</td>\n",
       "      <td>0</td>\n",
       "      <td>1</td>\n",
       "      <td>0</td>\n",
       "      <td>0</td>\n",
       "      <td>0</td>\n",
       "      <td>1</td>\n",
       "    </tr>\n",
       "    <tr>\n",
       "      <th>...</th>\n",
       "      <td>...</td>\n",
       "      <td>...</td>\n",
       "      <td>...</td>\n",
       "      <td>...</td>\n",
       "      <td>...</td>\n",
       "      <td>...</td>\n",
       "      <td>...</td>\n",
       "      <td>...</td>\n",
       "      <td>...</td>\n",
       "      <td>...</td>\n",
       "      <td>...</td>\n",
       "      <td>...</td>\n",
       "      <td>...</td>\n",
       "      <td>...</td>\n",
       "      <td>...</td>\n",
       "      <td>...</td>\n",
       "    </tr>\n",
       "    <tr>\n",
       "      <th>8927</th>\n",
       "      <td>18</td>\n",
       "      <td>2019</td>\n",
       "      <td>1.0</td>\n",
       "      <td>48</td>\n",
       "      <td>63</td>\n",
       "      <td>1</td>\n",
       "      <td>0</td>\n",
       "      <td>0</td>\n",
       "      <td>0</td>\n",
       "      <td>0</td>\n",
       "      <td>0</td>\n",
       "      <td>0</td>\n",
       "      <td>1</td>\n",
       "      <td>0</td>\n",
       "      <td>0</td>\n",
       "      <td>1</td>\n",
       "    </tr>\n",
       "    <tr>\n",
       "      <th>8928</th>\n",
       "      <td>19</td>\n",
       "      <td>2020</td>\n",
       "      <td>1.0</td>\n",
       "      <td>47</td>\n",
       "      <td>59</td>\n",
       "      <td>0</td>\n",
       "      <td>0</td>\n",
       "      <td>1</td>\n",
       "      <td>0</td>\n",
       "      <td>0</td>\n",
       "      <td>1</td>\n",
       "      <td>0</td>\n",
       "      <td>0</td>\n",
       "      <td>0</td>\n",
       "      <td>0</td>\n",
       "      <td>1</td>\n",
       "    </tr>\n",
       "    <tr>\n",
       "      <th>8929</th>\n",
       "      <td>18</td>\n",
       "      <td>2021</td>\n",
       "      <td>1.0</td>\n",
       "      <td>47</td>\n",
       "      <td>64</td>\n",
       "      <td>0</td>\n",
       "      <td>0</td>\n",
       "      <td>0</td>\n",
       "      <td>0</td>\n",
       "      <td>1</td>\n",
       "      <td>1</td>\n",
       "      <td>0</td>\n",
       "      <td>0</td>\n",
       "      <td>0</td>\n",
       "      <td>0</td>\n",
       "      <td>1</td>\n",
       "    </tr>\n",
       "    <tr>\n",
       "      <th>8930</th>\n",
       "      <td>18</td>\n",
       "      <td>2021</td>\n",
       "      <td>1.0</td>\n",
       "      <td>47</td>\n",
       "      <td>65</td>\n",
       "      <td>0</td>\n",
       "      <td>0</td>\n",
       "      <td>1</td>\n",
       "      <td>0</td>\n",
       "      <td>0</td>\n",
       "      <td>0</td>\n",
       "      <td>1</td>\n",
       "      <td>0</td>\n",
       "      <td>0</td>\n",
       "      <td>0</td>\n",
       "      <td>1</td>\n",
       "    </tr>\n",
       "    <tr>\n",
       "      <th>8931</th>\n",
       "      <td>19</td>\n",
       "      <td>2020</td>\n",
       "      <td>1.0</td>\n",
       "      <td>47</td>\n",
       "      <td>63</td>\n",
       "      <td>0</td>\n",
       "      <td>0</td>\n",
       "      <td>1</td>\n",
       "      <td>0</td>\n",
       "      <td>0</td>\n",
       "      <td>0</td>\n",
       "      <td>0</td>\n",
       "      <td>0</td>\n",
       "      <td>1</td>\n",
       "      <td>0</td>\n",
       "      <td>1</td>\n",
       "    </tr>\n",
       "  </tbody>\n",
       "</table>\n",
       "<p>8932 rows × 16 columns</p>\n",
       "</div>"
      ],
      "text/plain": [
       "      age  contract_until  reputation  stat_overall  stat_potential  africa  \\\n",
       "0      31            2021         5.0            94              94       0   \n",
       "1      27            2020         4.0            91              93       0   \n",
       "2      31            2021         5.0            91              91       0   \n",
       "3      32            2020         4.0            91              91       0   \n",
       "4      25            2021         3.0            90              93       0   \n",
       "...   ...             ...         ...           ...             ...     ...   \n",
       "8927   18            2019         1.0            48              63       1   \n",
       "8928   19            2020         1.0            47              59       0   \n",
       "8929   18            2021         1.0            47              64       0   \n",
       "8930   18            2021         1.0            47              65       0   \n",
       "8931   19            2020         1.0            47              63       0   \n",
       "\n",
       "      asia  europe  oceania  south america  DF  GK  MF  ST  left  right  \n",
       "0        0       0        0              1   0   0   0   1     1      0  \n",
       "1        0       1        0              0   0   1   0   0     0      1  \n",
       "2        0       0        0              1   0   0   0   1     0      1  \n",
       "3        0       1        0              0   1   0   0   0     0      1  \n",
       "4        0       1        0              0   0   1   0   0     0      1  \n",
       "...    ...     ...      ...            ...  ..  ..  ..  ..   ...    ...  \n",
       "8927     0       0        0              0   0   0   1   0     0      1  \n",
       "8928     0       1        0              0   1   0   0   0     0      1  \n",
       "8929     0       0        0              1   1   0   0   0     0      1  \n",
       "8930     0       1        0              0   0   1   0   0     0      1  \n",
       "8931     0       1        0              0   0   0   0   1     0      1  \n",
       "\n",
       "[8932 rows x 16 columns]"
      ]
     },
     "execution_count": 458,
     "metadata": {},
     "output_type": "execute_result"
    }
   ],
   "source": [
    "train"
   ]
  },
  {
   "cell_type": "code",
   "execution_count": 463,
   "id": "f437fd77",
   "metadata": {},
   "outputs": [
    {
     "data": {
      "text/html": [
       "<style>#sk-container-id-11 {color: black;background-color: white;}#sk-container-id-11 pre{padding: 0;}#sk-container-id-11 div.sk-toggleable {background-color: white;}#sk-container-id-11 label.sk-toggleable__label {cursor: pointer;display: block;width: 100%;margin-bottom: 0;padding: 0.3em;box-sizing: border-box;text-align: center;}#sk-container-id-11 label.sk-toggleable__label-arrow:before {content: \"▸\";float: left;margin-right: 0.25em;color: #696969;}#sk-container-id-11 label.sk-toggleable__label-arrow:hover:before {color: black;}#sk-container-id-11 div.sk-estimator:hover label.sk-toggleable__label-arrow:before {color: black;}#sk-container-id-11 div.sk-toggleable__content {max-height: 0;max-width: 0;overflow: hidden;text-align: left;background-color: #f0f8ff;}#sk-container-id-11 div.sk-toggleable__content pre {margin: 0.2em;color: black;border-radius: 0.25em;background-color: #f0f8ff;}#sk-container-id-11 input.sk-toggleable__control:checked~div.sk-toggleable__content {max-height: 200px;max-width: 100%;overflow: auto;}#sk-container-id-11 input.sk-toggleable__control:checked~label.sk-toggleable__label-arrow:before {content: \"▾\";}#sk-container-id-11 div.sk-estimator input.sk-toggleable__control:checked~label.sk-toggleable__label {background-color: #d4ebff;}#sk-container-id-11 div.sk-label input.sk-toggleable__control:checked~label.sk-toggleable__label {background-color: #d4ebff;}#sk-container-id-11 input.sk-hidden--visually {border: 0;clip: rect(1px 1px 1px 1px);clip: rect(1px, 1px, 1px, 1px);height: 1px;margin: -1px;overflow: hidden;padding: 0;position: absolute;width: 1px;}#sk-container-id-11 div.sk-estimator {font-family: monospace;background-color: #f0f8ff;border: 1px dotted black;border-radius: 0.25em;box-sizing: border-box;margin-bottom: 0.5em;}#sk-container-id-11 div.sk-estimator:hover {background-color: #d4ebff;}#sk-container-id-11 div.sk-parallel-item::after {content: \"\";width: 100%;border-bottom: 1px solid gray;flex-grow: 1;}#sk-container-id-11 div.sk-label:hover label.sk-toggleable__label {background-color: #d4ebff;}#sk-container-id-11 div.sk-serial::before {content: \"\";position: absolute;border-left: 1px solid gray;box-sizing: border-box;top: 0;bottom: 0;left: 50%;z-index: 0;}#sk-container-id-11 div.sk-serial {display: flex;flex-direction: column;align-items: center;background-color: white;padding-right: 0.2em;padding-left: 0.2em;position: relative;}#sk-container-id-11 div.sk-item {position: relative;z-index: 1;}#sk-container-id-11 div.sk-parallel {display: flex;align-items: stretch;justify-content: center;background-color: white;position: relative;}#sk-container-id-11 div.sk-item::before, #sk-container-id-11 div.sk-parallel-item::before {content: \"\";position: absolute;border-left: 1px solid gray;box-sizing: border-box;top: 0;bottom: 0;left: 50%;z-index: -1;}#sk-container-id-11 div.sk-parallel-item {display: flex;flex-direction: column;z-index: 1;position: relative;background-color: white;}#sk-container-id-11 div.sk-parallel-item:first-child::after {align-self: flex-end;width: 50%;}#sk-container-id-11 div.sk-parallel-item:last-child::after {align-self: flex-start;width: 50%;}#sk-container-id-11 div.sk-parallel-item:only-child::after {width: 0;}#sk-container-id-11 div.sk-dashed-wrapped {border: 1px dashed gray;margin: 0 0.4em 0.5em 0.4em;box-sizing: border-box;padding-bottom: 0.4em;background-color: white;}#sk-container-id-11 div.sk-label label {font-family: monospace;font-weight: bold;display: inline-block;line-height: 1.2em;}#sk-container-id-11 div.sk-label-container {text-align: center;}#sk-container-id-11 div.sk-container {/* jupyter's `normalize.less` sets `[hidden] { display: none; }` but bootstrap.min.css set `[hidden] { display: none !important; }` so we also need the `!important` here to be able to override the default hidden behavior on the sphinx rendered scikit-learn.org. See: https://github.com/scikit-learn/scikit-learn/issues/21755 */display: inline-block !important;position: relative;}#sk-container-id-11 div.sk-text-repr-fallback {display: none;}</style><div id=\"sk-container-id-11\" class=\"sk-top-container\"><div class=\"sk-text-repr-fallback\"><pre>LinearRegression()</pre><b>In a Jupyter environment, please rerun this cell to show the HTML representation or trust the notebook. <br />On GitHub, the HTML representation is unable to render, please try loading this page with nbviewer.org.</b></div><div class=\"sk-container\" hidden><div class=\"sk-item\"><div class=\"sk-estimator sk-toggleable\"><input class=\"sk-toggleable__control sk-hidden--visually\" id=\"sk-estimator-id-11\" type=\"checkbox\" checked><label for=\"sk-estimator-id-11\" class=\"sk-toggleable__label sk-toggleable__label-arrow\">LinearRegression</label><div class=\"sk-toggleable__content\"><pre>LinearRegression()</pre></div></div></div></div></div>"
      ],
      "text/plain": [
       "LinearRegression()"
      ]
     },
     "execution_count": 463,
     "metadata": {},
     "output_type": "execute_result"
    }
   ],
   "source": [
    "x_train,x_test,y_train,y_test = train_test_split(train, lables,\n",
    "                                                 test_size=0.3,\n",
    "                                                 random_state= 111)\n",
    "\n",
    "model = LinearRegression()\n",
    "model.fit(x_test,y_test)"
   ]
  },
  {
   "cell_type": "code",
   "execution_count": 464,
   "id": "60cd4e3f",
   "metadata": {},
   "outputs": [
    {
     "data": {
      "text/plain": [
       "(array([-399602.53428202,  338213.74910884, 6449754.37300889,\n",
       "         506877.17801725,  -49051.58425121, -282460.94768884,\n",
       "         239716.15904808, -154630.5609598 ,  236413.04003482,\n",
       "         -39037.69043426, -422713.88011388,  445650.52992569,\n",
       "           9193.5663064 ,  -32130.21611822,  -13318.65898206,\n",
       "          13318.65898205]),\n",
       " -707999245.1019058)"
      ]
     },
     "execution_count": 464,
     "metadata": {},
     "output_type": "execute_result"
    }
   ],
   "source": [
    "model.fit(x_train, y_train) \n",
    "model.coef_, model.intercept_"
   ]
  },
  {
   "cell_type": "code",
   "execution_count": 465,
   "id": "abe1a1cd",
   "metadata": {},
   "outputs": [
    {
     "data": {
      "text/plain": [
       "0.6218116628896939"
      ]
     },
     "execution_count": 465,
     "metadata": {},
     "output_type": "execute_result"
    }
   ],
   "source": [
    "model.score(x_test, y_test)"
   ]
  },
  {
   "cell_type": "code",
   "execution_count": 466,
   "id": "2c55d5af",
   "metadata": {},
   "outputs": [
    {
     "name": "stdout",
     "output_type": "stream",
     "text": [
      "                            OLS Regression Results                            \n",
      "==============================================================================\n",
      "Dep. Variable:                  value   R-squared:                       0.626\n",
      "Model:                            OLS   Adj. R-squared:                  0.624\n",
      "Method:                 Least Squares   F-statistic:                     342.7\n",
      "Date:                Thu, 07 Jul 2022   Prob (F-statistic):               0.00\n",
      "Time:                        16:03:27   Log-Likelihood:                -44152.\n",
      "No. Observations:                2680   AIC:                         8.833e+04\n",
      "Df Residuals:                    2666   BIC:                         8.841e+04\n",
      "Df Model:                          13                                         \n",
      "Covariance Type:            nonrobust                                         \n",
      "==================================================================================\n",
      "                     coef    std err          t      P>|t|      [0.025      0.975]\n",
      "----------------------------------------------------------------------------------\n",
      "const           -3.74e+08   5.81e+07     -6.433      0.000   -4.88e+08    -2.6e+08\n",
      "age            -4.183e+05   2.96e+04    -14.113      0.000   -4.76e+05    -3.6e+05\n",
      "contract_until  3.494e+05   5.62e+04      6.219      0.000    2.39e+05     4.6e+05\n",
      "reputation      5.774e+06   1.92e+05     30.058      0.000     5.4e+06    6.15e+06\n",
      "stat_overall    5.486e+05   2.59e+04     21.147      0.000    4.98e+05    5.99e+05\n",
      "stat_potential -8.883e+04   2.66e+04     -3.342      0.001   -1.41e+05   -3.67e+04\n",
      "africa         -7.537e+07   1.16e+07     -6.482      0.000   -9.82e+07   -5.26e+07\n",
      "asia           -7.451e+07   1.17e+07     -6.393      0.000   -9.74e+07   -5.17e+07\n",
      "europe         -7.507e+07   1.16e+07     -6.458      0.000   -9.79e+07   -5.23e+07\n",
      "oceania        -7.408e+07   1.16e+07     -6.379      0.000   -9.69e+07   -5.13e+07\n",
      "south america  -7.499e+07   1.16e+07     -6.444      0.000   -9.78e+07   -5.22e+07\n",
      "DF             -9.395e+07   1.45e+07     -6.461      0.000   -1.22e+08   -6.54e+07\n",
      "GK             -9.321e+07   1.45e+07     -6.412      0.000   -1.22e+08   -6.47e+07\n",
      "MF              -9.36e+07   1.45e+07     -6.439      0.000   -1.22e+08   -6.51e+07\n",
      "ST             -9.325e+07   1.45e+07     -6.416      0.000   -1.22e+08   -6.48e+07\n",
      "left           -1.871e+08   2.91e+07     -6.437      0.000   -2.44e+08    -1.3e+08\n",
      "right          -1.869e+08   2.91e+07     -6.428      0.000   -2.44e+08    -1.3e+08\n",
      "==============================================================================\n",
      "Omnibus:                     2796.715   Durbin-Watson:                   2.009\n",
      "Prob(Omnibus):                  0.000   Jarque-Bera (JB):           343946.983\n",
      "Skew:                           4.885   Prob(JB):                         0.00\n",
      "Kurtosis:                      57.632   Cond. No.                     2.04e+19\n",
      "==============================================================================\n",
      "\n",
      "Notes:\n",
      "[1] Standard Errors assume that the covariance matrix of the errors is correctly specified.\n",
      "[2] The smallest eigenvalue is 2.62e-29. This might indicate that there are\n",
      "strong multicollinearity problems or that the design matrix is singular.\n"
     ]
    }
   ],
   "source": [
    "import statsmodels.api as sm\n",
    "x2= sm.add_constant(x_test)\n",
    "\n",
    "model_sm1 = sm.OLS(y_test, x2)\n",
    "result1= model_sm1.fit()\n",
    "print(result1.summary())"
   ]
  },
  {
   "cell_type": "code",
   "execution_count": null,
   "id": "0eeecb0c",
   "metadata": {},
   "outputs": [],
   "source": []
  },
  {
   "cell_type": "code",
   "execution_count": null,
   "id": "46412798",
   "metadata": {},
   "outputs": [],
   "source": []
  },
  {
   "cell_type": "code",
   "execution_count": null,
   "id": "f168f955",
   "metadata": {},
   "outputs": [],
   "source": []
  },
  {
   "cell_type": "code",
   "execution_count": null,
   "id": "8b83d740",
   "metadata": {},
   "outputs": [],
   "source": []
  },
  {
   "cell_type": "code",
   "execution_count": null,
   "id": "f473393f",
   "metadata": {},
   "outputs": [],
   "source": []
  },
  {
   "cell_type": "markdown",
   "id": "f24e88f0",
   "metadata": {},
   "source": [
    "### 디시젼 트리(임시)"
   ]
  },
  {
   "cell_type": "code",
   "execution_count": 429,
   "id": "8502ecb1",
   "metadata": {},
   "outputs": [
    {
     "name": "stdout",
     "output_type": "stream",
     "text": [
      "0.5692578374920025\n",
      "0.383955223880597\n",
      "0.5\n"
     ]
    }
   ],
   "source": [
    "from sklearn.model_selection import train_test_split\n",
    "from sklearn.tree import DecisionTreeClassifier\n",
    "from sklearn.model_selection import GridSearchCV\n",
    "\n",
    "\n",
    "\n",
    "model = DecisionTreeClassifier(criterion='gini', \n",
    "                               max_depth=10, \n",
    "                               max_leaf_nodes=None, min_samples_split=3, min_samples_leaf=2, max_features=None)\n",
    "\n",
    "\n",
    "\n",
    "##########모델 학습\n",
    "\n",
    "model.fit(x_train, y_train)\n",
    "\n",
    "##########모델 검증\n",
    "\n",
    "print(model.score(x_train, y_train)) \n",
    "\n",
    "print(model.score(x_test, y_test)) \n",
    "\n",
    "##########모델 예측\n",
    "\n",
    "y_predict = model.predict(x_test)\n",
    "y_predict = model.predict_proba(x_test)\n",
    "confidence = y_predict[0][y_predict[0].argmax()]\n",
    "\n",
    "print(confidence)"
   ]
  },
  {
   "cell_type": "markdown",
   "id": "fbc361de",
   "metadata": {},
   "source": [
    "### PCA 테스트"
   ]
  },
  {
   "cell_type": "code",
   "execution_count": 472,
   "id": "994c546c",
   "metadata": {},
   "outputs": [],
   "source": [
    "train = pd.read_csv('C:\\\\Users\\\\HP\\\\Desktop\\\\rapa\\\\fifa_data\\\\FIFA_train.csv', encoding='utf-8')"
   ]
  },
  {
   "cell_type": "code",
   "execution_count": 473,
   "id": "9d94e2ca",
   "metadata": {},
   "outputs": [],
   "source": [
    "train.drop(['id','stat_overall','continent','contract_until','prefer_foot','position','value'], axis=1, inplace=True)"
   ]
  },
  {
   "cell_type": "code",
   "execution_count": 486,
   "id": "8717e016",
   "metadata": {
    "scrolled": false
   },
   "outputs": [],
   "source": [
    "train=train.sample(10)"
   ]
  },
  {
   "cell_type": "code",
   "execution_count": 487,
   "id": "e9af3f4e",
   "metadata": {},
   "outputs": [
    {
     "name": "stdout",
     "output_type": "stream",
     "text": [
      "original data : (10, 3)\n",
      "transform data : (10, 3)\n"
     ]
    }
   ],
   "source": [
    "from sklearn import datasets\n",
    "from sklearn.preprocessing import StandardScaler\n",
    "\n",
    "# 1. 데이터 분리\n",
    "soccer_values = train[['reputation','age','stat_potential']]\n",
    "soccer_name = train['name']\n",
    "\n",
    "# 2. 스케일러로 값 변환\n",
    "# scaling using StandardScaler\n",
    "\n",
    "scaler = StandardScaler()\n",
    "scaler.fit(soccer_values.values)\n",
    "soccer_scaled = scaler.transform(soccer_values.values)\n",
    "\n",
    "soccer_scaled.shape\n",
    "\n",
    "\n",
    "\n",
    "\n",
    "# 3. PCA 모델링\n",
    "# - PCA.fit() : 주성분 찾음\n",
    "# - PCA.transform() : 새로운 주성분으로 데이터 변환\n",
    "\n",
    "# PCA modelling \n",
    "from sklearn.decomposition import PCA\n",
    "\n",
    "pca_soccer = PCA()\n",
    "pca_soccer.fit(soccer_scaled)\n",
    "\n",
    "# data transform\n",
    "X_pca_soccer = pca_soccer.transform(soccer_scaled)\n",
    "\n",
    "# look into data shape\n",
    "print(\"original data : {}\".format(str(soccer_scaled.shape)))\n",
    "print(\"transform data : {}\".format(str(X_pca_soccer.shape)))\n"
   ]
  },
  {
   "cell_type": "code",
   "execution_count": 488,
   "id": "e9dc60d1",
   "metadata": {},
   "outputs": [
    {
     "data": {
      "text/plain": [
       "array([[ 0.54106094,  0.6481343 , -0.5358871 ],\n",
       "       [ 0.69947969,  0.00693355,  0.71461884],\n",
       "       [ 0.46688459, -0.76149449, -0.44960531]])"
      ]
     },
     "execution_count": 488,
     "metadata": {},
     "output_type": "execute_result"
    }
   ],
   "source": [
    "pca_soccer.components_"
   ]
  },
  {
   "cell_type": "code",
   "execution_count": 489,
   "id": "352998e9",
   "metadata": {
    "scrolled": false
   },
   "outputs": [
    {
     "data": {
      "text/plain": [
       "array([[ True,  True,  True],\n",
       "       [ True,  True,  True],\n",
       "       [ True,  True,  True],\n",
       "       [ True,  True,  True],\n",
       "       [ True,  True,  True],\n",
       "       [ True,  True,  True],\n",
       "       [ True,  True,  True],\n",
       "       [ True,  True,  True],\n",
       "       [ True,  True,  True],\n",
       "       [ True,  True,  True]])"
      ]
     },
     "execution_count": 489,
     "metadata": {},
     "output_type": "execute_result"
    }
   ],
   "source": [
    "pc1=0\n",
    "pc2=0\n",
    "pc3=0\n",
    "# pc4=0\n",
    "\n",
    "for j in range(len(pca_soccer.components_)):\n",
    "    pc1 += pca_soccer.components_[0][j] * soccer_scaled[:,j] # 계수 3개에 있어서 스케일된 모든 열을 다 곱하고 더한 것 = pc1\n",
    "    pc2 += pca_soccer.components_[1][j] * soccer_scaled[:,j]\n",
    "    pc3 += pca_soccer.components_[2][j] * soccer_scaled[:,j]\n",
    "#    pc4 += pca_soccer.components_[3][j] * soccer_scaled[:,j]\n",
    "    \n",
    "pc1 = pc1.reshape(-1 ,1)\n",
    "pc2 = pc2.reshape(-1 ,1)\n",
    "pc3 = pc3.reshape(-1 ,1)\n",
    "# pc4 = pc3.reshape(-1 ,1)\n",
    "\n",
    "# np.round(np.hstack((pc1,pc2,pc3,pc4)),4) == np.round(X_pca_soccer,4)\n",
    "np.round(np.hstack((pc1,pc2,pc3)),3) == np.round(X_pca_soccer,3)"
   ]
  },
  {
   "cell_type": "code",
   "execution_count": 490,
   "id": "ac4a266d",
   "metadata": {},
   "outputs": [
    {
     "name": "stderr",
     "output_type": "stream",
     "text": [
      "C:\\Users\\HP\\miniconda3\\lib\\site-packages\\IPython\\core\\pylabtools.py:151: UserWarning: Glyph 8722 (\\N{MINUS SIGN}) missing from current font.\n",
      "  fig.canvas.print_figure(bytes_io, **kw)\n",
      "C:\\Users\\HP\\miniconda3\\lib\\site-packages\\IPython\\core\\pylabtools.py:151: UserWarning: Glyph 281 (\\N{LATIN SMALL LETTER E WITH OGONEK}) missing from current font.\n",
      "  fig.canvas.print_figure(bytes_io, **kw)\n",
      "C:\\Users\\HP\\miniconda3\\lib\\site-packages\\IPython\\core\\pylabtools.py:151: UserWarning: Glyph 324 (\\N{LATIN SMALL LETTER N WITH ACUTE}) missing from current font.\n",
      "  fig.canvas.print_figure(bytes_io, **kw)\n",
      "C:\\Users\\HP\\miniconda3\\lib\\site-packages\\IPython\\core\\pylabtools.py:151: UserWarning: Glyph 263 (\\N{LATIN SMALL LETTER C WITH ACUTE}) missing from current font.\n",
      "  fig.canvas.print_figure(bytes_io, **kw)\n"
     ]
    },
    {
     "data": {
      "image/png": "[encoded data removed]",
      "text/plain": [
       "<Figure size 432x288 with 1 Axes>"
      ]
     },
     "metadata": {
      "needs_background": "light"
     },
     "output_type": "display_data"
    }
   ],
   "source": [
    "def biplot2(score, coeff, label, pcax, pcay, labels = None):\n",
    "    pca1=pcax-1\n",
    "    pca2=pcay-1\n",
    "    xs = score[:,pca1]\n",
    "    ys = score[:,pca2]\n",
    "    n=score.shape[1]\n",
    "    scalex = 1.0/(xs.max() - xs.min())\n",
    "    scaley = 1.0/(ys.max() - ys.min())\n",
    "    \n",
    "    for i in range(len(xs)):\n",
    "        plt.scatter(xs[i]*scalex, ys[i]*scaley)\n",
    "        plt.annotate(label.iloc[i], xy=(xs[i]*scalex, ys[i]*scaley), ha='right')\n",
    "        \n",
    "    for i in range(n):\n",
    "        plt.arrow(0, 0, coeff[i,pca1], coeff[i,pca2], color='r', alpha=1)\n",
    "        if labels is None:\n",
    "            plt.text(coeff[i,pca1]*1.15, coeff[i,pca2]*1.15, \"Var\"+str(i+1), color='g', ha = 'center', va='center')\n",
    "        else:\n",
    "            plt.text(coeff[i,pca1]*1.15, coeff[i,pca2]*1.15, labels[i], color='g', ha='center', va='center', size=15)\n",
    "    plt.xlim(-0.8, 0.75)\n",
    "    plt.ylim(-1,1)\n",
    "    plt.xlabel(\"PC{}\".format(pcax))\n",
    "    plt.ylabel(\"PC{}\".format(pcay))\n",
    "    plt.grid()\n",
    "    \n",
    "    \n",
    "import matplotlib.pyplot as plt\n",
    "import matplotlib.font_manager as fm\n",
    "\n",
    "%matplotlib inline\n",
    "biplot2(X_pca_soccer, pca_soccer.components_, soccer_name, 1,2,labels=soccer_values.columns)"
   ]
  },
  {
   "cell_type": "code",
   "execution_count": null,
   "id": "47a018a9",
   "metadata": {},
   "outputs": [],
   "source": []
  }
 ],
 "metadata": {
  "kernelspec": {
   "display_name": "Python 3 (ipykernel)",
   "language": "python",
   "name": "python3"
  },
  "language_info": {
   "codemirror_mode": {
    "name": "ipython",
    "version": 3
   },
   "file_extension": ".py",
   "mimetype": "text/x-python",
   "name": "python",
   "nbconvert_exporter": "python",
   "pygments_lexer": "ipython3",
   "version": "3.9.12"
  },
  "toc": {
   "base_numbering": 1,
   "nav_menu": {},
   "number_sections": true,
   "sideBar": true,
   "skip_h1_title": false,
   "title_cell": "Table of Contents",
   "title_sidebar": "Contents",
   "toc_cell": false,
   "toc_position": {},
   "toc_section_display": true,
   "toc_window_display": false
  }
 },
 "nbformat": 4,
 "nbformat_minor": 5
}
