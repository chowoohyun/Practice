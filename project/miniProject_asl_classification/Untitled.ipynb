{
 "cells": [
  {
   "cell_type": "code",
   "execution_count": 1,
   "id": "d44aab11",
   "metadata": {},
   "outputs": [],
   "source": [
    "import numpy as np\n",
    "import os\n",
    "import PIL\n",
    "import PIL.Image\n",
    "import tensorflow as tf\n",
    "import tensorflow_datasets as tfds"
   ]
  },
  {
   "cell_type": "code",
   "execution_count": 4,
   "id": "3b5df293",
   "metadata": {},
   "outputs": [],
   "source": [
    "import pathlib\n",
    "import glob\n"
   ]
  },
  {
   "cell_type": "code",
   "execution_count": null,
   "id": "93b1928a",
   "metadata": {},
   "outputs": [],
   "source": [
    "tmp = glob.glob('.\\\\img_data\\\\asl')"
   ]
  }
 ],
 "metadata": {
  "kernelspec": {
   "display_name": "gpu2.6",
   "language": "python",
   "name": "gpu2.6"
  },
  "language_info": {
   "codemirror_mode": {
    "name": "ipython",
    "version": 3
   },
   "file_extension": ".py",
   "mimetype": "text/x-python",
   "name": "python",
   "nbconvert_exporter": "python",
   "pygments_lexer": "ipython3",
   "version": "3.9.12"
  }
 },
 "nbformat": 4,
 "nbformat_minor": 5
}
