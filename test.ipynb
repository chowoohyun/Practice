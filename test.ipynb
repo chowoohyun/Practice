{
 "cells": [
  {
   "cell_type": "code",
   "execution_count": 5,
   "metadata": {},
   "outputs": [
    {
     "name": "stdout",
     "output_type": "stream",
     "text": [
      "Epoch 1/30\n",
      "300/300 - 4s - loss: 0.3043 - accuracy: 0.9152 - val_loss: 0.1530 - val_accuracy: 0.9575 - 4s/epoch - 12ms/step\n",
      "Epoch 2/30\n",
      "300/300 - 3s - loss: 0.1263 - accuracy: 0.9634 - val_loss: 0.1057 - val_accuracy: 0.9689 - 3s/epoch - 9ms/step\n",
      "Epoch 3/30\n",
      "300/300 - 3s - loss: 0.0827 - accuracy: 0.9761 - val_loss: 0.0819 - val_accuracy: 0.9750 - 3s/epoch - 9ms/step\n",
      "Epoch 4/30\n",
      "300/300 - 3s - loss: 0.0598 - accuracy: 0.9827 - val_loss: 0.0756 - val_accuracy: 0.9761 - 3s/epoch - 9ms/step\n",
      "Epoch 5/30\n",
      "300/300 - 3s - loss: 0.0462 - accuracy: 0.9867 - val_loss: 0.0679 - val_accuracy: 0.9799 - 3s/epoch - 9ms/step\n",
      "Epoch 6/30\n",
      "300/300 - 3s - loss: 0.0349 - accuracy: 0.9899 - val_loss: 0.0676 - val_accuracy: 0.9787 - 3s/epoch - 10ms/step\n",
      "Epoch 7/30\n",
      "300/300 - 3s - loss: 0.0262 - accuracy: 0.9932 - val_loss: 0.0610 - val_accuracy: 0.9817 - 3s/epoch - 9ms/step\n",
      "Epoch 8/30\n",
      "300/300 - 4s - loss: 0.0205 - accuracy: 0.9949 - val_loss: 0.0624 - val_accuracy: 0.9813 - 4s/epoch - 14ms/step\n",
      "Epoch 9/30\n",
      "300/300 - 7s - loss: 0.0148 - accuracy: 0.9966 - val_loss: 0.0601 - val_accuracy: 0.9815 - 7s/epoch - 24ms/step\n",
      "Epoch 10/30\n",
      "300/300 - 3s - loss: 0.0126 - accuracy: 0.9973 - val_loss: 0.0646 - val_accuracy: 0.9807 - 3s/epoch - 9ms/step\n",
      "Epoch 11/30\n",
      "300/300 - 3s - loss: 0.0097 - accuracy: 0.9980 - val_loss: 0.0645 - val_accuracy: 0.9805 - 3s/epoch - 9ms/step\n",
      "Epoch 12/30\n",
      "300/300 - 3s - loss: 0.0073 - accuracy: 0.9987 - val_loss: 0.0641 - val_accuracy: 0.9821 - 3s/epoch - 9ms/step\n",
      "Epoch 13/30\n",
      "300/300 - 3s - loss: 0.0058 - accuracy: 0.9993 - val_loss: 0.0641 - val_accuracy: 0.9827 - 3s/epoch - 9ms/step\n",
      "Epoch 14/30\n",
      "300/300 - 2s - loss: 0.0042 - accuracy: 0.9996 - val_loss: 0.0602 - val_accuracy: 0.9835 - 2s/epoch - 7ms/step\n",
      "Epoch 15/30\n",
      "300/300 - 2s - loss: 0.0033 - accuracy: 0.9997 - val_loss: 0.0615 - val_accuracy: 0.9839 - 2s/epoch - 8ms/step\n",
      "Epoch 16/30\n",
      "300/300 - 2s - loss: 0.0046 - accuracy: 0.9991 - val_loss: 0.0807 - val_accuracy: 0.9775 - 2s/epoch - 8ms/step\n",
      "Epoch 17/30\n",
      "300/300 - 2s - loss: 0.0105 - accuracy: 0.9968 - val_loss: 0.0712 - val_accuracy: 0.9818 - 2s/epoch - 7ms/step\n",
      "Epoch 18/30\n",
      "300/300 - 2s - loss: 0.0063 - accuracy: 0.9982 - val_loss: 0.0753 - val_accuracy: 0.9804 - 2s/epoch - 7ms/step\n",
      "Epoch 19/30\n",
      "300/300 - 2s - loss: 0.0051 - accuracy: 0.9987 - val_loss: 0.0742 - val_accuracy: 0.9818 - 2s/epoch - 6ms/step\n",
      "Epoch 20/30\n",
      "300/300 - 2s - loss: 0.0027 - accuracy: 0.9996 - val_loss: 0.0702 - val_accuracy: 0.9824 - 2s/epoch - 6ms/step\n",
      "Epoch 21/30\n",
      "300/300 - 2s - loss: 0.0011 - accuracy: 0.9999 - val_loss: 0.0678 - val_accuracy: 0.9838 - 2s/epoch - 6ms/step\n",
      "Epoch 22/30\n",
      "300/300 - 2s - loss: 5.3234e-04 - accuracy: 1.0000 - val_loss: 0.0671 - val_accuracy: 0.9837 - 2s/epoch - 6ms/step\n",
      "Epoch 23/30\n",
      "300/300 - 2s - loss: 3.9441e-04 - accuracy: 1.0000 - val_loss: 0.0685 - val_accuracy: 0.9835 - 2s/epoch - 8ms/step\n",
      "Epoch 24/30\n",
      "300/300 - 2s - loss: 3.4589e-04 - accuracy: 1.0000 - val_loss: 0.0687 - val_accuracy: 0.9832 - 2s/epoch - 8ms/step\n",
      "Epoch 25/30\n",
      "300/300 - 2s - loss: 2.9953e-04 - accuracy: 1.0000 - val_loss: 0.0694 - val_accuracy: 0.9832 - 2s/epoch - 8ms/step\n",
      "Epoch 26/30\n",
      "300/300 - 2s - loss: 2.6673e-04 - accuracy: 1.0000 - val_loss: 0.0695 - val_accuracy: 0.9832 - 2s/epoch - 8ms/step\n",
      "Epoch 27/30\n",
      "300/300 - 2s - loss: 2.3794e-04 - accuracy: 1.0000 - val_loss: 0.0703 - val_accuracy: 0.9833 - 2s/epoch - 8ms/step\n",
      "Epoch 28/30\n",
      "300/300 - 2s - loss: 2.1535e-04 - accuracy: 1.0000 - val_loss: 0.0705 - val_accuracy: 0.9831 - 2s/epoch - 8ms/step\n",
      "Epoch 29/30\n",
      "300/300 - 2s - loss: 1.9339e-04 - accuracy: 1.0000 - val_loss: 0.0710 - val_accuracy: 0.9834 - 2s/epoch - 8ms/step\n",
      "Epoch 30/30\n",
      "300/300 - 2s - loss: 1.6644e-04 - accuracy: 1.0000 - val_loss: 0.0716 - val_accuracy: 0.9833 - 2s/epoch - 8ms/step\n",
      "1875/1875 [==============================] - 6s 3ms/step - loss: 1.4212e-04 - accuracy: 1.0000\n",
      "\n",
      "Accuracy: 1.0000\n",
      "313/313 [==============================] - 1s 3ms/step - loss: 0.0716 - accuracy: 0.9833\n",
      "\n",
      "Val_Accuracy: 0.9833\n"
     ]
    }
   ],
   "source": [
    "# 딥러닝에 필요한 케라스 함수 호출\n",
    "from keras.utils import np_utils\n",
    "from keras.models import Sequential\n",
    "from keras.layers import Dense\n",
    "\n",
    "# 필요 라이브러리 호출\n",
    "import numpy\n",
    "import tensorflow as tf\n",
    "\n",
    "# 데이터 셋 호출\n",
    "from keras.datasets import mnist\n",
    "\n",
    "# 실행 시마다 같은 결과값 도출을 위한 시드 설정\n",
    "numpy.random.seed(0)\n",
    "tf.random.set_seed(0)\n",
    "\n",
    "# 데이터를 불러와서 각 변수에 저장\n",
    "(X_train, Y_train), (X_test, Y_test) = mnist.load_data()\n",
    "\n",
    "# 학습에 적합한 형태로 데이터 가공\n",
    "X_train = X_train.reshape(X_train.shape[0], 784).astype('float32') / 255\n",
    "X_test = X_test.reshape(X_test.shape[0], 784).astype('float32') / 255\n",
    "\n",
    "# 클래스를 학습에 이용하기 위해 데이터 가공\n",
    "Y_train = np_utils.to_categorical(Y_train, 10)\n",
    "Y_test = np_utils.to_categorical(Y_test, 10)\n",
    "\n",
    "# 딥러닝 모델 구조 설정(2개층, 512개의 뉴런 연결, 10개 클래스 출력 뉴런, 784개 픽셀 input 값, relu와 softmax 활성화 함수 이용)\n",
    "model = Sequential()\n",
    "model.add(Dense(512, input_dim=784, activation='relu'))\n",
    "model.add(Dense(10, activation='softmax'))\n",
    "\n",
    "# 딥러닝 구조 설정(loss 옵션을 다중 클래스에 적합한 categorical_crossentropy, 옵티마이저는 adam 설정)\n",
    "model.compile(loss='categorical_crossentropy', optimizer='adam',\n",
    "              metrics=['accuracy'])\n",
    "\n",
    "# 모델 실행(X_test, Y_test로 검증, 200개씩 30번 학습)\n",
    "model.fit(X_train, Y_train, validation_data=(X_test, Y_test), epochs=30, batch_size=200, verbose=2)\n",
    "\n",
    "# 학습 정확도, 검증 정확도 출력\n",
    "print('\\nAccuracy: {:.4f}'.format(model.evaluate(X_train, Y_train)[1]))\n",
    "print('\\nVal_Accuracy: {:.4f}'.format(model.evaluate(X_test, Y_test)[1]))\n",
    "\n",
    "# 모델 저장\n",
    "model.save('Predict_Model.h5')"
   ]
  },
  {
   "cell_type": "code",
   "execution_count": 8,
   "metadata": {},
   "outputs": [
    {
     "name": "stdout",
     "output_type": "stream",
     "text": [
      "1/1 [==============================] - 0s 73ms/step\n",
      "[[0 0 0 1 0 0 0 0 0 0]]\n"
     ]
    }
   ],
   "source": [
    "# 딥러닝에 필요한 케라스 함수 호출\n",
    "from keras.models import load_model\n",
    "from keras.utils import np_utils\n",
    "\n",
    "# 필요 라이브러리 호출(PIL은 이미지파일 처리위함)\n",
    "from PIL import Image\n",
    "import numpy as np\n",
    "\n",
    "# test.png는 그림판에서 붓으로 숫자 8을 그린 이미지 파일\n",
    "# test.png 파일 열어서 L(256단계 흑백이미지)로 변환\n",
    "img = Image.open(\"test.png\").convert(\"L\")\n",
    "\n",
    "# 이미지를 784개 흑백 픽셀로 사이즈 변환\n",
    "img = np.resize(img, (1, 784))\n",
    "\n",
    "# 데이터를 모델에 적용할 수 있도록 가공\n",
    "test_data = ((np.array(img) / 255) - 1) * -1\n",
    "\n",
    "# 모델 불러오기\n",
    "model = load_model('Predict_Model.h5')\n",
    "\n",
    "# 클래스 예측 함수에 가공된 테스트 데이터 넣어 결과 도출\n",
    "#res = model.predict_classes(test_data)\n",
    "# 2021/10/02 수정 - 오류시 아래 명령어로 대체 가능합니다.\n",
    "res =(model.predict(test_data) > 0.5).astype(\"int32\")\n",
    "\n",
    "print(res)"
   ]
  },
  {
   "cell_type": "code",
   "execution_count": 10,
   "metadata": {},
   "outputs": [
    {
     "name": "stdout",
     "output_type": "stream",
     "text": [
      "[[0 0 0 1 0 0 0 0 0 0]]\n"
     ]
    }
   ],
   "source": []
  },
  {
   "cell_type": "code",
   "execution_count": 4,
   "metadata": {},
   "outputs": [
    {
     "name": "stdout",
     "output_type": "stream",
     "text": [
      "[name: \"/device:CPU:0\"\n",
      "device_type: \"CPU\"\n",
      "memory_limit: 268435456\n",
      "locality {\n",
      "}\n",
      "incarnation: 10589256867839109534\n",
      "xla_global_id: -1\n",
      "]\n"
     ]
    }
   ],
   "source": [
    "from tensorflow.python.client import device_lib\n",
    "print(device_lib.list_local_devices())"
   ]
  }
 ],
 "metadata": {
  "kernelspec": {
   "display_name": "stt",
   "language": "python",
   "name": "stt"
  },
  "language_info": {
   "codemirror_mode": {
    "name": "ipython",
    "version": 3
   },
   "file_extension": ".py",
   "mimetype": "text/x-python",
   "name": "python",
   "nbconvert_exporter": "python",
   "pygments_lexer": "ipython3",
   "version": "3.8.15"
  },
  "orig_nbformat": 4
 },
 "nbformat": 4,
 "nbformat_minor": 2
}
